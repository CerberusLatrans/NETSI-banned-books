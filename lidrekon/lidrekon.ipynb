{
 "cells": [
  {
   "cell_type": "code",
   "execution_count": 20,
   "metadata": {},
   "outputs": [],
   "source": [
    "import pandas as pd"
   ]
  },
  {
   "cell_type": "code",
   "execution_count": 24,
   "metadata": {},
   "outputs": [
    {
     "name": "stdout",
     "output_type": "stream",
     "text": [
      "                     Date                                        Description\n",
      "0     2024-04-27 02:33:20  Музыкальная композиция \"SKVERNA\", продолжитель...\n",
      "1     2024-03-11 12:46:18  Информационный материал – публикация (статья) ...\n",
      "2     2024-03-11 12:45:09  Листовка \"Исполнительного комитета Совета наро...\n",
      "3     2024-01-15 04:04:18  Музыкальная композиция \"i..ш русню\", продолжит...\n",
      "4     2023-12-28 01:19:07  Текстовый материал \"Протокол регистрации прест...\n",
      "...                   ...                                                ...\n",
      "5341  2013-01-19 07:23:28  Кинофильм \"Вечный жид\", решение вынесено Тихви...\n",
      "5342  2013-01-19 07:23:28  Печатные материалы в газете \"Для русских людей...\n",
      "5343  2013-01-19 07:23:28  Письма Рады земли Кубанской духовно-родовой де...\n",
      "5344  2013-01-19 07:23:28  Книга \"Книга единобожия\", автор - Мухаммад ибн...\n",
      "5345  2013-01-19 07:22:43  Музыкальный альбом \"Музыка белых\", автор - Муз...\n",
      "\n",
      "[5346 rows x 2 columns]\n"
     ]
    }
   ],
   "source": [
    "lidrekon_df = pd.read_csv('lidrekon_ORIGINAL.csv', encoding='cp1251', delimiter=\";\")\n",
    "lidrekon_df = lidrekon_df.rename(columns={rus:en for rus,en in zip(lidrekon_df.columns, ['No.', 'Date', 'Description'])})\n",
    "lidrekon_df = lidrekon_df.drop('No.', axis=1, inplace=False)\n",
    "print(lidrekon_df)"
   ]
  },
  {
   "cell_type": "code",
   "execution_count": 25,
   "metadata": {},
   "outputs": [
    {
     "name": "stdout",
     "output_type": "stream",
     "text": [
      "5346\n",
      "5343\n"
     ]
    }
   ],
   "source": [
    "lidrekon_df.loc[lidrekon_df['Description'].isnull(), :]\n",
    "print(len(lidrekon_df))\n",
    "lidrekon_df = lidrekon_df.loc[~lidrekon_df['Description'].isnull(), :]\n",
    "print(len(lidrekon_df))"
   ]
  },
  {
   "cell_type": "code",
   "execution_count": 26,
   "metadata": {},
   "outputs": [],
   "source": [
    "def find_titles(x):\n",
    "    if len(x)==0:\n",
    "        return [None]\n",
    "    elif len(x)==1:\n",
    "        return x\n",
    "    else:\n",
    "        return [x[i] for i in range(len(x)) if i%2==1]\n",
    "lidrekon_df['TitleCandidates'] = lidrekon_df['Description'].str.split('\"').apply(find_titles)\n",
    "lidrekon_df['Title'] = lidrekon_df['TitleCandidates'].apply(lambda x: x[0])"
   ]
  },
  {
   "cell_type": "code",
   "execution_count": 27,
   "metadata": {},
   "outputs": [
    {
     "name": "stdout",
     "output_type": "stream",
     "text": [
      "                  Date                                                                                                                                                                                                                                                                                                                                                                                                                                                                                                                                      Description                                                                                                                                                                                                                                                                                                                                                                                                                                                      TitleCandidates                                                                                                                                                       Title\n",
      "0  2024-04-27 02:33:20                                                                                                                                                                                                                                                        Музыкальная композиция \"SKVERNA\", продолжительностью 2 минуты 59 секунд, начинающаяся и оканчивающаяся словами \"Еб..ь русню…………………режь свинособак\", размещенная в информационно-телекоммуникационной сети \"Интернет\" (решение Фрунзенского районного суда г. Владивостока от 20.06.2023).                                                                                                                                                                                                                                                                                                                                                                                                               [SKVERNA, Еб..ь русню…………………режь свинособак, Интернет]                                                                                                                                                     SKVERNA\n",
      "1  2024-03-11 12:46:18                                                                                                                                                             Информационный материал – публикация (статья) под наименованием \"К десятилетию Кёнделенского противостояния 14-17 сентября 2008 г.\", опубликованная в печатном издании – газете \"Вестник балкарского народа\" (№ № 7-9, июль-сентябрь 2018 г.) (апелляционное определение судебной коллегии по административным делам Верховного Суда Кабардино-Балкарской Республики от 12.01.2024).                                                                                                                                                                                                                                                                                                                                                                      [К десятилетию Кёнделенского противостояния 14-17 сентября 2008 г., Вестник балкарского народа]                                                                                           К десятилетию Кёнделенского противостояния 14-17 сентября 2008 г.\n",
      "2  2024-03-11 12:45:09  Листовка \"Исполнительного комитета Совета народных депутатов г. Красноярска\", начинающаяся словами \"РФия- псевдо государство, преступно действующая на территории Нашей страны – СССР, должна в кратчайшие сроки прекратить свое существование!\", заканчивающаяся словами: \"Нужны кардинальные меры по решению данного вопроса, вплоть до силовых методов в отношении незаконного действующего жидовского правительства РФ! За СВОБОДУ\" За НАРОД! За СССР\" (решение Кировского районного суда г. Красноярска Красноярского края от 07.11.2023).  [Исполнительного комитета Совета народных депутатов г. Красноярска, РФия- псевдо государство, преступно действующая на территории Нашей страны – СССР, должна в кратчайшие сроки прекратить свое существование!, Нужны кардинальные меры по решению данного вопроса, вплоть до силовых методов в отношении незаконного действующего жидовского правительства РФ! За СВОБОДУ,  (решение Кировского районного суда г. Красноярска Красноярского края от 07.11.2023).]                                                                                           Исполнительного комитета Совета народных депутатов г. Красноярска\n",
      "3  2024-01-15 04:04:18                                                                                                                                                                                                                                                                          Музыкальная композиция \"i..ш русню\", продолжительностью 2 минуты 39 секунд, начинающаяся словами \"Еб..ь русню\" и заканчивающаяся словами \"руки ноги голови повсюду\" музыкальной группы \"Крепатура\" (решение Фрунзенского районного суда г. Владивостока от 09.11.2023).                                                                                                                                                                                                                                                                                                                                                                                                       [i..ш русню, Еб..ь русню, руки ноги голови повсюду, Крепатура]                                                                                                                                                  i..ш русню\n",
      "4  2023-12-28 01:19:07                                                                                                  Текстовый материал \"Протокол регистрации преступления на территории СССР в военное время представителем нелегитимных структур для последующей передачи в Военный Трибунал СССР\" (апелляционное определение судебной коллегии по административным делам Верховного Суда Республики Башкортостан от 31.01.2022 и кассационное определение судебной коллегии по административным делам Шестого кассационного суда общей юрисдикции от 01.06.2022).                                                                                                                                                                                                                                                                                                         [Протокол регистрации преступления на территории СССР в военное время представителем нелегитимных структур для последующей передачи в Военный Трибунал СССР]  Протокол регистрации преступления на территории СССР в военное время представителем нелегитимных структур для последующей передачи в Военный Трибунал СССР\n"
     ]
    }
   ],
   "source": [
    "print(lidrekon_df.head().to_string())"
   ]
  },
  {
   "cell_type": "code",
   "execution_count": 29,
   "metadata": {},
   "outputs": [
    {
     "name": "stdout",
     "output_type": "stream",
     "text": [
      "0                                              SKVERNA\n",
      "1    К десятилетию Кёнделенского противостояния 14-...\n",
      "2    Исполнительного комитета Совета народных депут...\n",
      "3                                           i..ш русню\n",
      "4    Протокол регистрации преступления на территори...\n",
      "4\n",
      "4\n",
      "9\n",
      "25\n",
      "35\n",
      "62\n"
     ]
    },
    {
     "data": {
      "text/plain": [
       "<Axes: ylabel='Frequency'>"
      ]
     },
     "execution_count": 29,
     "metadata": {},
     "output_type": "execute_result"
    },
    {
     "data": {
      "image/png": "[encoded data removed]",
      "text/plain": [
       "<Figure size 640x480 with 1 Axes>"
      ]
     },
     "metadata": {},
     "output_type": "display_data"
    }
   ],
   "source": [
    "print(lidrekon_df.head()['Title'].to_string())\n",
    "\n",
    "def try_len(x):\n",
    "    try:\n",
    "        return len(x)\n",
    "    except:\n",
    "        return 0\n",
    "\n",
    "lengths = lidrekon_df['Title'].apply(try_len)\n",
    "print(len(lengths.loc[lengths==0]))\n",
    "print(len(lengths.loc[lengths==1]))\n",
    "print(len(lengths.loc[lengths==2]))\n",
    "print(len(lengths.loc[lengths==3]))\n",
    "print(len(lengths.loc[lengths==4]))\n",
    "print(len(lengths.loc[lengths==5]))\n",
    "lengths.plot.hist(bins=100)"
   ]
  },
  {
   "cell_type": "code",
   "execution_count": 30,
   "metadata": {},
   "outputs": [],
   "source": [
    "lidrekon_df.to_csv('lidrekon.csv')"
   ]
  }
 ],
 "metadata": {
  "kernelspec": {
   "display_name": "base",
   "language": "python",
   "name": "python3"
  },
  "language_info": {
   "codemirror_mode": {
    "name": "ipython",
    "version": 3
   },
   "file_extension": ".py",
   "mimetype": "text/x-python",
   "name": "python",
   "nbconvert_exporter": "python",
   "pygments_lexer": "ipython3",
   "version": "3.10.0"
  }
 },
 "nbformat": 4,
 "nbformat_minor": 2
}
