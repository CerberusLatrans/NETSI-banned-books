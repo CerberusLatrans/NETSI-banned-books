{
 "cells": [
  {
   "cell_type": "code",
   "execution_count": 1,
   "metadata": {},
   "outputs": [],
   "source": [
    "import pandas as pd"
   ]
  },
  {
   "cell_type": "code",
   "execution_count": 17,
   "metadata": {},
   "outputs": [
    {
     "name": "stdout",
     "output_type": "stream",
     "text": [
      "<class 'pandas.core.frame.DataFrame'>\n",
      "RangeIndex: 15409 entries, 0 to 15408\n",
      "Data columns (total 31 columns):\n",
      " #   Column               Non-Null Count  Dtype  \n",
      "---  ------               --------------  -----  \n",
      " 0   Last_Updated         1674 non-null   object \n",
      " 1   Data_Entry_Date      8522 non-null   object \n",
      " 2   ID                   15409 non-null  int64  \n",
      " 3   New_Book_Author      15405 non-null  object \n",
      " 4   New_Book_Title       15409 non-null  object \n",
      " 5   Series_Name          2422 non-null   object \n",
      " 6   Book_Co_Author       494 non-null    object \n",
      " 7   Illustrators         591 non-null    object \n",
      " 8   Challenge_Type       13471 non-null  object \n",
      " 9   Challenge_Init       15331 non-null  object \n",
      " 10  Initial_Response     15406 non-null  object \n",
      " 11  Challenge_Notes      11406 non-null  object \n",
      " 12  Decision             13938 non-null  object \n",
      " 13  Restrictions         1220 non-null   object \n",
      " 14  Restriction_Details  1247 non-null   object \n",
      " 15  Library_Type         15407 non-null  object \n",
      " 16  Month                15140 non-null  object \n",
      " 17  Year                 15059 non-null  float64\n",
      " 18  State                15372 non-null  object \n",
      " 19  Overseeing_Agency    15409 non-null  object \n",
      " 20  City                 1725 non-null   object \n",
      " 21  County               9721 non-null   object \n",
      " 22  Sch_Name             575 non-null    object \n",
      " 23  Lib_name             1178 non-null   object \n",
      " 24  Police               4134 non-null   object \n",
      " 25  Book_Status          446 non-null    object \n",
      " 26  Links1               9090 non-null   object \n",
      " 27  Links2               2724 non-null   object \n",
      " 28  Links3               750 non-null    object \n",
      " 29  Links4               903 non-null    object \n",
      " 30  Unnamed: 30          517 non-null    object \n",
      "dtypes: float64(1), int64(1), object(29)\n",
      "memory usage: 3.6+ MB\n",
      "None\n"
     ]
    }
   ],
   "source": [
    "df = pd.read_csv(\"2023 Censorship Attack Every Library Manual Copy - Sheet1.csv\")\n",
    "print(df.info())\n",
    "df.describe()\n",
    "pen_df = pd.read_csv('../pen america/PEN.csv')"
   ]
  },
  {
   "cell_type": "code",
   "execution_count": 5,
   "metadata": {},
   "outputs": [
    {
     "data": {
      "text/plain": [
       "Last_Updated           13735\n",
       "Data_Entry_Date         6887\n",
       "ID                         0\n",
       "New_Book_Author            4\n",
       "New_Book_Title             0\n",
       "Series_Name            12987\n",
       "Book_Co_Author         14915\n",
       "Illustrators           14818\n",
       "Challenge_Type          1938\n",
       "Challenge_Init            78\n",
       "Initial_Response           3\n",
       "Challenge_Notes         4003\n",
       "Decision                1471\n",
       "Restrictions           14189\n",
       "Restriction_Details    14162\n",
       "Library_Type               2\n",
       "Month                    269\n",
       "Year                     350\n",
       "State                     37\n",
       "Overseeing_Agency          0\n",
       "City                   13684\n",
       "County                  5688\n",
       "Sch_Name               14834\n",
       "Lib_name               14231\n",
       "Police                 11275\n",
       "Book_Status            14963\n",
       "Links1                  6319\n",
       "Links2                 12685\n",
       "Links3                 14659\n",
       "Links4                 14506\n",
       "Unnamed: 30            14892\n",
       "dtype: int64"
      ]
     },
     "execution_count": 5,
     "metadata": {},
     "output_type": "execute_result"
    }
   ],
   "source": [
    "df.isnull().sum(axis=0)"
   ]
  },
  {
   "cell_type": "code",
   "execution_count": 22,
   "metadata": {},
   "outputs": [],
   "source": [
    "yr_cts = df['Year'].value_counts()"
   ]
  },
  {
   "cell_type": "code",
   "execution_count": 16,
   "metadata": {},
   "outputs": [
    {
     "data": {
      "text/plain": [
       "<Axes: ylabel='Frequency'>"
      ]
     },
     "execution_count": 16,
     "metadata": {},
     "output_type": "execute_result"
    },
    {
     "data": {
      "image/png": "[encoded data removed]",
      "text/plain": [
       "<Figure size 640x480 with 1 Axes>"
      ]
     },
     "metadata": {},
     "output_type": "display_data"
    }
   ],
   "source": [
    "df['ID'].plot.hist(bins=100)"
   ]
  },
  {
   "cell_type": "code",
   "execution_count": 18,
   "metadata": {},
   "outputs": [
    {
     "name": "stdout",
     "output_type": "stream",
     "text": [
      "<class 'pandas.core.frame.DataFrame'>\n",
      "RangeIndex: 5894 entries, 0 to 5893\n",
      "Data columns (total 8 columns):\n",
      " #   Column       Non-Null Count  Dtype \n",
      "---  ------       --------------  ----- \n",
      " 0   Unnamed: 0   5894 non-null   int64 \n",
      " 1   Author       5893 non-null   object\n",
      " 2   Title        5893 non-null   object\n",
      " 3   State        5894 non-null   object\n",
      " 4   District     5894 non-null   object\n",
      " 5   DateBan      5894 non-null   object\n",
      " 6   Country      5894 non-null   object\n",
      " 7   Description  5894 non-null   object\n",
      "dtypes: int64(1), object(7)\n",
      "memory usage: 368.5+ KB\n"
     ]
    }
   ],
   "source": [
    "pen_df.info()"
   ]
  },
  {
   "cell_type": "code",
   "execution_count": 21,
   "metadata": {},
   "outputs": [
    {
     "name": "stdout",
     "output_type": "stream",
     "text": [
      "<class 'pandas.core.frame.DataFrame'>\n",
      "RangeIndex: 132938 entries, 0 to 132937\n",
      "Data columns (total 39 columns):\n",
      " #   Column               Non-Null Count   Dtype  \n",
      "---  ------               --------------   -----  \n",
      " 0   Unnamed: 0           132938 non-null  int64  \n",
      " 1   Author               132938 non-null  object \n",
      " 2   Title                132938 non-null  object \n",
      " 3   State_x              132938 non-null  object \n",
      " 4   District             132938 non-null  object \n",
      " 5   DateBan              132938 non-null  object \n",
      " 6   Country              132938 non-null  object \n",
      " 7   Description          132938 non-null  object \n",
      " 8   Last_Updated         19290 non-null   object \n",
      " 9   Data_Entry_Date      66243 non-null   object \n",
      " 10  ID                   132938 non-null  int64  \n",
      " 11  New_Book_Author      132938 non-null  object \n",
      " 12  New_Book_Title       132938 non-null  object \n",
      " 13  Series_Name          13927 non-null   object \n",
      " 14  Book_Co_Author       1917 non-null    object \n",
      " 15  Illustrators         3425 non-null    object \n",
      " 16  Challenge_Type       111954 non-null  object \n",
      " 17  Challenge_Init       131991 non-null  object \n",
      " 18  Initial_Response     132924 non-null  object \n",
      " 19  Challenge_Notes      90682 non-null   object \n",
      " 20  Decision             118991 non-null  object \n",
      " 21  Restrictions         11979 non-null   object \n",
      " 22  Restriction_Details  12053 non-null   object \n",
      " 23  Library_Type         132907 non-null  object \n",
      " 24  Month                129880 non-null  object \n",
      " 25  Year                 128495 non-null  float64\n",
      " 26  State_y              132172 non-null  object \n",
      " 27  Overseeing_Agency    132938 non-null  object \n",
      " 28  City                 16229 non-null   object \n",
      " 29  County               70789 non-null   object \n",
      " 30  Sch_Name             4404 non-null    object \n",
      " 31  Lib_name             7781 non-null    object \n",
      " 32  Police               39105 non-null   object \n",
      " 33  Book_Status          5637 non-null    object \n",
      " 34  Links1               74748 non-null   object \n",
      " 35  Links2               23372 non-null   object \n",
      " 36  Links3               10373 non-null   object \n",
      " 37  Links4               8731 non-null    object \n",
      " 38  Unnamed: 30          3565 non-null    object \n",
      "dtypes: float64(1), int64(2), object(36)\n",
      "memory usage: 39.6+ MB\n"
     ]
    }
   ],
   "source": [
    "joined_df = pd.merge(left=pen_df, right=df, how='inner', left_on='Title', right_on='New_Book_Title')\n",
    "joined_df.info()"
   ]
  },
  {
   "cell_type": "code",
   "execution_count": 25,
   "metadata": {},
   "outputs": [
    {
     "name": "stdout",
     "output_type": "stream",
     "text": [
      "5581\n"
     ]
    },
    {
     "data": {
      "text/plain": [
       "2905"
      ]
     },
     "execution_count": 25,
     "metadata": {},
     "output_type": "execute_result"
    }
   ],
   "source": [
    "print(df['New_Book_Title'].nunique())\n",
    "pen_df['Title'].nunique()"
   ]
  }
 ],
 "metadata": {
  "kernelspec": {
   "display_name": "Python 3",
   "language": "python",
   "name": "python3"
  },
  "language_info": {
   "codemirror_mode": {
    "name": "ipython",
    "version": 3
   },
   "file_extension": ".py",
   "mimetype": "text/x-python",
   "name": "python",
   "nbconvert_exporter": "python",
   "pygments_lexer": "ipython3",
   "version": "3.10.0"
  }
 },
 "nbformat": 4,
 "nbformat_minor": 2
}
