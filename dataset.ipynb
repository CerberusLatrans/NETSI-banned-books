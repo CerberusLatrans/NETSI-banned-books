{
 "cells": [
  {
   "cell_type": "code",
   "execution_count": 6,
   "metadata": {},
   "outputs": [],
   "source": [
    "import pandas as pd\n",
    "import matplotlib.pyplot as plt\n",
    "import polars as pl\n",
    "import numpy as np\n",
    "import plotly.express as px\n",
    "import plotly.graph_objects as go"
   ]
  },
  {
   "cell_type": "code",
   "execution_count": 7,
   "metadata": {},
   "outputs": [],
   "source": [
    "def null_pct(df):\n",
    "    return dict(zip(df.columns, [round(100*len(df.loc[df[c].isnull()])/len(df),2) for c in df.columns]))"
   ]
  },
  {
   "cell_type": "code",
   "execution_count": 8,
   "metadata": {},
   "outputs": [
    {
     "name": "stdout",
     "output_type": "stream",
     "text": [
      "<class 'pandas.core.frame.DataFrame'>\n",
      "Index: 5894 entries, 0 to 5893\n",
      "Data columns (total 8 columns):\n",
      " #   Column       Non-Null Count  Dtype    \n",
      "---  ------       --------------  -----    \n",
      " 0   Author       5893 non-null   object   \n",
      " 1   Title        5893 non-null   object   \n",
      " 2   State        5894 non-null   object   \n",
      " 3   District     5894 non-null   object   \n",
      " 4   DateBan      5894 non-null   period[D]\n",
      " 5   Country      5894 non-null   object   \n",
      " 6   Description  5894 non-null   object   \n",
      " 7   Dataset      5894 non-null   object   \n",
      "dtypes: object(7), period[D](1)\n",
      "memory usage: 414.4+ KB\n"
     ]
    }
   ],
   "source": [
    "pen_df = pd.read_csv(\"pen america/PEN.csv\", index_col=0)\n",
    "pen_df[\"Dataset\"] = \"PEN America\"\n",
    "pen_df[\"DateBan\"] = pd.to_datetime(pen_df[\"DateBan\"]).dt.to_period('D')\n",
    "pen_df.info()"
   ]
  },
  {
   "cell_type": "code",
   "execution_count": 9,
   "metadata": {},
   "outputs": [
    {
     "name": "stdout",
     "output_type": "stream",
     "text": [
      "<class 'pandas.core.frame.DataFrame'>\n",
      "Index: 5285 entries, 0 to 5342\n",
      "Data columns (total 5 columns):\n",
      " #   Column       Non-Null Count  Dtype    \n",
      "---  ------       --------------  -----    \n",
      " 0   DateBan      5285 non-null   period[D]\n",
      " 1   Description  5285 non-null   object   \n",
      " 2   Title        5281 non-null   object   \n",
      " 3   Country      5285 non-null   object   \n",
      " 4   Dataset      5285 non-null   object   \n",
      "dtypes: object(4), period[D](1)\n",
      "memory usage: 247.7+ KB\n",
      "None\n"
     ]
    }
   ],
   "source": [
    "lidrekon_df = pd.read_csv('lidrekon/lidrekon.csv').rename(columns={'Date':'DateBan'})\n",
    "lidrekon_df = lidrekon_df.drop([lidrekon_df.columns[0], 'TitleCandidates'], axis=1)\\\n",
    "                .drop_duplicates()\n",
    "lidrekon_df['Country'] = 'RUS'\n",
    "lidrekon_df['DateBan'] = pd.to_datetime(lidrekon_df['DateBan']).dt.to_period('D')\n",
    "lidrekon_df['Dataset'] = \"lidrekon\"\n",
    "print(lidrekon_df.info())"
   ]
  },
  {
   "cell_type": "code",
   "execution_count": 10,
   "metadata": {},
   "outputs": [
    {
     "name": "stdout",
     "output_type": "stream",
     "text": [
      "{'DateBan': 0.0, 'Description': 0.0, 'Title': 0.08, 'Country': 0.0, 'Dataset': 0.0}\n"
     ]
    }
   ],
   "source": [
    "print(null_pct(lidrekon_df))"
   ]
  },
  {
   "cell_type": "code",
   "execution_count": 11,
   "metadata": {},
   "outputs": [
    {
     "name": "stdout",
     "output_type": "stream",
     "text": [
      "<class 'pandas.core.frame.DataFrame'>\n",
      "Index: 55278 entries, 0 to 55277\n",
      "Data columns (total 7 columns):\n",
      " #   Column       Non-Null Count  Dtype    \n",
      "---  ------       --------------  -----    \n",
      " 0   Title        55278 non-null  object   \n",
      " 1   Author       23003 non-null  object   \n",
      " 2   Description  30229 non-null  object   \n",
      " 3   State        55278 non-null  object   \n",
      " 4   Country      55278 non-null  object   \n",
      " 5   DateBan      47070 non-null  period[D]\n",
      " 6   Dataset      55278 non-null  object   \n",
      "dtypes: object(6), period[D](1)\n",
      "memory usage: 3.4+ MB\n"
     ]
    }
   ],
   "source": [
    "marshall_df = pd.read_csv('marshall/marshall.csv', index_col=0)\n",
    "marshall_df['DateBan'] = pd.to_datetime(marshall_df['DateBan']).dt.to_period('D')\n",
    "marshall_df['Dataset'] = \"The Marshall Project\"\n",
    "marshall_df.info()"
   ]
  },
  {
   "cell_type": "code",
   "execution_count": 12,
   "metadata": {},
   "outputs": [
    {
     "name": "stdout",
     "output_type": "stream",
     "text": [
      "<class 'pandas.core.frame.DataFrame'>\n",
      "Index: 121573 entries, 0 to 121572\n",
      "Data columns (total 7 columns):\n",
      " #   Column       Non-Null Count   Dtype    \n",
      "---  ------       --------------   -----    \n",
      " 0   Author       103096 non-null  object   \n",
      " 1   Title        121556 non-null  object   \n",
      " 2   District     34126 non-null   object   \n",
      " 3   Country      121544 non-null  object   \n",
      " 4   Description  121552 non-null  object   \n",
      " 5   DateBan      85748 non-null   period[D]\n",
      " 6   Dataset      121573 non-null  object   \n",
      "dtypes: object(6), period[D](1)\n",
      "memory usage: 7.4+ MB\n"
     ]
    }
   ],
   "source": [
    "import math\n",
    "def to_period(year):\n",
    "    if math.isnan(year):\n",
    "        return None\n",
    "    return pd.Period(year=int(year), freq=\"D\")\n",
    "kasseler_df = pd.read_csv('kasseler/kasseler.csv', index_col=0)\n",
    "kasseler_df['DateBan'] = kasseler_df['DateBan'].apply(to_period)\n",
    "kasseler_df['Dataset'] = \"Die Kasseler Liste (Parthenon of Books)\"\n",
    "kasseler_df.info()"
   ]
  },
  {
   "cell_type": "code",
   "execution_count": 18,
   "metadata": {},
   "outputs": [
    {
     "name": "stdout",
     "output_type": "stream",
     "text": [
      "<class 'pandas.core.frame.DataFrame'>\n",
      "Index: 15409 entries, 0 to 15408\n",
      "Data columns (total 8 columns):\n",
      " #   Column       Non-Null Count  Dtype    \n",
      "---  ------       --------------  -----    \n",
      " 0   Author       15405 non-null  object   \n",
      " 1   Title        15409 non-null  object   \n",
      " 2   State        15372 non-null  object   \n",
      " 3   District     15409 non-null  object   \n",
      " 4   Description  14424 non-null  object   \n",
      " 5   DateBan      15059 non-null  period[D]\n",
      " 6   Country      15409 non-null  object   \n",
      " 7   Dataset      15409 non-null  object   \n",
      "dtypes: object(7), period[D](1)\n",
      "memory usage: 1.1+ MB\n"
     ]
    }
   ],
   "source": [
    "every_library_df = pd.read_csv(\"Every_Library_Institute/every_library.csv\", index_col=0)\n",
    "every_library_df['Country'] = 'USA'\n",
    "every_library_df['DateBan'] = pd.to_datetime(every_library_df['DateBan'], yearfirst=True).dt.to_period('D')\n",
    "every_library_df['Dataset'] = \"Dr. Magnusson, Every Library Institute\"\n",
    "every_library_df.info()"
   ]
  },
  {
   "cell_type": "code",
   "execution_count": 19,
   "metadata": {},
   "outputs": [
    {
     "name": "stdout",
     "output_type": "stream",
     "text": [
      "<class 'pandas.core.frame.DataFrame'>\n",
      "RangeIndex: 203439 entries, 0 to 203438\n",
      "Data columns (total 8 columns):\n",
      " #   Column       Non-Null Count   Dtype    \n",
      "---  ------       --------------   -----    \n",
      " 0   Author       147397 non-null  object   \n",
      " 1   Title        203417 non-null  object   \n",
      " 2   State        76544 non-null   object   \n",
      " 3   District     55429 non-null   object   \n",
      " 4   DateBan      159056 non-null  period[D]\n",
      " 5   Country      203410 non-null  object   \n",
      " 6   Description  177384 non-null  object   \n",
      " 7   Dataset      203439 non-null  object   \n",
      "dtypes: object(7), period[D](1)\n",
      "memory usage: 12.4+ MB\n",
      "None\n",
      "{'Author': 27.55, 'Title': 0.01, 'State': 62.37, 'District': 72.75, 'DateBan': 21.82, 'Country': 0.01, 'Description': 12.81, 'Dataset': 0.0}\n"
     ]
    }
   ],
   "source": [
    "datasets = (pen_df, marshall_df, lidrekon_df, kasseler_df, every_library_df)\n",
    "df = pd.concat(datasets, axis=0, ignore_index=True)\n",
    "print(df.info())\n",
    "print(null_pct(df))"
   ]
  },
  {
   "cell_type": "code",
   "execution_count": 20,
   "metadata": {},
   "outputs": [
    {
     "data": {
      "text/html": [
       "<div>\n",
       "<style scoped>\n",
       "    .dataframe tbody tr th:only-of-type {\n",
       "        vertical-align: middle;\n",
       "    }\n",
       "\n",
       "    .dataframe tbody tr th {\n",
       "        vertical-align: top;\n",
       "    }\n",
       "\n",
       "    .dataframe thead th {\n",
       "        text-align: right;\n",
       "    }\n",
       "</style>\n",
       "<table border=\"1\" class=\"dataframe\">\n",
       "  <thead>\n",
       "    <tr style=\"text-align: right;\">\n",
       "      <th></th>\n",
       "      <th>Author</th>\n",
       "      <th>Title</th>\n",
       "      <th>State</th>\n",
       "      <th>District</th>\n",
       "      <th>DateBan</th>\n",
       "      <th>Country</th>\n",
       "      <th>Description</th>\n",
       "      <th>Dataset</th>\n",
       "    </tr>\n",
       "  </thead>\n",
       "  <tbody>\n",
       "    <tr>\n",
       "      <th>0</th>\n",
       "      <td>Àbíké-Íyímídé, Faridah</td>\n",
       "      <td>Ace of Spades</td>\n",
       "      <td>Florida</td>\n",
       "      <td>Indian River County School District</td>\n",
       "      <td>2021-11-01</td>\n",
       "      <td>USA</td>\n",
       "      <td>Banned in Libraries and Classrooms</td>\n",
       "      <td>PEN America</td>\n",
       "    </tr>\n",
       "    <tr>\n",
       "      <th>1</th>\n",
       "      <td>Acevedo, Elizabeth</td>\n",
       "      <td>Clap When You Land</td>\n",
       "      <td>Pennsylvania</td>\n",
       "      <td>Central York School District</td>\n",
       "      <td>2021-08-31</td>\n",
       "      <td>USA</td>\n",
       "      <td>Banned in Classrooms</td>\n",
       "      <td>PEN America</td>\n",
       "    </tr>\n",
       "    <tr>\n",
       "      <th>2</th>\n",
       "      <td>Acevedo, Elizabeth</td>\n",
       "      <td>The Poet X</td>\n",
       "      <td>Florida</td>\n",
       "      <td>Indian River County School District</td>\n",
       "      <td>2021-11-01</td>\n",
       "      <td>USA</td>\n",
       "      <td>Banned in Libraries</td>\n",
       "      <td>PEN America</td>\n",
       "    </tr>\n",
       "    <tr>\n",
       "      <th>3</th>\n",
       "      <td>Acevedo, Elizabeth</td>\n",
       "      <td>The Poet X</td>\n",
       "      <td>New York</td>\n",
       "      <td>Marlboro Central School District</td>\n",
       "      <td>2022-02-01</td>\n",
       "      <td>USA</td>\n",
       "      <td>Banned in Libraries and Classrooms</td>\n",
       "      <td>PEN America</td>\n",
       "    </tr>\n",
       "    <tr>\n",
       "      <th>4</th>\n",
       "      <td>Acevedo, Elizabeth</td>\n",
       "      <td>The Poet X</td>\n",
       "      <td>Texas</td>\n",
       "      <td>Fredericksburg Independent School District</td>\n",
       "      <td>2022-03-01</td>\n",
       "      <td>USA</td>\n",
       "      <td>Banned Pending Investigation</td>\n",
       "      <td>PEN America</td>\n",
       "    </tr>\n",
       "    <tr>\n",
       "      <th>...</th>\n",
       "      <td>...</td>\n",
       "      <td>...</td>\n",
       "      <td>...</td>\n",
       "      <td>...</td>\n",
       "      <td>...</td>\n",
       "      <td>...</td>\n",
       "      <td>...</td>\n",
       "      <td>...</td>\n",
       "    </tr>\n",
       "    <tr>\n",
       "      <th>203434</th>\n",
       "      <td>Tamaki, Mariko</td>\n",
       "      <td>Laura Dean Keeps Breaking Up with Me</td>\n",
       "      <td>Florida</td>\n",
       "      <td>School District of Manatee County</td>\n",
       "      <td>2022-08-01</td>\n",
       "      <td>USA</td>\n",
       "      <td>Retained Restricted, Reporting on Manatee annu...</td>\n",
       "      <td>Dr. Magnusson, Every Library Institute</td>\n",
       "    </tr>\n",
       "    <tr>\n",
       "      <th>203435</th>\n",
       "      <td>Thomas, Angie</td>\n",
       "      <td>The Hate U Give</td>\n",
       "      <td>Florida</td>\n",
       "      <td>School District of Manatee County</td>\n",
       "      <td>2022-08-01</td>\n",
       "      <td>USA</td>\n",
       "      <td>Retained Restricted, Reporting on Manatee annu...</td>\n",
       "      <td>Dr. Magnusson, Every Library Institute</td>\n",
       "    </tr>\n",
       "    <tr>\n",
       "      <th>203436</th>\n",
       "      <td>Venezia, Mike</td>\n",
       "      <td>Michelangelo (MV)</td>\n",
       "      <td>Florida</td>\n",
       "      <td>School District of Manatee County</td>\n",
       "      <td>2023-08-01</td>\n",
       "      <td>USA</td>\n",
       "      <td>Retained Restricted, Reporting on Manatee annu...</td>\n",
       "      <td>Dr. Magnusson, Every Library Institute</td>\n",
       "    </tr>\n",
       "    <tr>\n",
       "      <th>203437</th>\n",
       "      <td>Wang, Jen</td>\n",
       "      <td>The Prince and the Dressmaker</td>\n",
       "      <td>Florida</td>\n",
       "      <td>School District of Manatee County</td>\n",
       "      <td>2022-08-01</td>\n",
       "      <td>USA</td>\n",
       "      <td>Retained Restricted, Reporting on Manatee annu...</td>\n",
       "      <td>Dr. Magnusson, Every Library Institute</td>\n",
       "    </tr>\n",
       "    <tr>\n",
       "      <th>203438</th>\n",
       "      <td>Yoshi, Anri</td>\n",
       "      <td>My Hero Academia: School Briefs, Vol. 5</td>\n",
       "      <td>Florida</td>\n",
       "      <td>School District of Manatee County</td>\n",
       "      <td>2023-08-01</td>\n",
       "      <td>USA</td>\n",
       "      <td>Banned/Removed, Reporting on Manatee annual re...</td>\n",
       "      <td>Dr. Magnusson, Every Library Institute</td>\n",
       "    </tr>\n",
       "  </tbody>\n",
       "</table>\n",
       "<p>203439 rows × 8 columns</p>\n",
       "</div>"
      ],
      "text/plain": [
       "                        Author                                    Title  \\\n",
       "0       Àbíké-Íyímídé, Faridah                            Ace of Spades   \n",
       "1           Acevedo, Elizabeth                       Clap When You Land   \n",
       "2           Acevedo, Elizabeth                               The Poet X   \n",
       "3           Acevedo, Elizabeth                               The Poet X   \n",
       "4           Acevedo, Elizabeth                               The Poet X   \n",
       "...                        ...                                      ...   \n",
       "203434          Tamaki, Mariko     Laura Dean Keeps Breaking Up with Me   \n",
       "203435           Thomas, Angie                          The Hate U Give   \n",
       "203436           Venezia, Mike                        Michelangelo (MV)   \n",
       "203437               Wang, Jen            The Prince and the Dressmaker   \n",
       "203438             Yoshi, Anri  My Hero Academia: School Briefs, Vol. 5   \n",
       "\n",
       "               State                                    District     DateBan  \\\n",
       "0            Florida         Indian River County School District  2021-11-01   \n",
       "1       Pennsylvania                Central York School District  2021-08-31   \n",
       "2            Florida         Indian River County School District  2021-11-01   \n",
       "3           New York            Marlboro Central School District  2022-02-01   \n",
       "4              Texas  Fredericksburg Independent School District  2022-03-01   \n",
       "...              ...                                         ...         ...   \n",
       "203434       Florida           School District of Manatee County  2022-08-01   \n",
       "203435       Florida           School District of Manatee County  2022-08-01   \n",
       "203436       Florida           School District of Manatee County  2023-08-01   \n",
       "203437       Florida           School District of Manatee County  2022-08-01   \n",
       "203438       Florida           School District of Manatee County  2023-08-01   \n",
       "\n",
       "       Country                                        Description  \\\n",
       "0          USA                 Banned in Libraries and Classrooms   \n",
       "1          USA                               Banned in Classrooms   \n",
       "2          USA                                Banned in Libraries   \n",
       "3          USA                 Banned in Libraries and Classrooms   \n",
       "4          USA                       Banned Pending Investigation   \n",
       "...        ...                                                ...   \n",
       "203434     USA  Retained Restricted, Reporting on Manatee annu...   \n",
       "203435     USA  Retained Restricted, Reporting on Manatee annu...   \n",
       "203436     USA  Retained Restricted, Reporting on Manatee annu...   \n",
       "203437     USA  Retained Restricted, Reporting on Manatee annu...   \n",
       "203438     USA  Banned/Removed, Reporting on Manatee annual re...   \n",
       "\n",
       "                                       Dataset  \n",
       "0                                  PEN America  \n",
       "1                                  PEN America  \n",
       "2                                  PEN America  \n",
       "3                                  PEN America  \n",
       "4                                  PEN America  \n",
       "...                                        ...  \n",
       "203434  Dr. Magnusson, Every Library Institute  \n",
       "203435  Dr. Magnusson, Every Library Institute  \n",
       "203436  Dr. Magnusson, Every Library Institute  \n",
       "203437  Dr. Magnusson, Every Library Institute  \n",
       "203438  Dr. Magnusson, Every Library Institute  \n",
       "\n",
       "[203439 rows x 8 columns]"
      ]
     },
     "execution_count": 20,
     "metadata": {},
     "output_type": "execute_result"
    }
   ],
   "source": [
    "df"
   ]
  },
  {
   "cell_type": "code",
   "execution_count": 22,
   "metadata": {},
   "outputs": [
    {
     "data": {
      "text/plain": [
       "(203439, 9)"
      ]
     },
     "execution_count": 22,
     "metadata": {},
     "output_type": "execute_result"
    }
   ],
   "source": [
    "df.shape"
   ]
  },
  {
   "cell_type": "code",
   "execution_count": 23,
   "metadata": {},
   "outputs": [],
   "source": [
    "df.to_csv(\"combined.csv\")"
   ]
  },
  {
   "cell_type": "code",
   "execution_count": 18,
   "metadata": {},
   "outputs": [],
   "source": [
    "df.head(10).to_csv(\"combined_peek.csv\")"
   ]
  },
  {
   "cell_type": "code",
   "execution_count": 21,
   "metadata": {},
   "outputs": [
    {
     "name": "stdout",
     "output_type": "stream",
     "text": [
      "<class 'pandas.core.frame.DataFrame'>\n",
      "Index: 1293 entries, 2 to 1292\n",
      "Data columns (total 4 columns):\n",
      " #   Column   Non-Null Count  Dtype \n",
      "---  ------   --------------  ----- \n",
      " 0   Year     1293 non-null   int64 \n",
      " 1   Country  1293 non-null   object\n",
      " 2   0        1293 non-null   int64 \n",
      " 3   Count    1293 non-null   int64 \n",
      "dtypes: int64(3), object(1)\n",
      "memory usage: 50.5+ KB\n",
      "None\n"
     ]
    },
    {
     "data": {
      "text/html": [
       "<div>\n",
       "<style scoped>\n",
       "    .dataframe tbody tr th:only-of-type {\n",
       "        vertical-align: middle;\n",
       "    }\n",
       "\n",
       "    .dataframe tbody tr th {\n",
       "        vertical-align: top;\n",
       "    }\n",
       "\n",
       "    .dataframe thead th {\n",
       "        text-align: right;\n",
       "    }\n",
       "</style>\n",
       "<table border=\"1\" class=\"dataframe\">\n",
       "  <thead>\n",
       "    <tr style=\"text-align: right;\">\n",
       "      <th></th>\n",
       "      <th>Year</th>\n",
       "      <th>Country</th>\n",
       "      <th>0</th>\n",
       "      <th>Count</th>\n",
       "    </tr>\n",
       "  </thead>\n",
       "  <tbody>\n",
       "    <tr>\n",
       "      <th>2</th>\n",
       "      <td>-1</td>\n",
       "      <td>BLR</td>\n",
       "      <td>1</td>\n",
       "      <td>1</td>\n",
       "    </tr>\n",
       "    <tr>\n",
       "      <th>3</th>\n",
       "      <td>-1</td>\n",
       "      <td>BRD</td>\n",
       "      <td>1</td>\n",
       "      <td>1</td>\n",
       "    </tr>\n",
       "    <tr>\n",
       "      <th>4</th>\n",
       "      <td>-1</td>\n",
       "      <td>CHL</td>\n",
       "      <td>1</td>\n",
       "      <td>1</td>\n",
       "    </tr>\n",
       "    <tr>\n",
       "      <th>11</th>\n",
       "      <td>-1</td>\n",
       "      <td>DEU, ITA, YO</td>\n",
       "      <td>1</td>\n",
       "      <td>1</td>\n",
       "    </tr>\n",
       "    <tr>\n",
       "      <th>12</th>\n",
       "      <td>-1</td>\n",
       "      <td>DEU, Kaiserreich</td>\n",
       "      <td>1</td>\n",
       "      <td>1</td>\n",
       "    </tr>\n",
       "    <tr>\n",
       "      <th>...</th>\n",
       "      <td>...</td>\n",
       "      <td>...</td>\n",
       "      <td>...</td>\n",
       "      <td>...</td>\n",
       "    </tr>\n",
       "    <tr>\n",
       "      <th>1288</th>\n",
       "      <td>2023</td>\n",
       "      <td>CHN</td>\n",
       "      <td>5</td>\n",
       "      <td>5</td>\n",
       "    </tr>\n",
       "    <tr>\n",
       "      <th>1289</th>\n",
       "      <td>2023</td>\n",
       "      <td>RUS</td>\n",
       "      <td>80</td>\n",
       "      <td>80</td>\n",
       "    </tr>\n",
       "    <tr>\n",
       "      <th>1290</th>\n",
       "      <td>2023</td>\n",
       "      <td>USA</td>\n",
       "      <td>9690</td>\n",
       "      <td>9690</td>\n",
       "    </tr>\n",
       "    <tr>\n",
       "      <th>1291</th>\n",
       "      <td>2024</td>\n",
       "      <td>RUS</td>\n",
       "      <td>4</td>\n",
       "      <td>4</td>\n",
       "    </tr>\n",
       "    <tr>\n",
       "      <th>1292</th>\n",
       "      <td>2024</td>\n",
       "      <td>USA</td>\n",
       "      <td>492</td>\n",
       "      <td>492</td>\n",
       "    </tr>\n",
       "  </tbody>\n",
       "</table>\n",
       "<p>1293 rows × 4 columns</p>\n",
       "</div>"
      ],
      "text/plain": [
       "      Year           Country     0  Count\n",
       "2       -1               BLR     1      1\n",
       "3       -1               BRD     1      1\n",
       "4       -1               CHL     1      1\n",
       "11      -1      DEU, ITA, YO     1      1\n",
       "12      -1  DEU, Kaiserreich     1      1\n",
       "...    ...               ...   ...    ...\n",
       "1288  2023               CHN     5      5\n",
       "1289  2023               RUS    80     80\n",
       "1290  2023               USA  9690   9690\n",
       "1291  2024               RUS     4      4\n",
       "1292  2024               USA   492    492\n",
       "\n",
       "[1293 rows x 4 columns]"
      ]
     },
     "execution_count": 21,
     "metadata": {},
     "output_type": "execute_result"
    }
   ],
   "source": [
    "df['Year'] = df['DateBan'].dt.year\n",
    "grouped_df = df.groupby(['Year', 'Country']).size().to_frame().reset_index()\n",
    "grouped_df['Count'] = grouped_df[0]\n",
    "grouped_df = grouped_df.sort_values(['Year', 'Count'])\n",
    "print(grouped_df.info())\n",
    "grouped_df"
   ]
  },
  {
   "cell_type": "code",
   "execution_count": 10,
   "metadata": {},
   "outputs": [
    {
     "data": {
      "application/vnd.plotly.v1+json": {
       "config": {
        "plotlyServerURL": "https://plot.ly"
       },
       "data": [
        {
         "alignmentgroup": "True",
         "hovertemplate": "Country=VAT<br>Year=%{x}<br>Count=%{y}<extra></extra>",
         "legendgroup": "VAT",
         "marker": {
          "color": "#636efa",
          "pattern": {
           "shape": ""
          }
         },
         "name": "VAT",
         "offsetgroup": "VAT",
         "orientation": "v",
         "showlegend": true,
         "textposition": "auto",
         "type": "bar",
         "x": [
          1601,
          1605,
          1613,
          1615,
          1616,
          1617,
          1618,
          1619,
          1620,
          1622,
          1624,
          1626,
          1627,
          1633,
          1634,
          1640,
          1641,
          1646,
          1651,
          1654,
          1658,
          1659,
          1661,
          1662,
          1663,
          1665,
          1666,
          1667,
          1668,
          1672,
          1674,
          1676,
          1677,
          1678,
          1679,
          1680,
          1681,
          1682,
          1683,
          1684,
          1685,
          1686,
          1687,
          1688,
          1689,
          1690,
          1692,
          1693,
          1694,
          1695,
          1701,
          1702,
          1703,
          1704,
          1707,
          1708,
          1709,
          1710,
          1711,
          1712,
          1713,
          1714,
          1716,
          1717,
          1719,
          1721,
          1722,
          1725,
          1726,
          1728,
          1729,
          1732,
          1734,
          1735,
          1737,
          1742,
          1745,
          1746,
          1750,
          1752,
          1753,
          1754,
          1755,
          1757,
          1759,
          1761,
          1762,
          1765,
          1766,
          1767,
          1788,
          1804,
          1817,
          1820,
          1821,
          1822,
          1823,
          1824,
          1825,
          1826,
          1827,
          1828,
          1833,
          1834,
          1835,
          1836,
          1837,
          1838,
          1840,
          1841,
          1842,
          1844,
          1845,
          1846,
          1849,
          1850,
          1851,
          1852,
          1853,
          1854,
          1855,
          1856,
          1857,
          1858,
          1859,
          1860,
          1861,
          1862,
          1863,
          1864,
          1865,
          1866,
          1868,
          1869,
          1871,
          1873,
          1874,
          1875,
          1876,
          1877,
          1878,
          1881,
          1882,
          1886,
          1890,
          1891,
          1892,
          1893,
          1894,
          1895,
          1896,
          1903,
          1907,
          1908,
          1909,
          1910,
          1911,
          1912,
          1913,
          1930,
          1936,
          1938
         ],
         "xaxis": "x",
         "y": [
          11,
          16,
          14,
          16,
          12,
          11,
          19,
          16,
          22,
          18,
          18,
          16,
          12,
          11,
          15,
          13,
          16,
          17,
          13,
          46,
          16,
          26,
          24,
          16,
          16,
          13,
          15,
          25,
          19,
          17,
          17,
          15,
          25,
          21,
          30,
          19,
          27,
          22,
          18,
          19,
          18,
          21,
          28,
          42,
          46,
          44,
          19,
          20,
          21,
          25,
          24,
          21,
          30,
          27,
          68,
          14,
          16,
          22,
          11,
          17,
          14,
          29,
          12,
          17,
          16,
          12,
          16,
          32,
          12,
          13,
          17,
          15,
          21,
          15,
          13,
          31,
          11,
          16,
          12,
          19,
          22,
          11,
          11,
          18,
          16,
          12,
          14,
          18,
          12,
          21,
          13,
          13,
          39,
          22,
          15,
          38,
          18,
          28,
          29,
          25,
          31,
          17,
          13,
          18,
          20,
          36,
          17,
          20,
          11,
          13,
          12,
          15,
          24,
          11,
          12,
          29,
          18,
          27,
          20,
          22,
          15,
          15,
          29,
          11,
          20,
          15,
          15,
          12,
          15,
          39,
          21,
          25,
          14,
          22,
          14,
          15,
          12,
          17,
          23,
          24,
          19,
          26,
          20,
          12,
          13,
          13,
          31,
          14,
          12,
          15,
          17,
          14,
          11,
          12,
          19,
          13,
          32,
          12,
          14,
          21,
          11,
          13
         ],
         "yaxis": "y"
        },
        {
         "alignmentgroup": "True",
         "hovertemplate": "Country=AUT<br>Year=%{x}<br>Count=%{y}<extra></extra>",
         "legendgroup": "AUT",
         "marker": {
          "color": "#EF553B",
          "pattern": {
           "shape": ""
          }
         },
         "name": "AUT",
         "offsetgroup": "AUT",
         "orientation": "v",
         "showlegend": true,
         "textposition": "auto",
         "type": "bar",
         "x": [
          1754,
          1774,
          1776,
          1777,
          1778,
          1780,
          1784,
          1785,
          1786,
          1787,
          1788,
          1789,
          1790,
          1791,
          1792,
          1793,
          1794,
          1795,
          1796,
          1797,
          1798,
          1799,
          1800,
          1801,
          1802,
          1803,
          1804,
          1805,
          1806,
          1807,
          1808,
          1809,
          1810,
          1811,
          1812,
          1813,
          1814,
          1815,
          1816,
          1817,
          1818,
          1819,
          1820,
          1821,
          1822,
          1823,
          1824,
          1825,
          1826,
          1827,
          1828,
          1829,
          1830,
          1831,
          1832,
          1833,
          1834,
          1835,
          1836,
          1837,
          1838,
          1839,
          1840,
          1841,
          1842,
          1843,
          1844,
          1845,
          1846,
          1847,
          1848
         ],
         "xaxis": "x",
         "y": [
          16,
          26,
          2875,
          82,
          80,
          92,
          219,
          36,
          29,
          34,
          26,
          47,
          55,
          34,
          145,
          147,
          278,
          482,
          531,
          347,
          599,
          581,
          519,
          570,
          563,
          487,
          507,
          275,
          177,
          131,
          120,
          70,
          131,
          82,
          76,
          111,
          94,
          42,
          200,
          163,
          191,
          252,
          348,
          636,
          737,
          490,
          331,
          384,
          469,
          364,
          413,
          636,
          549,
          622,
          559,
          758,
          830,
          678,
          690,
          628,
          791,
          738,
          640,
          531,
          614,
          651,
          563,
          797,
          780,
          766,
          115
         ],
         "yaxis": "y"
        },
        {
         "alignmentgroup": "True",
         "hovertemplate": "Country=FR<br>Year=%{x}<br>Count=%{y}<extra></extra>",
         "legendgroup": "FR",
         "marker": {
          "color": "#00cc96",
          "pattern": {
           "shape": ""
          }
         },
         "name": "FR",
         "offsetgroup": "FR",
         "orientation": "v",
         "showlegend": true,
         "textposition": "auto",
         "type": "bar",
         "x": [
          1790,
          1791,
          1864,
          1881,
          1882
         ],
         "xaxis": "x",
         "y": [
          21,
          14,
          16,
          11,
          21
         ],
         "yaxis": "y"
        },
        {
         "alignmentgroup": "True",
         "hovertemplate": "Country=GC<br>Year=%{x}<br>Count=%{y}<extra></extra>",
         "legendgroup": "GC",
         "marker": {
          "color": "#ab63fa",
          "pattern": {
           "shape": ""
          }
         },
         "name": "GC",
         "offsetgroup": "GC",
         "orientation": "v",
         "showlegend": true,
         "textposition": "auto",
         "type": "bar",
         "x": [
          1912,
          1913,
          1914,
          1915,
          1916,
          1917,
          1918,
          1919,
          1920,
          1921,
          1922,
          1923,
          1924,
          1925,
          1926,
          1927,
          1928,
          1929,
          1930,
          1931,
          1932,
          1933,
          1934,
          1935,
          1936,
          1937,
          1938,
          1939,
          1940,
          1941,
          1942,
          1943,
          1944,
          1945
         ],
         "xaxis": "x",
         "y": [
          12,
          58,
          54,
          57,
          65,
          57,
          96,
          305,
          245,
          211,
          203,
          178,
          212,
          270,
          253,
          211,
          259,
          261,
          364,
          436,
          589,
          1848,
          2463,
          1994,
          2045,
          2146,
          2302,
          2274,
          2334,
          2091,
          1691,
          1492,
          799,
          29
         ],
         "yaxis": "y"
        },
        {
         "alignmentgroup": "True",
         "hovertemplate": "Country=AUS<br>Year=%{x}<br>Count=%{y}<extra></extra>",
         "legendgroup": "AUS",
         "marker": {
          "color": "#FFA15A",
          "pattern": {
           "shape": ""
          }
         },
         "name": "AUS",
         "offsetgroup": "AUS",
         "orientation": "v",
         "showlegend": true,
         "textposition": "auto",
         "type": "bar",
         "x": [
          1929,
          1930,
          1931,
          1932,
          1933,
          1934,
          1935,
          1936,
          1938,
          1939,
          1951,
          1952,
          1953,
          1954,
          1955,
          1961,
          1964,
          1965,
          1966,
          1968,
          1969
         ],
         "xaxis": "x",
         "y": [
          14,
          12,
          14,
          22,
          35,
          21,
          24,
          14,
          15,
          11,
          11,
          17,
          14,
          11,
          14,
          12,
          12,
          11,
          17,
          13,
          21
         ],
         "yaxis": "y"
        },
        {
         "alignmentgroup": "True",
         "hovertemplate": "Country=TUR<br>Year=%{x}<br>Count=%{y}<extra></extra>",
         "legendgroup": "TUR",
         "marker": {
          "color": "#19d3f3",
          "pattern": {
           "shape": ""
          }
         },
         "name": "TUR",
         "offsetgroup": "TUR",
         "orientation": "v",
         "showlegend": true,
         "textposition": "auto",
         "type": "bar",
         "x": [
          1930,
          1938,
          1950,
          1961,
          1967,
          1968,
          1971,
          1972,
          1974,
          1975,
          1979,
          1980,
          1984,
          1990,
          1993,
          1994,
          1995,
          1996,
          1997,
          1998,
          2001,
          2002,
          2003,
          2004,
          2005,
          2006,
          2008
         ],
         "xaxis": "x",
         "y": [
          16,
          15,
          35,
          49,
          11,
          18,
          14,
          13,
          11,
          15,
          12,
          22,
          13,
          19,
          15,
          21,
          11,
          20,
          18,
          13,
          43,
          69,
          39,
          23,
          30,
          24,
          121
         ],
         "yaxis": "y"
        },
        {
         "alignmentgroup": "True",
         "hovertemplate": "Country=PRT<br>Year=%{x}<br>Count=%{y}<extra></extra>",
         "legendgroup": "PRT",
         "marker": {
          "color": "#FF6692",
          "pattern": {
           "shape": ""
          }
         },
         "name": "PRT",
         "offsetgroup": "PRT",
         "orientation": "v",
         "showlegend": true,
         "textposition": "auto",
         "type": "bar",
         "x": [
          1933,
          1945,
          1946,
          1947,
          1951,
          1953,
          1955,
          1958,
          1959,
          1960,
          1961,
          1962,
          1963,
          1964,
          1965,
          1966,
          1967,
          1968,
          1969,
          1970,
          1971,
          1972,
          1973,
          1974
         ],
         "xaxis": "x",
         "y": [
          12,
          12,
          22,
          13,
          14,
          12,
          11,
          14,
          16,
          28,
          24,
          19,
          21,
          31,
          45,
          43,
          37,
          33,
          56,
          73,
          101,
          76,
          65,
          19
         ],
         "yaxis": "y"
        },
        {
         "alignmentgroup": "True",
         "hovertemplate": "Country=DEU<br>Year=%{x}<br>Count=%{y}<extra></extra>",
         "legendgroup": "DEU",
         "marker": {
          "color": "#B6E880",
          "pattern": {
           "shape": ""
          }
         },
         "name": "DEU",
         "offsetgroup": "DEU",
         "orientation": "v",
         "showlegend": true,
         "textposition": "auto",
         "type": "bar",
         "x": [
          1933
         ],
         "xaxis": "x",
         "y": [
          4737
         ],
         "yaxis": "y"
        },
        {
         "alignmentgroup": "True",
         "hovertemplate": "Country=ESP<br>Year=%{x}<br>Count=%{y}<extra></extra>",
         "legendgroup": "ESP",
         "marker": {
          "color": "#FF97FF",
          "pattern": {
           "shape": ""
          }
         },
         "name": "ESP",
         "offsetgroup": "ESP",
         "orientation": "v",
         "showlegend": true,
         "textposition": "auto",
         "type": "bar",
         "x": [
          1939
         ],
         "xaxis": "x",
         "y": [
          29
         ],
         "yaxis": "y"
        },
        {
         "alignmentgroup": "True",
         "hovertemplate": "Country=NOR<br>Year=%{x}<br>Count=%{y}<extra></extra>",
         "legendgroup": "NOR",
         "marker": {
          "color": "#FECB52",
          "pattern": {
           "shape": ""
          }
         },
         "name": "NOR",
         "offsetgroup": "NOR",
         "orientation": "v",
         "showlegend": true,
         "textposition": "auto",
         "type": "bar",
         "x": [
          1940
         ],
         "xaxis": "x",
         "y": [
          1118
         ],
         "yaxis": "y"
        },
        {
         "alignmentgroup": "True",
         "hovertemplate": "Country=NLD<br>Year=%{x}<br>Count=%{y}<extra></extra>",
         "legendgroup": "NLD",
         "marker": {
          "color": "#636efa",
          "pattern": {
           "shape": ""
          }
         },
         "name": "NLD",
         "offsetgroup": "NLD",
         "orientation": "v",
         "showlegend": true,
         "textposition": "auto",
         "type": "bar",
         "x": [
          1943
         ],
         "xaxis": "x",
         "y": [
          78
         ],
         "yaxis": "y"
        },
        {
         "alignmentgroup": "True",
         "hovertemplate": "Country=USSR<br>Year=%{x}<br>Count=%{y}<extra></extra>",
         "legendgroup": "USSR",
         "marker": {
          "color": "#EF553B",
          "pattern": {
           "shape": ""
          }
         },
         "name": "USSR",
         "offsetgroup": "USSR",
         "orientation": "v",
         "showlegend": true,
         "textposition": "auto",
         "type": "bar",
         "x": [
          1960,
          1961
         ],
         "xaxis": "x",
         "y": [
          35,
          24
         ],
         "yaxis": "y"
        },
        {
         "alignmentgroup": "True",
         "hovertemplate": "Country=GRC<br>Year=%{x}<br>Count=%{y}<extra></extra>",
         "legendgroup": "GRC",
         "marker": {
          "color": "#00cc96",
          "pattern": {
           "shape": ""
          }
         },
         "name": "GRC",
         "offsetgroup": "GRC",
         "orientation": "v",
         "showlegend": true,
         "textposition": "auto",
         "type": "bar",
         "x": [
          1967
         ],
         "xaxis": "x",
         "y": [
          724
         ],
         "yaxis": "y"
        },
        {
         "alignmentgroup": "True",
         "hovertemplate": "Country=NZL<br>Year=%{x}<br>Count=%{y}<extra></extra>",
         "legendgroup": "NZL",
         "marker": {
          "color": "#ab63fa",
          "pattern": {
           "shape": ""
          }
         },
         "name": "NZL",
         "offsetgroup": "NZL",
         "orientation": "v",
         "showlegend": true,
         "textposition": "auto",
         "type": "bar",
         "x": [
          1968,
          1969,
          1970,
          1971,
          1972,
          1973,
          1974,
          1976,
          1978,
          1979,
          1980,
          1981,
          1983,
          1984,
          1985,
          1987,
          1989,
          1991,
          1992,
          1994,
          1996,
          1997,
          1998
         ],
         "xaxis": "x",
         "y": [
          13,
          14,
          34,
          42,
          144,
          48,
          15,
          40,
          25,
          38,
          15,
          39,
          371,
          18,
          28,
          49,
          13,
          131,
          65,
          14,
          14,
          24,
          24
         ],
         "yaxis": "y"
        },
        {
         "alignmentgroup": "True",
         "hovertemplate": "Country=CHL<br>Year=%{x}<br>Count=%{y}<extra></extra>",
         "legendgroup": "CHL",
         "marker": {
          "color": "#FFA15A",
          "pattern": {
           "shape": ""
          }
         },
         "name": "CHL",
         "offsetgroup": "CHL",
         "orientation": "v",
         "showlegend": true,
         "textposition": "auto",
         "type": "bar",
         "x": [
          1973
         ],
         "xaxis": "x",
         "y": [
          18
         ],
         "yaxis": "y"
        },
        {
         "alignmentgroup": "True",
         "hovertemplate": "Country=ARG<br>Year=%{x}<br>Count=%{y}<extra></extra>",
         "legendgroup": "ARG",
         "marker": {
          "color": "#19d3f3",
          "pattern": {
           "shape": ""
          }
         },
         "name": "ARG",
         "offsetgroup": "ARG",
         "orientation": "v",
         "showlegend": true,
         "textposition": "auto",
         "type": "bar",
         "x": [
          1976
         ],
         "xaxis": "x",
         "y": [
          331
         ],
         "yaxis": "y"
        },
        {
         "alignmentgroup": "True",
         "hovertemplate": "Country=USA<br>Year=%{x}<br>Count=%{y}<extra></extra>",
         "legendgroup": "USA",
         "marker": {
          "color": "#FF6692",
          "pattern": {
           "shape": ""
          }
         },
         "name": "USA",
         "offsetgroup": "USA",
         "orientation": "v",
         "showlegend": true,
         "textposition": "auto",
         "type": "bar",
         "x": [
          1980,
          1981,
          1982,
          1983,
          1984,
          1985,
          1986,
          1987,
          1988,
          1989,
          1990,
          1991,
          1992,
          1993,
          1994,
          1995,
          1996,
          1997,
          1998,
          1999,
          2000,
          2001,
          2002,
          2003,
          2004,
          2005,
          2006,
          2007,
          2008,
          2009,
          2010,
          2011,
          2012,
          2013,
          2014,
          2015,
          2016,
          2017,
          2018,
          2019,
          2020,
          2021,
          2022,
          2023
         ],
         "xaxis": "x",
         "y": [
          29,
          45,
          61,
          90,
          37,
          77,
          119,
          254,
          260,
          162,
          141,
          156,
          170,
          207,
          270,
          219,
          353,
          484,
          1482,
          1442,
          1138,
          1098,
          968,
          910,
          896,
          1450,
          1519,
          2077,
          2264,
          2600,
          1842,
          1497,
          3167,
          2612,
          2275,
          3622,
          2831,
          3457,
          3506,
          3515,
          3761,
          7107,
          4239,
          1379
         ],
         "yaxis": "y"
        },
        {
         "alignmentgroup": "True",
         "hovertemplate": "Country=CHN<br>Year=%{x}<br>Count=%{y}<extra></extra>",
         "legendgroup": "CHN",
         "marker": {
          "color": "#B6E880",
          "pattern": {
           "shape": ""
          }
         },
         "name": "CHN",
         "offsetgroup": "CHN",
         "orientation": "v",
         "showlegend": true,
         "textposition": "auto",
         "type": "bar",
         "x": [
          1989,
          1990,
          1991,
          1992,
          2001,
          2002,
          2009,
          2011,
          2013,
          2014,
          2015,
          2016,
          2020,
          2021
         ],
         "xaxis": "x",
         "y": [
          15,
          16,
          13,
          11,
          14,
          14,
          11,
          12,
          14,
          22,
          20,
          14,
          21,
          13
         ],
         "yaxis": "y"
        },
        {
         "alignmentgroup": "True",
         "hovertemplate": "Country=IRN<br>Year=%{x}<br>Count=%{y}<extra></extra>",
         "legendgroup": "IRN",
         "marker": {
          "color": "#FF97FF",
          "pattern": {
           "shape": ""
          }
         },
         "name": "IRN",
         "offsetgroup": "IRN",
         "orientation": "v",
         "showlegend": true,
         "textposition": "auto",
         "type": "bar",
         "x": [
          1996
         ],
         "xaxis": "x",
         "y": [
          73
         ],
         "yaxis": "y"
        },
        {
         "alignmentgroup": "True",
         "hovertemplate": "Country=BGD<br>Year=%{x}<br>Count=%{y}<extra></extra>",
         "legendgroup": "BGD",
         "marker": {
          "color": "#FECB52",
          "pattern": {
           "shape": ""
          }
         },
         "name": "BGD",
         "offsetgroup": "BGD",
         "orientation": "v",
         "showlegend": true,
         "textposition": "auto",
         "type": "bar",
         "x": [
          2010
         ],
         "xaxis": "x",
         "y": [
          29
         ],
         "yaxis": "y"
        },
        {
         "alignmentgroup": "True",
         "hovertemplate": "Country=RUS<br>Year=%{x}<br>Count=%{y}<extra></extra>",
         "legendgroup": "RUS",
         "marker": {
          "color": "#636efa",
          "pattern": {
           "shape": ""
          }
         },
         "name": "RUS",
         "offsetgroup": "RUS",
         "orientation": "v",
         "showlegend": true,
         "textposition": "auto",
         "type": "bar",
         "x": [
          2013,
          2014,
          2015,
          2016,
          2017,
          2018,
          2019,
          2020,
          2021,
          2022,
          2023
         ],
         "xaxis": "x",
         "y": [
          2142,
          286,
          763,
          780,
          327,
          467,
          192,
          134,
          108,
          80,
          80
         ],
         "yaxis": "y"
        }
       ],
       "layout": {
        "barmode": "relative",
        "legend": {
         "title": {
          "text": "Country"
         },
         "tracegroupgap": 0
        },
        "margin": {
         "t": 60
        },
        "template": {
         "data": {
          "bar": [
           {
            "error_x": {
             "color": "#2a3f5f"
            },
            "error_y": {
             "color": "#2a3f5f"
            },
            "marker": {
             "line": {
              "color": "#E5ECF6",
              "width": 0.5
             },
             "pattern": {
              "fillmode": "overlay",
              "size": 10,
              "solidity": 0.2
             }
            },
            "type": "bar"
           }
          ],
          "barpolar": [
           {
            "marker": {
             "line": {
              "color": "#E5ECF6",
              "width": 0.5
             },
             "pattern": {
              "fillmode": "overlay",
              "size": 10,
              "solidity": 0.2
             }
            },
            "type": "barpolar"
           }
          ],
          "carpet": [
           {
            "aaxis": {
             "endlinecolor": "#2a3f5f",
             "gridcolor": "white",
             "linecolor": "white",
             "minorgridcolor": "white",
             "startlinecolor": "#2a3f5f"
            },
            "baxis": {
             "endlinecolor": "#2a3f5f",
             "gridcolor": "white",
             "linecolor": "white",
             "minorgridcolor": "white",
             "startlinecolor": "#2a3f5f"
            },
            "type": "carpet"
           }
          ],
          "choropleth": [
           {
            "colorbar": {
             "outlinewidth": 0,
             "ticks": ""
            },
            "type": "choropleth"
           }
          ],
          "contour": [
           {
            "colorbar": {
             "outlinewidth": 0,
             "ticks": ""
            },
            "colorscale": [
             [
              0,
              "#0d0887"
             ],
             [
              0.1111111111111111,
              "#46039f"
             ],
             [
              0.2222222222222222,
              "#7201a8"
             ],
             [
              0.3333333333333333,
              "#9c179e"
             ],
             [
              0.4444444444444444,
              "#bd3786"
             ],
             [
              0.5555555555555556,
              "#d8576b"
             ],
             [
              0.6666666666666666,
              "#ed7953"
             ],
             [
              0.7777777777777778,
              "#fb9f3a"
             ],
             [
              0.8888888888888888,
              "#fdca26"
             ],
             [
              1,
              "#f0f921"
             ]
            ],
            "type": "contour"
           }
          ],
          "contourcarpet": [
           {
            "colorbar": {
             "outlinewidth": 0,
             "ticks": ""
            },
            "type": "contourcarpet"
           }
          ],
          "heatmap": [
           {
            "colorbar": {
             "outlinewidth": 0,
             "ticks": ""
            },
            "colorscale": [
             [
              0,
              "#0d0887"
             ],
             [
              0.1111111111111111,
              "#46039f"
             ],
             [
              0.2222222222222222,
              "#7201a8"
             ],
             [
              0.3333333333333333,
              "#9c179e"
             ],
             [
              0.4444444444444444,
              "#bd3786"
             ],
             [
              0.5555555555555556,
              "#d8576b"
             ],
             [
              0.6666666666666666,
              "#ed7953"
             ],
             [
              0.7777777777777778,
              "#fb9f3a"
             ],
             [
              0.8888888888888888,
              "#fdca26"
             ],
             [
              1,
              "#f0f921"
             ]
            ],
            "type": "heatmap"
           }
          ],
          "heatmapgl": [
           {
            "colorbar": {
             "outlinewidth": 0,
             "ticks": ""
            },
            "colorscale": [
             [
              0,
              "#0d0887"
             ],
             [
              0.1111111111111111,
              "#46039f"
             ],
             [
              0.2222222222222222,
              "#7201a8"
             ],
             [
              0.3333333333333333,
              "#9c179e"
             ],
             [
              0.4444444444444444,
              "#bd3786"
             ],
             [
              0.5555555555555556,
              "#d8576b"
             ],
             [
              0.6666666666666666,
              "#ed7953"
             ],
             [
              0.7777777777777778,
              "#fb9f3a"
             ],
             [
              0.8888888888888888,
              "#fdca26"
             ],
             [
              1,
              "#f0f921"
             ]
            ],
            "type": "heatmapgl"
           }
          ],
          "histogram": [
           {
            "marker": {
             "pattern": {
              "fillmode": "overlay",
              "size": 10,
              "solidity": 0.2
             }
            },
            "type": "histogram"
           }
          ],
          "histogram2d": [
           {
            "colorbar": {
             "outlinewidth": 0,
             "ticks": ""
            },
            "colorscale": [
             [
              0,
              "#0d0887"
             ],
             [
              0.1111111111111111,
              "#46039f"
             ],
             [
              0.2222222222222222,
              "#7201a8"
             ],
             [
              0.3333333333333333,
              "#9c179e"
             ],
             [
              0.4444444444444444,
              "#bd3786"
             ],
             [
              0.5555555555555556,
              "#d8576b"
             ],
             [
              0.6666666666666666,
              "#ed7953"
             ],
             [
              0.7777777777777778,
              "#fb9f3a"
             ],
             [
              0.8888888888888888,
              "#fdca26"
             ],
             [
              1,
              "#f0f921"
             ]
            ],
            "type": "histogram2d"
           }
          ],
          "histogram2dcontour": [
           {
            "colorbar": {
             "outlinewidth": 0,
             "ticks": ""
            },
            "colorscale": [
             [
              0,
              "#0d0887"
             ],
             [
              0.1111111111111111,
              "#46039f"
             ],
             [
              0.2222222222222222,
              "#7201a8"
             ],
             [
              0.3333333333333333,
              "#9c179e"
             ],
             [
              0.4444444444444444,
              "#bd3786"
             ],
             [
              0.5555555555555556,
              "#d8576b"
             ],
             [
              0.6666666666666666,
              "#ed7953"
             ],
             [
              0.7777777777777778,
              "#fb9f3a"
             ],
             [
              0.8888888888888888,
              "#fdca26"
             ],
             [
              1,
              "#f0f921"
             ]
            ],
            "type": "histogram2dcontour"
           }
          ],
          "mesh3d": [
           {
            "colorbar": {
             "outlinewidth": 0,
             "ticks": ""
            },
            "type": "mesh3d"
           }
          ],
          "parcoords": [
           {
            "line": {
             "colorbar": {
              "outlinewidth": 0,
              "ticks": ""
             }
            },
            "type": "parcoords"
           }
          ],
          "pie": [
           {
            "automargin": true,
            "type": "pie"
           }
          ],
          "scatter": [
           {
            "fillpattern": {
             "fillmode": "overlay",
             "size": 10,
             "solidity": 0.2
            },
            "type": "scatter"
           }
          ],
          "scatter3d": [
           {
            "line": {
             "colorbar": {
              "outlinewidth": 0,
              "ticks": ""
             }
            },
            "marker": {
             "colorbar": {
              "outlinewidth": 0,
              "ticks": ""
             }
            },
            "type": "scatter3d"
           }
          ],
          "scattercarpet": [
           {
            "marker": {
             "colorbar": {
              "outlinewidth": 0,
              "ticks": ""
             }
            },
            "type": "scattercarpet"
           }
          ],
          "scattergeo": [
           {
            "marker": {
             "colorbar": {
              "outlinewidth": 0,
              "ticks": ""
             }
            },
            "type": "scattergeo"
           }
          ],
          "scattergl": [
           {
            "marker": {
             "colorbar": {
              "outlinewidth": 0,
              "ticks": ""
             }
            },
            "type": "scattergl"
           }
          ],
          "scattermapbox": [
           {
            "marker": {
             "colorbar": {
              "outlinewidth": 0,
              "ticks": ""
             }
            },
            "type": "scattermapbox"
           }
          ],
          "scatterpolar": [
           {
            "marker": {
             "colorbar": {
              "outlinewidth": 0,
              "ticks": ""
             }
            },
            "type": "scatterpolar"
           }
          ],
          "scatterpolargl": [
           {
            "marker": {
             "colorbar": {
              "outlinewidth": 0,
              "ticks": ""
             }
            },
            "type": "scatterpolargl"
           }
          ],
          "scatterternary": [
           {
            "marker": {
             "colorbar": {
              "outlinewidth": 0,
              "ticks": ""
             }
            },
            "type": "scatterternary"
           }
          ],
          "surface": [
           {
            "colorbar": {
             "outlinewidth": 0,
             "ticks": ""
            },
            "colorscale": [
             [
              0,
              "#0d0887"
             ],
             [
              0.1111111111111111,
              "#46039f"
             ],
             [
              0.2222222222222222,
              "#7201a8"
             ],
             [
              0.3333333333333333,
              "#9c179e"
             ],
             [
              0.4444444444444444,
              "#bd3786"
             ],
             [
              0.5555555555555556,
              "#d8576b"
             ],
             [
              0.6666666666666666,
              "#ed7953"
             ],
             [
              0.7777777777777778,
              "#fb9f3a"
             ],
             [
              0.8888888888888888,
              "#fdca26"
             ],
             [
              1,
              "#f0f921"
             ]
            ],
            "type": "surface"
           }
          ],
          "table": [
           {
            "cells": {
             "fill": {
              "color": "#EBF0F8"
             },
             "line": {
              "color": "white"
             }
            },
            "header": {
             "fill": {
              "color": "#C8D4E3"
             },
             "line": {
              "color": "white"
             }
            },
            "type": "table"
           }
          ]
         },
         "layout": {
          "annotationdefaults": {
           "arrowcolor": "#2a3f5f",
           "arrowhead": 0,
           "arrowwidth": 1
          },
          "autotypenumbers": "strict",
          "coloraxis": {
           "colorbar": {
            "outlinewidth": 0,
            "ticks": ""
           }
          },
          "colorscale": {
           "diverging": [
            [
             0,
             "#8e0152"
            ],
            [
             0.1,
             "#c51b7d"
            ],
            [
             0.2,
             "#de77ae"
            ],
            [
             0.3,
             "#f1b6da"
            ],
            [
             0.4,
             "#fde0ef"
            ],
            [
             0.5,
             "#f7f7f7"
            ],
            [
             0.6,
             "#e6f5d0"
            ],
            [
             0.7,
             "#b8e186"
            ],
            [
             0.8,
             "#7fbc41"
            ],
            [
             0.9,
             "#4d9221"
            ],
            [
             1,
             "#276419"
            ]
           ],
           "sequential": [
            [
             0,
             "#0d0887"
            ],
            [
             0.1111111111111111,
             "#46039f"
            ],
            [
             0.2222222222222222,
             "#7201a8"
            ],
            [
             0.3333333333333333,
             "#9c179e"
            ],
            [
             0.4444444444444444,
             "#bd3786"
            ],
            [
             0.5555555555555556,
             "#d8576b"
            ],
            [
             0.6666666666666666,
             "#ed7953"
            ],
            [
             0.7777777777777778,
             "#fb9f3a"
            ],
            [
             0.8888888888888888,
             "#fdca26"
            ],
            [
             1,
             "#f0f921"
            ]
           ],
           "sequentialminus": [
            [
             0,
             "#0d0887"
            ],
            [
             0.1111111111111111,
             "#46039f"
            ],
            [
             0.2222222222222222,
             "#7201a8"
            ],
            [
             0.3333333333333333,
             "#9c179e"
            ],
            [
             0.4444444444444444,
             "#bd3786"
            ],
            [
             0.5555555555555556,
             "#d8576b"
            ],
            [
             0.6666666666666666,
             "#ed7953"
            ],
            [
             0.7777777777777778,
             "#fb9f3a"
            ],
            [
             0.8888888888888888,
             "#fdca26"
            ],
            [
             1,
             "#f0f921"
            ]
           ]
          },
          "colorway": [
           "#636efa",
           "#EF553B",
           "#00cc96",
           "#ab63fa",
           "#FFA15A",
           "#19d3f3",
           "#FF6692",
           "#B6E880",
           "#FF97FF",
           "#FECB52"
          ],
          "font": {
           "color": "#2a3f5f"
          },
          "geo": {
           "bgcolor": "white",
           "lakecolor": "white",
           "landcolor": "#E5ECF6",
           "showlakes": true,
           "showland": true,
           "subunitcolor": "white"
          },
          "hoverlabel": {
           "align": "left"
          },
          "hovermode": "closest",
          "mapbox": {
           "style": "light"
          },
          "paper_bgcolor": "white",
          "plot_bgcolor": "#E5ECF6",
          "polar": {
           "angularaxis": {
            "gridcolor": "white",
            "linecolor": "white",
            "ticks": ""
           },
           "bgcolor": "#E5ECF6",
           "radialaxis": {
            "gridcolor": "white",
            "linecolor": "white",
            "ticks": ""
           }
          },
          "scene": {
           "xaxis": {
            "backgroundcolor": "#E5ECF6",
            "gridcolor": "white",
            "gridwidth": 2,
            "linecolor": "white",
            "showbackground": true,
            "ticks": "",
            "zerolinecolor": "white"
           },
           "yaxis": {
            "backgroundcolor": "#E5ECF6",
            "gridcolor": "white",
            "gridwidth": 2,
            "linecolor": "white",
            "showbackground": true,
            "ticks": "",
            "zerolinecolor": "white"
           },
           "zaxis": {
            "backgroundcolor": "#E5ECF6",
            "gridcolor": "white",
            "gridwidth": 2,
            "linecolor": "white",
            "showbackground": true,
            "ticks": "",
            "zerolinecolor": "white"
           }
          },
          "shapedefaults": {
           "line": {
            "color": "#2a3f5f"
           }
          },
          "ternary": {
           "aaxis": {
            "gridcolor": "white",
            "linecolor": "white",
            "ticks": ""
           },
           "baxis": {
            "gridcolor": "white",
            "linecolor": "white",
            "ticks": ""
           },
           "bgcolor": "#E5ECF6",
           "caxis": {
            "gridcolor": "white",
            "linecolor": "white",
            "ticks": ""
           }
          },
          "title": {
           "x": 0.05
          },
          "xaxis": {
           "automargin": true,
           "gridcolor": "white",
           "linecolor": "white",
           "ticks": "",
           "title": {
            "standoff": 15
           },
           "zerolinecolor": "white",
           "zerolinewidth": 2
          },
          "yaxis": {
           "automargin": true,
           "gridcolor": "white",
           "linecolor": "white",
           "ticks": "",
           "title": {
            "standoff": 15
           },
           "zerolinecolor": "white",
           "zerolinewidth": 2
          }
         }
        },
        "xaxis": {
         "anchor": "y",
         "domain": [
          0,
          1
         ],
         "rangeslider": {
          "visible": true
         },
         "title": {
          "text": "Year"
         }
        },
        "yaxis": {
         "anchor": "x",
         "domain": [
          0,
          1
         ],
         "title": {
          "text": "Count"
         }
        }
       }
      }
     },
     "metadata": {},
     "output_type": "display_data"
    }
   ],
   "source": [
    "filtered_df = grouped_df[(grouped_df['Count']>10) & (grouped_df['Year']>0)]\n",
    "fig = px.bar(filtered_df, x='Year', y='Count', color='Country')\n",
    "fig.update_layout(xaxis=dict(rangeslider=dict(visible=True)))\n",
    "fig.show()"
   ]
  },
  {
   "cell_type": "code",
   "execution_count": 11,
   "metadata": {},
   "outputs": [
    {
     "name": "stdout",
     "output_type": "stream",
     "text": [
      "                     Author  \\\n",
      "66507    AALL Herman Harris   \n",
      "66508   AALL Hermann Harris   \n",
      "66538            ABB Gustav   \n",
      "66551    ABBETMEYER Theodor   \n",
      "66578       ABEGG Friedrich   \n",
      "...                     ...   \n",
      "171604                  NaN   \n",
      "171605                  NaN   \n",
      "171606                  NaN   \n",
      "171607                  NaN   \n",
      "171608                  NaN   \n",
      "\n",
      "                                                    Title State  \\\n",
      "66507   *Das Schicksal des Nordens eine europäische Frage   NaN   \n",
      "66508    *Weltherrschaft und die Rechtlosigkeit der Meere   NaN   \n",
      "66538                 *Der wissenschaftliche Bibliothekar   NaN   \n",
      "66551                      *Über moderne Theater-Unkultur   NaN   \n",
      "66578              *Fahrt ins Leben Worte an Konfirmierte   NaN   \n",
      "...                                                   ...   ...   \n",
      "171604            *Zukunftsaufgaben der Wiener Wirtschaft   NaN   \n",
      "171605  *Zum Gedächtnis an Admiral von Trotha 1. März ...   NaN   \n",
      "171606              *Zur Verkehrspolitik im Dritten Reich   NaN   \n",
      "171607                     *Zwickauer Geschichts-Kalender   NaN   \n",
      "171608  *Zwischen Kaukasus und Sinai. Jahrbuch des Bun...   NaN   \n",
      "\n",
      "                District     DateBan Country  \\\n",
      "66507             Weimar  1918-01-01      GC   \n",
      "66508              Essen  1940-01-01      GC   \n",
      "66538             Berlin  1941-01-01      GC   \n",
      "66551           Hannover  1933-01-01      GC   \n",
      "66578   Leipzig, Hamburg  1934-01-01      GC   \n",
      "...                  ...         ...     ...   \n",
      "171604              Wien  1940-01-01      GC   \n",
      "171605            Berlin  1940-01-01      GC   \n",
      "171606           Münster  1934-01-01      GC   \n",
      "171607           Zwickau         NaT      GC   \n",
      "171608            Berlin  1921-01-01      GC   \n",
      "\n",
      "                                              Description  \\\n",
      "66507   Deutsche Verwaltung für Volksbildung in der so...   \n",
      "66508   Deutsche Verwaltung für Volksbildung in der so...   \n",
      "66538   Deutsche Verwaltung für Volksbildung in der so...   \n",
      "66551   Deutsche Verwaltung für Volksbildung in der so...   \n",
      "66578   Deutsche Verwaltung für Volksbildung in der so...   \n",
      "...                                                   ...   \n",
      "171604  Ministerium für Volksbildung in der Deutschen ...   \n",
      "171605  Ministerium für Volksbildung in der Deutschen ...   \n",
      "171606  Ministerium für Volksbildung in der Deutschen ...   \n",
      "171607  Ministerium für Volksbildung in der Deutschen ...   \n",
      "171608  Ministerium für Volksbildung in der Deutschen ...   \n",
      "\n",
      "                                        Dataset  Year  \n",
      "66507   Die Kasseler Liste (Parthenon of Books)  1918  \n",
      "66508   Die Kasseler Liste (Parthenon of Books)  1940  \n",
      "66538   Die Kasseler Liste (Parthenon of Books)  1941  \n",
      "66551   Die Kasseler Liste (Parthenon of Books)  1933  \n",
      "66578   Die Kasseler Liste (Parthenon of Books)  1934  \n",
      "...                                         ...   ...  \n",
      "171604  Die Kasseler Liste (Parthenon of Books)  1940  \n",
      "171605  Die Kasseler Liste (Parthenon of Books)  1940  \n",
      "171606  Die Kasseler Liste (Parthenon of Books)  1934  \n",
      "171607  Die Kasseler Liste (Parthenon of Books)    -1  \n",
      "171608  Die Kasseler Liste (Parthenon of Books)  1921  \n",
      "\n",
      "[29642 rows x 9 columns]\n"
     ]
    }
   ],
   "source": [
    "print(df.loc[(df['Country']=='GC' )& (df['Dataset']=='Die Kasseler Liste (Parthenon of Books)'),:])"
   ]
  },
  {
   "cell_type": "code",
   "execution_count": 12,
   "metadata": {},
   "outputs": [],
   "source": [
    "import pycountry as pc\n",
    "def get_country_name(x):\n",
    "    if type(x)==str and len(x)==3:\n",
    "        country = pc.countries.get(alpha_3=x)\n",
    "        if country is not None:\n",
    "            return country.name\n",
    "        else:\n",
    "            return None\n",
    "    else:\n",
    "        return None\n",
    "grouped_df['CountryName'] = grouped_df['Country'].apply(get_country_name)"
   ]
  },
  {
   "cell_type": "code",
   "execution_count": 13,
   "metadata": {},
   "outputs": [
    {
     "name": "stdout",
     "output_type": "stream",
     "text": [
      "CountryName\n",
      "Holy See (Vatican City State)     332\n",
      "Türkiye                            84\n",
      "Austria                            83\n",
      "Australia                          68\n",
      "United States                      53\n",
      "New Zealand                        45\n",
      "China                              45\n",
      "Portugal                           42\n",
      "South Africa                       35\n",
      "Cameroon                           22\n",
      "Italy                              18\n",
      "Russian Federation                 16\n",
      "Germany                            14\n",
      "Iran, Islamic Republic of          10\n",
      "Bangladesh                          8\n",
      "Qatar                               8\n",
      "Algeria                             5\n",
      "Netherlands                         3\n",
      "Poland                              3\n",
      "France                              3\n",
      "Chile                               2\n",
      "Denmark                             2\n",
      "Czechia                             2\n",
      "United Kingdom                      2\n",
      "Lebanon                             2\n",
      "Spain                               2\n",
      "Canada                              2\n",
      "Greece                              1\n",
      "Belarus                             1\n",
      "Somalia                             1\n",
      "British Indian Ocean Territory      1\n",
      "Romania                             1\n",
      "Argentina                           1\n",
      "Ireland                             1\n",
      "Norway                              1\n",
      "Nigeria                             1\n",
      "Egypt                               1\n",
      "India                               1\n",
      "Malaysia                            1\n",
      "Korea, Republic of                  1\n",
      "Hungary                             1\n",
      "dtype: int64\n",
      "367\n"
     ]
    }
   ],
   "source": [
    "print(grouped_df.groupby('CountryName').size().sort_values(ascending=False))\n",
    "print(grouped_df['CountryName'].isna().sum())"
   ]
  },
  {
   "cell_type": "code",
   "execution_count": 14,
   "metadata": {},
   "outputs": [
    {
     "ename": "NameError",
     "evalue": "name 'df_country_ct' is not defined",
     "output_type": "error",
     "traceback": [
      "\u001b[0;31m---------------------------------------------------------------------------\u001b[0m",
      "\u001b[0;31mNameError\u001b[0m                                 Traceback (most recent call last)",
      "Cell \u001b[0;32mIn[14], line 1\u001b[0m\n\u001b[0;32m----> 1\u001b[0m fig \u001b[38;5;241m=\u001b[39m px\u001b[38;5;241m.\u001b[39mbar(\u001b[43mdf_country_ct\u001b[49m\u001b[38;5;241m.\u001b[39msort_values(\u001b[38;5;124m'\u001b[39m\u001b[38;5;124mYear\u001b[39m\u001b[38;5;124m'\u001b[39m), x\u001b[38;5;241m=\u001b[39m\u001b[38;5;124m\"\u001b[39m\u001b[38;5;124mCountryName\u001b[39m\u001b[38;5;124m\"\u001b[39m, y\u001b[38;5;241m=\u001b[39m\u001b[38;5;124m\"\u001b[39m\u001b[38;5;124msize\u001b[39m\u001b[38;5;124m\"\u001b[39m,\n\u001b[1;32m      2\u001b[0m   animation_frame\u001b[38;5;241m=\u001b[39m\u001b[38;5;124m\"\u001b[39m\u001b[38;5;124mYear\u001b[39m\u001b[38;5;124m\"\u001b[39m)\n\u001b[1;32m      3\u001b[0m fig\u001b[38;5;241m.\u001b[39mshow()\n",
      "\u001b[0;31mNameError\u001b[0m: name 'df_country_ct' is not defined"
     ]
    }
   ],
   "source": [
    "fig = px.bar(df_country_ct.sort_values('Year'), x=\"CountryName\", y=\"size\",\n",
    "  animation_frame=\"Year\")\n",
    "fig.show()"
   ]
  },
  {
   "cell_type": "code",
   "execution_count": 73,
   "metadata": {},
   "outputs": [
    {
     "name": "stderr",
     "output_type": "stream",
     "text": [
      "/var/folders/rt/n0xypynx4cz_z9dq_ypn5p1r0000gn/T/ipykernel_27566/488198845.py:2: SettingWithCopyWarning:\n",
      "\n",
      "\n",
      "A value is trying to be set on a copy of a slice from a DataFrame.\n",
      "Try using .loc[row_indexer,col_indexer] = value instead\n",
      "\n",
      "See the caveats in the documentation: https://pandas.pydata.org/pandas-docs/stable/user_guide/indexing.html#returning-a-view-versus-a-copy\n",
      "\n"
     ]
    },
    {
     "name": "stdout",
     "output_type": "stream",
     "text": [
      "(929, 5)\n"
     ]
    },
    {
     "data": {
      "application/vnd.plotly.v1+json": {
       "config": {
        "plotlyServerURL": "https://plot.ly"
       },
       "data": [
        {
         "geo": "geo",
         "hovertemplate": "Year=-1<br>Count=%{marker.size}<br>Country=%{location}<extra></extra>",
         "legendgroup": "",
         "locations": [
          "BLR",
          "BRD",
          "CHL",
          "DNK",
          "IND",
          "NGA",
          "NLD",
          "ROU",
          "CMR",
          "QAT",
          "HUN",
          "IRL",
          "ZAF",
          "FRA",
          "GBR",
          "SOM",
          "ESP",
          "CZE",
          "RUS",
          "DEU",
          "POL",
          "AUS",
          "DDR",
          "CHN",
          "IRN",
          "TUR",
          "VAT",
          "AUT",
          "USA",
          "ITA"
         ],
         "marker": {
          "color": "#636efa",
          "size": [
           100,
           100,
           100,
           100,
           100,
           100,
           100,
           100,
           200,
           200,
           300,
           300,
           300,
           400,
           500,
           600,
           700,
           900,
           1000,
           1200,
           1200,
           1500,
           3200,
           3300,
           3500,
           5200,
           21400,
           158900,
           823000,
           3184600
          ],
          "sizemode": "area",
          "sizeref": 7961.5,
          "symbol": "circle"
         },
         "mode": "markers",
         "name": "",
         "showlegend": false,
         "type": "scattergeo"
        }
       ],
       "frames": [
        {
         "data": [
          {
           "geo": "geo",
           "hovertemplate": "Year=-1<br>Count=%{marker.size}<br>Country=%{location}<extra></extra>",
           "legendgroup": "",
           "locations": [
            "BLR",
            "BRD",
            "CHL",
            "DNK",
            "IND",
            "NGA",
            "NLD",
            "ROU",
            "CMR",
            "QAT",
            "HUN",
            "IRL",
            "ZAF",
            "FRA",
            "GBR",
            "SOM",
            "ESP",
            "CZE",
            "RUS",
            "DEU",
            "POL",
            "AUS",
            "DDR",
            "CHN",
            "IRN",
            "TUR",
            "VAT",
            "AUT",
            "USA",
            "ITA"
           ],
           "marker": {
            "color": "#636efa",
            "size": [
             100,
             100,
             100,
             100,
             100,
             100,
             100,
             100,
             200,
             200,
             300,
             300,
             300,
             400,
             500,
             600,
             700,
             900,
             1000,
             1200,
             1200,
             1500,
             3200,
             3300,
             3500,
             5200,
             21400,
             158900,
             823000,
             3184600
            ],
            "sizemode": "area",
            "sizeref": 7961.5,
            "symbol": "circle"
           },
           "mode": "markers",
           "name": "",
           "showlegend": false,
           "type": "scattergeo"
          }
         ],
         "name": "-1"
        },
        {
         "data": [
          {
           "geo": "geo",
           "hovertemplate": "Year=1517<br>Count=%{marker.size}<br>Country=%{location}<extra></extra>",
           "legendgroup": "",
           "locations": [
            "VAT"
           ],
           "marker": {
            "color": "#636efa",
            "size": [
             100
            ],
            "sizemode": "area",
            "sizeref": 7961.5,
            "symbol": "circle"
           },
           "mode": "markers",
           "name": "",
           "showlegend": false,
           "type": "scattergeo"
          }
         ],
         "name": "1517"
        },
        {
         "data": [
          {
           "geo": "geo",
           "hovertemplate": "Year=1520<br>Count=%{marker.size}<br>Country=%{location}<extra></extra>",
           "legendgroup": "",
           "locations": [
            "VAT"
           ],
           "marker": {
            "color": "#636efa",
            "size": [
             100
            ],
            "sizemode": "area",
            "sizeref": 7961.5,
            "symbol": "circle"
           },
           "mode": "markers",
           "name": "",
           "showlegend": false,
           "type": "scattergeo"
          }
         ],
         "name": "1520"
        },
        {
         "data": [
          {
           "geo": "geo",
           "hovertemplate": "Year=1575<br>Count=%{marker.size}<br>Country=%{location}<extra></extra>",
           "legendgroup": "",
           "locations": [
            "VAT"
           ],
           "marker": {
            "color": "#636efa",
            "size": [
             100
            ],
            "sizemode": "area",
            "sizeref": 7961.5,
            "symbol": "circle"
           },
           "mode": "markers",
           "name": "",
           "showlegend": false,
           "type": "scattergeo"
          }
         ],
         "name": "1575"
        },
        {
         "data": [
          {
           "geo": "geo",
           "hovertemplate": "Year=1580<br>Count=%{marker.size}<br>Country=%{location}<extra></extra>",
           "legendgroup": "",
           "locations": [
            "VAT"
           ],
           "marker": {
            "color": "#636efa",
            "size": [
             100
            ],
            "sizemode": "area",
            "sizeref": 7961.5,
            "symbol": "circle"
           },
           "mode": "markers",
           "name": "",
           "showlegend": false,
           "type": "scattergeo"
          }
         ],
         "name": "1580"
        },
        {
         "data": [
          {
           "geo": "geo",
           "hovertemplate": "Year=1584<br>Count=%{marker.size}<br>Country=%{location}<extra></extra>",
           "legendgroup": "",
           "locations": [
            "VAT"
           ],
           "marker": {
            "color": "#636efa",
            "size": [
             100
            ],
            "sizemode": "area",
            "sizeref": 7961.5,
            "symbol": "circle"
           },
           "mode": "markers",
           "name": "",
           "showlegend": false,
           "type": "scattergeo"
          }
         ],
         "name": "1584"
        },
        {
         "data": [
          {
           "geo": "geo",
           "hovertemplate": "Year=1600<br>Count=%{marker.size}<br>Country=%{location}<extra></extra>",
           "legendgroup": "",
           "locations": [
            "VAT"
           ],
           "marker": {
            "color": "#636efa",
            "size": [
             800
            ],
            "sizemode": "area",
            "sizeref": 7961.5,
            "symbol": "circle"
           },
           "mode": "markers",
           "name": "",
           "showlegend": false,
           "type": "scattergeo"
          }
         ],
         "name": "1600"
        },
        {
         "data": [
          {
           "geo": "geo",
           "hovertemplate": "Year=1601<br>Count=%{marker.size}<br>Country=%{location}<extra></extra>",
           "legendgroup": "",
           "locations": [
            "VAT"
           ],
           "marker": {
            "color": "#636efa",
            "size": [
             1100
            ],
            "sizemode": "area",
            "sizeref": 7961.5,
            "symbol": "circle"
           },
           "mode": "markers",
           "name": "",
           "showlegend": false,
           "type": "scattergeo"
          }
         ],
         "name": "1601"
        },
        {
         "data": [
          {
           "geo": "geo",
           "hovertemplate": "Year=1602<br>Count=%{marker.size}<br>Country=%{location}<extra></extra>",
           "legendgroup": "",
           "locations": [
            "VAT"
           ],
           "marker": {
            "color": "#636efa",
            "size": [
             700
            ],
            "sizemode": "area",
            "sizeref": 7961.5,
            "symbol": "circle"
           },
           "mode": "markers",
           "name": "",
           "showlegend": false,
           "type": "scattergeo"
          }
         ],
         "name": "1602"
        },
        {
         "data": [
          {
           "geo": "geo",
           "hovertemplate": "Year=1603<br>Count=%{marker.size}<br>Country=%{location}<extra></extra>",
           "legendgroup": "",
           "locations": [
            "VAT"
           ],
           "marker": {
            "color": "#636efa",
            "size": [
             1000
            ],
            "sizemode": "area",
            "sizeref": 7961.5,
            "symbol": "circle"
           },
           "mode": "markers",
           "name": "",
           "showlegend": false,
           "type": "scattergeo"
          }
         ],
         "name": "1603"
        },
        {
         "data": [
          {
           "geo": "geo",
           "hovertemplate": "Year=1604<br>Count=%{marker.size}<br>Country=%{location}<extra></extra>",
           "legendgroup": "",
           "locations": [
            "VAT"
           ],
           "marker": {
            "color": "#636efa",
            "size": [
             700
            ],
            "sizemode": "area",
            "sizeref": 7961.5,
            "symbol": "circle"
           },
           "mode": "markers",
           "name": "",
           "showlegend": false,
           "type": "scattergeo"
          }
         ],
         "name": "1604"
        },
        {
         "data": [
          {
           "geo": "geo",
           "hovertemplate": "Year=1605<br>Count=%{marker.size}<br>Country=%{location}<extra></extra>",
           "legendgroup": "",
           "locations": [
            "VAT"
           ],
           "marker": {
            "color": "#636efa",
            "size": [
             1600
            ],
            "sizemode": "area",
            "sizeref": 7961.5,
            "symbol": "circle"
           },
           "mode": "markers",
           "name": "",
           "showlegend": false,
           "type": "scattergeo"
          }
         ],
         "name": "1605"
        },
        {
         "data": [
          {
           "geo": "geo",
           "hovertemplate": "Year=1606<br>Count=%{marker.size}<br>Country=%{location}<extra></extra>",
           "legendgroup": "",
           "locations": [
            "VAT"
           ],
           "marker": {
            "color": "#636efa",
            "size": [
             300
            ],
            "sizemode": "area",
            "sizeref": 7961.5,
            "symbol": "circle"
           },
           "mode": "markers",
           "name": "",
           "showlegend": false,
           "type": "scattergeo"
          }
         ],
         "name": "1606"
        },
        {
         "data": [
          {
           "geo": "geo",
           "hovertemplate": "Year=1607<br>Count=%{marker.size}<br>Country=%{location}<extra></extra>",
           "legendgroup": "",
           "locations": [
            "VAT"
           ],
           "marker": {
            "color": "#636efa",
            "size": [
             400
            ],
            "sizemode": "area",
            "sizeref": 7961.5,
            "symbol": "circle"
           },
           "mode": "markers",
           "name": "",
           "showlegend": false,
           "type": "scattergeo"
          }
         ],
         "name": "1607"
        },
        {
         "data": [
          {
           "geo": "geo",
           "hovertemplate": "Year=1608<br>Count=%{marker.size}<br>Country=%{location}<extra></extra>",
           "legendgroup": "",
           "locations": [
            "VAT"
           ],
           "marker": {
            "color": "#636efa",
            "size": [
             1000
            ],
            "sizemode": "area",
            "sizeref": 7961.5,
            "symbol": "circle"
           },
           "mode": "markers",
           "name": "",
           "showlegend": false,
           "type": "scattergeo"
          }
         ],
         "name": "1608"
        },
        {
         "data": [
          {
           "geo": "geo",
           "hovertemplate": "Year=1609<br>Count=%{marker.size}<br>Country=%{location}<extra></extra>",
           "legendgroup": "",
           "locations": [
            "VAT"
           ],
           "marker": {
            "color": "#636efa",
            "size": [
             700
            ],
            "sizemode": "area",
            "sizeref": 7961.5,
            "symbol": "circle"
           },
           "mode": "markers",
           "name": "",
           "showlegend": false,
           "type": "scattergeo"
          }
         ],
         "name": "1609"
        },
        {
         "data": [
          {
           "geo": "geo",
           "hovertemplate": "Year=1610<br>Count=%{marker.size}<br>Country=%{location}<extra></extra>",
           "legendgroup": "",
           "locations": [
            "VAT"
           ],
           "marker": {
            "color": "#636efa",
            "size": [
             900
            ],
            "sizemode": "area",
            "sizeref": 7961.5,
            "symbol": "circle"
           },
           "mode": "markers",
           "name": "",
           "showlegend": false,
           "type": "scattergeo"
          }
         ],
         "name": "1610"
        },
        {
         "data": [
          {
           "geo": "geo",
           "hovertemplate": "Year=1611<br>Count=%{marker.size}<br>Country=%{location}<extra></extra>",
           "legendgroup": "",
           "locations": [
            "VAT"
           ],
           "marker": {
            "color": "#636efa",
            "size": [
             700
            ],
            "sizemode": "area",
            "sizeref": 7961.5,
            "symbol": "circle"
           },
           "mode": "markers",
           "name": "",
           "showlegend": false,
           "type": "scattergeo"
          }
         ],
         "name": "1611"
        },
        {
         "data": [
          {
           "geo": "geo",
           "hovertemplate": "Year=1612<br>Count=%{marker.size}<br>Country=%{location}<extra></extra>",
           "legendgroup": "",
           "locations": [
            "VAT"
           ],
           "marker": {
            "color": "#636efa",
            "size": [
             600
            ],
            "sizemode": "area",
            "sizeref": 7961.5,
            "symbol": "circle"
           },
           "mode": "markers",
           "name": "",
           "showlegend": false,
           "type": "scattergeo"
          }
         ],
         "name": "1612"
        },
        {
         "data": [
          {
           "geo": "geo",
           "hovertemplate": "Year=1613<br>Count=%{marker.size}<br>Country=%{location}<extra></extra>",
           "legendgroup": "",
           "locations": [
            "VAT"
           ],
           "marker": {
            "color": "#636efa",
            "size": [
             1400
            ],
            "sizemode": "area",
            "sizeref": 7961.5,
            "symbol": "circle"
           },
           "mode": "markers",
           "name": "",
           "showlegend": false,
           "type": "scattergeo"
          }
         ],
         "name": "1613"
        },
        {
         "data": [
          {
           "geo": "geo",
           "hovertemplate": "Year=1614<br>Count=%{marker.size}<br>Country=%{location}<extra></extra>",
           "legendgroup": "",
           "locations": [
            "VAT"
           ],
           "marker": {
            "color": "#636efa",
            "size": [
             900
            ],
            "sizemode": "area",
            "sizeref": 7961.5,
            "symbol": "circle"
           },
           "mode": "markers",
           "name": "",
           "showlegend": false,
           "type": "scattergeo"
          }
         ],
         "name": "1614"
        },
        {
         "data": [
          {
           "geo": "geo",
           "hovertemplate": "Year=1615<br>Count=%{marker.size}<br>Country=%{location}<extra></extra>",
           "legendgroup": "",
           "locations": [
            "VAT"
           ],
           "marker": {
            "color": "#636efa",
            "size": [
             1600
            ],
            "sizemode": "area",
            "sizeref": 7961.5,
            "symbol": "circle"
           },
           "mode": "markers",
           "name": "",
           "showlegend": false,
           "type": "scattergeo"
          }
         ],
         "name": "1615"
        },
        {
         "data": [
          {
           "geo": "geo",
           "hovertemplate": "Year=1616<br>Count=%{marker.size}<br>Country=%{location}<extra></extra>",
           "legendgroup": "",
           "locations": [
            "VAT"
           ],
           "marker": {
            "color": "#636efa",
            "size": [
             1200
            ],
            "sizemode": "area",
            "sizeref": 7961.5,
            "symbol": "circle"
           },
           "mode": "markers",
           "name": "",
           "showlegend": false,
           "type": "scattergeo"
          }
         ],
         "name": "1616"
        },
        {
         "data": [
          {
           "geo": "geo",
           "hovertemplate": "Year=1617<br>Count=%{marker.size}<br>Country=%{location}<extra></extra>",
           "legendgroup": "",
           "locations": [
            "VAT"
           ],
           "marker": {
            "color": "#636efa",
            "size": [
             1100
            ],
            "sizemode": "area",
            "sizeref": 7961.5,
            "symbol": "circle"
           },
           "mode": "markers",
           "name": "",
           "showlegend": false,
           "type": "scattergeo"
          }
         ],
         "name": "1617"
        },
        {
         "data": [
          {
           "geo": "geo",
           "hovertemplate": "Year=1618<br>Count=%{marker.size}<br>Country=%{location}<extra></extra>",
           "legendgroup": "",
           "locations": [
            "VAT"
           ],
           "marker": {
            "color": "#636efa",
            "size": [
             1900
            ],
            "sizemode": "area",
            "sizeref": 7961.5,
            "symbol": "circle"
           },
           "mode": "markers",
           "name": "",
           "showlegend": false,
           "type": "scattergeo"
          }
         ],
         "name": "1618"
        },
        {
         "data": [
          {
           "geo": "geo",
           "hovertemplate": "Year=1619<br>Count=%{marker.size}<br>Country=%{location}<extra></extra>",
           "legendgroup": "",
           "locations": [
            "VAT"
           ],
           "marker": {
            "color": "#636efa",
            "size": [
             1600
            ],
            "sizemode": "area",
            "sizeref": 7961.5,
            "symbol": "circle"
           },
           "mode": "markers",
           "name": "",
           "showlegend": false,
           "type": "scattergeo"
          }
         ],
         "name": "1619"
        },
        {
         "data": [
          {
           "geo": "geo",
           "hovertemplate": "Year=1620<br>Count=%{marker.size}<br>Country=%{location}<extra></extra>",
           "legendgroup": "",
           "locations": [
            "VAT"
           ],
           "marker": {
            "color": "#636efa",
            "size": [
             2200
            ],
            "sizemode": "area",
            "sizeref": 7961.5,
            "symbol": "circle"
           },
           "mode": "markers",
           "name": "",
           "showlegend": false,
           "type": "scattergeo"
          }
         ],
         "name": "1620"
        },
        {
         "data": [
          {
           "geo": "geo",
           "hovertemplate": "Year=1621<br>Count=%{marker.size}<br>Country=%{location}<extra></extra>",
           "legendgroup": "",
           "locations": [
            "VAT"
           ],
           "marker": {
            "color": "#636efa",
            "size": [
             1000
            ],
            "sizemode": "area",
            "sizeref": 7961.5,
            "symbol": "circle"
           },
           "mode": "markers",
           "name": "",
           "showlegend": false,
           "type": "scattergeo"
          }
         ],
         "name": "1621"
        },
        {
         "data": [
          {
           "geo": "geo",
           "hovertemplate": "Year=1622<br>Count=%{marker.size}<br>Country=%{location}<extra></extra>",
           "legendgroup": "",
           "locations": [
            "VAT"
           ],
           "marker": {
            "color": "#636efa",
            "size": [
             1800
            ],
            "sizemode": "area",
            "sizeref": 7961.5,
            "symbol": "circle"
           },
           "mode": "markers",
           "name": "",
           "showlegend": false,
           "type": "scattergeo"
          }
         ],
         "name": "1622"
        },
        {
         "data": [
          {
           "geo": "geo",
           "hovertemplate": "Year=1623<br>Count=%{marker.size}<br>Country=%{location}<extra></extra>",
           "legendgroup": "",
           "locations": [
            "VAT"
           ],
           "marker": {
            "color": "#636efa",
            "size": [
             1000
            ],
            "sizemode": "area",
            "sizeref": 7961.5,
            "symbol": "circle"
           },
           "mode": "markers",
           "name": "",
           "showlegend": false,
           "type": "scattergeo"
          }
         ],
         "name": "1623"
        },
        {
         "data": [
          {
           "geo": "geo",
           "hovertemplate": "Year=1624<br>Count=%{marker.size}<br>Country=%{location}<extra></extra>",
           "legendgroup": "",
           "locations": [
            "VAT"
           ],
           "marker": {
            "color": "#636efa",
            "size": [
             1800
            ],
            "sizemode": "area",
            "sizeref": 7961.5,
            "symbol": "circle"
           },
           "mode": "markers",
           "name": "",
           "showlegend": false,
           "type": "scattergeo"
          }
         ],
         "name": "1624"
        },
        {
         "data": [
          {
           "geo": "geo",
           "hovertemplate": "Year=1625<br>Count=%{marker.size}<br>Country=%{location}<extra></extra>",
           "legendgroup": "",
           "locations": [
            "VAT"
           ],
           "marker": {
            "color": "#636efa",
            "size": [
             700
            ],
            "sizemode": "area",
            "sizeref": 7961.5,
            "symbol": "circle"
           },
           "mode": "markers",
           "name": "",
           "showlegend": false,
           "type": "scattergeo"
          }
         ],
         "name": "1625"
        },
        {
         "data": [
          {
           "geo": "geo",
           "hovertemplate": "Year=1626<br>Count=%{marker.size}<br>Country=%{location}<extra></extra>",
           "legendgroup": "",
           "locations": [
            "VAT"
           ],
           "marker": {
            "color": "#636efa",
            "size": [
             1600
            ],
            "sizemode": "area",
            "sizeref": 7961.5,
            "symbol": "circle"
           },
           "mode": "markers",
           "name": "",
           "showlegend": false,
           "type": "scattergeo"
          }
         ],
         "name": "1626"
        },
        {
         "data": [
          {
           "geo": "geo",
           "hovertemplate": "Year=1627<br>Count=%{marker.size}<br>Country=%{location}<extra></extra>",
           "legendgroup": "",
           "locations": [
            "VAT"
           ],
           "marker": {
            "color": "#636efa",
            "size": [
             1200
            ],
            "sizemode": "area",
            "sizeref": 7961.5,
            "symbol": "circle"
           },
           "mode": "markers",
           "name": "",
           "showlegend": false,
           "type": "scattergeo"
          }
         ],
         "name": "1627"
        },
        {
         "data": [
          {
           "geo": "geo",
           "hovertemplate": "Year=1628<br>Count=%{marker.size}<br>Country=%{location}<extra></extra>",
           "legendgroup": "",
           "locations": [
            "VAT"
           ],
           "marker": {
            "color": "#636efa",
            "size": [
             900
            ],
            "sizemode": "area",
            "sizeref": 7961.5,
            "symbol": "circle"
           },
           "mode": "markers",
           "name": "",
           "showlegend": false,
           "type": "scattergeo"
          }
         ],
         "name": "1628"
        },
        {
         "data": [
          {
           "geo": "geo",
           "hovertemplate": "Year=1629<br>Count=%{marker.size}<br>Country=%{location}<extra></extra>",
           "legendgroup": "",
           "locations": [
            "VAT"
           ],
           "marker": {
            "color": "#636efa",
            "size": [
             600
            ],
            "sizemode": "area",
            "sizeref": 7961.5,
            "symbol": "circle"
           },
           "mode": "markers",
           "name": "",
           "showlegend": false,
           "type": "scattergeo"
          }
         ],
         "name": "1629"
        },
        {
         "data": [
          {
           "geo": "geo",
           "hovertemplate": "Year=1630<br>Count=%{marker.size}<br>Country=%{location}<extra></extra>",
           "legendgroup": "",
           "locations": [
            "VAT"
           ],
           "marker": {
            "color": "#636efa",
            "size": [
             200
            ],
            "sizemode": "area",
            "sizeref": 7961.5,
            "symbol": "circle"
           },
           "mode": "markers",
           "name": "",
           "showlegend": false,
           "type": "scattergeo"
          }
         ],
         "name": "1630"
        },
        {
         "data": [
          {
           "geo": "geo",
           "hovertemplate": "Year=1631<br>Count=%{marker.size}<br>Country=%{location}<extra></extra>",
           "legendgroup": "",
           "locations": [
            "VAT"
           ],
           "marker": {
            "color": "#636efa",
            "size": [
             300
            ],
            "sizemode": "area",
            "sizeref": 7961.5,
            "symbol": "circle"
           },
           "mode": "markers",
           "name": "",
           "showlegend": false,
           "type": "scattergeo"
          }
         ],
         "name": "1631"
        },
        {
         "data": [
          {
           "geo": "geo",
           "hovertemplate": "Year=1632<br>Count=%{marker.size}<br>Country=%{location}<extra></extra>",
           "legendgroup": "",
           "locations": [
            "VAT"
           ],
           "marker": {
            "color": "#636efa",
            "size": [
             300
            ],
            "sizemode": "area",
            "sizeref": 7961.5,
            "symbol": "circle"
           },
           "mode": "markers",
           "name": "",
           "showlegend": false,
           "type": "scattergeo"
          }
         ],
         "name": "1632"
        },
        {
         "data": [
          {
           "geo": "geo",
           "hovertemplate": "Year=1633<br>Count=%{marker.size}<br>Country=%{location}<extra></extra>",
           "legendgroup": "",
           "locations": [
            "VAT"
           ],
           "marker": {
            "color": "#636efa",
            "size": [
             1100
            ],
            "sizemode": "area",
            "sizeref": 7961.5,
            "symbol": "circle"
           },
           "mode": "markers",
           "name": "",
           "showlegend": false,
           "type": "scattergeo"
          }
         ],
         "name": "1633"
        },
        {
         "data": [
          {
           "geo": "geo",
           "hovertemplate": "Year=1634<br>Count=%{marker.size}<br>Country=%{location}<extra></extra>",
           "legendgroup": "",
           "locations": [
            "VAT"
           ],
           "marker": {
            "color": "#636efa",
            "size": [
             1500
            ],
            "sizemode": "area",
            "sizeref": 7961.5,
            "symbol": "circle"
           },
           "mode": "markers",
           "name": "",
           "showlegend": false,
           "type": "scattergeo"
          }
         ],
         "name": "1634"
        },
        {
         "data": [
          {
           "geo": "geo",
           "hovertemplate": "Year=1635<br>Count=%{marker.size}<br>Country=%{location}<extra></extra>",
           "legendgroup": "",
           "locations": [
            "VAT"
           ],
           "marker": {
            "color": "#636efa",
            "size": [
             100
            ],
            "sizemode": "area",
            "sizeref": 7961.5,
            "symbol": "circle"
           },
           "mode": "markers",
           "name": "",
           "showlegend": false,
           "type": "scattergeo"
          }
         ],
         "name": "1635"
        },
        {
         "data": [
          {
           "geo": "geo",
           "hovertemplate": "Year=1636<br>Count=%{marker.size}<br>Country=%{location}<extra></extra>",
           "legendgroup": "",
           "locations": [
            "VAT"
           ],
           "marker": {
            "color": "#636efa",
            "size": [
             300
            ],
            "sizemode": "area",
            "sizeref": 7961.5,
            "symbol": "circle"
           },
           "mode": "markers",
           "name": "",
           "showlegend": false,
           "type": "scattergeo"
          }
         ],
         "name": "1636"
        },
        {
         "data": [
          {
           "geo": "geo",
           "hovertemplate": "Year=1639<br>Count=%{marker.size}<br>Country=%{location}<extra></extra>",
           "legendgroup": "",
           "locations": [
            "VAT"
           ],
           "marker": {
            "color": "#636efa",
            "size": [
             600
            ],
            "sizemode": "area",
            "sizeref": 7961.5,
            "symbol": "circle"
           },
           "mode": "markers",
           "name": "",
           "showlegend": false,
           "type": "scattergeo"
          }
         ],
         "name": "1639"
        },
        {
         "data": [
          {
           "geo": "geo",
           "hovertemplate": "Year=1640<br>Count=%{marker.size}<br>Country=%{location}<extra></extra>",
           "legendgroup": "",
           "locations": [
            "VAT"
           ],
           "marker": {
            "color": "#636efa",
            "size": [
             1300
            ],
            "sizemode": "area",
            "sizeref": 7961.5,
            "symbol": "circle"
           },
           "mode": "markers",
           "name": "",
           "showlegend": false,
           "type": "scattergeo"
          }
         ],
         "name": "1640"
        },
        {
         "data": [
          {
           "geo": "geo",
           "hovertemplate": "Year=1641<br>Count=%{marker.size}<br>Country=%{location}<extra></extra>",
           "legendgroup": "",
           "locations": [
            "VAT"
           ],
           "marker": {
            "color": "#636efa",
            "size": [
             1600
            ],
            "sizemode": "area",
            "sizeref": 7961.5,
            "symbol": "circle"
           },
           "mode": "markers",
           "name": "",
           "showlegend": false,
           "type": "scattergeo"
          }
         ],
         "name": "1641"
        },
        {
         "data": [
          {
           "geo": "geo",
           "hovertemplate": "Year=1642<br>Count=%{marker.size}<br>Country=%{location}<extra></extra>",
           "legendgroup": "",
           "locations": [
            "VAT"
           ],
           "marker": {
            "color": "#636efa",
            "size": [
             1000
            ],
            "sizemode": "area",
            "sizeref": 7961.5,
            "symbol": "circle"
           },
           "mode": "markers",
           "name": "",
           "showlegend": false,
           "type": "scattergeo"
          }
         ],
         "name": "1642"
        },
        {
         "data": [
          {
           "geo": "geo",
           "hovertemplate": "Year=1643<br>Count=%{marker.size}<br>Country=%{location}<extra></extra>",
           "legendgroup": "",
           "locations": [
            "VAT"
           ],
           "marker": {
            "color": "#636efa",
            "size": [
             700
            ],
            "sizemode": "area",
            "sizeref": 7961.5,
            "symbol": "circle"
           },
           "mode": "markers",
           "name": "",
           "showlegend": false,
           "type": "scattergeo"
          }
         ],
         "name": "1643"
        },
        {
         "data": [
          {
           "geo": "geo",
           "hovertemplate": "Year=1644<br>Count=%{marker.size}<br>Country=%{location}<extra></extra>",
           "legendgroup": "",
           "locations": [
            "VAT"
           ],
           "marker": {
            "color": "#636efa",
            "size": [
             300
            ],
            "sizemode": "area",
            "sizeref": 7961.5,
            "symbol": "circle"
           },
           "mode": "markers",
           "name": "",
           "showlegend": false,
           "type": "scattergeo"
          }
         ],
         "name": "1644"
        },
        {
         "data": [
          {
           "geo": "geo",
           "hovertemplate": "Year=1645<br>Count=%{marker.size}<br>Country=%{location}<extra></extra>",
           "legendgroup": "",
           "locations": [
            "VAT"
           ],
           "marker": {
            "color": "#636efa",
            "size": [
             800
            ],
            "sizemode": "area",
            "sizeref": 7961.5,
            "symbol": "circle"
           },
           "mode": "markers",
           "name": "",
           "showlegend": false,
           "type": "scattergeo"
          }
         ],
         "name": "1645"
        },
        {
         "data": [
          {
           "geo": "geo",
           "hovertemplate": "Year=1646<br>Count=%{marker.size}<br>Country=%{location}<extra></extra>",
           "legendgroup": "",
           "locations": [
            "VAT"
           ],
           "marker": {
            "color": "#636efa",
            "size": [
             1700
            ],
            "sizemode": "area",
            "sizeref": 7961.5,
            "symbol": "circle"
           },
           "mode": "markers",
           "name": "",
           "showlegend": false,
           "type": "scattergeo"
          }
         ],
         "name": "1646"
        },
        {
         "data": [
          {
           "geo": "geo",
           "hovertemplate": "Year=1647<br>Count=%{marker.size}<br>Country=%{location}<extra></extra>",
           "legendgroup": "",
           "locations": [
            "VAT"
           ],
           "marker": {
            "color": "#636efa",
            "size": [
             700
            ],
            "sizemode": "area",
            "sizeref": 7961.5,
            "symbol": "circle"
           },
           "mode": "markers",
           "name": "",
           "showlegend": false,
           "type": "scattergeo"
          }
         ],
         "name": "1647"
        },
        {
         "data": [
          {
           "geo": "geo",
           "hovertemplate": "Year=1648<br>Count=%{marker.size}<br>Country=%{location}<extra></extra>",
           "legendgroup": "",
           "locations": [
            "VAT"
           ],
           "marker": {
            "color": "#636efa",
            "size": [
             600
            ],
            "sizemode": "area",
            "sizeref": 7961.5,
            "symbol": "circle"
           },
           "mode": "markers",
           "name": "",
           "showlegend": false,
           "type": "scattergeo"
          }
         ],
         "name": "1648"
        },
        {
         "data": [
          {
           "geo": "geo",
           "hovertemplate": "Year=1649<br>Count=%{marker.size}<br>Country=%{location}<extra></extra>",
           "legendgroup": "",
           "locations": [
            "VAT"
           ],
           "marker": {
            "color": "#636efa",
            "size": [
             400
            ],
            "sizemode": "area",
            "sizeref": 7961.5,
            "symbol": "circle"
           },
           "mode": "markers",
           "name": "",
           "showlegend": false,
           "type": "scattergeo"
          }
         ],
         "name": "1649"
        },
        {
         "data": [
          {
           "geo": "geo",
           "hovertemplate": "Year=1650<br>Count=%{marker.size}<br>Country=%{location}<extra></extra>",
           "legendgroup": "",
           "locations": [
            "VAT"
           ],
           "marker": {
            "color": "#636efa",
            "size": [
             300
            ],
            "sizemode": "area",
            "sizeref": 7961.5,
            "symbol": "circle"
           },
           "mode": "markers",
           "name": "",
           "showlegend": false,
           "type": "scattergeo"
          }
         ],
         "name": "1650"
        },
        {
         "data": [
          {
           "geo": "geo",
           "hovertemplate": "Year=1651<br>Count=%{marker.size}<br>Country=%{location}<extra></extra>",
           "legendgroup": "",
           "locations": [
            "VAT"
           ],
           "marker": {
            "color": "#636efa",
            "size": [
             1300
            ],
            "sizemode": "area",
            "sizeref": 7961.5,
            "symbol": "circle"
           },
           "mode": "markers",
           "name": "",
           "showlegend": false,
           "type": "scattergeo"
          }
         ],
         "name": "1651"
        },
        {
         "data": [
          {
           "geo": "geo",
           "hovertemplate": "Year=1652<br>Count=%{marker.size}<br>Country=%{location}<extra></extra>",
           "legendgroup": "",
           "locations": [
            "VAT"
           ],
           "marker": {
            "color": "#636efa",
            "size": [
             300
            ],
            "sizemode": "area",
            "sizeref": 7961.5,
            "symbol": "circle"
           },
           "mode": "markers",
           "name": "",
           "showlegend": false,
           "type": "scattergeo"
          }
         ],
         "name": "1652"
        },
        {
         "data": [
          {
           "geo": "geo",
           "hovertemplate": "Year=1653<br>Count=%{marker.size}<br>Country=%{location}<extra></extra>",
           "legendgroup": "",
           "locations": [
            "VAT"
           ],
           "marker": {
            "color": "#636efa",
            "size": [
             400
            ],
            "sizemode": "area",
            "sizeref": 7961.5,
            "symbol": "circle"
           },
           "mode": "markers",
           "name": "",
           "showlegend": false,
           "type": "scattergeo"
          }
         ],
         "name": "1653"
        },
        {
         "data": [
          {
           "geo": "geo",
           "hovertemplate": "Year=1654<br>Count=%{marker.size}<br>Country=%{location}<extra></extra>",
           "legendgroup": "",
           "locations": [
            "VAT"
           ],
           "marker": {
            "color": "#636efa",
            "size": [
             4600
            ],
            "sizemode": "area",
            "sizeref": 7961.5,
            "symbol": "circle"
           },
           "mode": "markers",
           "name": "",
           "showlegend": false,
           "type": "scattergeo"
          }
         ],
         "name": "1654"
        },
        {
         "data": [
          {
           "geo": "geo",
           "hovertemplate": "Year=1655<br>Count=%{marker.size}<br>Country=%{location}<extra></extra>",
           "legendgroup": "",
           "locations": [
            "VAT"
           ],
           "marker": {
            "color": "#636efa",
            "size": [
             900
            ],
            "sizemode": "area",
            "sizeref": 7961.5,
            "symbol": "circle"
           },
           "mode": "markers",
           "name": "",
           "showlegend": false,
           "type": "scattergeo"
          }
         ],
         "name": "1655"
        },
        {
         "data": [
          {
           "geo": "geo",
           "hovertemplate": "Year=1656<br>Count=%{marker.size}<br>Country=%{location}<extra></extra>",
           "legendgroup": "",
           "locations": [
            "VAT"
           ],
           "marker": {
            "color": "#636efa",
            "size": [
             1000
            ],
            "sizemode": "area",
            "sizeref": 7961.5,
            "symbol": "circle"
           },
           "mode": "markers",
           "name": "",
           "showlegend": false,
           "type": "scattergeo"
          }
         ],
         "name": "1656"
        },
        {
         "data": [
          {
           "geo": "geo",
           "hovertemplate": "Year=1657<br>Count=%{marker.size}<br>Country=%{location}<extra></extra>",
           "legendgroup": "",
           "locations": [
            "VAT"
           ],
           "marker": {
            "color": "#636efa",
            "size": [
             1000
            ],
            "sizemode": "area",
            "sizeref": 7961.5,
            "symbol": "circle"
           },
           "mode": "markers",
           "name": "",
           "showlegend": false,
           "type": "scattergeo"
          }
         ],
         "name": "1657"
        },
        {
         "data": [
          {
           "geo": "geo",
           "hovertemplate": "Year=1658<br>Count=%{marker.size}<br>Country=%{location}<extra></extra>",
           "legendgroup": "",
           "locations": [
            "VAT"
           ],
           "marker": {
            "color": "#636efa",
            "size": [
             1600
            ],
            "sizemode": "area",
            "sizeref": 7961.5,
            "symbol": "circle"
           },
           "mode": "markers",
           "name": "",
           "showlegend": false,
           "type": "scattergeo"
          }
         ],
         "name": "1658"
        },
        {
         "data": [
          {
           "geo": "geo",
           "hovertemplate": "Year=1659<br>Count=%{marker.size}<br>Country=%{location}<extra></extra>",
           "legendgroup": "",
           "locations": [
            "VAT"
           ],
           "marker": {
            "color": "#636efa",
            "size": [
             2600
            ],
            "sizemode": "area",
            "sizeref": 7961.5,
            "symbol": "circle"
           },
           "mode": "markers",
           "name": "",
           "showlegend": false,
           "type": "scattergeo"
          }
         ],
         "name": "1659"
        },
        {
         "data": [
          {
           "geo": "geo",
           "hovertemplate": "Year=1660<br>Count=%{marker.size}<br>Country=%{location}<extra></extra>",
           "legendgroup": "",
           "locations": [
            "FRA",
            "VAT"
           ],
           "marker": {
            "color": "#636efa",
            "size": [
             100,
             800
            ],
            "sizemode": "area",
            "sizeref": 7961.5,
            "symbol": "circle"
           },
           "mode": "markers",
           "name": "",
           "showlegend": false,
           "type": "scattergeo"
          }
         ],
         "name": "1660"
        },
        {
         "data": [
          {
           "geo": "geo",
           "hovertemplate": "Year=1661<br>Count=%{marker.size}<br>Country=%{location}<extra></extra>",
           "legendgroup": "",
           "locations": [
            "VAT"
           ],
           "marker": {
            "color": "#636efa",
            "size": [
             2400
            ],
            "sizemode": "area",
            "sizeref": 7961.5,
            "symbol": "circle"
           },
           "mode": "markers",
           "name": "",
           "showlegend": false,
           "type": "scattergeo"
          }
         ],
         "name": "1661"
        },
        {
         "data": [
          {
           "geo": "geo",
           "hovertemplate": "Year=1662<br>Count=%{marker.size}<br>Country=%{location}<extra></extra>",
           "legendgroup": "",
           "locations": [
            "VAT"
           ],
           "marker": {
            "color": "#636efa",
            "size": [
             1600
            ],
            "sizemode": "area",
            "sizeref": 7961.5,
            "symbol": "circle"
           },
           "mode": "markers",
           "name": "",
           "showlegend": false,
           "type": "scattergeo"
          }
         ],
         "name": "1662"
        },
        {
         "data": [
          {
           "geo": "geo",
           "hovertemplate": "Year=1663<br>Count=%{marker.size}<br>Country=%{location}<extra></extra>",
           "legendgroup": "",
           "locations": [
            "VAT"
           ],
           "marker": {
            "color": "#636efa",
            "size": [
             1600
            ],
            "sizemode": "area",
            "sizeref": 7961.5,
            "symbol": "circle"
           },
           "mode": "markers",
           "name": "",
           "showlegend": false,
           "type": "scattergeo"
          }
         ],
         "name": "1663"
        },
        {
         "data": [
          {
           "geo": "geo",
           "hovertemplate": "Year=1664<br>Count=%{marker.size}<br>Country=%{location}<extra></extra>",
           "legendgroup": "",
           "locations": [
            "VAT"
           ],
           "marker": {
            "color": "#636efa",
            "size": [
             800
            ],
            "sizemode": "area",
            "sizeref": 7961.5,
            "symbol": "circle"
           },
           "mode": "markers",
           "name": "",
           "showlegend": false,
           "type": "scattergeo"
          }
         ],
         "name": "1664"
        },
        {
         "data": [
          {
           "geo": "geo",
           "hovertemplate": "Year=1665<br>Count=%{marker.size}<br>Country=%{location}<extra></extra>",
           "legendgroup": "",
           "locations": [
            "VAT"
           ],
           "marker": {
            "color": "#636efa",
            "size": [
             1300
            ],
            "sizemode": "area",
            "sizeref": 7961.5,
            "symbol": "circle"
           },
           "mode": "markers",
           "name": "",
           "showlegend": false,
           "type": "scattergeo"
          }
         ],
         "name": "1665"
        },
        {
         "data": [
          {
           "geo": "geo",
           "hovertemplate": "Year=1666<br>Count=%{marker.size}<br>Country=%{location}<extra></extra>",
           "legendgroup": "",
           "locations": [
            "VAT"
           ],
           "marker": {
            "color": "#636efa",
            "size": [
             1500
            ],
            "sizemode": "area",
            "sizeref": 7961.5,
            "symbol": "circle"
           },
           "mode": "markers",
           "name": "",
           "showlegend": false,
           "type": "scattergeo"
          }
         ],
         "name": "1666"
        },
        {
         "data": [
          {
           "geo": "geo",
           "hovertemplate": "Year=1667<br>Count=%{marker.size}<br>Country=%{location}<extra></extra>",
           "legendgroup": "",
           "locations": [
            "VAT"
           ],
           "marker": {
            "color": "#636efa",
            "size": [
             2500
            ],
            "sizemode": "area",
            "sizeref": 7961.5,
            "symbol": "circle"
           },
           "mode": "markers",
           "name": "",
           "showlegend": false,
           "type": "scattergeo"
          }
         ],
         "name": "1667"
        },
        {
         "data": [
          {
           "geo": "geo",
           "hovertemplate": "Year=1668<br>Count=%{marker.size}<br>Country=%{location}<extra></extra>",
           "legendgroup": "",
           "locations": [
            "VAT"
           ],
           "marker": {
            "color": "#636efa",
            "size": [
             1900
            ],
            "sizemode": "area",
            "sizeref": 7961.5,
            "symbol": "circle"
           },
           "mode": "markers",
           "name": "",
           "showlegend": false,
           "type": "scattergeo"
          }
         ],
         "name": "1668"
        },
        {
         "data": [
          {
           "geo": "geo",
           "hovertemplate": "Year=1669<br>Count=%{marker.size}<br>Country=%{location}<extra></extra>",
           "legendgroup": "",
           "locations": [
            "VAT"
           ],
           "marker": {
            "color": "#636efa",
            "size": [
             900
            ],
            "sizemode": "area",
            "sizeref": 7961.5,
            "symbol": "circle"
           },
           "mode": "markers",
           "name": "",
           "showlegend": false,
           "type": "scattergeo"
          }
         ],
         "name": "1669"
        },
        {
         "data": [
          {
           "geo": "geo",
           "hovertemplate": "Year=1670<br>Count=%{marker.size}<br>Country=%{location}<extra></extra>",
           "legendgroup": "",
           "locations": [
            "VAT"
           ],
           "marker": {
            "color": "#636efa",
            "size": [
             400
            ],
            "sizemode": "area",
            "sizeref": 7961.5,
            "symbol": "circle"
           },
           "mode": "markers",
           "name": "",
           "showlegend": false,
           "type": "scattergeo"
          }
         ],
         "name": "1670"
        },
        {
         "data": [
          {
           "geo": "geo",
           "hovertemplate": "Year=1671<br>Count=%{marker.size}<br>Country=%{location}<extra></extra>",
           "legendgroup": "",
           "locations": [
            "VAT"
           ],
           "marker": {
            "color": "#636efa",
            "size": [
             700
            ],
            "sizemode": "area",
            "sizeref": 7961.5,
            "symbol": "circle"
           },
           "mode": "markers",
           "name": "",
           "showlegend": false,
           "type": "scattergeo"
          }
         ],
         "name": "1671"
        },
        {
         "data": [
          {
           "geo": "geo",
           "hovertemplate": "Year=1672<br>Count=%{marker.size}<br>Country=%{location}<extra></extra>",
           "legendgroup": "",
           "locations": [
            "VAT"
           ],
           "marker": {
            "color": "#636efa",
            "size": [
             1700
            ],
            "sizemode": "area",
            "sizeref": 7961.5,
            "symbol": "circle"
           },
           "mode": "markers",
           "name": "",
           "showlegend": false,
           "type": "scattergeo"
          }
         ],
         "name": "1672"
        },
        {
         "data": [
          {
           "geo": "geo",
           "hovertemplate": "Year=1673<br>Count=%{marker.size}<br>Country=%{location}<extra></extra>",
           "legendgroup": "",
           "locations": [
            "VAT"
           ],
           "marker": {
            "color": "#636efa",
            "size": [
             700
            ],
            "sizemode": "area",
            "sizeref": 7961.5,
            "symbol": "circle"
           },
           "mode": "markers",
           "name": "",
           "showlegend": false,
           "type": "scattergeo"
          }
         ],
         "name": "1673"
        },
        {
         "data": [
          {
           "geo": "geo",
           "hovertemplate": "Year=1674<br>Count=%{marker.size}<br>Country=%{location}<extra></extra>",
           "legendgroup": "",
           "locations": [
            "VAT"
           ],
           "marker": {
            "color": "#636efa",
            "size": [
             1700
            ],
            "sizemode": "area",
            "sizeref": 7961.5,
            "symbol": "circle"
           },
           "mode": "markers",
           "name": "",
           "showlegend": false,
           "type": "scattergeo"
          }
         ],
         "name": "1674"
        },
        {
         "data": [
          {
           "geo": "geo",
           "hovertemplate": "Year=1675<br>Count=%{marker.size}<br>Country=%{location}<extra></extra>",
           "legendgroup": "",
           "locations": [
            "VAT"
           ],
           "marker": {
            "color": "#636efa",
            "size": [
             700
            ],
            "sizemode": "area",
            "sizeref": 7961.5,
            "symbol": "circle"
           },
           "mode": "markers",
           "name": "",
           "showlegend": false,
           "type": "scattergeo"
          }
         ],
         "name": "1675"
        },
        {
         "data": [
          {
           "geo": "geo",
           "hovertemplate": "Year=1676<br>Count=%{marker.size}<br>Country=%{location}<extra></extra>",
           "legendgroup": "",
           "locations": [
            "VAT"
           ],
           "marker": {
            "color": "#636efa",
            "size": [
             1500
            ],
            "sizemode": "area",
            "sizeref": 7961.5,
            "symbol": "circle"
           },
           "mode": "markers",
           "name": "",
           "showlegend": false,
           "type": "scattergeo"
          }
         ],
         "name": "1676"
        },
        {
         "data": [
          {
           "geo": "geo",
           "hovertemplate": "Year=1677<br>Count=%{marker.size}<br>Country=%{location}<extra></extra>",
           "legendgroup": "",
           "locations": [
            "VAT"
           ],
           "marker": {
            "color": "#636efa",
            "size": [
             2500
            ],
            "sizemode": "area",
            "sizeref": 7961.5,
            "symbol": "circle"
           },
           "mode": "markers",
           "name": "",
           "showlegend": false,
           "type": "scattergeo"
          }
         ],
         "name": "1677"
        },
        {
         "data": [
          {
           "geo": "geo",
           "hovertemplate": "Year=1678<br>Count=%{marker.size}<br>Country=%{location}<extra></extra>",
           "legendgroup": "",
           "locations": [
            "VAT"
           ],
           "marker": {
            "color": "#636efa",
            "size": [
             2100
            ],
            "sizemode": "area",
            "sizeref": 7961.5,
            "symbol": "circle"
           },
           "mode": "markers",
           "name": "",
           "showlegend": false,
           "type": "scattergeo"
          }
         ],
         "name": "1678"
        },
        {
         "data": [
          {
           "geo": "geo",
           "hovertemplate": "Year=1679<br>Count=%{marker.size}<br>Country=%{location}<extra></extra>",
           "legendgroup": "",
           "locations": [
            "VAT"
           ],
           "marker": {
            "color": "#636efa",
            "size": [
             3000
            ],
            "sizemode": "area",
            "sizeref": 7961.5,
            "symbol": "circle"
           },
           "mode": "markers",
           "name": "",
           "showlegend": false,
           "type": "scattergeo"
          }
         ],
         "name": "1679"
        },
        {
         "data": [
          {
           "geo": "geo",
           "hovertemplate": "Year=1680<br>Count=%{marker.size}<br>Country=%{location}<extra></extra>",
           "legendgroup": "",
           "locations": [
            "VAT"
           ],
           "marker": {
            "color": "#636efa",
            "size": [
             1900
            ],
            "sizemode": "area",
            "sizeref": 7961.5,
            "symbol": "circle"
           },
           "mode": "markers",
           "name": "",
           "showlegend": false,
           "type": "scattergeo"
          }
         ],
         "name": "1680"
        },
        {
         "data": [
          {
           "geo": "geo",
           "hovertemplate": "Year=1681<br>Count=%{marker.size}<br>Country=%{location}<extra></extra>",
           "legendgroup": "",
           "locations": [
            "VAT"
           ],
           "marker": {
            "color": "#636efa",
            "size": [
             2700
            ],
            "sizemode": "area",
            "sizeref": 7961.5,
            "symbol": "circle"
           },
           "mode": "markers",
           "name": "",
           "showlegend": false,
           "type": "scattergeo"
          }
         ],
         "name": "1681"
        },
        {
         "data": [
          {
           "geo": "geo",
           "hovertemplate": "Year=1682<br>Count=%{marker.size}<br>Country=%{location}<extra></extra>",
           "legendgroup": "",
           "locations": [
            "VAT"
           ],
           "marker": {
            "color": "#636efa",
            "size": [
             2200
            ],
            "sizemode": "area",
            "sizeref": 7961.5,
            "symbol": "circle"
           },
           "mode": "markers",
           "name": "",
           "showlegend": false,
           "type": "scattergeo"
          }
         ],
         "name": "1682"
        },
        {
         "data": [
          {
           "geo": "geo",
           "hovertemplate": "Year=1683<br>Count=%{marker.size}<br>Country=%{location}<extra></extra>",
           "legendgroup": "",
           "locations": [
            "VAT"
           ],
           "marker": {
            "color": "#636efa",
            "size": [
             1800
            ],
            "sizemode": "area",
            "sizeref": 7961.5,
            "symbol": "circle"
           },
           "mode": "markers",
           "name": "",
           "showlegend": false,
           "type": "scattergeo"
          }
         ],
         "name": "1683"
        },
        {
         "data": [
          {
           "geo": "geo",
           "hovertemplate": "Year=1684<br>Count=%{marker.size}<br>Country=%{location}<extra></extra>",
           "legendgroup": "",
           "locations": [
            "VAT"
           ],
           "marker": {
            "color": "#636efa",
            "size": [
             1900
            ],
            "sizemode": "area",
            "sizeref": 7961.5,
            "symbol": "circle"
           },
           "mode": "markers",
           "name": "",
           "showlegend": false,
           "type": "scattergeo"
          }
         ],
         "name": "1684"
        },
        {
         "data": [
          {
           "geo": "geo",
           "hovertemplate": "Year=1685<br>Count=%{marker.size}<br>Country=%{location}<extra></extra>",
           "legendgroup": "",
           "locations": [
            "VAT"
           ],
           "marker": {
            "color": "#636efa",
            "size": [
             1800
            ],
            "sizemode": "area",
            "sizeref": 7961.5,
            "symbol": "circle"
           },
           "mode": "markers",
           "name": "",
           "showlegend": false,
           "type": "scattergeo"
          }
         ],
         "name": "1685"
        },
        {
         "data": [
          {
           "geo": "geo",
           "hovertemplate": "Year=1686<br>Count=%{marker.size}<br>Country=%{location}<extra></extra>",
           "legendgroup": "",
           "locations": [
            "VAT"
           ],
           "marker": {
            "color": "#636efa",
            "size": [
             2100
            ],
            "sizemode": "area",
            "sizeref": 7961.5,
            "symbol": "circle"
           },
           "mode": "markers",
           "name": "",
           "showlegend": false,
           "type": "scattergeo"
          }
         ],
         "name": "1686"
        },
        {
         "data": [
          {
           "geo": "geo",
           "hovertemplate": "Year=1687<br>Count=%{marker.size}<br>Country=%{location}<extra></extra>",
           "legendgroup": "",
           "locations": [
            "VAT"
           ],
           "marker": {
            "color": "#636efa",
            "size": [
             2800
            ],
            "sizemode": "area",
            "sizeref": 7961.5,
            "symbol": "circle"
           },
           "mode": "markers",
           "name": "",
           "showlegend": false,
           "type": "scattergeo"
          }
         ],
         "name": "1687"
        },
        {
         "data": [
          {
           "geo": "geo",
           "hovertemplate": "Year=1688<br>Count=%{marker.size}<br>Country=%{location}<extra></extra>",
           "legendgroup": "",
           "locations": [
            "VAT"
           ],
           "marker": {
            "color": "#636efa",
            "size": [
             4200
            ],
            "sizemode": "area",
            "sizeref": 7961.5,
            "symbol": "circle"
           },
           "mode": "markers",
           "name": "",
           "showlegend": false,
           "type": "scattergeo"
          }
         ],
         "name": "1688"
        },
        {
         "data": [
          {
           "geo": "geo",
           "hovertemplate": "Year=1689<br>Count=%{marker.size}<br>Country=%{location}<extra></extra>",
           "legendgroup": "",
           "locations": [
            "VAT"
           ],
           "marker": {
            "color": "#636efa",
            "size": [
             4600
            ],
            "sizemode": "area",
            "sizeref": 7961.5,
            "symbol": "circle"
           },
           "mode": "markers",
           "name": "",
           "showlegend": false,
           "type": "scattergeo"
          }
         ],
         "name": "1689"
        },
        {
         "data": [
          {
           "geo": "geo",
           "hovertemplate": "Year=1690<br>Count=%{marker.size}<br>Country=%{location}<extra></extra>",
           "legendgroup": "",
           "locations": [
            "VAT"
           ],
           "marker": {
            "color": "#636efa",
            "size": [
             4400
            ],
            "sizemode": "area",
            "sizeref": 7961.5,
            "symbol": "circle"
           },
           "mode": "markers",
           "name": "",
           "showlegend": false,
           "type": "scattergeo"
          }
         ],
         "name": "1690"
        },
        {
         "data": [
          {
           "geo": "geo",
           "hovertemplate": "Year=1691<br>Count=%{marker.size}<br>Country=%{location}<extra></extra>",
           "legendgroup": "",
           "locations": [
            "VAT"
           ],
           "marker": {
            "color": "#636efa",
            "size": [
             900
            ],
            "sizemode": "area",
            "sizeref": 7961.5,
            "symbol": "circle"
           },
           "mode": "markers",
           "name": "",
           "showlegend": false,
           "type": "scattergeo"
          }
         ],
         "name": "1691"
        },
        {
         "data": [
          {
           "geo": "geo",
           "hovertemplate": "Year=1692<br>Count=%{marker.size}<br>Country=%{location}<extra></extra>",
           "legendgroup": "",
           "locations": [
            "VAT"
           ],
           "marker": {
            "color": "#636efa",
            "size": [
             1900
            ],
            "sizemode": "area",
            "sizeref": 7961.5,
            "symbol": "circle"
           },
           "mode": "markers",
           "name": "",
           "showlegend": false,
           "type": "scattergeo"
          }
         ],
         "name": "1692"
        },
        {
         "data": [
          {
           "geo": "geo",
           "hovertemplate": "Year=1693<br>Count=%{marker.size}<br>Country=%{location}<extra></extra>",
           "legendgroup": "",
           "locations": [
            "VAT"
           ],
           "marker": {
            "color": "#636efa",
            "size": [
             2000
            ],
            "sizemode": "area",
            "sizeref": 7961.5,
            "symbol": "circle"
           },
           "mode": "markers",
           "name": "",
           "showlegend": false,
           "type": "scattergeo"
          }
         ],
         "name": "1693"
        },
        {
         "data": [
          {
           "geo": "geo",
           "hovertemplate": "Year=1694<br>Count=%{marker.size}<br>Country=%{location}<extra></extra>",
           "legendgroup": "",
           "locations": [
            "VAT"
           ],
           "marker": {
            "color": "#636efa",
            "size": [
             2100
            ],
            "sizemode": "area",
            "sizeref": 7961.5,
            "symbol": "circle"
           },
           "mode": "markers",
           "name": "",
           "showlegend": false,
           "type": "scattergeo"
          }
         ],
         "name": "1694"
        },
        {
         "data": [
          {
           "geo": "geo",
           "hovertemplate": "Year=1695<br>Count=%{marker.size}<br>Country=%{location}<extra></extra>",
           "legendgroup": "",
           "locations": [
            "VAT"
           ],
           "marker": {
            "color": "#636efa",
            "size": [
             2500
            ],
            "sizemode": "area",
            "sizeref": 7961.5,
            "symbol": "circle"
           },
           "mode": "markers",
           "name": "",
           "showlegend": false,
           "type": "scattergeo"
          }
         ],
         "name": "1695"
        },
        {
         "data": [
          {
           "geo": "geo",
           "hovertemplate": "Year=1696<br>Count=%{marker.size}<br>Country=%{location}<extra></extra>",
           "legendgroup": "",
           "locations": [
            "VAT"
           ],
           "marker": {
            "color": "#636efa",
            "size": [
             300
            ],
            "sizemode": "area",
            "sizeref": 7961.5,
            "symbol": "circle"
           },
           "mode": "markers",
           "name": "",
           "showlegend": false,
           "type": "scattergeo"
          }
         ],
         "name": "1696"
        },
        {
         "data": [
          {
           "geo": "geo",
           "hovertemplate": "Year=1697<br>Count=%{marker.size}<br>Country=%{location}<extra></extra>",
           "legendgroup": "",
           "locations": [
            "VAT"
           ],
           "marker": {
            "color": "#636efa",
            "size": [
             900
            ],
            "sizemode": "area",
            "sizeref": 7961.5,
            "symbol": "circle"
           },
           "mode": "markers",
           "name": "",
           "showlegend": false,
           "type": "scattergeo"
          }
         ],
         "name": "1697"
        },
        {
         "data": [
          {
           "geo": "geo",
           "hovertemplate": "Year=1698<br>Count=%{marker.size}<br>Country=%{location}<extra></extra>",
           "legendgroup": "",
           "locations": [
            "VAT"
           ],
           "marker": {
            "color": "#636efa",
            "size": [
             900
            ],
            "sizemode": "area",
            "sizeref": 7961.5,
            "symbol": "circle"
           },
           "mode": "markers",
           "name": "",
           "showlegend": false,
           "type": "scattergeo"
          }
         ],
         "name": "1698"
        },
        {
         "data": [
          {
           "geo": "geo",
           "hovertemplate": "Year=1699<br>Count=%{marker.size}<br>Country=%{location}<extra></extra>",
           "legendgroup": "",
           "locations": [
            "VAT"
           ],
           "marker": {
            "color": "#636efa",
            "size": [
             500
            ],
            "sizemode": "area",
            "sizeref": 7961.5,
            "symbol": "circle"
           },
           "mode": "markers",
           "name": "",
           "showlegend": false,
           "type": "scattergeo"
          }
         ],
         "name": "1699"
        },
        {
         "data": [
          {
           "geo": "geo",
           "hovertemplate": "Year=1700<br>Count=%{marker.size}<br>Country=%{location}<extra></extra>",
           "legendgroup": "",
           "locations": [
            "VAT"
           ],
           "marker": {
            "color": "#636efa",
            "size": [
             1000
            ],
            "sizemode": "area",
            "sizeref": 7961.5,
            "symbol": "circle"
           },
           "mode": "markers",
           "name": "",
           "showlegend": false,
           "type": "scattergeo"
          }
         ],
         "name": "1700"
        },
        {
         "data": [
          {
           "geo": "geo",
           "hovertemplate": "Year=1701<br>Count=%{marker.size}<br>Country=%{location}<extra></extra>",
           "legendgroup": "",
           "locations": [
            "VAT"
           ],
           "marker": {
            "color": "#636efa",
            "size": [
             2400
            ],
            "sizemode": "area",
            "sizeref": 7961.5,
            "symbol": "circle"
           },
           "mode": "markers",
           "name": "",
           "showlegend": false,
           "type": "scattergeo"
          }
         ],
         "name": "1701"
        },
        {
         "data": [
          {
           "geo": "geo",
           "hovertemplate": "Year=1702<br>Count=%{marker.size}<br>Country=%{location}<extra></extra>",
           "legendgroup": "",
           "locations": [
            "VAT"
           ],
           "marker": {
            "color": "#636efa",
            "size": [
             2100
            ],
            "sizemode": "area",
            "sizeref": 7961.5,
            "symbol": "circle"
           },
           "mode": "markers",
           "name": "",
           "showlegend": false,
           "type": "scattergeo"
          }
         ],
         "name": "1702"
        },
        {
         "data": [
          {
           "geo": "geo",
           "hovertemplate": "Year=1703<br>Count=%{marker.size}<br>Country=%{location}<extra></extra>",
           "legendgroup": "",
           "locations": [
            "VAT"
           ],
           "marker": {
            "color": "#636efa",
            "size": [
             3000
            ],
            "sizemode": "area",
            "sizeref": 7961.5,
            "symbol": "circle"
           },
           "mode": "markers",
           "name": "",
           "showlegend": false,
           "type": "scattergeo"
          }
         ],
         "name": "1703"
        },
        {
         "data": [
          {
           "geo": "geo",
           "hovertemplate": "Year=1704<br>Count=%{marker.size}<br>Country=%{location}<extra></extra>",
           "legendgroup": "",
           "locations": [
            "VAT"
           ],
           "marker": {
            "color": "#636efa",
            "size": [
             2700
            ],
            "sizemode": "area",
            "sizeref": 7961.5,
            "symbol": "circle"
           },
           "mode": "markers",
           "name": "",
           "showlegend": false,
           "type": "scattergeo"
          }
         ],
         "name": "1704"
        },
        {
         "data": [
          {
           "geo": "geo",
           "hovertemplate": "Year=1705<br>Count=%{marker.size}<br>Country=%{location}<extra></extra>",
           "legendgroup": "",
           "locations": [
            "VAT"
           ],
           "marker": {
            "color": "#636efa",
            "size": [
             700
            ],
            "sizemode": "area",
            "sizeref": 7961.5,
            "symbol": "circle"
           },
           "mode": "markers",
           "name": "",
           "showlegend": false,
           "type": "scattergeo"
          }
         ],
         "name": "1705"
        },
        {
         "data": [
          {
           "geo": "geo",
           "hovertemplate": "Year=1706<br>Count=%{marker.size}<br>Country=%{location}<extra></extra>",
           "legendgroup": "",
           "locations": [
            "VAT"
           ],
           "marker": {
            "color": "#636efa",
            "size": [
             600
            ],
            "sizemode": "area",
            "sizeref": 7961.5,
            "symbol": "circle"
           },
           "mode": "markers",
           "name": "",
           "showlegend": false,
           "type": "scattergeo"
          }
         ],
         "name": "1706"
        },
        {
         "data": [
          {
           "geo": "geo",
           "hovertemplate": "Year=1707<br>Count=%{marker.size}<br>Country=%{location}<extra></extra>",
           "legendgroup": "",
           "locations": [
            "VAT"
           ],
           "marker": {
            "color": "#636efa",
            "size": [
             6800
            ],
            "sizemode": "area",
            "sizeref": 7961.5,
            "symbol": "circle"
           },
           "mode": "markers",
           "name": "",
           "showlegend": false,
           "type": "scattergeo"
          }
         ],
         "name": "1707"
        },
        {
         "data": [
          {
           "geo": "geo",
           "hovertemplate": "Year=1708<br>Count=%{marker.size}<br>Country=%{location}<extra></extra>",
           "legendgroup": "",
           "locations": [
            "VAT"
           ],
           "marker": {
            "color": "#636efa",
            "size": [
             1400
            ],
            "sizemode": "area",
            "sizeref": 7961.5,
            "symbol": "circle"
           },
           "mode": "markers",
           "name": "",
           "showlegend": false,
           "type": "scattergeo"
          }
         ],
         "name": "1708"
        },
        {
         "data": [
          {
           "geo": "geo",
           "hovertemplate": "Year=1709<br>Count=%{marker.size}<br>Country=%{location}<extra></extra>",
           "legendgroup": "",
           "locations": [
            "VAT"
           ],
           "marker": {
            "color": "#636efa",
            "size": [
             1600
            ],
            "sizemode": "area",
            "sizeref": 7961.5,
            "symbol": "circle"
           },
           "mode": "markers",
           "name": "",
           "showlegend": false,
           "type": "scattergeo"
          }
         ],
         "name": "1709"
        },
        {
         "data": [
          {
           "geo": "geo",
           "hovertemplate": "Year=1710<br>Count=%{marker.size}<br>Country=%{location}<extra></extra>",
           "legendgroup": "",
           "locations": [
            "VAT"
           ],
           "marker": {
            "color": "#636efa",
            "size": [
             2200
            ],
            "sizemode": "area",
            "sizeref": 7961.5,
            "symbol": "circle"
           },
           "mode": "markers",
           "name": "",
           "showlegend": false,
           "type": "scattergeo"
          }
         ],
         "name": "1710"
        },
        {
         "data": [
          {
           "geo": "geo",
           "hovertemplate": "Year=1711<br>Count=%{marker.size}<br>Country=%{location}<extra></extra>",
           "legendgroup": "",
           "locations": [
            "VAT"
           ],
           "marker": {
            "color": "#636efa",
            "size": [
             1100
            ],
            "sizemode": "area",
            "sizeref": 7961.5,
            "symbol": "circle"
           },
           "mode": "markers",
           "name": "",
           "showlegend": false,
           "type": "scattergeo"
          }
         ],
         "name": "1711"
        },
        {
         "data": [
          {
           "geo": "geo",
           "hovertemplate": "Year=1712<br>Count=%{marker.size}<br>Country=%{location}<extra></extra>",
           "legendgroup": "",
           "locations": [
            "VAT"
           ],
           "marker": {
            "color": "#636efa",
            "size": [
             1700
            ],
            "sizemode": "area",
            "sizeref": 7961.5,
            "symbol": "circle"
           },
           "mode": "markers",
           "name": "",
           "showlegend": false,
           "type": "scattergeo"
          }
         ],
         "name": "1712"
        },
        {
         "data": [
          {
           "geo": "geo",
           "hovertemplate": "Year=1713<br>Count=%{marker.size}<br>Country=%{location}<extra></extra>",
           "legendgroup": "",
           "locations": [
            "VAT"
           ],
           "marker": {
            "color": "#636efa",
            "size": [
             1400
            ],
            "sizemode": "area",
            "sizeref": 7961.5,
            "symbol": "circle"
           },
           "mode": "markers",
           "name": "",
           "showlegend": false,
           "type": "scattergeo"
          }
         ],
         "name": "1713"
        },
        {
         "data": [
          {
           "geo": "geo",
           "hovertemplate": "Year=1714<br>Count=%{marker.size}<br>Country=%{location}<extra></extra>",
           "legendgroup": "",
           "locations": [
            "VAT"
           ],
           "marker": {
            "color": "#636efa",
            "size": [
             2900
            ],
            "sizemode": "area",
            "sizeref": 7961.5,
            "symbol": "circle"
           },
           "mode": "markers",
           "name": "",
           "showlegend": false,
           "type": "scattergeo"
          }
         ],
         "name": "1714"
        },
        {
         "data": [
          {
           "geo": "geo",
           "hovertemplate": "Year=1715<br>Count=%{marker.size}<br>Country=%{location}<extra></extra>",
           "legendgroup": "",
           "locations": [
            "VAT"
           ],
           "marker": {
            "color": "#636efa",
            "size": [
             1000
            ],
            "sizemode": "area",
            "sizeref": 7961.5,
            "symbol": "circle"
           },
           "mode": "markers",
           "name": "",
           "showlegend": false,
           "type": "scattergeo"
          }
         ],
         "name": "1715"
        },
        {
         "data": [
          {
           "geo": "geo",
           "hovertemplate": "Year=1716<br>Count=%{marker.size}<br>Country=%{location}<extra></extra>",
           "legendgroup": "",
           "locations": [
            "VAT"
           ],
           "marker": {
            "color": "#636efa",
            "size": [
             1200
            ],
            "sizemode": "area",
            "sizeref": 7961.5,
            "symbol": "circle"
           },
           "mode": "markers",
           "name": "",
           "showlegend": false,
           "type": "scattergeo"
          }
         ],
         "name": "1716"
        },
        {
         "data": [
          {
           "geo": "geo",
           "hovertemplate": "Year=1717<br>Count=%{marker.size}<br>Country=%{location}<extra></extra>",
           "legendgroup": "",
           "locations": [
            "VAT"
           ],
           "marker": {
            "color": "#636efa",
            "size": [
             1700
            ],
            "sizemode": "area",
            "sizeref": 7961.5,
            "symbol": "circle"
           },
           "mode": "markers",
           "name": "",
           "showlegend": false,
           "type": "scattergeo"
          }
         ],
         "name": "1717"
        },
        {
         "data": [
          {
           "geo": "geo",
           "hovertemplate": "Year=1718<br>Count=%{marker.size}<br>Country=%{location}<extra></extra>",
           "legendgroup": "",
           "locations": [
            "VAT"
           ],
           "marker": {
            "color": "#636efa",
            "size": [
             700
            ],
            "sizemode": "area",
            "sizeref": 7961.5,
            "symbol": "circle"
           },
           "mode": "markers",
           "name": "",
           "showlegend": false,
           "type": "scattergeo"
          }
         ],
         "name": "1718"
        },
        {
         "data": [
          {
           "geo": "geo",
           "hovertemplate": "Year=1719<br>Count=%{marker.size}<br>Country=%{location}<extra></extra>",
           "legendgroup": "",
           "locations": [
            "VAT"
           ],
           "marker": {
            "color": "#636efa",
            "size": [
             1600
            ],
            "sizemode": "area",
            "sizeref": 7961.5,
            "symbol": "circle"
           },
           "mode": "markers",
           "name": "",
           "showlegend": false,
           "type": "scattergeo"
          }
         ],
         "name": "1719"
        },
        {
         "data": [
          {
           "geo": "geo",
           "hovertemplate": "Year=1720<br>Count=%{marker.size}<br>Country=%{location}<extra></extra>",
           "legendgroup": "",
           "locations": [
            "VAT"
           ],
           "marker": {
            "color": "#636efa",
            "size": [
             600
            ],
            "sizemode": "area",
            "sizeref": 7961.5,
            "symbol": "circle"
           },
           "mode": "markers",
           "name": "",
           "showlegend": false,
           "type": "scattergeo"
          }
         ],
         "name": "1720"
        },
        {
         "data": [
          {
           "geo": "geo",
           "hovertemplate": "Year=1721<br>Count=%{marker.size}<br>Country=%{location}<extra></extra>",
           "legendgroup": "",
           "locations": [
            "VAT"
           ],
           "marker": {
            "color": "#636efa",
            "size": [
             1200
            ],
            "sizemode": "area",
            "sizeref": 7961.5,
            "symbol": "circle"
           },
           "mode": "markers",
           "name": "",
           "showlegend": false,
           "type": "scattergeo"
          }
         ],
         "name": "1721"
        },
        {
         "data": [
          {
           "geo": "geo",
           "hovertemplate": "Year=1722<br>Count=%{marker.size}<br>Country=%{location}<extra></extra>",
           "legendgroup": "",
           "locations": [
            "VAT"
           ],
           "marker": {
            "color": "#636efa",
            "size": [
             1600
            ],
            "sizemode": "area",
            "sizeref": 7961.5,
            "symbol": "circle"
           },
           "mode": "markers",
           "name": "",
           "showlegend": false,
           "type": "scattergeo"
          }
         ],
         "name": "1722"
        },
        {
         "data": [
          {
           "geo": "geo",
           "hovertemplate": "Year=1723<br>Count=%{marker.size}<br>Country=%{location}<extra></extra>",
           "legendgroup": "",
           "locations": [
            "VAT"
           ],
           "marker": {
            "color": "#636efa",
            "size": [
             1000
            ],
            "sizemode": "area",
            "sizeref": 7961.5,
            "symbol": "circle"
           },
           "mode": "markers",
           "name": "",
           "showlegend": false,
           "type": "scattergeo"
          }
         ],
         "name": "1723"
        },
        {
         "data": [
          {
           "geo": "geo",
           "hovertemplate": "Year=1724<br>Count=%{marker.size}<br>Country=%{location}<extra></extra>",
           "legendgroup": "",
           "locations": [
            "VAT"
           ],
           "marker": {
            "color": "#636efa",
            "size": [
             600
            ],
            "sizemode": "area",
            "sizeref": 7961.5,
            "symbol": "circle"
           },
           "mode": "markers",
           "name": "",
           "showlegend": false,
           "type": "scattergeo"
          }
         ],
         "name": "1724"
        },
        {
         "data": [
          {
           "geo": "geo",
           "hovertemplate": "Year=1725<br>Count=%{marker.size}<br>Country=%{location}<extra></extra>",
           "legendgroup": "",
           "locations": [
            "VAT"
           ],
           "marker": {
            "color": "#636efa",
            "size": [
             3200
            ],
            "sizemode": "area",
            "sizeref": 7961.5,
            "symbol": "circle"
           },
           "mode": "markers",
           "name": "",
           "showlegend": false,
           "type": "scattergeo"
          }
         ],
         "name": "1725"
        },
        {
         "data": [
          {
           "geo": "geo",
           "hovertemplate": "Year=1726<br>Count=%{marker.size}<br>Country=%{location}<extra></extra>",
           "legendgroup": "",
           "locations": [
            "VAT"
           ],
           "marker": {
            "color": "#636efa",
            "size": [
             1200
            ],
            "sizemode": "area",
            "sizeref": 7961.5,
            "symbol": "circle"
           },
           "mode": "markers",
           "name": "",
           "showlegend": false,
           "type": "scattergeo"
          }
         ],
         "name": "1726"
        },
        {
         "data": [
          {
           "geo": "geo",
           "hovertemplate": "Year=1727<br>Count=%{marker.size}<br>Country=%{location}<extra></extra>",
           "legendgroup": "",
           "locations": [
            "VAT"
           ],
           "marker": {
            "color": "#636efa",
            "size": [
             200
            ],
            "sizemode": "area",
            "sizeref": 7961.5,
            "symbol": "circle"
           },
           "mode": "markers",
           "name": "",
           "showlegend": false,
           "type": "scattergeo"
          }
         ],
         "name": "1727"
        },
        {
         "data": [
          {
           "geo": "geo",
           "hovertemplate": "Year=1728<br>Count=%{marker.size}<br>Country=%{location}<extra></extra>",
           "legendgroup": "",
           "locations": [
            "VAT"
           ],
           "marker": {
            "color": "#636efa",
            "size": [
             1300
            ],
            "sizemode": "area",
            "sizeref": 7961.5,
            "symbol": "circle"
           },
           "mode": "markers",
           "name": "",
           "showlegend": false,
           "type": "scattergeo"
          }
         ],
         "name": "1728"
        },
        {
         "data": [
          {
           "geo": "geo",
           "hovertemplate": "Year=1729<br>Count=%{marker.size}<br>Country=%{location}<extra></extra>",
           "legendgroup": "",
           "locations": [
            "VAT"
           ],
           "marker": {
            "color": "#636efa",
            "size": [
             1700
            ],
            "sizemode": "area",
            "sizeref": 7961.5,
            "symbol": "circle"
           },
           "mode": "markers",
           "name": "",
           "showlegend": false,
           "type": "scattergeo"
          }
         ],
         "name": "1729"
        },
        {
         "data": [
          {
           "geo": "geo",
           "hovertemplate": "Year=1730<br>Count=%{marker.size}<br>Country=%{location}<extra></extra>",
           "legendgroup": "",
           "locations": [
            "VAT"
           ],
           "marker": {
            "color": "#636efa",
            "size": [
             300
            ],
            "sizemode": "area",
            "sizeref": 7961.5,
            "symbol": "circle"
           },
           "mode": "markers",
           "name": "",
           "showlegend": false,
           "type": "scattergeo"
          }
         ],
         "name": "1730"
        },
        {
         "data": [
          {
           "geo": "geo",
           "hovertemplate": "Year=1731<br>Count=%{marker.size}<br>Country=%{location}<extra></extra>",
           "legendgroup": "",
           "locations": [
            "VAT"
           ],
           "marker": {
            "color": "#636efa",
            "size": [
             600
            ],
            "sizemode": "area",
            "sizeref": 7961.5,
            "symbol": "circle"
           },
           "mode": "markers",
           "name": "",
           "showlegend": false,
           "type": "scattergeo"
          }
         ],
         "name": "1731"
        },
        {
         "data": [
          {
           "geo": "geo",
           "hovertemplate": "Year=1732<br>Count=%{marker.size}<br>Country=%{location}<extra></extra>",
           "legendgroup": "",
           "locations": [
            "VAT"
           ],
           "marker": {
            "color": "#636efa",
            "size": [
             1500
            ],
            "sizemode": "area",
            "sizeref": 7961.5,
            "symbol": "circle"
           },
           "mode": "markers",
           "name": "",
           "showlegend": false,
           "type": "scattergeo"
          }
         ],
         "name": "1732"
        },
        {
         "data": [
          {
           "geo": "geo",
           "hovertemplate": "Year=1733<br>Count=%{marker.size}<br>Country=%{location}<extra></extra>",
           "legendgroup": "",
           "locations": [
            "VAT"
           ],
           "marker": {
            "color": "#636efa",
            "size": [
             800
            ],
            "sizemode": "area",
            "sizeref": 7961.5,
            "symbol": "circle"
           },
           "mode": "markers",
           "name": "",
           "showlegend": false,
           "type": "scattergeo"
          }
         ],
         "name": "1733"
        },
        {
         "data": [
          {
           "geo": "geo",
           "hovertemplate": "Year=1734<br>Count=%{marker.size}<br>Country=%{location}<extra></extra>",
           "legendgroup": "",
           "locations": [
            "VAT"
           ],
           "marker": {
            "color": "#636efa",
            "size": [
             2100
            ],
            "sizemode": "area",
            "sizeref": 7961.5,
            "symbol": "circle"
           },
           "mode": "markers",
           "name": "",
           "showlegend": false,
           "type": "scattergeo"
          }
         ],
         "name": "1734"
        },
        {
         "data": [
          {
           "geo": "geo",
           "hovertemplate": "Year=1735<br>Count=%{marker.size}<br>Country=%{location}<extra></extra>",
           "legendgroup": "",
           "locations": [
            "VAT"
           ],
           "marker": {
            "color": "#636efa",
            "size": [
             1500
            ],
            "sizemode": "area",
            "sizeref": 7961.5,
            "symbol": "circle"
           },
           "mode": "markers",
           "name": "",
           "showlegend": false,
           "type": "scattergeo"
          }
         ],
         "name": "1735"
        },
        {
         "data": [
          {
           "geo": "geo",
           "hovertemplate": "Year=1736<br>Count=%{marker.size}<br>Country=%{location}<extra></extra>",
           "legendgroup": "",
           "locations": [
            "VAT"
           ],
           "marker": {
            "color": "#636efa",
            "size": [
             800
            ],
            "sizemode": "area",
            "sizeref": 7961.5,
            "symbol": "circle"
           },
           "mode": "markers",
           "name": "",
           "showlegend": false,
           "type": "scattergeo"
          }
         ],
         "name": "1736"
        },
        {
         "data": [
          {
           "geo": "geo",
           "hovertemplate": "Year=1737<br>Count=%{marker.size}<br>Country=%{location}<extra></extra>",
           "legendgroup": "",
           "locations": [
            "VAT"
           ],
           "marker": {
            "color": "#636efa",
            "size": [
             1300
            ],
            "sizemode": "area",
            "sizeref": 7961.5,
            "symbol": "circle"
           },
           "mode": "markers",
           "name": "",
           "showlegend": false,
           "type": "scattergeo"
          }
         ],
         "name": "1737"
        },
        {
         "data": [
          {
           "geo": "geo",
           "hovertemplate": "Year=1738<br>Count=%{marker.size}<br>Country=%{location}<extra></extra>",
           "legendgroup": "",
           "locations": [
            "VAT"
           ],
           "marker": {
            "color": "#636efa",
            "size": [
             700
            ],
            "sizemode": "area",
            "sizeref": 7961.5,
            "symbol": "circle"
           },
           "mode": "markers",
           "name": "",
           "showlegend": false,
           "type": "scattergeo"
          }
         ],
         "name": "1738"
        },
        {
         "data": [
          {
           "geo": "geo",
           "hovertemplate": "Year=1739<br>Count=%{marker.size}<br>Country=%{location}<extra></extra>",
           "legendgroup": "",
           "locations": [
            "VAT"
           ],
           "marker": {
            "color": "#636efa",
            "size": [
             700
            ],
            "sizemode": "area",
            "sizeref": 7961.5,
            "symbol": "circle"
           },
           "mode": "markers",
           "name": "",
           "showlegend": false,
           "type": "scattergeo"
          }
         ],
         "name": "1739"
        },
        {
         "data": [
          {
           "geo": "geo",
           "hovertemplate": "Year=1740<br>Count=%{marker.size}<br>Country=%{location}<extra></extra>",
           "legendgroup": "",
           "locations": [
            "VAT"
           ],
           "marker": {
            "color": "#636efa",
            "size": [
             900
            ],
            "sizemode": "area",
            "sizeref": 7961.5,
            "symbol": "circle"
           },
           "mode": "markers",
           "name": "",
           "showlegend": false,
           "type": "scattergeo"
          }
         ],
         "name": "1740"
        },
        {
         "data": [
          {
           "geo": "geo",
           "hovertemplate": "Year=1741<br>Count=%{marker.size}<br>Country=%{location}<extra></extra>",
           "legendgroup": "",
           "locations": [
            "VAT"
           ],
           "marker": {
            "color": "#636efa",
            "size": [
             600
            ],
            "sizemode": "area",
            "sizeref": 7961.5,
            "symbol": "circle"
           },
           "mode": "markers",
           "name": "",
           "showlegend": false,
           "type": "scattergeo"
          }
         ],
         "name": "1741"
        },
        {
         "data": [
          {
           "geo": "geo",
           "hovertemplate": "Year=1742<br>Count=%{marker.size}<br>Country=%{location}<extra></extra>",
           "legendgroup": "",
           "locations": [
            "VAT"
           ],
           "marker": {
            "color": "#636efa",
            "size": [
             3100
            ],
            "sizemode": "area",
            "sizeref": 7961.5,
            "symbol": "circle"
           },
           "mode": "markers",
           "name": "",
           "showlegend": false,
           "type": "scattergeo"
          }
         ],
         "name": "1742"
        },
        {
         "data": [
          {
           "geo": "geo",
           "hovertemplate": "Year=1743<br>Count=%{marker.size}<br>Country=%{location}<extra></extra>",
           "legendgroup": "",
           "locations": [
            "VAT"
           ],
           "marker": {
            "color": "#636efa",
            "size": [
             1000
            ],
            "sizemode": "area",
            "sizeref": 7961.5,
            "symbol": "circle"
           },
           "mode": "markers",
           "name": "",
           "showlegend": false,
           "type": "scattergeo"
          }
         ],
         "name": "1743"
        },
        {
         "data": [
          {
           "geo": "geo",
           "hovertemplate": "Year=1744<br>Count=%{marker.size}<br>Country=%{location}<extra></extra>",
           "legendgroup": "",
           "locations": [
            "VAT"
           ],
           "marker": {
            "color": "#636efa",
            "size": [
             800
            ],
            "sizemode": "area",
            "sizeref": 7961.5,
            "symbol": "circle"
           },
           "mode": "markers",
           "name": "",
           "showlegend": false,
           "type": "scattergeo"
          }
         ],
         "name": "1744"
        },
        {
         "data": [
          {
           "geo": "geo",
           "hovertemplate": "Year=1745<br>Count=%{marker.size}<br>Country=%{location}<extra></extra>",
           "legendgroup": "",
           "locations": [
            "VAT"
           ],
           "marker": {
            "color": "#636efa",
            "size": [
             1100
            ],
            "sizemode": "area",
            "sizeref": 7961.5,
            "symbol": "circle"
           },
           "mode": "markers",
           "name": "",
           "showlegend": false,
           "type": "scattergeo"
          }
         ],
         "name": "1745"
        },
        {
         "data": [
          {
           "geo": "geo",
           "hovertemplate": "Year=1746<br>Count=%{marker.size}<br>Country=%{location}<extra></extra>",
           "legendgroup": "",
           "locations": [
            "VAT"
           ],
           "marker": {
            "color": "#636efa",
            "size": [
             1600
            ],
            "sizemode": "area",
            "sizeref": 7961.5,
            "symbol": "circle"
           },
           "mode": "markers",
           "name": "",
           "showlegend": false,
           "type": "scattergeo"
          }
         ],
         "name": "1746"
        },
        {
         "data": [
          {
           "geo": "geo",
           "hovertemplate": "Year=1747<br>Count=%{marker.size}<br>Country=%{location}<extra></extra>",
           "legendgroup": "",
           "locations": [
            "VAT"
           ],
           "marker": {
            "color": "#636efa",
            "size": [
             400
            ],
            "sizemode": "area",
            "sizeref": 7961.5,
            "symbol": "circle"
           },
           "mode": "markers",
           "name": "",
           "showlegend": false,
           "type": "scattergeo"
          }
         ],
         "name": "1747"
        },
        {
         "data": [
          {
           "geo": "geo",
           "hovertemplate": "Year=1748<br>Count=%{marker.size}<br>Country=%{location}<extra></extra>",
           "legendgroup": "",
           "locations": [
            "VAT"
           ],
           "marker": {
            "color": "#636efa",
            "size": [
             400
            ],
            "sizemode": "area",
            "sizeref": 7961.5,
            "symbol": "circle"
           },
           "mode": "markers",
           "name": "",
           "showlegend": false,
           "type": "scattergeo"
          }
         ],
         "name": "1748"
        },
        {
         "data": [
          {
           "geo": "geo",
           "hovertemplate": "Year=1749<br>Count=%{marker.size}<br>Country=%{location}<extra></extra>",
           "legendgroup": "",
           "locations": [
            "VAT"
           ],
           "marker": {
            "color": "#636efa",
            "size": [
             200
            ],
            "sizemode": "area",
            "sizeref": 7961.5,
            "symbol": "circle"
           },
           "mode": "markers",
           "name": "",
           "showlegend": false,
           "type": "scattergeo"
          }
         ],
         "name": "1749"
        },
        {
         "data": [
          {
           "geo": "geo",
           "hovertemplate": "Year=1750<br>Count=%{marker.size}<br>Country=%{location}<extra></extra>",
           "legendgroup": "",
           "locations": [
            "VAT"
           ],
           "marker": {
            "color": "#636efa",
            "size": [
             1200
            ],
            "sizemode": "area",
            "sizeref": 7961.5,
            "symbol": "circle"
           },
           "mode": "markers",
           "name": "",
           "showlegend": false,
           "type": "scattergeo"
          }
         ],
         "name": "1750"
        },
        {
         "data": [
          {
           "geo": "geo",
           "hovertemplate": "Year=1751<br>Count=%{marker.size}<br>Country=%{location}<extra></extra>",
           "legendgroup": "",
           "locations": [
            "VAT"
           ],
           "marker": {
            "color": "#636efa",
            "size": [
             800
            ],
            "sizemode": "area",
            "sizeref": 7961.5,
            "symbol": "circle"
           },
           "mode": "markers",
           "name": "",
           "showlegend": false,
           "type": "scattergeo"
          }
         ],
         "name": "1751"
        },
        {
         "data": [
          {
           "geo": "geo",
           "hovertemplate": "Year=1752<br>Count=%{marker.size}<br>Country=%{location}<extra></extra>",
           "legendgroup": "",
           "locations": [
            "VAT"
           ],
           "marker": {
            "color": "#636efa",
            "size": [
             1900
            ],
            "sizemode": "area",
            "sizeref": 7961.5,
            "symbol": "circle"
           },
           "mode": "markers",
           "name": "",
           "showlegend": false,
           "type": "scattergeo"
          }
         ],
         "name": "1752"
        },
        {
         "data": [
          {
           "geo": "geo",
           "hovertemplate": "Year=1753<br>Count=%{marker.size}<br>Country=%{location}<extra></extra>",
           "legendgroup": "",
           "locations": [
            "VAT"
           ],
           "marker": {
            "color": "#636efa",
            "size": [
             2200
            ],
            "sizemode": "area",
            "sizeref": 7961.5,
            "symbol": "circle"
           },
           "mode": "markers",
           "name": "",
           "showlegend": false,
           "type": "scattergeo"
          }
         ],
         "name": "1753"
        },
        {
         "data": [
          {
           "geo": "geo",
           "hovertemplate": "Year=1754<br>Count=%{marker.size}<br>Country=%{location}<extra></extra>",
           "legendgroup": "",
           "locations": [
            "VAT",
            "AUT"
           ],
           "marker": {
            "color": "#636efa",
            "size": [
             1100,
             1600
            ],
            "sizemode": "area",
            "sizeref": 7961.5,
            "symbol": "circle"
           },
           "mode": "markers",
           "name": "",
           "showlegend": false,
           "type": "scattergeo"
          }
         ],
         "name": "1754"
        },
        {
         "data": [
          {
           "geo": "geo",
           "hovertemplate": "Year=1755<br>Count=%{marker.size}<br>Country=%{location}<extra></extra>",
           "legendgroup": "",
           "locations": [
            "AUT",
            "VAT"
           ],
           "marker": {
            "color": "#636efa",
            "size": [
             500,
             1100
            ],
            "sizemode": "area",
            "sizeref": 7961.5,
            "symbol": "circle"
           },
           "mode": "markers",
           "name": "",
           "showlegend": false,
           "type": "scattergeo"
          }
         ],
         "name": "1755"
        },
        {
         "data": [
          {
           "geo": "geo",
           "hovertemplate": "Year=1756<br>Count=%{marker.size}<br>Country=%{location}<extra></extra>",
           "legendgroup": "",
           "locations": [
            "AUT",
            "VAT"
           ],
           "marker": {
            "color": "#636efa",
            "size": [
             200,
             400
            ],
            "sizemode": "area",
            "sizeref": 7961.5,
            "symbol": "circle"
           },
           "mode": "markers",
           "name": "",
           "showlegend": false,
           "type": "scattergeo"
          }
         ],
         "name": "1756"
        },
        {
         "data": [
          {
           "geo": "geo",
           "hovertemplate": "Year=1757<br>Count=%{marker.size}<br>Country=%{location}<extra></extra>",
           "legendgroup": "",
           "locations": [
            "AUT",
            "VAT"
           ],
           "marker": {
            "color": "#636efa",
            "size": [
             400,
             1800
            ],
            "sizemode": "area",
            "sizeref": 7961.5,
            "symbol": "circle"
           },
           "mode": "markers",
           "name": "",
           "showlegend": false,
           "type": "scattergeo"
          }
         ],
         "name": "1757"
        },
        {
         "data": [
          {
           "geo": "geo",
           "hovertemplate": "Year=1758<br>Count=%{marker.size}<br>Country=%{location}<extra></extra>",
           "legendgroup": "",
           "locations": [
            "AUT",
            "VAT"
           ],
           "marker": {
            "color": "#636efa",
            "size": [
             200,
             700
            ],
            "sizemode": "area",
            "sizeref": 7961.5,
            "symbol": "circle"
           },
           "mode": "markers",
           "name": "",
           "showlegend": false,
           "type": "scattergeo"
          }
         ],
         "name": "1758"
        },
        {
         "data": [
          {
           "geo": "geo",
           "hovertemplate": "Year=1759<br>Count=%{marker.size}<br>Country=%{location}<extra></extra>",
           "legendgroup": "",
           "locations": [
            "USA",
            "VAT"
           ],
           "marker": {
            "color": "#636efa",
            "size": [
             100,
             1600
            ],
            "sizemode": "area",
            "sizeref": 7961.5,
            "symbol": "circle"
           },
           "mode": "markers",
           "name": "",
           "showlegend": false,
           "type": "scattergeo"
          }
         ],
         "name": "1759"
        },
        {
         "data": [
          {
           "geo": "geo",
           "hovertemplate": "Year=1760<br>Count=%{marker.size}<br>Country=%{location}<extra></extra>",
           "legendgroup": "",
           "locations": [
            "VAT"
           ],
           "marker": {
            "color": "#636efa",
            "size": [
             900
            ],
            "sizemode": "area",
            "sizeref": 7961.5,
            "symbol": "circle"
           },
           "mode": "markers",
           "name": "",
           "showlegend": false,
           "type": "scattergeo"
          }
         ],
         "name": "1760"
        },
        {
         "data": [
          {
           "geo": "geo",
           "hovertemplate": "Year=1761<br>Count=%{marker.size}<br>Country=%{location}<extra></extra>",
           "legendgroup": "",
           "locations": [
            "VAT"
           ],
           "marker": {
            "color": "#636efa",
            "size": [
             1200
            ],
            "sizemode": "area",
            "sizeref": 7961.5,
            "symbol": "circle"
           },
           "mode": "markers",
           "name": "",
           "showlegend": false,
           "type": "scattergeo"
          }
         ],
         "name": "1761"
        },
        {
         "data": [
          {
           "geo": "geo",
           "hovertemplate": "Year=1762<br>Count=%{marker.size}<br>Country=%{location}<extra></extra>",
           "legendgroup": "",
           "locations": [
            "AUT",
            "VAT"
           ],
           "marker": {
            "color": "#636efa",
            "size": [
             300,
             1400
            ],
            "sizemode": "area",
            "sizeref": 7961.5,
            "symbol": "circle"
           },
           "mode": "markers",
           "name": "",
           "showlegend": false,
           "type": "scattergeo"
          }
         ],
         "name": "1762"
        },
        {
         "data": [
          {
           "geo": "geo",
           "hovertemplate": "Year=1763<br>Count=%{marker.size}<br>Country=%{location}<extra></extra>",
           "legendgroup": "",
           "locations": [
            "AUT",
            "VAT"
           ],
           "marker": {
            "color": "#636efa",
            "size": [
             500,
             700
            ],
            "sizemode": "area",
            "sizeref": 7961.5,
            "symbol": "circle"
           },
           "mode": "markers",
           "name": "",
           "showlegend": false,
           "type": "scattergeo"
          }
         ],
         "name": "1763"
        },
        {
         "data": [
          {
           "geo": "geo",
           "hovertemplate": "Year=1764<br>Count=%{marker.size}<br>Country=%{location}<extra></extra>",
           "legendgroup": "",
           "locations": [
            "VAT"
           ],
           "marker": {
            "color": "#636efa",
            "size": [
             900
            ],
            "sizemode": "area",
            "sizeref": 7961.5,
            "symbol": "circle"
           },
           "mode": "markers",
           "name": "",
           "showlegend": false,
           "type": "scattergeo"
          }
         ],
         "name": "1764"
        },
        {
         "data": [
          {
           "geo": "geo",
           "hovertemplate": "Year=1765<br>Count=%{marker.size}<br>Country=%{location}<extra></extra>",
           "legendgroup": "",
           "locations": [
            "AUT",
            "VAT"
           ],
           "marker": {
            "color": "#636efa",
            "size": [
             100,
             1800
            ],
            "sizemode": "area",
            "sizeref": 7961.5,
            "symbol": "circle"
           },
           "mode": "markers",
           "name": "",
           "showlegend": false,
           "type": "scattergeo"
          }
         ],
         "name": "1765"
        },
        {
         "data": [
          {
           "geo": "geo",
           "hovertemplate": "Year=1766<br>Count=%{marker.size}<br>Country=%{location}<extra></extra>",
           "legendgroup": "",
           "locations": [
            "VAT"
           ],
           "marker": {
            "color": "#636efa",
            "size": [
             1200
            ],
            "sizemode": "area",
            "sizeref": 7961.5,
            "symbol": "circle"
           },
           "mode": "markers",
           "name": "",
           "showlegend": false,
           "type": "scattergeo"
          }
         ],
         "name": "1766"
        },
        {
         "data": [
          {
           "geo": "geo",
           "hovertemplate": "Year=1767<br>Count=%{marker.size}<br>Country=%{location}<extra></extra>",
           "legendgroup": "",
           "locations": [
            "VAT"
           ],
           "marker": {
            "color": "#636efa",
            "size": [
             2100
            ],
            "sizemode": "area",
            "sizeref": 7961.5,
            "symbol": "circle"
           },
           "mode": "markers",
           "name": "",
           "showlegend": false,
           "type": "scattergeo"
          }
         ],
         "name": "1767"
        },
        {
         "data": [
          {
           "geo": "geo",
           "hovertemplate": "Year=1768<br>Count=%{marker.size}<br>Country=%{location}<extra></extra>",
           "legendgroup": "",
           "locations": [
            "AUT",
            "VAT"
           ],
           "marker": {
            "color": "#636efa",
            "size": [
             100,
             800
            ],
            "sizemode": "area",
            "sizeref": 7961.5,
            "symbol": "circle"
           },
           "mode": "markers",
           "name": "",
           "showlegend": false,
           "type": "scattergeo"
          }
         ],
         "name": "1768"
        },
        {
         "data": [
          {
           "geo": "geo",
           "hovertemplate": "Year=1769<br>Count=%{marker.size}<br>Country=%{location}<extra></extra>",
           "legendgroup": "",
           "locations": [
            "AUT",
            "VAT"
           ],
           "marker": {
            "color": "#636efa",
            "size": [
             200,
             1000
            ],
            "sizemode": "area",
            "sizeref": 7961.5,
            "symbol": "circle"
           },
           "mode": "markers",
           "name": "",
           "showlegend": false,
           "type": "scattergeo"
          }
         ],
         "name": "1769"
        },
        {
         "data": [
          {
           "geo": "geo",
           "hovertemplate": "Year=1770<br>Count=%{marker.size}<br>Country=%{location}<extra></extra>",
           "legendgroup": "",
           "locations": [
            "VAT"
           ],
           "marker": {
            "color": "#636efa",
            "size": [
             1000
            ],
            "sizemode": "area",
            "sizeref": 7961.5,
            "symbol": "circle"
           },
           "mode": "markers",
           "name": "",
           "showlegend": false,
           "type": "scattergeo"
          }
         ],
         "name": "1770"
        },
        {
         "data": [
          {
           "geo": "geo",
           "hovertemplate": "Year=1771<br>Count=%{marker.size}<br>Country=%{location}<extra></extra>",
           "legendgroup": "",
           "locations": [
            "AUT",
            "VAT"
           ],
           "marker": {
            "color": "#636efa",
            "size": [
             400,
             900
            ],
            "sizemode": "area",
            "sizeref": 7961.5,
            "symbol": "circle"
           },
           "mode": "markers",
           "name": "",
           "showlegend": false,
           "type": "scattergeo"
          }
         ],
         "name": "1771"
        },
        {
         "data": [
          {
           "geo": "geo",
           "hovertemplate": "Year=1772<br>Count=%{marker.size}<br>Country=%{location}<extra></extra>",
           "legendgroup": "",
           "locations": [
            "VAT"
           ],
           "marker": {
            "color": "#636efa",
            "size": [
             600
            ],
            "sizemode": "area",
            "sizeref": 7961.5,
            "symbol": "circle"
           },
           "mode": "markers",
           "name": "",
           "showlegend": false,
           "type": "scattergeo"
          }
         ],
         "name": "1772"
        },
        {
         "data": [
          {
           "geo": "geo",
           "hovertemplate": "Year=1773<br>Count=%{marker.size}<br>Country=%{location}<extra></extra>",
           "legendgroup": "",
           "locations": [
            "VAT"
           ],
           "marker": {
            "color": "#636efa",
            "size": [
             400
            ],
            "sizemode": "area",
            "sizeref": 7961.5,
            "symbol": "circle"
           },
           "mode": "markers",
           "name": "",
           "showlegend": false,
           "type": "scattergeo"
          }
         ],
         "name": "1773"
        },
        {
         "data": [
          {
           "geo": "geo",
           "hovertemplate": "Year=1774<br>Count=%{marker.size}<br>Country=%{location}<extra></extra>",
           "legendgroup": "",
           "locations": [
            "VAT",
            "AUT"
           ],
           "marker": {
            "color": "#636efa",
            "size": [
             700,
             2600
            ],
            "sizemode": "area",
            "sizeref": 7961.5,
            "symbol": "circle"
           },
           "mode": "markers",
           "name": "",
           "showlegend": false,
           "type": "scattergeo"
          }
         ],
         "name": "1774"
        },
        {
         "data": [
          {
           "geo": "geo",
           "hovertemplate": "Year=1775<br>Count=%{marker.size}<br>Country=%{location}<extra></extra>",
           "legendgroup": "",
           "locations": [
            "VAT"
           ],
           "marker": {
            "color": "#636efa",
            "size": [
             700
            ],
            "sizemode": "area",
            "sizeref": 7961.5,
            "symbol": "circle"
           },
           "mode": "markers",
           "name": "",
           "showlegend": false,
           "type": "scattergeo"
          }
         ],
         "name": "1775"
        },
        {
         "data": [
          {
           "geo": "geo",
           "hovertemplate": "Year=1776<br>Count=%{marker.size}<br>Country=%{location}<extra></extra>",
           "legendgroup": "",
           "locations": [
            "VAT",
            "AUT"
           ],
           "marker": {
            "color": "#636efa",
            "size": [
             1000,
             287500
            ],
            "sizemode": "area",
            "sizeref": 7961.5,
            "symbol": "circle"
           },
           "mode": "markers",
           "name": "",
           "showlegend": false,
           "type": "scattergeo"
          }
         ],
         "name": "1776"
        },
        {
         "data": [
          {
           "geo": "geo",
           "hovertemplate": "Year=1777<br>Count=%{marker.size}<br>Country=%{location}<extra></extra>",
           "legendgroup": "",
           "locations": [
            "VAT",
            "AUT"
           ],
           "marker": {
            "color": "#636efa",
            "size": [
             700,
             8200
            ],
            "sizemode": "area",
            "sizeref": 7961.5,
            "symbol": "circle"
           },
           "mode": "markers",
           "name": "",
           "showlegend": false,
           "type": "scattergeo"
          }
         ],
         "name": "1777"
        },
        {
         "data": [
          {
           "geo": "geo",
           "hovertemplate": "Year=1778<br>Count=%{marker.size}<br>Country=%{location}<extra></extra>",
           "legendgroup": "",
           "locations": [
            "VAT",
            "AUT"
           ],
           "marker": {
            "color": "#636efa",
            "size": [
             500,
             8000
            ],
            "sizemode": "area",
            "sizeref": 7961.5,
            "symbol": "circle"
           },
           "mode": "markers",
           "name": "",
           "showlegend": false,
           "type": "scattergeo"
          }
         ],
         "name": "1778"
        },
        {
         "data": [
          {
           "geo": "geo",
           "hovertemplate": "Year=1779<br>Count=%{marker.size}<br>Country=%{location}<extra></extra>",
           "legendgroup": "",
           "locations": [
            "VAT"
           ],
           "marker": {
            "color": "#636efa",
            "size": [
             500
            ],
            "sizemode": "area",
            "sizeref": 7961.5,
            "symbol": "circle"
           },
           "mode": "markers",
           "name": "",
           "showlegend": false,
           "type": "scattergeo"
          }
         ],
         "name": "1779"
        },
        {
         "data": [
          {
           "geo": "geo",
           "hovertemplate": "Year=1780<br>Count=%{marker.size}<br>Country=%{location}<extra></extra>",
           "legendgroup": "",
           "locations": [
            "VAT",
            "AUT"
           ],
           "marker": {
            "color": "#636efa",
            "size": [
             400,
             9200
            ],
            "sizemode": "area",
            "sizeref": 7961.5,
            "symbol": "circle"
           },
           "mode": "markers",
           "name": "",
           "showlegend": false,
           "type": "scattergeo"
          }
         ],
         "name": "1780"
        },
        {
         "data": [
          {
           "geo": "geo",
           "hovertemplate": "Year=1781<br>Count=%{marker.size}<br>Country=%{location}<extra></extra>",
           "legendgroup": "",
           "locations": [
            "VAT"
           ],
           "marker": {
            "color": "#636efa",
            "size": [
             800
            ],
            "sizemode": "area",
            "sizeref": 7961.5,
            "symbol": "circle"
           },
           "mode": "markers",
           "name": "",
           "showlegend": false,
           "type": "scattergeo"
          }
         ],
         "name": "1781"
        },
        {
         "data": [
          {
           "geo": "geo",
           "hovertemplate": "Year=1782<br>Count=%{marker.size}<br>Country=%{location}<extra></extra>",
           "legendgroup": "",
           "locations": [
            "VAT"
           ],
           "marker": {
            "color": "#636efa",
            "size": [
             600
            ],
            "sizemode": "area",
            "sizeref": 7961.5,
            "symbol": "circle"
           },
           "mode": "markers",
           "name": "",
           "showlegend": false,
           "type": "scattergeo"
          }
         ],
         "name": "1782"
        },
        {
         "data": [
          {
           "geo": "geo",
           "hovertemplate": "Year=1783<br>Count=%{marker.size}<br>Country=%{location}<extra></extra>",
           "legendgroup": "",
           "locations": [
            "VAT"
           ],
           "marker": {
            "color": "#636efa",
            "size": [
             1000
            ],
            "sizemode": "area",
            "sizeref": 7961.5,
            "symbol": "circle"
           },
           "mode": "markers",
           "name": "",
           "showlegend": false,
           "type": "scattergeo"
          }
         ],
         "name": "1783"
        },
        {
         "data": [
          {
           "geo": "geo",
           "hovertemplate": "Year=1784<br>Count=%{marker.size}<br>Country=%{location}<extra></extra>",
           "legendgroup": "",
           "locations": [
            "VAT",
            "AUT"
           ],
           "marker": {
            "color": "#636efa",
            "size": [
             800,
             21900
            ],
            "sizemode": "area",
            "sizeref": 7961.5,
            "symbol": "circle"
           },
           "mode": "markers",
           "name": "",
           "showlegend": false,
           "type": "scattergeo"
          }
         ],
         "name": "1784"
        },
        {
         "data": [
          {
           "geo": "geo",
           "hovertemplate": "Year=1785<br>Count=%{marker.size}<br>Country=%{location}<extra></extra>",
           "legendgroup": "",
           "locations": [
            "VAT",
            "AUT"
           ],
           "marker": {
            "color": "#636efa",
            "size": [
             400,
             3600
            ],
            "sizemode": "area",
            "sizeref": 7961.5,
            "symbol": "circle"
           },
           "mode": "markers",
           "name": "",
           "showlegend": false,
           "type": "scattergeo"
          }
         ],
         "name": "1785"
        },
        {
         "data": [
          {
           "geo": "geo",
           "hovertemplate": "Year=1786<br>Count=%{marker.size}<br>Country=%{location}<extra></extra>",
           "legendgroup": "",
           "locations": [
            "VAT",
            "AUT"
           ],
           "marker": {
            "color": "#636efa",
            "size": [
             700,
             2900
            ],
            "sizemode": "area",
            "sizeref": 7961.5,
            "symbol": "circle"
           },
           "mode": "markers",
           "name": "",
           "showlegend": false,
           "type": "scattergeo"
          }
         ],
         "name": "1786"
        },
        {
         "data": [
          {
           "geo": "geo",
           "hovertemplate": "Year=1787<br>Count=%{marker.size}<br>Country=%{location}<extra></extra>",
           "legendgroup": "",
           "locations": [
            "VAT",
            "AUT"
           ],
           "marker": {
            "color": "#636efa",
            "size": [
             500,
             3400
            ],
            "sizemode": "area",
            "sizeref": 7961.5,
            "symbol": "circle"
           },
           "mode": "markers",
           "name": "",
           "showlegend": false,
           "type": "scattergeo"
          }
         ],
         "name": "1787"
        },
        {
         "data": [
          {
           "geo": "geo",
           "hovertemplate": "Year=1788<br>Count=%{marker.size}<br>Country=%{location}<extra></extra>",
           "legendgroup": "",
           "locations": [
            "AUS",
            "VAT",
            "AUT"
           ],
           "marker": {
            "color": "#636efa",
            "size": [
             100,
             1300,
             2600
            ],
            "sizemode": "area",
            "sizeref": 7961.5,
            "symbol": "circle"
           },
           "mode": "markers",
           "name": "",
           "showlegend": false,
           "type": "scattergeo"
          }
         ],
         "name": "1788"
        },
        {
         "data": [
          {
           "geo": "geo",
           "hovertemplate": "Year=1789<br>Count=%{marker.size}<br>Country=%{location}<extra></extra>",
           "legendgroup": "",
           "locations": [
            "VAT",
            "AUT"
           ],
           "marker": {
            "color": "#636efa",
            "size": [
             900,
             4700
            ],
            "sizemode": "area",
            "sizeref": 7961.5,
            "symbol": "circle"
           },
           "mode": "markers",
           "name": "",
           "showlegend": false,
           "type": "scattergeo"
          }
         ],
         "name": "1789"
        },
        {
         "data": [
          {
           "geo": "geo",
           "hovertemplate": "Year=1790<br>Count=%{marker.size}<br>Country=%{location}<extra></extra>",
           "legendgroup": "",
           "locations": [
            "VAT",
            "AUT"
           ],
           "marker": {
            "color": "#636efa",
            "size": [
             700,
             5500
            ],
            "sizemode": "area",
            "sizeref": 7961.5,
            "symbol": "circle"
           },
           "mode": "markers",
           "name": "",
           "showlegend": false,
           "type": "scattergeo"
          }
         ],
         "name": "1790"
        },
        {
         "data": [
          {
           "geo": "geo",
           "hovertemplate": "Year=1791<br>Count=%{marker.size}<br>Country=%{location}<extra></extra>",
           "legendgroup": "",
           "locations": [
            "VAT",
            "AUT"
           ],
           "marker": {
            "color": "#636efa",
            "size": [
             700,
             3400
            ],
            "sizemode": "area",
            "sizeref": 7961.5,
            "symbol": "circle"
           },
           "mode": "markers",
           "name": "",
           "showlegend": false,
           "type": "scattergeo"
          }
         ],
         "name": "1791"
        },
        {
         "data": [
          {
           "geo": "geo",
           "hovertemplate": "Year=1792<br>Count=%{marker.size}<br>Country=%{location}<extra></extra>",
           "legendgroup": "",
           "locations": [
            "VAT",
            "AUT"
           ],
           "marker": {
            "color": "#636efa",
            "size": [
             500,
             14500
            ],
            "sizemode": "area",
            "sizeref": 7961.5,
            "symbol": "circle"
           },
           "mode": "markers",
           "name": "",
           "showlegend": false,
           "type": "scattergeo"
          }
         ],
         "name": "1792"
        },
        {
         "data": [
          {
           "geo": "geo",
           "hovertemplate": "Year=1793<br>Count=%{marker.size}<br>Country=%{location}<extra></extra>",
           "legendgroup": "",
           "locations": [
            "VAT",
            "AUT"
           ],
           "marker": {
            "color": "#636efa",
            "size": [
             400,
             14700
            ],
            "sizemode": "area",
            "sizeref": 7961.5,
            "symbol": "circle"
           },
           "mode": "markers",
           "name": "",
           "showlegend": false,
           "type": "scattergeo"
          }
         ],
         "name": "1793"
        },
        {
         "data": [
          {
           "geo": "geo",
           "hovertemplate": "Year=1794<br>Count=%{marker.size}<br>Country=%{location}<extra></extra>",
           "legendgroup": "",
           "locations": [
            "VAT",
            "AUT"
           ],
           "marker": {
            "color": "#636efa",
            "size": [
             200,
             27800
            ],
            "sizemode": "area",
            "sizeref": 7961.5,
            "symbol": "circle"
           },
           "mode": "markers",
           "name": "",
           "showlegend": false,
           "type": "scattergeo"
          }
         ],
         "name": "1794"
        },
        {
         "data": [
          {
           "geo": "geo",
           "hovertemplate": "Year=1795<br>Count=%{marker.size}<br>Country=%{location}<extra></extra>",
           "legendgroup": "",
           "locations": [
            "VAT",
            "AUT"
           ],
           "marker": {
            "color": "#636efa",
            "size": [
             700,
             48200
            ],
            "sizemode": "area",
            "sizeref": 7961.5,
            "symbol": "circle"
           },
           "mode": "markers",
           "name": "",
           "showlegend": false,
           "type": "scattergeo"
          }
         ],
         "name": "1795"
        },
        {
         "data": [
          {
           "geo": "geo",
           "hovertemplate": "Year=1796<br>Count=%{marker.size}<br>Country=%{location}<extra></extra>",
           "legendgroup": "",
           "locations": [
            "VAT",
            "AUT"
           ],
           "marker": {
            "color": "#636efa",
            "size": [
             500,
             53100
            ],
            "sizemode": "area",
            "sizeref": 7961.5,
            "symbol": "circle"
           },
           "mode": "markers",
           "name": "",
           "showlegend": false,
           "type": "scattergeo"
          }
         ],
         "name": "1796"
        },
        {
         "data": [
          {
           "geo": "geo",
           "hovertemplate": "Year=1797<br>Count=%{marker.size}<br>Country=%{location}<extra></extra>",
           "legendgroup": "",
           "locations": [
            "VAT",
            "AUT"
           ],
           "marker": {
            "color": "#636efa",
            "size": [
             900,
             34700
            ],
            "sizemode": "area",
            "sizeref": 7961.5,
            "symbol": "circle"
           },
           "mode": "markers",
           "name": "",
           "showlegend": false,
           "type": "scattergeo"
          }
         ],
         "name": "1797"
        },
        {
         "data": [
          {
           "geo": "geo",
           "hovertemplate": "Year=1798<br>Count=%{marker.size}<br>Country=%{location}<extra></extra>",
           "legendgroup": "",
           "locations": [
            "AUT"
           ],
           "marker": {
            "color": "#636efa",
            "size": [
             59900
            ],
            "sizemode": "area",
            "sizeref": 7961.5,
            "symbol": "circle"
           },
           "mode": "markers",
           "name": "",
           "showlegend": false,
           "type": "scattergeo"
          }
         ],
         "name": "1798"
        },
        {
         "data": [
          {
           "geo": "geo",
           "hovertemplate": "Year=1799<br>Count=%{marker.size}<br>Country=%{location}<extra></extra>",
           "legendgroup": "",
           "locations": [
            "AUT"
           ],
           "marker": {
            "color": "#636efa",
            "size": [
             58100
            ],
            "sizemode": "area",
            "sizeref": 7961.5,
            "symbol": "circle"
           },
           "mode": "markers",
           "name": "",
           "showlegend": false,
           "type": "scattergeo"
          }
         ],
         "name": "1799"
        },
        {
         "data": [
          {
           "geo": "geo",
           "hovertemplate": "Year=1800<br>Count=%{marker.size}<br>Country=%{location}<extra></extra>",
           "legendgroup": "",
           "locations": [
            "AUT"
           ],
           "marker": {
            "color": "#636efa",
            "size": [
             51900
            ],
            "sizemode": "area",
            "sizeref": 7961.5,
            "symbol": "circle"
           },
           "mode": "markers",
           "name": "",
           "showlegend": false,
           "type": "scattergeo"
          }
         ],
         "name": "1800"
        },
        {
         "data": [
          {
           "geo": "geo",
           "hovertemplate": "Year=1801<br>Count=%{marker.size}<br>Country=%{location}<extra></extra>",
           "legendgroup": "",
           "locations": [
            "AUT"
           ],
           "marker": {
            "color": "#636efa",
            "size": [
             57000
            ],
            "sizemode": "area",
            "sizeref": 7961.5,
            "symbol": "circle"
           },
           "mode": "markers",
           "name": "",
           "showlegend": false,
           "type": "scattergeo"
          }
         ],
         "name": "1801"
        },
        {
         "data": [
          {
           "geo": "geo",
           "hovertemplate": "Year=1802<br>Count=%{marker.size}<br>Country=%{location}<extra></extra>",
           "legendgroup": "",
           "locations": [
            "AUT"
           ],
           "marker": {
            "color": "#636efa",
            "size": [
             56300
            ],
            "sizemode": "area",
            "sizeref": 7961.5,
            "symbol": "circle"
           },
           "mode": "markers",
           "name": "",
           "showlegend": false,
           "type": "scattergeo"
          }
         ],
         "name": "1802"
        },
        {
         "data": [
          {
           "geo": "geo",
           "hovertemplate": "Year=1803<br>Count=%{marker.size}<br>Country=%{location}<extra></extra>",
           "legendgroup": "",
           "locations": [
            "VAT",
            "AUT"
           ],
           "marker": {
            "color": "#636efa",
            "size": [
             100,
             48700
            ],
            "sizemode": "area",
            "sizeref": 7961.5,
            "symbol": "circle"
           },
           "mode": "markers",
           "name": "",
           "showlegend": false,
           "type": "scattergeo"
          }
         ],
         "name": "1803"
        },
        {
         "data": [
          {
           "geo": "geo",
           "hovertemplate": "Year=1804<br>Count=%{marker.size}<br>Country=%{location}<extra></extra>",
           "legendgroup": "",
           "locations": [
            "VAT",
            "AUT"
           ],
           "marker": {
            "color": "#636efa",
            "size": [
             1300,
             50700
            ],
            "sizemode": "area",
            "sizeref": 7961.5,
            "symbol": "circle"
           },
           "mode": "markers",
           "name": "",
           "showlegend": false,
           "type": "scattergeo"
          }
         ],
         "name": "1804"
        },
        {
         "data": [
          {
           "geo": "geo",
           "hovertemplate": "Year=1805<br>Count=%{marker.size}<br>Country=%{location}<extra></extra>",
           "legendgroup": "",
           "locations": [
            "VAT",
            "AUT"
           ],
           "marker": {
            "color": "#636efa",
            "size": [
             300,
             27500
            ],
            "sizemode": "area",
            "sizeref": 7961.5,
            "symbol": "circle"
           },
           "mode": "markers",
           "name": "",
           "showlegend": false,
           "type": "scattergeo"
          }
         ],
         "name": "1805"
        },
        {
         "data": [
          {
           "geo": "geo",
           "hovertemplate": "Year=1806<br>Count=%{marker.size}<br>Country=%{location}<extra></extra>",
           "legendgroup": "",
           "locations": [
            "VAT",
            "AUT"
           ],
           "marker": {
            "color": "#636efa",
            "size": [
             600,
             17700
            ],
            "sizemode": "area",
            "sizeref": 7961.5,
            "symbol": "circle"
           },
           "mode": "markers",
           "name": "",
           "showlegend": false,
           "type": "scattergeo"
          }
         ],
         "name": "1806"
        },
        {
         "data": [
          {
           "geo": "geo",
           "hovertemplate": "Year=1807<br>Count=%{marker.size}<br>Country=%{location}<extra></extra>",
           "legendgroup": "",
           "locations": [
            "AUT"
           ],
           "marker": {
            "color": "#636efa",
            "size": [
             13100
            ],
            "sizemode": "area",
            "sizeref": 7961.5,
            "symbol": "circle"
           },
           "mode": "markers",
           "name": "",
           "showlegend": false,
           "type": "scattergeo"
          }
         ],
         "name": "1807"
        },
        {
         "data": [
          {
           "geo": "geo",
           "hovertemplate": "Year=1808<br>Count=%{marker.size}<br>Country=%{location}<extra></extra>",
           "legendgroup": "",
           "locations": [
            "VAT",
            "AUT"
           ],
           "marker": {
            "color": "#636efa",
            "size": [
             200,
             12000
            ],
            "sizemode": "area",
            "sizeref": 7961.5,
            "symbol": "circle"
           },
           "mode": "markers",
           "name": "",
           "showlegend": false,
           "type": "scattergeo"
          }
         ],
         "name": "1808"
        },
        {
         "data": [
          {
           "geo": "geo",
           "hovertemplate": "Year=1809<br>Count=%{marker.size}<br>Country=%{location}<extra></extra>",
           "legendgroup": "",
           "locations": [
            "AUT"
           ],
           "marker": {
            "color": "#636efa",
            "size": [
             7000
            ],
            "sizemode": "area",
            "sizeref": 7961.5,
            "symbol": "circle"
           },
           "mode": "markers",
           "name": "",
           "showlegend": false,
           "type": "scattergeo"
          }
         ],
         "name": "1809"
        },
        {
         "data": [
          {
           "geo": "geo",
           "hovertemplate": "Year=1810<br>Count=%{marker.size}<br>Country=%{location}<extra></extra>",
           "legendgroup": "",
           "locations": [
            "AUT"
           ],
           "marker": {
            "color": "#636efa",
            "size": [
             13100
            ],
            "sizemode": "area",
            "sizeref": 7961.5,
            "symbol": "circle"
           },
           "mode": "markers",
           "name": "",
           "showlegend": false,
           "type": "scattergeo"
          }
         ],
         "name": "1810"
        },
        {
         "data": [
          {
           "geo": "geo",
           "hovertemplate": "Year=1811<br>Count=%{marker.size}<br>Country=%{location}<extra></extra>",
           "legendgroup": "",
           "locations": [
            "AUT"
           ],
           "marker": {
            "color": "#636efa",
            "size": [
             8200
            ],
            "sizemode": "area",
            "sizeref": 7961.5,
            "symbol": "circle"
           },
           "mode": "markers",
           "name": "",
           "showlegend": false,
           "type": "scattergeo"
          }
         ],
         "name": "1811"
        },
        {
         "data": [
          {
           "geo": "geo",
           "hovertemplate": "Year=1812<br>Count=%{marker.size}<br>Country=%{location}<extra></extra>",
           "legendgroup": "",
           "locations": [
            "AUT"
           ],
           "marker": {
            "color": "#636efa",
            "size": [
             7600
            ],
            "sizemode": "area",
            "sizeref": 7961.5,
            "symbol": "circle"
           },
           "mode": "markers",
           "name": "",
           "showlegend": false,
           "type": "scattergeo"
          }
         ],
         "name": "1812"
        },
        {
         "data": [
          {
           "geo": "geo",
           "hovertemplate": "Year=1813<br>Count=%{marker.size}<br>Country=%{location}<extra></extra>",
           "legendgroup": "",
           "locations": [
            "AUT"
           ],
           "marker": {
            "color": "#636efa",
            "size": [
             11100
            ],
            "sizemode": "area",
            "sizeref": 7961.5,
            "symbol": "circle"
           },
           "mode": "markers",
           "name": "",
           "showlegend": false,
           "type": "scattergeo"
          }
         ],
         "name": "1813"
        },
        {
         "data": [
          {
           "geo": "geo",
           "hovertemplate": "Year=1814<br>Count=%{marker.size}<br>Country=%{location}<extra></extra>",
           "legendgroup": "",
           "locations": [
            "AUT"
           ],
           "marker": {
            "color": "#636efa",
            "size": [
             9400
            ],
            "sizemode": "area",
            "sizeref": 7961.5,
            "symbol": "circle"
           },
           "mode": "markers",
           "name": "",
           "showlegend": false,
           "type": "scattergeo"
          }
         ],
         "name": "1814"
        },
        {
         "data": [
          {
           "geo": "geo",
           "hovertemplate": "Year=1815<br>Count=%{marker.size}<br>Country=%{location}<extra></extra>",
           "legendgroup": "",
           "locations": [
            "VAT",
            "AUT"
           ],
           "marker": {
            "color": "#636efa",
            "size": [
             200,
             4200
            ],
            "sizemode": "area",
            "sizeref": 7961.5,
            "symbol": "circle"
           },
           "mode": "markers",
           "name": "",
           "showlegend": false,
           "type": "scattergeo"
          }
         ],
         "name": "1815"
        },
        {
         "data": [
          {
           "geo": "geo",
           "hovertemplate": "Year=1816<br>Count=%{marker.size}<br>Country=%{location}<extra></extra>",
           "legendgroup": "",
           "locations": [
            "VAT",
            "AUT"
           ],
           "marker": {
            "color": "#636efa",
            "size": [
             200,
             20000
            ],
            "sizemode": "area",
            "sizeref": 7961.5,
            "symbol": "circle"
           },
           "mode": "markers",
           "name": "",
           "showlegend": false,
           "type": "scattergeo"
          }
         ],
         "name": "1816"
        },
        {
         "data": [
          {
           "geo": "geo",
           "hovertemplate": "Year=1817<br>Count=%{marker.size}<br>Country=%{location}<extra></extra>",
           "legendgroup": "",
           "locations": [
            "VAT",
            "AUT"
           ],
           "marker": {
            "color": "#636efa",
            "size": [
             3900,
             16300
            ],
            "sizemode": "area",
            "sizeref": 7961.5,
            "symbol": "circle"
           },
           "mode": "markers",
           "name": "",
           "showlegend": false,
           "type": "scattergeo"
          }
         ],
         "name": "1817"
        },
        {
         "data": [
          {
           "geo": "geo",
           "hovertemplate": "Year=1818<br>Count=%{marker.size}<br>Country=%{location}<extra></extra>",
           "legendgroup": "",
           "locations": [
            "VAT",
            "AUT"
           ],
           "marker": {
            "color": "#636efa",
            "size": [
             600,
             19100
            ],
            "sizemode": "area",
            "sizeref": 7961.5,
            "symbol": "circle"
           },
           "mode": "markers",
           "name": "",
           "showlegend": false,
           "type": "scattergeo"
          }
         ],
         "name": "1818"
        },
        {
         "data": [
          {
           "geo": "geo",
           "hovertemplate": "Year=1819<br>Count=%{marker.size}<br>Country=%{location}<extra></extra>",
           "legendgroup": "",
           "locations": [
            "VAT",
            "AUT"
           ],
           "marker": {
            "color": "#636efa",
            "size": [
             1000,
             25200
            ],
            "sizemode": "area",
            "sizeref": 7961.5,
            "symbol": "circle"
           },
           "mode": "markers",
           "name": "",
           "showlegend": false,
           "type": "scattergeo"
          }
         ],
         "name": "1819"
        },
        {
         "data": [
          {
           "geo": "geo",
           "hovertemplate": "Year=1820<br>Count=%{marker.size}<br>Country=%{location}<extra></extra>",
           "legendgroup": "",
           "locations": [
            "VAT",
            "AUT"
           ],
           "marker": {
            "color": "#636efa",
            "size": [
             2200,
             34800
            ],
            "sizemode": "area",
            "sizeref": 7961.5,
            "symbol": "circle"
           },
           "mode": "markers",
           "name": "",
           "showlegend": false,
           "type": "scattergeo"
          }
         ],
         "name": "1820"
        },
        {
         "data": [
          {
           "geo": "geo",
           "hovertemplate": "Year=1821<br>Count=%{marker.size}<br>Country=%{location}<extra></extra>",
           "legendgroup": "",
           "locations": [
            "USA",
            "VAT",
            "AUT"
           ],
           "marker": {
            "color": "#636efa",
            "size": [
             100,
             1500,
             63600
            ],
            "sizemode": "area",
            "sizeref": 7961.5,
            "symbol": "circle"
           },
           "mode": "markers",
           "name": "",
           "showlegend": false,
           "type": "scattergeo"
          }
         ],
         "name": "1821"
        },
        {
         "data": [
          {
           "geo": "geo",
           "hovertemplate": "Year=1822<br>Count=%{marker.size}<br>Country=%{location}<extra></extra>",
           "legendgroup": "",
           "locations": [
            "VAT",
            "AUT"
           ],
           "marker": {
            "color": "#636efa",
            "size": [
             3800,
             73700
            ],
            "sizemode": "area",
            "sizeref": 7961.5,
            "symbol": "circle"
           },
           "mode": "markers",
           "name": "",
           "showlegend": false,
           "type": "scattergeo"
          }
         ],
         "name": "1822"
        },
        {
         "data": [
          {
           "geo": "geo",
           "hovertemplate": "Year=1823<br>Count=%{marker.size}<br>Country=%{location}<extra></extra>",
           "legendgroup": "",
           "locations": [
            "VAT",
            "AUT"
           ],
           "marker": {
            "color": "#636efa",
            "size": [
             1800,
             49000
            ],
            "sizemode": "area",
            "sizeref": 7961.5,
            "symbol": "circle"
           },
           "mode": "markers",
           "name": "",
           "showlegend": false,
           "type": "scattergeo"
          }
         ],
         "name": "1823"
        },
        {
         "data": [
          {
           "geo": "geo",
           "hovertemplate": "Year=1824<br>Count=%{marker.size}<br>Country=%{location}<extra></extra>",
           "legendgroup": "",
           "locations": [
            "VAT",
            "AUT"
           ],
           "marker": {
            "color": "#636efa",
            "size": [
             2800,
             33100
            ],
            "sizemode": "area",
            "sizeref": 7961.5,
            "symbol": "circle"
           },
           "mode": "markers",
           "name": "",
           "showlegend": false,
           "type": "scattergeo"
          }
         ],
         "name": "1824"
        },
        {
         "data": [
          {
           "geo": "geo",
           "hovertemplate": "Year=1825<br>Count=%{marker.size}<br>Country=%{location}<extra></extra>",
           "legendgroup": "",
           "locations": [
            "VAT",
            "AUT"
           ],
           "marker": {
            "color": "#636efa",
            "size": [
             2900,
             38400
            ],
            "sizemode": "area",
            "sizeref": 7961.5,
            "symbol": "circle"
           },
           "mode": "markers",
           "name": "",
           "showlegend": false,
           "type": "scattergeo"
          }
         ],
         "name": "1825"
        },
        {
         "data": [
          {
           "geo": "geo",
           "hovertemplate": "Year=1826<br>Count=%{marker.size}<br>Country=%{location}<extra></extra>",
           "legendgroup": "",
           "locations": [
            "VAT",
            "AUT"
           ],
           "marker": {
            "color": "#636efa",
            "size": [
             2500,
             46900
            ],
            "sizemode": "area",
            "sizeref": 7961.5,
            "symbol": "circle"
           },
           "mode": "markers",
           "name": "",
           "showlegend": false,
           "type": "scattergeo"
          }
         ],
         "name": "1826"
        },
        {
         "data": [
          {
           "geo": "geo",
           "hovertemplate": "Year=1827<br>Count=%{marker.size}<br>Country=%{location}<extra></extra>",
           "legendgroup": "",
           "locations": [
            "VAT",
            "AUT"
           ],
           "marker": {
            "color": "#636efa",
            "size": [
             3100,
             36400
            ],
            "sizemode": "area",
            "sizeref": 7961.5,
            "symbol": "circle"
           },
           "mode": "markers",
           "name": "",
           "showlegend": false,
           "type": "scattergeo"
          }
         ],
         "name": "1827"
        },
        {
         "data": [
          {
           "geo": "geo",
           "hovertemplate": "Year=1828<br>Count=%{marker.size}<br>Country=%{location}<extra></extra>",
           "legendgroup": "",
           "locations": [
            "VAT",
            "AUT"
           ],
           "marker": {
            "color": "#636efa",
            "size": [
             1700,
             41300
            ],
            "sizemode": "area",
            "sizeref": 7961.5,
            "symbol": "circle"
           },
           "mode": "markers",
           "name": "",
           "showlegend": false,
           "type": "scattergeo"
          }
         ],
         "name": "1828"
        },
        {
         "data": [
          {
           "geo": "geo",
           "hovertemplate": "Year=1829<br>Count=%{marker.size}<br>Country=%{location}<extra></extra>",
           "legendgroup": "",
           "locations": [
            "VAT",
            "AUT"
           ],
           "marker": {
            "color": "#636efa",
            "size": [
             500,
             63600
            ],
            "sizemode": "area",
            "sizeref": 7961.5,
            "symbol": "circle"
           },
           "mode": "markers",
           "name": "",
           "showlegend": false,
           "type": "scattergeo"
          }
         ],
         "name": "1829"
        },
        {
         "data": [
          {
           "geo": "geo",
           "hovertemplate": "Year=1830<br>Count=%{marker.size}<br>Country=%{location}<extra></extra>",
           "legendgroup": "",
           "locations": [
            "VAT",
            "AUT"
           ],
           "marker": {
            "color": "#636efa",
            "size": [
             500,
             54900
            ],
            "sizemode": "area",
            "sizeref": 7961.5,
            "symbol": "circle"
           },
           "mode": "markers",
           "name": "",
           "showlegend": false,
           "type": "scattergeo"
          }
         ],
         "name": "1830"
        },
        {
         "data": [
          {
           "geo": "geo",
           "hovertemplate": "Year=1831<br>Count=%{marker.size}<br>Country=%{location}<extra></extra>",
           "legendgroup": "",
           "locations": [
            "AUT"
           ],
           "marker": {
            "color": "#636efa",
            "size": [
             62200
            ],
            "sizemode": "area",
            "sizeref": 7961.5,
            "symbol": "circle"
           },
           "mode": "markers",
           "name": "",
           "showlegend": false,
           "type": "scattergeo"
          }
         ],
         "name": "1831"
        },
        {
         "data": [
          {
           "geo": "geo",
           "hovertemplate": "Year=1832<br>Count=%{marker.size}<br>Country=%{location}<extra></extra>",
           "legendgroup": "",
           "locations": [
            "AUT"
           ],
           "marker": {
            "color": "#636efa",
            "size": [
             55900
            ],
            "sizemode": "area",
            "sizeref": 7961.5,
            "symbol": "circle"
           },
           "mode": "markers",
           "name": "",
           "showlegend": false,
           "type": "scattergeo"
          }
         ],
         "name": "1832"
        },
        {
         "data": [
          {
           "geo": "geo",
           "hovertemplate": "Year=1833<br>Count=%{marker.size}<br>Country=%{location}<extra></extra>",
           "legendgroup": "",
           "locations": [
            "VAT",
            "AUT"
           ],
           "marker": {
            "color": "#636efa",
            "size": [
             1300,
             75800
            ],
            "sizemode": "area",
            "sizeref": 7961.5,
            "symbol": "circle"
           },
           "mode": "markers",
           "name": "",
           "showlegend": false,
           "type": "scattergeo"
          }
         ],
         "name": "1833"
        },
        {
         "data": [
          {
           "geo": "geo",
           "hovertemplate": "Year=1834<br>Count=%{marker.size}<br>Country=%{location}<extra></extra>",
           "legendgroup": "",
           "locations": [
            "VAT",
            "AUT"
           ],
           "marker": {
            "color": "#636efa",
            "size": [
             1800,
             83000
            ],
            "sizemode": "area",
            "sizeref": 7961.5,
            "symbol": "circle"
           },
           "mode": "markers",
           "name": "",
           "showlegend": false,
           "type": "scattergeo"
          }
         ],
         "name": "1834"
        },
        {
         "data": [
          {
           "geo": "geo",
           "hovertemplate": "Year=1835<br>Count=%{marker.size}<br>Country=%{location}<extra></extra>",
           "legendgroup": "",
           "locations": [
            "VAT",
            "AUT"
           ],
           "marker": {
            "color": "#636efa",
            "size": [
             2000,
             67800
            ],
            "sizemode": "area",
            "sizeref": 7961.5,
            "symbol": "circle"
           },
           "mode": "markers",
           "name": "",
           "showlegend": false,
           "type": "scattergeo"
          }
         ],
         "name": "1835"
        },
        {
         "data": [
          {
           "geo": "geo",
           "hovertemplate": "Year=1836<br>Count=%{marker.size}<br>Country=%{location}<extra></extra>",
           "legendgroup": "",
           "locations": [
            "VAT",
            "AUT"
           ],
           "marker": {
            "color": "#636efa",
            "size": [
             3600,
             69000
            ],
            "sizemode": "area",
            "sizeref": 7961.5,
            "symbol": "circle"
           },
           "mode": "markers",
           "name": "",
           "showlegend": false,
           "type": "scattergeo"
          }
         ],
         "name": "1836"
        },
        {
         "data": [
          {
           "geo": "geo",
           "hovertemplate": "Year=1837<br>Count=%{marker.size}<br>Country=%{location}<extra></extra>",
           "legendgroup": "",
           "locations": [
            "VAT",
            "AUT"
           ],
           "marker": {
            "color": "#636efa",
            "size": [
             1700,
             62800
            ],
            "sizemode": "area",
            "sizeref": 7961.5,
            "symbol": "circle"
           },
           "mode": "markers",
           "name": "",
           "showlegend": false,
           "type": "scattergeo"
          }
         ],
         "name": "1837"
        },
        {
         "data": [
          {
           "geo": "geo",
           "hovertemplate": "Year=1838<br>Count=%{marker.size}<br>Country=%{location}<extra></extra>",
           "legendgroup": "",
           "locations": [
            "VAT",
            "AUT"
           ],
           "marker": {
            "color": "#636efa",
            "size": [
             2000,
             79100
            ],
            "sizemode": "area",
            "sizeref": 7961.5,
            "symbol": "circle"
           },
           "mode": "markers",
           "name": "",
           "showlegend": false,
           "type": "scattergeo"
          }
         ],
         "name": "1838"
        },
        {
         "data": [
          {
           "geo": "geo",
           "hovertemplate": "Year=1839<br>Count=%{marker.size}<br>Country=%{location}<extra></extra>",
           "legendgroup": "",
           "locations": [
            "VAT",
            "AUT"
           ],
           "marker": {
            "color": "#636efa",
            "size": [
             500,
             73800
            ],
            "sizemode": "area",
            "sizeref": 7961.5,
            "symbol": "circle"
           },
           "mode": "markers",
           "name": "",
           "showlegend": false,
           "type": "scattergeo"
          }
         ],
         "name": "1839"
        },
        {
         "data": [
          {
           "geo": "geo",
           "hovertemplate": "Year=1840<br>Count=%{marker.size}<br>Country=%{location}<extra></extra>",
           "legendgroup": "",
           "locations": [
            "VAT",
            "AUT"
           ],
           "marker": {
            "color": "#636efa",
            "size": [
             1100,
             64000
            ],
            "sizemode": "area",
            "sizeref": 7961.5,
            "symbol": "circle"
           },
           "mode": "markers",
           "name": "",
           "showlegend": false,
           "type": "scattergeo"
          }
         ],
         "name": "1840"
        },
        {
         "data": [
          {
           "geo": "geo",
           "hovertemplate": "Year=1841<br>Count=%{marker.size}<br>Country=%{location}<extra></extra>",
           "legendgroup": "",
           "locations": [
            "VAT",
            "AUT"
           ],
           "marker": {
            "color": "#636efa",
            "size": [
             1300,
             53100
            ],
            "sizemode": "area",
            "sizeref": 7961.5,
            "symbol": "circle"
           },
           "mode": "markers",
           "name": "",
           "showlegend": false,
           "type": "scattergeo"
          }
         ],
         "name": "1841"
        },
        {
         "data": [
          {
           "geo": "geo",
           "hovertemplate": "Year=1842<br>Count=%{marker.size}<br>Country=%{location}<extra></extra>",
           "legendgroup": "",
           "locations": [
            "VAT",
            "AUT"
           ],
           "marker": {
            "color": "#636efa",
            "size": [
             1200,
             61400
            ],
            "sizemode": "area",
            "sizeref": 7961.5,
            "symbol": "circle"
           },
           "mode": "markers",
           "name": "",
           "showlegend": false,
           "type": "scattergeo"
          }
         ],
         "name": "1842"
        },
        {
         "data": [
          {
           "geo": "geo",
           "hovertemplate": "Year=1843<br>Count=%{marker.size}<br>Country=%{location}<extra></extra>",
           "legendgroup": "",
           "locations": [
            "VAT",
            "AUT"
           ],
           "marker": {
            "color": "#636efa",
            "size": [
             800,
             65100
            ],
            "sizemode": "area",
            "sizeref": 7961.5,
            "symbol": "circle"
           },
           "mode": "markers",
           "name": "",
           "showlegend": false,
           "type": "scattergeo"
          }
         ],
         "name": "1843"
        },
        {
         "data": [
          {
           "geo": "geo",
           "hovertemplate": "Year=1844<br>Count=%{marker.size}<br>Country=%{location}<extra></extra>",
           "legendgroup": "",
           "locations": [
            "VAT",
            "AUT"
           ],
           "marker": {
            "color": "#636efa",
            "size": [
             1500,
             56300
            ],
            "sizemode": "area",
            "sizeref": 7961.5,
            "symbol": "circle"
           },
           "mode": "markers",
           "name": "",
           "showlegend": false,
           "type": "scattergeo"
          }
         ],
         "name": "1844"
        },
        {
         "data": [
          {
           "geo": "geo",
           "hovertemplate": "Year=1845<br>Count=%{marker.size}<br>Country=%{location}<extra></extra>",
           "legendgroup": "",
           "locations": [
            "VAT",
            "AUT"
           ],
           "marker": {
            "color": "#636efa",
            "size": [
             2400,
             79700
            ],
            "sizemode": "area",
            "sizeref": 7961.5,
            "symbol": "circle"
           },
           "mode": "markers",
           "name": "",
           "showlegend": false,
           "type": "scattergeo"
          }
         ],
         "name": "1845"
        },
        {
         "data": [
          {
           "geo": "geo",
           "hovertemplate": "Year=1846<br>Count=%{marker.size}<br>Country=%{location}<extra></extra>",
           "legendgroup": "",
           "locations": [
            "VAT",
            "AUT"
           ],
           "marker": {
            "color": "#636efa",
            "size": [
             1100,
             78000
            ],
            "sizemode": "area",
            "sizeref": 7961.5,
            "symbol": "circle"
           },
           "mode": "markers",
           "name": "",
           "showlegend": false,
           "type": "scattergeo"
          }
         ],
         "name": "1846"
        },
        {
         "data": [
          {
           "geo": "geo",
           "hovertemplate": "Year=1847<br>Count=%{marker.size}<br>Country=%{location}<extra></extra>",
           "legendgroup": "",
           "locations": [
            "VAT",
            "AUT"
           ],
           "marker": {
            "color": "#636efa",
            "size": [
             500,
             76600
            ],
            "sizemode": "area",
            "sizeref": 7961.5,
            "symbol": "circle"
           },
           "mode": "markers",
           "name": "",
           "showlegend": false,
           "type": "scattergeo"
          }
         ],
         "name": "1847"
        },
        {
         "data": [
          {
           "geo": "geo",
           "hovertemplate": "Year=1848<br>Count=%{marker.size}<br>Country=%{location}<extra></extra>",
           "legendgroup": "",
           "locations": [
            "VAT",
            "AUT"
           ],
           "marker": {
            "color": "#636efa",
            "size": [
             900,
             11500
            ],
            "sizemode": "area",
            "sizeref": 7961.5,
            "symbol": "circle"
           },
           "mode": "markers",
           "name": "",
           "showlegend": false,
           "type": "scattergeo"
          }
         ],
         "name": "1848"
        },
        {
         "data": [
          {
           "geo": "geo",
           "hovertemplate": "Year=1849<br>Count=%{marker.size}<br>Country=%{location}<extra></extra>",
           "legendgroup": "",
           "locations": [
            "VAT"
           ],
           "marker": {
            "color": "#636efa",
            "size": [
             1200
            ],
            "sizemode": "area",
            "sizeref": 7961.5,
            "symbol": "circle"
           },
           "mode": "markers",
           "name": "",
           "showlegend": false,
           "type": "scattergeo"
          }
         ],
         "name": "1849"
        },
        {
         "data": [
          {
           "geo": "geo",
           "hovertemplate": "Year=1850<br>Count=%{marker.size}<br>Country=%{location}<extra></extra>",
           "legendgroup": "",
           "locations": [
            "VAT"
           ],
           "marker": {
            "color": "#636efa",
            "size": [
             2900
            ],
            "sizemode": "area",
            "sizeref": 7961.5,
            "symbol": "circle"
           },
           "mode": "markers",
           "name": "",
           "showlegend": false,
           "type": "scattergeo"
          }
         ],
         "name": "1850"
        },
        {
         "data": [
          {
           "geo": "geo",
           "hovertemplate": "Year=1851<br>Count=%{marker.size}<br>Country=%{location}<extra></extra>",
           "legendgroup": "",
           "locations": [
            "VAT"
           ],
           "marker": {
            "color": "#636efa",
            "size": [
             1800
            ],
            "sizemode": "area",
            "sizeref": 7961.5,
            "symbol": "circle"
           },
           "mode": "markers",
           "name": "",
           "showlegend": false,
           "type": "scattergeo"
          }
         ],
         "name": "1851"
        },
        {
         "data": [
          {
           "geo": "geo",
           "hovertemplate": "Year=1852<br>Count=%{marker.size}<br>Country=%{location}<extra></extra>",
           "legendgroup": "",
           "locations": [
            "VAT"
           ],
           "marker": {
            "color": "#636efa",
            "size": [
             2700
            ],
            "sizemode": "area",
            "sizeref": 7961.5,
            "symbol": "circle"
           },
           "mode": "markers",
           "name": "",
           "showlegend": false,
           "type": "scattergeo"
          }
         ],
         "name": "1852"
        },
        {
         "data": [
          {
           "geo": "geo",
           "hovertemplate": "Year=1853<br>Count=%{marker.size}<br>Country=%{location}<extra></extra>",
           "legendgroup": "",
           "locations": [
            "VAT"
           ],
           "marker": {
            "color": "#636efa",
            "size": [
             2000
            ],
            "sizemode": "area",
            "sizeref": 7961.5,
            "symbol": "circle"
           },
           "mode": "markers",
           "name": "",
           "showlegend": false,
           "type": "scattergeo"
          }
         ],
         "name": "1853"
        },
        {
         "data": [
          {
           "geo": "geo",
           "hovertemplate": "Year=1854<br>Count=%{marker.size}<br>Country=%{location}<extra></extra>",
           "legendgroup": "",
           "locations": [
            "VAT"
           ],
           "marker": {
            "color": "#636efa",
            "size": [
             2200
            ],
            "sizemode": "area",
            "sizeref": 7961.5,
            "symbol": "circle"
           },
           "mode": "markers",
           "name": "",
           "showlegend": false,
           "type": "scattergeo"
          }
         ],
         "name": "1854"
        },
        {
         "data": [
          {
           "geo": "geo",
           "hovertemplate": "Year=1855<br>Count=%{marker.size}<br>Country=%{location}<extra></extra>",
           "legendgroup": "",
           "locations": [
            "VAT"
           ],
           "marker": {
            "color": "#636efa",
            "size": [
             1500
            ],
            "sizemode": "area",
            "sizeref": 7961.5,
            "symbol": "circle"
           },
           "mode": "markers",
           "name": "",
           "showlegend": false,
           "type": "scattergeo"
          }
         ],
         "name": "1855"
        },
        {
         "data": [
          {
           "geo": "geo",
           "hovertemplate": "Year=1856<br>Count=%{marker.size}<br>Country=%{location}<extra></extra>",
           "legendgroup": "",
           "locations": [
            "VAT"
           ],
           "marker": {
            "color": "#636efa",
            "size": [
             1500
            ],
            "sizemode": "area",
            "sizeref": 7961.5,
            "symbol": "circle"
           },
           "mode": "markers",
           "name": "",
           "showlegend": false,
           "type": "scattergeo"
          }
         ],
         "name": "1856"
        },
        {
         "data": [
          {
           "geo": "geo",
           "hovertemplate": "Year=1857<br>Count=%{marker.size}<br>Country=%{location}<extra></extra>",
           "legendgroup": "",
           "locations": [
            "VAT"
           ],
           "marker": {
            "color": "#636efa",
            "size": [
             2900
            ],
            "sizemode": "area",
            "sizeref": 7961.5,
            "symbol": "circle"
           },
           "mode": "markers",
           "name": "",
           "showlegend": false,
           "type": "scattergeo"
          }
         ],
         "name": "1857"
        },
        {
         "data": [
          {
           "geo": "geo",
           "hovertemplate": "Year=1858<br>Count=%{marker.size}<br>Country=%{location}<extra></extra>",
           "legendgroup": "",
           "locations": [
            "VAT"
           ],
           "marker": {
            "color": "#636efa",
            "size": [
             1100
            ],
            "sizemode": "area",
            "sizeref": 7961.5,
            "symbol": "circle"
           },
           "mode": "markers",
           "name": "",
           "showlegend": false,
           "type": "scattergeo"
          }
         ],
         "name": "1858"
        },
        {
         "data": [
          {
           "geo": "geo",
           "hovertemplate": "Year=1859<br>Count=%{marker.size}<br>Country=%{location}<extra></extra>",
           "legendgroup": "",
           "locations": [
            "VAT"
           ],
           "marker": {
            "color": "#636efa",
            "size": [
             2000
            ],
            "sizemode": "area",
            "sizeref": 7961.5,
            "symbol": "circle"
           },
           "mode": "markers",
           "name": "",
           "showlegend": false,
           "type": "scattergeo"
          }
         ],
         "name": "1859"
        },
        {
         "data": [
          {
           "geo": "geo",
           "hovertemplate": "Year=1860<br>Count=%{marker.size}<br>Country=%{location}<extra></extra>",
           "legendgroup": "",
           "locations": [
            "VAT"
           ],
           "marker": {
            "color": "#636efa",
            "size": [
             1500
            ],
            "sizemode": "area",
            "sizeref": 7961.5,
            "symbol": "circle"
           },
           "mode": "markers",
           "name": "",
           "showlegend": false,
           "type": "scattergeo"
          }
         ],
         "name": "1860"
        },
        {
         "data": [
          {
           "geo": "geo",
           "hovertemplate": "Year=1861<br>Count=%{marker.size}<br>Country=%{location}<extra></extra>",
           "legendgroup": "",
           "locations": [
            "VAT"
           ],
           "marker": {
            "color": "#636efa",
            "size": [
             1500
            ],
            "sizemode": "area",
            "sizeref": 7961.5,
            "symbol": "circle"
           },
           "mode": "markers",
           "name": "",
           "showlegend": false,
           "type": "scattergeo"
          }
         ],
         "name": "1861"
        },
        {
         "data": [
          {
           "geo": "geo",
           "hovertemplate": "Year=1862<br>Count=%{marker.size}<br>Country=%{location}<extra></extra>",
           "legendgroup": "",
           "locations": [
            "VAT"
           ],
           "marker": {
            "color": "#636efa",
            "size": [
             1200
            ],
            "sizemode": "area",
            "sizeref": 7961.5,
            "symbol": "circle"
           },
           "mode": "markers",
           "name": "",
           "showlegend": false,
           "type": "scattergeo"
          }
         ],
         "name": "1862"
        },
        {
         "data": [
          {
           "geo": "geo",
           "hovertemplate": "Year=1863<br>Count=%{marker.size}<br>Country=%{location}<extra></extra>",
           "legendgroup": "",
           "locations": [
            "VAT"
           ],
           "marker": {
            "color": "#636efa",
            "size": [
             1500
            ],
            "sizemode": "area",
            "sizeref": 7961.5,
            "symbol": "circle"
           },
           "mode": "markers",
           "name": "",
           "showlegend": false,
           "type": "scattergeo"
          }
         ],
         "name": "1863"
        },
        {
         "data": [
          {
           "geo": "geo",
           "hovertemplate": "Year=1864<br>Count=%{marker.size}<br>Country=%{location}<extra></extra>",
           "legendgroup": "",
           "locations": [
            "VAT"
           ],
           "marker": {
            "color": "#636efa",
            "size": [
             3900
            ],
            "sizemode": "area",
            "sizeref": 7961.5,
            "symbol": "circle"
           },
           "mode": "markers",
           "name": "",
           "showlegend": false,
           "type": "scattergeo"
          }
         ],
         "name": "1864"
        },
        {
         "data": [
          {
           "geo": "geo",
           "hovertemplate": "Year=1865<br>Count=%{marker.size}<br>Country=%{location}<extra></extra>",
           "legendgroup": "",
           "locations": [
            "VAT"
           ],
           "marker": {
            "color": "#636efa",
            "size": [
             2100
            ],
            "sizemode": "area",
            "sizeref": 7961.5,
            "symbol": "circle"
           },
           "mode": "markers",
           "name": "",
           "showlegend": false,
           "type": "scattergeo"
          }
         ],
         "name": "1865"
        },
        {
         "data": [
          {
           "geo": "geo",
           "hovertemplate": "Year=1866<br>Count=%{marker.size}<br>Country=%{location}<extra></extra>",
           "legendgroup": "",
           "locations": [
            "VAT"
           ],
           "marker": {
            "color": "#636efa",
            "size": [
             2500
            ],
            "sizemode": "area",
            "sizeref": 7961.5,
            "symbol": "circle"
           },
           "mode": "markers",
           "name": "",
           "showlegend": false,
           "type": "scattergeo"
          }
         ],
         "name": "1866"
        },
        {
         "data": [
          {
           "geo": "geo",
           "hovertemplate": "Year=1867<br>Count=%{marker.size}<br>Country=%{location}<extra></extra>",
           "legendgroup": "",
           "locations": [
            "VAT"
           ],
           "marker": {
            "color": "#636efa",
            "size": [
             800
            ],
            "sizemode": "area",
            "sizeref": 7961.5,
            "symbol": "circle"
           },
           "mode": "markers",
           "name": "",
           "showlegend": false,
           "type": "scattergeo"
          }
         ],
         "name": "1867"
        },
        {
         "data": [
          {
           "geo": "geo",
           "hovertemplate": "Year=1868<br>Count=%{marker.size}<br>Country=%{location}<extra></extra>",
           "legendgroup": "",
           "locations": [
            "VAT"
           ],
           "marker": {
            "color": "#636efa",
            "size": [
             1400
            ],
            "sizemode": "area",
            "sizeref": 7961.5,
            "symbol": "circle"
           },
           "mode": "markers",
           "name": "",
           "showlegend": false,
           "type": "scattergeo"
          }
         ],
         "name": "1868"
        },
        {
         "data": [
          {
           "geo": "geo",
           "hovertemplate": "Year=1869<br>Count=%{marker.size}<br>Country=%{location}<extra></extra>",
           "legendgroup": "",
           "locations": [
            "VAT"
           ],
           "marker": {
            "color": "#636efa",
            "size": [
             2200
            ],
            "sizemode": "area",
            "sizeref": 7961.5,
            "symbol": "circle"
           },
           "mode": "markers",
           "name": "",
           "showlegend": false,
           "type": "scattergeo"
          }
         ],
         "name": "1869"
        },
        {
         "data": [
          {
           "geo": "geo",
           "hovertemplate": "Year=1870<br>Count=%{marker.size}<br>Country=%{location}<extra></extra>",
           "legendgroup": "",
           "locations": [
            "VAT"
           ],
           "marker": {
            "color": "#636efa",
            "size": [
             900
            ],
            "sizemode": "area",
            "sizeref": 7961.5,
            "symbol": "circle"
           },
           "mode": "markers",
           "name": "",
           "showlegend": false,
           "type": "scattergeo"
          }
         ],
         "name": "1870"
        },
        {
         "data": [
          {
           "geo": "geo",
           "hovertemplate": "Year=1871<br>Count=%{marker.size}<br>Country=%{location}<extra></extra>",
           "legendgroup": "",
           "locations": [
            "VAT"
           ],
           "marker": {
            "color": "#636efa",
            "size": [
             1400
            ],
            "sizemode": "area",
            "sizeref": 7961.5,
            "symbol": "circle"
           },
           "mode": "markers",
           "name": "",
           "showlegend": false,
           "type": "scattergeo"
          }
         ],
         "name": "1871"
        },
        {
         "data": [
          {
           "geo": "geo",
           "hovertemplate": "Year=1872<br>Count=%{marker.size}<br>Country=%{location}<extra></extra>",
           "legendgroup": "",
           "locations": [
            "VAT"
           ],
           "marker": {
            "color": "#636efa",
            "size": [
             700
            ],
            "sizemode": "area",
            "sizeref": 7961.5,
            "symbol": "circle"
           },
           "mode": "markers",
           "name": "",
           "showlegend": false,
           "type": "scattergeo"
          }
         ],
         "name": "1872"
        },
        {
         "data": [
          {
           "geo": "geo",
           "hovertemplate": "Year=1873<br>Count=%{marker.size}<br>Country=%{location}<extra></extra>",
           "legendgroup": "",
           "locations": [
            "USA",
            "VAT"
           ],
           "marker": {
            "color": "#636efa",
            "size": [
             200,
             1500
            ],
            "sizemode": "area",
            "sizeref": 7961.5,
            "symbol": "circle"
           },
           "mode": "markers",
           "name": "",
           "showlegend": false,
           "type": "scattergeo"
          }
         ],
         "name": "1873"
        },
        {
         "data": [
          {
           "geo": "geo",
           "hovertemplate": "Year=1874<br>Count=%{marker.size}<br>Country=%{location}<extra></extra>",
           "legendgroup": "",
           "locations": [
            "VAT"
           ],
           "marker": {
            "color": "#636efa",
            "size": [
             1200
            ],
            "sizemode": "area",
            "sizeref": 7961.5,
            "symbol": "circle"
           },
           "mode": "markers",
           "name": "",
           "showlegend": false,
           "type": "scattergeo"
          }
         ],
         "name": "1874"
        },
        {
         "data": [
          {
           "geo": "geo",
           "hovertemplate": "Year=1875<br>Count=%{marker.size}<br>Country=%{location}<extra></extra>",
           "legendgroup": "",
           "locations": [
            "VAT"
           ],
           "marker": {
            "color": "#636efa",
            "size": [
             1700
            ],
            "sizemode": "area",
            "sizeref": 7961.5,
            "symbol": "circle"
           },
           "mode": "markers",
           "name": "",
           "showlegend": false,
           "type": "scattergeo"
          }
         ],
         "name": "1875"
        },
        {
         "data": [
          {
           "geo": "geo",
           "hovertemplate": "Year=1876<br>Count=%{marker.size}<br>Country=%{location}<extra></extra>",
           "legendgroup": "",
           "locations": [
            "VAT"
           ],
           "marker": {
            "color": "#636efa",
            "size": [
             2300
            ],
            "sizemode": "area",
            "sizeref": 7961.5,
            "symbol": "circle"
           },
           "mode": "markers",
           "name": "",
           "showlegend": false,
           "type": "scattergeo"
          }
         ],
         "name": "1876"
        },
        {
         "data": [
          {
           "geo": "geo",
           "hovertemplate": "Year=1877<br>Count=%{marker.size}<br>Country=%{location}<extra></extra>",
           "legendgroup": "",
           "locations": [
            "VAT"
           ],
           "marker": {
            "color": "#636efa",
            "size": [
             2400
            ],
            "sizemode": "area",
            "sizeref": 7961.5,
            "symbol": "circle"
           },
           "mode": "markers",
           "name": "",
           "showlegend": false,
           "type": "scattergeo"
          }
         ],
         "name": "1877"
        },
        {
         "data": [
          {
           "geo": "geo",
           "hovertemplate": "Year=1878<br>Count=%{marker.size}<br>Country=%{location}<extra></extra>",
           "legendgroup": "",
           "locations": [
            "VAT"
           ],
           "marker": {
            "color": "#636efa",
            "size": [
             1900
            ],
            "sizemode": "area",
            "sizeref": 7961.5,
            "symbol": "circle"
           },
           "mode": "markers",
           "name": "",
           "showlegend": false,
           "type": "scattergeo"
          }
         ],
         "name": "1878"
        },
        {
         "data": [
          {
           "geo": "geo",
           "hovertemplate": "Year=1879<br>Count=%{marker.size}<br>Country=%{location}<extra></extra>",
           "legendgroup": "",
           "locations": [
            "VAT"
           ],
           "marker": {
            "color": "#636efa",
            "size": [
             1000
            ],
            "sizemode": "area",
            "sizeref": 7961.5,
            "symbol": "circle"
           },
           "mode": "markers",
           "name": "",
           "showlegend": false,
           "type": "scattergeo"
          }
         ],
         "name": "1879"
        },
        {
         "data": [
          {
           "geo": "geo",
           "hovertemplate": "Year=1880<br>Count=%{marker.size}<br>Country=%{location}<extra></extra>",
           "legendgroup": "",
           "locations": [
            "VAT"
           ],
           "marker": {
            "color": "#636efa",
            "size": [
             900
            ],
            "sizemode": "area",
            "sizeref": 7961.5,
            "symbol": "circle"
           },
           "mode": "markers",
           "name": "",
           "showlegend": false,
           "type": "scattergeo"
          }
         ],
         "name": "1880"
        },
        {
         "data": [
          {
           "geo": "geo",
           "hovertemplate": "Year=1881<br>Count=%{marker.size}<br>Country=%{location}<extra></extra>",
           "legendgroup": "",
           "locations": [
            "VAT"
           ],
           "marker": {
            "color": "#636efa",
            "size": [
             2600
            ],
            "sizemode": "area",
            "sizeref": 7961.5,
            "symbol": "circle"
           },
           "mode": "markers",
           "name": "",
           "showlegend": false,
           "type": "scattergeo"
          }
         ],
         "name": "1881"
        },
        {
         "data": [
          {
           "geo": "geo",
           "hovertemplate": "Year=1882<br>Count=%{marker.size}<br>Country=%{location}<extra></extra>",
           "legendgroup": "",
           "locations": [
            "VAT"
           ],
           "marker": {
            "color": "#636efa",
            "size": [
             2000
            ],
            "sizemode": "area",
            "sizeref": 7961.5,
            "symbol": "circle"
           },
           "mode": "markers",
           "name": "",
           "showlegend": false,
           "type": "scattergeo"
          }
         ],
         "name": "1882"
        },
        {
         "data": [
          {
           "geo": "geo",
           "hovertemplate": "Year=1883<br>Count=%{marker.size}<br>Country=%{location}<extra></extra>",
           "legendgroup": "",
           "locations": [
            "AUS",
            "VAT"
           ],
           "marker": {
            "color": "#636efa",
            "size": [
             100,
             200
            ],
            "sizemode": "area",
            "sizeref": 7961.5,
            "symbol": "circle"
           },
           "mode": "markers",
           "name": "",
           "showlegend": false,
           "type": "scattergeo"
          }
         ],
         "name": "1883"
        },
        {
         "data": [
          {
           "geo": "geo",
           "hovertemplate": "Year=1884<br>Count=%{marker.size}<br>Country=%{location}<extra></extra>",
           "legendgroup": "",
           "locations": [
            "VAT"
           ],
           "marker": {
            "color": "#636efa",
            "size": [
             600
            ],
            "sizemode": "area",
            "sizeref": 7961.5,
            "symbol": "circle"
           },
           "mode": "markers",
           "name": "",
           "showlegend": false,
           "type": "scattergeo"
          }
         ],
         "name": "1884"
        },
        {
         "data": [
          {
           "geo": "geo",
           "hovertemplate": "Year=1885<br>Count=%{marker.size}<br>Country=%{location}<extra></extra>",
           "legendgroup": "",
           "locations": [
            "AUS",
            "VAT"
           ],
           "marker": {
            "color": "#636efa",
            "size": [
             100,
             700
            ],
            "sizemode": "area",
            "sizeref": 7961.5,
            "symbol": "circle"
           },
           "mode": "markers",
           "name": "",
           "showlegend": false,
           "type": "scattergeo"
          }
         ],
         "name": "1885"
        },
        {
         "data": [
          {
           "geo": "geo",
           "hovertemplate": "Year=1886<br>Count=%{marker.size}<br>Country=%{location}<extra></extra>",
           "legendgroup": "",
           "locations": [
            "VAT"
           ],
           "marker": {
            "color": "#636efa",
            "size": [
             1200
            ],
            "sizemode": "area",
            "sizeref": 7961.5,
            "symbol": "circle"
           },
           "mode": "markers",
           "name": "",
           "showlegend": false,
           "type": "scattergeo"
          }
         ],
         "name": "1886"
        },
        {
         "data": [
          {
           "geo": "geo",
           "hovertemplate": "Year=1887<br>Count=%{marker.size}<br>Country=%{location}<extra></extra>",
           "legendgroup": "",
           "locations": [
            "VAT"
           ],
           "marker": {
            "color": "#636efa",
            "size": [
             500
            ],
            "sizemode": "area",
            "sizeref": 7961.5,
            "symbol": "circle"
           },
           "mode": "markers",
           "name": "",
           "showlegend": false,
           "type": "scattergeo"
          }
         ],
         "name": "1887"
        },
        {
         "data": [
          {
           "geo": "geo",
           "hovertemplate": "Year=1888<br>Count=%{marker.size}<br>Country=%{location}<extra></extra>",
           "legendgroup": "",
           "locations": [
            "VAT"
           ],
           "marker": {
            "color": "#636efa",
            "size": [
             500
            ],
            "sizemode": "area",
            "sizeref": 7961.5,
            "symbol": "circle"
           },
           "mode": "markers",
           "name": "",
           "showlegend": false,
           "type": "scattergeo"
          }
         ],
         "name": "1888"
        },
        {
         "data": [
          {
           "geo": "geo",
           "hovertemplate": "Year=1889<br>Count=%{marker.size}<br>Country=%{location}<extra></extra>",
           "legendgroup": "",
           "locations": [
            "AUS",
            "VAT"
           ],
           "marker": {
            "color": "#636efa",
            "size": [
             100,
             500
            ],
            "sizemode": "area",
            "sizeref": 7961.5,
            "symbol": "circle"
           },
           "mode": "markers",
           "name": "",
           "showlegend": false,
           "type": "scattergeo"
          }
         ],
         "name": "1889"
        },
        {
         "data": [
          {
           "geo": "geo",
           "hovertemplate": "Year=1890<br>Count=%{marker.size}<br>Country=%{location}<extra></extra>",
           "legendgroup": "",
           "locations": [
            "VAT"
           ],
           "marker": {
            "color": "#636efa",
            "size": [
             1300
            ],
            "sizemode": "area",
            "sizeref": 7961.5,
            "symbol": "circle"
           },
           "mode": "markers",
           "name": "",
           "showlegend": false,
           "type": "scattergeo"
          }
         ],
         "name": "1890"
        },
        {
         "data": [
          {
           "geo": "geo",
           "hovertemplate": "Year=1891<br>Count=%{marker.size}<br>Country=%{location}<extra></extra>",
           "legendgroup": "",
           "locations": [
            "VAT"
           ],
           "marker": {
            "color": "#636efa",
            "size": [
             1300
            ],
            "sizemode": "area",
            "sizeref": 7961.5,
            "symbol": "circle"
           },
           "mode": "markers",
           "name": "",
           "showlegend": false,
           "type": "scattergeo"
          }
         ],
         "name": "1891"
        },
        {
         "data": [
          {
           "geo": "geo",
           "hovertemplate": "Year=1892<br>Count=%{marker.size}<br>Country=%{location}<extra></extra>",
           "legendgroup": "",
           "locations": [
            "CHN",
            "VAT"
           ],
           "marker": {
            "color": "#636efa",
            "size": [
             200,
             3100
            ],
            "sizemode": "area",
            "sizeref": 7961.5,
            "symbol": "circle"
           },
           "mode": "markers",
           "name": "",
           "showlegend": false,
           "type": "scattergeo"
          }
         ],
         "name": "1892"
        },
        {
         "data": [
          {
           "geo": "geo",
           "hovertemplate": "Year=1893<br>Count=%{marker.size}<br>Country=%{location}<extra></extra>",
           "legendgroup": "",
           "locations": [
            "VAT"
           ],
           "marker": {
            "color": "#636efa",
            "size": [
             1400
            ],
            "sizemode": "area",
            "sizeref": 7961.5,
            "symbol": "circle"
           },
           "mode": "markers",
           "name": "",
           "showlegend": false,
           "type": "scattergeo"
          }
         ],
         "name": "1893"
        },
        {
         "data": [
          {
           "geo": "geo",
           "hovertemplate": "Year=1894<br>Count=%{marker.size}<br>Country=%{location}<extra></extra>",
           "legendgroup": "",
           "locations": [
            "AUS",
            "VAT"
           ],
           "marker": {
            "color": "#636efa",
            "size": [
             100,
             1200
            ],
            "sizemode": "area",
            "sizeref": 7961.5,
            "symbol": "circle"
           },
           "mode": "markers",
           "name": "",
           "showlegend": false,
           "type": "scattergeo"
          }
         ],
         "name": "1894"
        },
        {
         "data": [
          {
           "geo": "geo",
           "hovertemplate": "Year=1895<br>Count=%{marker.size}<br>Country=%{location}<extra></extra>",
           "legendgroup": "",
           "locations": [
            "VAT"
           ],
           "marker": {
            "color": "#636efa",
            "size": [
             1500
            ],
            "sizemode": "area",
            "sizeref": 7961.5,
            "symbol": "circle"
           },
           "mode": "markers",
           "name": "",
           "showlegend": false,
           "type": "scattergeo"
          }
         ],
         "name": "1895"
        },
        {
         "data": [
          {
           "geo": "geo",
           "hovertemplate": "Year=1896<br>Count=%{marker.size}<br>Country=%{location}<extra></extra>",
           "legendgroup": "",
           "locations": [
            "VAT"
           ],
           "marker": {
            "color": "#636efa",
            "size": [
             1700
            ],
            "sizemode": "area",
            "sizeref": 7961.5,
            "symbol": "circle"
           },
           "mode": "markers",
           "name": "",
           "showlegend": false,
           "type": "scattergeo"
          }
         ],
         "name": "1896"
        },
        {
         "data": [
          {
           "geo": "geo",
           "hovertemplate": "Year=1897<br>Count=%{marker.size}<br>Country=%{location}<extra></extra>",
           "legendgroup": "",
           "locations": [
            "VAT"
           ],
           "marker": {
            "color": "#636efa",
            "size": [
             600
            ],
            "sizemode": "area",
            "sizeref": 7961.5,
            "symbol": "circle"
           },
           "mode": "markers",
           "name": "",
           "showlegend": false,
           "type": "scattergeo"
          }
         ],
         "name": "1897"
        },
        {
         "data": [
          {
           "geo": "geo",
           "hovertemplate": "Year=1898<br>Count=%{marker.size}<br>Country=%{location}<extra></extra>",
           "legendgroup": "",
           "locations": [
            "AUS",
            "VAT"
           ],
           "marker": {
            "color": "#636efa",
            "size": [
             300,
             500
            ],
            "sizemode": "area",
            "sizeref": 7961.5,
            "symbol": "circle"
           },
           "mode": "markers",
           "name": "",
           "showlegend": false,
           "type": "scattergeo"
          }
         ],
         "name": "1898"
        },
        {
         "data": [
          {
           "geo": "geo",
           "hovertemplate": "Year=1900<br>Count=%{marker.size}<br>Country=%{location}<extra></extra>",
           "legendgroup": "",
           "locations": [
            "AUS"
           ],
           "marker": {
            "color": "#636efa",
            "size": [
             100
            ],
            "sizemode": "area",
            "sizeref": 7961.5,
            "symbol": "circle"
           },
           "mode": "markers",
           "name": "",
           "showlegend": false,
           "type": "scattergeo"
          }
         ],
         "name": "1900"
        },
        {
         "data": [
          {
           "geo": "geo",
           "hovertemplate": "Year=1901<br>Count=%{marker.size}<br>Country=%{location}<extra></extra>",
           "legendgroup": "",
           "locations": [
            "AUS",
            "VAT"
           ],
           "marker": {
            "color": "#636efa",
            "size": [
             300,
             500
            ],
            "sizemode": "area",
            "sizeref": 7961.5,
            "symbol": "circle"
           },
           "mode": "markers",
           "name": "",
           "showlegend": false,
           "type": "scattergeo"
          }
         ],
         "name": "1901"
        },
        {
         "data": [
          {
           "geo": "geo",
           "hovertemplate": "Year=1902<br>Count=%{marker.size}<br>Country=%{location}<extra></extra>",
           "legendgroup": "",
           "locations": [
            "VAT"
           ],
           "marker": {
            "color": "#636efa",
            "size": [
             200
            ],
            "sizemode": "area",
            "sizeref": 7961.5,
            "symbol": "circle"
           },
           "mode": "markers",
           "name": "",
           "showlegend": false,
           "type": "scattergeo"
          }
         ],
         "name": "1902"
        },
        {
         "data": [
          {
           "geo": "geo",
           "hovertemplate": "Year=1903<br>Count=%{marker.size}<br>Country=%{location}<extra></extra>",
           "legendgroup": "",
           "locations": [
            "VAT"
           ],
           "marker": {
            "color": "#636efa",
            "size": [
             1400
            ],
            "sizemode": "area",
            "sizeref": 7961.5,
            "symbol": "circle"
           },
           "mode": "markers",
           "name": "",
           "showlegend": false,
           "type": "scattergeo"
          }
         ],
         "name": "1903"
        },
        {
         "data": [
          {
           "geo": "geo",
           "hovertemplate": "Year=1904<br>Count=%{marker.size}<br>Country=%{location}<extra></extra>",
           "legendgroup": "",
           "locations": [
            "VAT"
           ],
           "marker": {
            "color": "#636efa",
            "size": [
             300
            ],
            "sizemode": "area",
            "sizeref": 7961.5,
            "symbol": "circle"
           },
           "mode": "markers",
           "name": "",
           "showlegend": false,
           "type": "scattergeo"
          }
         ],
         "name": "1904"
        },
        {
         "data": [
          {
           "geo": "geo",
           "hovertemplate": "Year=1905<br>Count=%{marker.size}<br>Country=%{location}<extra></extra>",
           "legendgroup": "",
           "locations": [
            "AUS",
            "VAT"
           ],
           "marker": {
            "color": "#636efa",
            "size": [
             100,
             200
            ],
            "sizemode": "area",
            "sizeref": 7961.5,
            "symbol": "circle"
           },
           "mode": "markers",
           "name": "",
           "showlegend": false,
           "type": "scattergeo"
          }
         ],
         "name": "1905"
        },
        {
         "data": [
          {
           "geo": "geo",
           "hovertemplate": "Year=1906<br>Count=%{marker.size}<br>Country=%{location}<extra></extra>",
           "legendgroup": "",
           "locations": [
            "AUS",
            "VAT"
           ],
           "marker": {
            "color": "#636efa",
            "size": [
             100,
             800
            ],
            "sizemode": "area",
            "sizeref": 7961.5,
            "symbol": "circle"
           },
           "mode": "markers",
           "name": "",
           "showlegend": false,
           "type": "scattergeo"
          }
         ],
         "name": "1906"
        },
        {
         "data": [
          {
           "geo": "geo",
           "hovertemplate": "Year=1907<br>Count=%{marker.size}<br>Country=%{location}<extra></extra>",
           "legendgroup": "",
           "locations": [
            "VAT"
           ],
           "marker": {
            "color": "#636efa",
            "size": [
             1100
            ],
            "sizemode": "area",
            "sizeref": 7961.5,
            "symbol": "circle"
           },
           "mode": "markers",
           "name": "",
           "showlegend": false,
           "type": "scattergeo"
          }
         ],
         "name": "1907"
        },
        {
         "data": [
          {
           "geo": "geo",
           "hovertemplate": "Year=1908<br>Count=%{marker.size}<br>Country=%{location}<extra></extra>",
           "legendgroup": "",
           "locations": [
            "AUS",
            "VAT"
           ],
           "marker": {
            "color": "#636efa",
            "size": [
             100,
             1200
            ],
            "sizemode": "area",
            "sizeref": 7961.5,
            "symbol": "circle"
           },
           "mode": "markers",
           "name": "",
           "showlegend": false,
           "type": "scattergeo"
          }
         ],
         "name": "1908"
        },
        {
         "data": [
          {
           "geo": "geo",
           "hovertemplate": "Year=1909<br>Count=%{marker.size}<br>Country=%{location}<extra></extra>",
           "legendgroup": "",
           "locations": [
            "AUS",
            "VAT"
           ],
           "marker": {
            "color": "#636efa",
            "size": [
             100,
             1900
            ],
            "sizemode": "area",
            "sizeref": 7961.5,
            "symbol": "circle"
           },
           "mode": "markers",
           "name": "",
           "showlegend": false,
           "type": "scattergeo"
          }
         ],
         "name": "1909"
        },
        {
         "data": [
          {
           "geo": "geo",
           "hovertemplate": "Year=1910<br>Count=%{marker.size}<br>Country=%{location}<extra></extra>",
           "legendgroup": "",
           "locations": [
            "VAT"
           ],
           "marker": {
            "color": "#636efa",
            "size": [
             1300
            ],
            "sizemode": "area",
            "sizeref": 7961.5,
            "symbol": "circle"
           },
           "mode": "markers",
           "name": "",
           "showlegend": false,
           "type": "scattergeo"
          }
         ],
         "name": "1910"
        },
        {
         "data": [
          {
           "geo": "geo",
           "hovertemplate": "Year=1911<br>Count=%{marker.size}<br>Country=%{location}<extra></extra>",
           "legendgroup": "",
           "locations": [
            "VAT"
           ],
           "marker": {
            "color": "#636efa",
            "size": [
             3200
            ],
            "sizemode": "area",
            "sizeref": 7961.5,
            "symbol": "circle"
           },
           "mode": "markers",
           "name": "",
           "showlegend": false,
           "type": "scattergeo"
          }
         ],
         "name": "1911"
        },
        {
         "data": [
          {
           "geo": "geo",
           "hovertemplate": "Year=1912<br>Count=%{marker.size}<br>Country=%{location}<extra></extra>",
           "legendgroup": "",
           "locations": [
            "AUS",
            "VAT"
           ],
           "marker": {
            "color": "#636efa",
            "size": [
             100,
             1200
            ],
            "sizemode": "area",
            "sizeref": 7961.5,
            "symbol": "circle"
           },
           "mode": "markers",
           "name": "",
           "showlegend": false,
           "type": "scattergeo"
          }
         ],
         "name": "1912"
        },
        {
         "data": [
          {
           "geo": "geo",
           "hovertemplate": "Year=1913<br>Count=%{marker.size}<br>Country=%{location}<extra></extra>",
           "legendgroup": "",
           "locations": [
            "VAT"
           ],
           "marker": {
            "color": "#636efa",
            "size": [
             1400
            ],
            "sizemode": "area",
            "sizeref": 7961.5,
            "symbol": "circle"
           },
           "mode": "markers",
           "name": "",
           "showlegend": false,
           "type": "scattergeo"
          }
         ],
         "name": "1913"
        },
        {
         "data": [
          {
           "geo": "geo",
           "hovertemplate": "Year=1914<br>Count=%{marker.size}<br>Country=%{location}<extra></extra>",
           "legendgroup": "",
           "locations": [
            "VAT"
           ],
           "marker": {
            "color": "#636efa",
            "size": [
             800
            ],
            "sizemode": "area",
            "sizeref": 7961.5,
            "symbol": "circle"
           },
           "mode": "markers",
           "name": "",
           "showlegend": false,
           "type": "scattergeo"
          }
         ],
         "name": "1914"
        },
        {
         "data": [
          {
           "geo": "geo",
           "hovertemplate": "Year=1915<br>Count=%{marker.size}<br>Country=%{location}<extra></extra>",
           "legendgroup": "",
           "locations": [
            "VAT"
           ],
           "marker": {
            "color": "#636efa",
            "size": [
             400
            ],
            "sizemode": "area",
            "sizeref": 7961.5,
            "symbol": "circle"
           },
           "mode": "markers",
           "name": "",
           "showlegend": false,
           "type": "scattergeo"
          }
         ],
         "name": "1915"
        },
        {
         "data": [
          {
           "geo": "geo",
           "hovertemplate": "Year=1916<br>Count=%{marker.size}<br>Country=%{location}<extra></extra>",
           "legendgroup": "",
           "locations": [
            "VAT"
           ],
           "marker": {
            "color": "#636efa",
            "size": [
             500
            ],
            "sizemode": "area",
            "sizeref": 7961.5,
            "symbol": "circle"
           },
           "mode": "markers",
           "name": "",
           "showlegend": false,
           "type": "scattergeo"
          }
         ],
         "name": "1916"
        },
        {
         "data": [
          {
           "geo": "geo",
           "hovertemplate": "Year=1918<br>Count=%{marker.size}<br>Country=%{location}<extra></extra>",
           "legendgroup": "",
           "locations": [
            "AUS",
            "VAT"
           ],
           "marker": {
            "color": "#636efa",
            "size": [
             100,
             200
            ],
            "sizemode": "area",
            "sizeref": 7961.5,
            "symbol": "circle"
           },
           "mode": "markers",
           "name": "",
           "showlegend": false,
           "type": "scattergeo"
          }
         ],
         "name": "1918"
        },
        {
         "data": [
          {
           "geo": "geo",
           "hovertemplate": "Year=1919<br>Count=%{marker.size}<br>Country=%{location}<extra></extra>",
           "legendgroup": "",
           "locations": [
            "AUS",
            "VAT"
           ],
           "marker": {
            "color": "#636efa",
            "size": [
             100,
             100
            ],
            "sizemode": "area",
            "sizeref": 7961.5,
            "symbol": "circle"
           },
           "mode": "markers",
           "name": "",
           "showlegend": false,
           "type": "scattergeo"
          }
         ],
         "name": "1919"
        },
        {
         "data": [
          {
           "geo": "geo",
           "hovertemplate": "Year=1920<br>Count=%{marker.size}<br>Country=%{location}<extra></extra>",
           "legendgroup": "",
           "locations": [
            "VAT"
           ],
           "marker": {
            "color": "#636efa",
            "size": [
             300
            ],
            "sizemode": "area",
            "sizeref": 7961.5,
            "symbol": "circle"
           },
           "mode": "markers",
           "name": "",
           "showlegend": false,
           "type": "scattergeo"
          }
         ],
         "name": "1920"
        },
        {
         "data": [
          {
           "geo": "geo",
           "hovertemplate": "Year=1921<br>Count=%{marker.size}<br>Country=%{location}<extra></extra>",
           "legendgroup": "",
           "locations": [
            "AUS",
            "ITA",
            "VAT"
           ],
           "marker": {
            "color": "#636efa",
            "size": [
             100,
             100,
             400
            ],
            "sizemode": "area",
            "sizeref": 7961.5,
            "symbol": "circle"
           },
           "mode": "markers",
           "name": "",
           "showlegend": false,
           "type": "scattergeo"
          }
         ],
         "name": "1921"
        },
        {
         "data": [
          {
           "geo": "geo",
           "hovertemplate": "Year=1922<br>Count=%{marker.size}<br>Country=%{location}<extra></extra>",
           "legendgroup": "",
           "locations": [
            "AUS",
            "VAT"
           ],
           "marker": {
            "color": "#636efa",
            "size": [
             100,
             300
            ],
            "sizemode": "area",
            "sizeref": 7961.5,
            "symbol": "circle"
           },
           "mode": "markers",
           "name": "",
           "showlegend": false,
           "type": "scattergeo"
          }
         ],
         "name": "1922"
        },
        {
         "data": [
          {
           "geo": "geo",
           "hovertemplate": "Year=1923<br>Count=%{marker.size}<br>Country=%{location}<extra></extra>",
           "legendgroup": "",
           "locations": [
            "AUS",
            "VAT",
            "TUR"
           ],
           "marker": {
            "color": "#636efa",
            "size": [
             200,
             500,
             900
            ],
            "sizemode": "area",
            "sizeref": 7961.5,
            "symbol": "circle"
           },
           "mode": "markers",
           "name": "",
           "showlegend": false,
           "type": "scattergeo"
          }
         ],
         "name": "1923"
        },
        {
         "data": [
          {
           "geo": "geo",
           "hovertemplate": "Year=1924<br>Count=%{marker.size}<br>Country=%{location}<extra></extra>",
           "legendgroup": "",
           "locations": [
            "AUS",
            "VAT"
           ],
           "marker": {
            "color": "#636efa",
            "size": [
             100,
             200
            ],
            "sizemode": "area",
            "sizeref": 7961.5,
            "symbol": "circle"
           },
           "mode": "markers",
           "name": "",
           "showlegend": false,
           "type": "scattergeo"
          }
         ],
         "name": "1924"
        },
        {
         "data": [
          {
           "geo": "geo",
           "hovertemplate": "Year=1925<br>Count=%{marker.size}<br>Country=%{location}<extra></extra>",
           "legendgroup": "",
           "locations": [
            "AUS",
            "VAT"
           ],
           "marker": {
            "color": "#636efa",
            "size": [
             700,
             800
            ],
            "sizemode": "area",
            "sizeref": 7961.5,
            "symbol": "circle"
           },
           "mode": "markers",
           "name": "",
           "showlegend": false,
           "type": "scattergeo"
          }
         ],
         "name": "1925"
        },
        {
         "data": [
          {
           "geo": "geo",
           "hovertemplate": "Year=1926<br>Count=%{marker.size}<br>Country=%{location}<extra></extra>",
           "legendgroup": "",
           "locations": [
            "AUS",
            "VAT"
           ],
           "marker": {
            "color": "#636efa",
            "size": [
             500,
             1000
            ],
            "sizemode": "area",
            "sizeref": 7961.5,
            "symbol": "circle"
           },
           "mode": "markers",
           "name": "",
           "showlegend": false,
           "type": "scattergeo"
          }
         ],
         "name": "1926"
        },
        {
         "data": [
          {
           "geo": "geo",
           "hovertemplate": "Year=1927<br>Count=%{marker.size}<br>Country=%{location}<extra></extra>",
           "legendgroup": "",
           "locations": [
            "VAT",
            "AUS"
           ],
           "marker": {
            "color": "#636efa",
            "size": [
             200,
             300
            ],
            "sizemode": "area",
            "sizeref": 7961.5,
            "symbol": "circle"
           },
           "mode": "markers",
           "name": "",
           "showlegend": false,
           "type": "scattergeo"
          }
         ],
         "name": "1927"
        },
        {
         "data": [
          {
           "geo": "geo",
           "hovertemplate": "Year=1928<br>Count=%{marker.size}<br>Country=%{location}<extra></extra>",
           "legendgroup": "",
           "locations": [
            "GBR",
            "AUS",
            "VAT"
           ],
           "marker": {
            "color": "#636efa",
            "size": [
             100,
             500,
             500
            ],
            "sizemode": "area",
            "sizeref": 7961.5,
            "symbol": "circle"
           },
           "mode": "markers",
           "name": "",
           "showlegend": false,
           "type": "scattergeo"
          }
         ],
         "name": "1928"
        },
        {
         "data": [
          {
           "geo": "geo",
           "hovertemplate": "Year=1929<br>Count=%{marker.size}<br>Country=%{location}<extra></extra>",
           "legendgroup": "",
           "locations": [
            "VAT",
            "AUS"
           ],
           "marker": {
            "color": "#636efa",
            "size": [
             300,
             1400
            ],
            "sizemode": "area",
            "sizeref": 7961.5,
            "symbol": "circle"
           },
           "mode": "markers",
           "name": "",
           "showlegend": false,
           "type": "scattergeo"
          }
         ],
         "name": "1929"
        },
        {
         "data": [
          {
           "geo": "geo",
           "hovertemplate": "Year=1930<br>Count=%{marker.size}<br>Country=%{location}<extra></extra>",
           "legendgroup": "",
           "locations": [
            "AUS",
            "TUR",
            "VAT"
           ],
           "marker": {
            "color": "#636efa",
            "size": [
             1200,
             1600,
             2100
            ],
            "sizemode": "area",
            "sizeref": 7961.5,
            "symbol": "circle"
           },
           "mode": "markers",
           "name": "",
           "showlegend": false,
           "type": "scattergeo"
          }
         ],
         "name": "1930"
        },
        {
         "data": [
          {
           "geo": "geo",
           "hovertemplate": "Year=1931<br>Count=%{marker.size}<br>Country=%{location}<extra></extra>",
           "legendgroup": "",
           "locations": [
            "DEU",
            "TUR",
            "CHN",
            "VAT",
            "AUS"
           ],
           "marker": {
            "color": "#636efa",
            "size": [
             100,
             100,
             200,
             600,
             1400
            ],
            "sizemode": "area",
            "sizeref": 7961.5,
            "symbol": "circle"
           },
           "mode": "markers",
           "name": "",
           "showlegend": false,
           "type": "scattergeo"
          }
         ],
         "name": "1931"
        },
        {
         "data": [
          {
           "geo": "geo",
           "hovertemplate": "Year=1932<br>Count=%{marker.size}<br>Country=%{location}<extra></extra>",
           "legendgroup": "",
           "locations": [
            "DEU",
            "VAT",
            "AUS"
           ],
           "marker": {
            "color": "#636efa",
            "size": [
             100,
             500,
             2200
            ],
            "sizemode": "area",
            "sizeref": 7961.5,
            "symbol": "circle"
           },
           "mode": "markers",
           "name": "",
           "showlegend": false,
           "type": "scattergeo"
          }
         ],
         "name": "1932"
        },
        {
         "data": [
          {
           "geo": "geo",
           "hovertemplate": "Year=1933<br>Count=%{marker.size}<br>Country=%{location}<extra></extra>",
           "legendgroup": "",
           "locations": [
            "VAT",
            "PRT",
            "AUS",
            "DEU"
           ],
           "marker": {
            "color": "#636efa",
            "size": [
             300,
             1200,
             3500,
             473700
            ],
            "sizemode": "area",
            "sizeref": 7961.5,
            "symbol": "circle"
           },
           "mode": "markers",
           "name": "",
           "showlegend": false,
           "type": "scattergeo"
          }
         ],
         "name": "1933"
        },
        {
         "data": [
          {
           "geo": "geo",
           "hovertemplate": "Year=1934<br>Count=%{marker.size}<br>Country=%{location}<extra></extra>",
           "legendgroup": "",
           "locations": [
            "DEU",
            "TUR",
            "VAT",
            "PRT",
            "AUS"
           ],
           "marker": {
            "color": "#636efa",
            "size": [
             100,
             100,
             500,
             600,
             2100
            ],
            "sizemode": "area",
            "sizeref": 7961.5,
            "symbol": "circle"
           },
           "mode": "markers",
           "name": "",
           "showlegend": false,
           "type": "scattergeo"
          }
         ],
         "name": "1934"
        },
        {
         "data": [
          {
           "geo": "geo",
           "hovertemplate": "Year=1935<br>Count=%{marker.size}<br>Country=%{location}<extra></extra>",
           "legendgroup": "",
           "locations": [
            "VAT",
            "TUR",
            "PRT",
            "AUS"
           ],
           "marker": {
            "color": "#636efa",
            "size": [
             200,
             300,
             500,
             2400
            ],
            "sizemode": "area",
            "sizeref": 7961.5,
            "symbol": "circle"
           },
           "mode": "markers",
           "name": "",
           "showlegend": false,
           "type": "scattergeo"
          }
         ],
         "name": "1935"
        },
        {
         "data": [
          {
           "geo": "geo",
           "hovertemplate": "Year=1936<br>Count=%{marker.size}<br>Country=%{location}<extra></extra>",
           "legendgroup": "",
           "locations": [
            "IOT",
            "PRT",
            "TUR",
            "VAT",
            "AUS"
           ],
           "marker": {
            "color": "#636efa",
            "size": [
             100,
             100,
             100,
             1100,
             1400
            ],
            "sizemode": "area",
            "sizeref": 7961.5,
            "symbol": "circle"
           },
           "mode": "markers",
           "name": "",
           "showlegend": false,
           "type": "scattergeo"
          }
         ],
         "name": "1936"
        },
        {
         "data": [
          {
           "geo": "geo",
           "hovertemplate": "Year=1937<br>Count=%{marker.size}<br>Country=%{location}<extra></extra>",
           "legendgroup": "",
           "locations": [
            "PRT",
            "TUR",
            "VAT",
            "AUS"
           ],
           "marker": {
            "color": "#636efa",
            "size": [
             200,
             200,
             600,
             700
            ],
            "sizemode": "area",
            "sizeref": 7961.5,
            "symbol": "circle"
           },
           "mode": "markers",
           "name": "",
           "showlegend": false,
           "type": "scattergeo"
          }
         ],
         "name": "1937"
        },
        {
         "data": [
          {
           "geo": "geo",
           "hovertemplate": "Year=1938<br>Count=%{marker.size}<br>Country=%{location}<extra></extra>",
           "legendgroup": "",
           "locations": [
            "PRT",
            "VAT",
            "AUS",
            "TUR"
           ],
           "marker": {
            "color": "#636efa",
            "size": [
             200,
             1300,
             1500,
             1500
            ],
            "sizemode": "area",
            "sizeref": 7961.5,
            "symbol": "circle"
           },
           "mode": "markers",
           "name": "",
           "showlegend": false,
           "type": "scattergeo"
          }
         ],
         "name": "1938"
        },
        {
         "data": [
          {
           "geo": "geo",
           "hovertemplate": "Year=1939<br>Count=%{marker.size}<br>Country=%{location}<extra></extra>",
           "legendgroup": "",
           "locations": [
            "RUS",
            "TUR",
            "FRA",
            "PRT",
            "VAT",
            "AUS",
            "ESP"
           ],
           "marker": {
            "color": "#636efa",
            "size": [
             100,
             100,
             200,
             200,
             300,
             1100,
             2900
            ],
            "sizemode": "area",
            "sizeref": 7961.5,
            "symbol": "circle"
           },
           "mode": "markers",
           "name": "",
           "showlegend": false,
           "type": "scattergeo"
          }
         ],
         "name": "1939"
        },
        {
         "data": [
          {
           "geo": "geo",
           "hovertemplate": "Year=1940<br>Count=%{marker.size}<br>Country=%{location}<extra></extra>",
           "legendgroup": "",
           "locations": [
            "DEU",
            "TUR",
            "VAT",
            "PRT",
            "AUS",
            "NOR"
           ],
           "marker": {
            "color": "#636efa",
            "size": [
             100,
             100,
             500,
             600,
             900,
             111800
            ],
            "sizemode": "area",
            "sizeref": 7961.5,
            "symbol": "circle"
           },
           "mode": "markers",
           "name": "",
           "showlegend": false,
           "type": "scattergeo"
          }
         ],
         "name": "1940"
        },
        {
         "data": [
          {
           "geo": "geo",
           "hovertemplate": "Year=1941<br>Count=%{marker.size}<br>Country=%{location}<extra></extra>",
           "legendgroup": "",
           "locations": [
            "TUR",
            "AUS",
            "VAT",
            "PRT"
           ],
           "marker": {
            "color": "#636efa",
            "size": [
             200,
             400,
             500,
             1000
            ],
            "sizemode": "area",
            "sizeref": 7961.5,
            "symbol": "circle"
           },
           "mode": "markers",
           "name": "",
           "showlegend": false,
           "type": "scattergeo"
          }
         ],
         "name": "1941"
        },
        {
         "data": [
          {
           "geo": "geo",
           "hovertemplate": "Year=1942<br>Count=%{marker.size}<br>Country=%{location}<extra></extra>",
           "legendgroup": "",
           "locations": [
            "AUS",
            "VAT",
            "PRT"
           ],
           "marker": {
            "color": "#636efa",
            "size": [
             400,
             400,
             500
            ],
            "sizemode": "area",
            "sizeref": 7961.5,
            "symbol": "circle"
           },
           "mode": "markers",
           "name": "",
           "showlegend": false,
           "type": "scattergeo"
          }
         ],
         "name": "1942"
        },
        {
         "data": [
          {
           "geo": "geo",
           "hovertemplate": "Year=1943<br>Count=%{marker.size}<br>Country=%{location}<extra></extra>",
           "legendgroup": "",
           "locations": [
            "VAT",
            "AUS",
            "TUR",
            "PRT",
            "NLD"
           ],
           "marker": {
            "color": "#636efa",
            "size": [
             100,
             200,
             400,
             900,
             7800
            ],
            "sizemode": "area",
            "sizeref": 7961.5,
            "symbol": "circle"
           },
           "mode": "markers",
           "name": "",
           "showlegend": false,
           "type": "scattergeo"
          }
         ],
         "name": "1943"
        },
        {
         "data": [
          {
           "geo": "geo",
           "hovertemplate": "Year=1944<br>Count=%{marker.size}<br>Country=%{location}<extra></extra>",
           "legendgroup": "",
           "locations": [
            "VAT",
            "PRT",
            "TUR",
            "AUS"
           ],
           "marker": {
            "color": "#636efa",
            "size": [
             100,
             400,
             400,
             600
            ],
            "sizemode": "area",
            "sizeref": 7961.5,
            "symbol": "circle"
           },
           "mode": "markers",
           "name": "",
           "showlegend": false,
           "type": "scattergeo"
          }
         ],
         "name": "1944"
        },
        {
         "data": [
          {
           "geo": "geo",
           "hovertemplate": "Year=1945<br>Count=%{marker.size}<br>Country=%{location}<extra></extra>",
           "legendgroup": "",
           "locations": [
            "POL",
            "TUR",
            "AUS",
            "PRT"
           ],
           "marker": {
            "color": "#636efa",
            "size": [
             100,
             200,
             300,
             1200
            ],
            "sizemode": "area",
            "sizeref": 7961.5,
            "symbol": "circle"
           },
           "mode": "markers",
           "name": "",
           "showlegend": false,
           "type": "scattergeo"
          }
         ],
         "name": "1945"
        },
        {
         "data": [
          {
           "geo": "geo",
           "hovertemplate": "Year=1946<br>Count=%{marker.size}<br>Country=%{location}<extra></extra>",
           "legendgroup": "",
           "locations": [
            "TUR",
            "AUS",
            "PRT"
           ],
           "marker": {
            "color": "#636efa",
            "size": [
             200,
             500,
             2200
            ],
            "sizemode": "area",
            "sizeref": 7961.5,
            "symbol": "circle"
           },
           "mode": "markers",
           "name": "",
           "showlegend": false,
           "type": "scattergeo"
          }
         ],
         "name": "1946"
        },
        {
         "data": [
          {
           "geo": "geo",
           "hovertemplate": "Year=1947<br>Count=%{marker.size}<br>Country=%{location}<extra></extra>",
           "legendgroup": "",
           "locations": [
            "TUR",
            "AUS",
            "PRT"
           ],
           "marker": {
            "color": "#636efa",
            "size": [
             200,
             500,
             1300
            ],
            "sizemode": "area",
            "sizeref": 7961.5,
            "symbol": "circle"
           },
           "mode": "markers",
           "name": "",
           "showlegend": false,
           "type": "scattergeo"
          }
         ],
         "name": "1947"
        },
        {
         "data": [
          {
           "geo": "geo",
           "hovertemplate": "Year=1948<br>Count=%{marker.size}<br>Country=%{location}<extra></extra>",
           "legendgroup": "",
           "locations": [
            "TUR",
            "AUS",
            "PRT"
           ],
           "marker": {
            "color": "#636efa",
            "size": [
             100,
             500,
             500
            ],
            "sizemode": "area",
            "sizeref": 7961.5,
            "symbol": "circle"
           },
           "mode": "markers",
           "name": "",
           "showlegend": false,
           "type": "scattergeo"
          }
         ],
         "name": "1948"
        },
        {
         "data": [
          {
           "geo": "geo",
           "hovertemplate": "Year=1949<br>Count=%{marker.size}<br>Country=%{location}<extra></extra>",
           "legendgroup": "",
           "locations": [
            "CAN",
            "TUR",
            "AUS",
            "PRT"
           ],
           "marker": {
            "color": "#636efa",
            "size": [
             100,
             100,
             700,
             700
            ],
            "sizemode": "area",
            "sizeref": 7961.5,
            "symbol": "circle"
           },
           "mode": "markers",
           "name": "",
           "showlegend": false,
           "type": "scattergeo"
          }
         ],
         "name": "1949"
        },
        {
         "data": [
          {
           "geo": "geo",
           "hovertemplate": "Year=1950<br>Count=%{marker.size}<br>Country=%{location}<extra></extra>",
           "legendgroup": "",
           "locations": [
            "PRT",
            "AUS",
            "TUR"
           ],
           "marker": {
            "color": "#636efa",
            "size": [
             700,
             800,
             3500
            ],
            "sizemode": "area",
            "sizeref": 7961.5,
            "symbol": "circle"
           },
           "mode": "markers",
           "name": "",
           "showlegend": false,
           "type": "scattergeo"
          }
         ],
         "name": "1950"
        },
        {
         "data": [
          {
           "geo": "geo",
           "hovertemplate": "Year=1951<br>Count=%{marker.size}<br>Country=%{location}<extra></extra>",
           "legendgroup": "",
           "locations": [
            "AUS",
            "PRT"
           ],
           "marker": {
            "color": "#636efa",
            "size": [
             1100,
             1400
            ],
            "sizemode": "area",
            "sizeref": 7961.5,
            "symbol": "circle"
           },
           "mode": "markers",
           "name": "",
           "showlegend": false,
           "type": "scattergeo"
          }
         ],
         "name": "1951"
        },
        {
         "data": [
          {
           "geo": "geo",
           "hovertemplate": "Year=1952<br>Count=%{marker.size}<br>Country=%{location}<extra></extra>",
           "legendgroup": "",
           "locations": [
            "TUR",
            "PRT",
            "AUS"
           ],
           "marker": {
            "color": "#636efa",
            "size": [
             200,
             800,
             1700
            ],
            "sizemode": "area",
            "sizeref": 7961.5,
            "symbol": "circle"
           },
           "mode": "markers",
           "name": "",
           "showlegend": false,
           "type": "scattergeo"
          }
         ],
         "name": "1952"
        },
        {
         "data": [
          {
           "geo": "geo",
           "hovertemplate": "Year=1953<br>Count=%{marker.size}<br>Country=%{location}<extra></extra>",
           "legendgroup": "",
           "locations": [
            "TUR",
            "PRT",
            "AUS"
           ],
           "marker": {
            "color": "#636efa",
            "size": [
             100,
             1200,
             1400
            ],
            "sizemode": "area",
            "sizeref": 7961.5,
            "symbol": "circle"
           },
           "mode": "markers",
           "name": "",
           "showlegend": false,
           "type": "scattergeo"
          }
         ],
         "name": "1953"
        },
        {
         "data": [
          {
           "geo": "geo",
           "hovertemplate": "Year=1954<br>Count=%{marker.size}<br>Country=%{location}<extra></extra>",
           "legendgroup": "",
           "locations": [
            "ITA",
            "ZAF",
            "PRT",
            "TUR",
            "AUS"
           ],
           "marker": {
            "color": "#636efa",
            "size": [
             100,
             100,
             300,
             300,
             1100
            ],
            "sizemode": "area",
            "sizeref": 7961.5,
            "symbol": "circle"
           },
           "mode": "markers",
           "name": "",
           "showlegend": false,
           "type": "scattergeo"
          }
         ],
         "name": "1954"
        },
        {
         "data": [
          {
           "geo": "geo",
           "hovertemplate": "Year=1955<br>Count=%{marker.size}<br>Country=%{location}<extra></extra>",
           "legendgroup": "",
           "locations": [
            "TUR",
            "ZAF",
            "PRT",
            "AUS"
           ],
           "marker": {
            "color": "#636efa",
            "size": [
             100,
             200,
             1100,
             1400
            ],
            "sizemode": "area",
            "sizeref": 7961.5,
            "symbol": "circle"
           },
           "mode": "markers",
           "name": "",
           "showlegend": false,
           "type": "scattergeo"
          }
         ],
         "name": "1955"
        },
        {
         "data": [
          {
           "geo": "geo",
           "hovertemplate": "Year=1956<br>Count=%{marker.size}<br>Country=%{location}<extra></extra>",
           "legendgroup": "",
           "locations": [
            "ZAF",
            "AUS",
            "PRT",
            "TUR"
           ],
           "marker": {
            "color": "#636efa",
            "size": [
             200,
             500,
             500,
             900
            ],
            "sizemode": "area",
            "sizeref": 7961.5,
            "symbol": "circle"
           },
           "mode": "markers",
           "name": "",
           "showlegend": false,
           "type": "scattergeo"
          }
         ],
         "name": "1956"
        },
        {
         "data": [
          {
           "geo": "geo",
           "hovertemplate": "Year=1957<br>Count=%{marker.size}<br>Country=%{location}<extra></extra>",
           "legendgroup": "",
           "locations": [
            "ZAF",
            "AUS",
            "PRT",
            "TUR"
           ],
           "marker": {
            "color": "#636efa",
            "size": [
             100,
             600,
             800,
             1000
            ],
            "sizemode": "area",
            "sizeref": 7961.5,
            "symbol": "circle"
           },
           "mode": "markers",
           "name": "",
           "showlegend": false,
           "type": "scattergeo"
          }
         ],
         "name": "1957"
        },
        {
         "data": [
          {
           "geo": "geo",
           "hovertemplate": "Year=1958<br>Count=%{marker.size}<br>Country=%{location}<extra></extra>",
           "legendgroup": "",
           "locations": [
            "ZAF",
            "DZA",
            "TUR",
            "AUS",
            "PRT"
           ],
           "marker": {
            "color": "#636efa",
            "size": [
             100,
             200,
             200,
             600,
             1400
            ],
            "sizemode": "area",
            "sizeref": 7961.5,
            "symbol": "circle"
           },
           "mode": "markers",
           "name": "",
           "showlegend": false,
           "type": "scattergeo"
          }
         ],
         "name": "1958"
        },
        {
         "data": [
          {
           "geo": "geo",
           "hovertemplate": "Year=1959<br>Count=%{marker.size}<br>Country=%{location}<extra></extra>",
           "legendgroup": "",
           "locations": [
            "EGY",
            "TUR",
            "DZA",
            "AUS",
            "PRT"
           ],
           "marker": {
            "color": "#636efa",
            "size": [
             100,
             100,
             200,
             400,
             1600
            ],
            "sizemode": "area",
            "sizeref": 7961.5,
            "symbol": "circle"
           },
           "mode": "markers",
           "name": "",
           "showlegend": false,
           "type": "scattergeo"
          }
         ],
         "name": "1959"
        },
        {
         "data": [
          {
           "geo": "geo",
           "hovertemplate": "Year=1960<br>Count=%{marker.size}<br>Country=%{location}<extra></extra>",
           "legendgroup": "",
           "locations": [
            "ITA",
            "ZAF",
            "TUR",
            "AUS",
            "DZA",
            "PRT"
           ],
           "marker": {
            "color": "#636efa",
            "size": [
             100,
             100,
             400,
             500,
             500,
             2800
            ],
            "sizemode": "area",
            "sizeref": 7961.5,
            "symbol": "circle"
           },
           "mode": "markers",
           "name": "",
           "showlegend": false,
           "type": "scattergeo"
          }
         ],
         "name": "1960"
        },
        {
         "data": [
          {
           "geo": "geo",
           "hovertemplate": "Year=1961<br>Count=%{marker.size}<br>Country=%{location}<extra></extra>",
           "legendgroup": "",
           "locations": [
            "DEU",
            "ZAF",
            "DZA",
            "AUS",
            "PRT",
            "TUR"
           ],
           "marker": {
            "color": "#636efa",
            "size": [
             100,
             100,
             1000,
             1200,
             2400,
             4900
            ],
            "sizemode": "area",
            "sizeref": 7961.5,
            "symbol": "circle"
           },
           "mode": "markers",
           "name": "",
           "showlegend": false,
           "type": "scattergeo"
          }
         ],
         "name": "1961"
        },
        {
         "data": [
          {
           "geo": "geo",
           "hovertemplate": "Year=1962<br>Count=%{marker.size}<br>Country=%{location}<extra></extra>",
           "legendgroup": "",
           "locations": [
            "CZE",
            "ZAF",
            "DZA",
            "TUR",
            "AUS",
            "PRT"
           ],
           "marker": {
            "color": "#636efa",
            "size": [
             100,
             100,
             200,
             300,
             500,
             1900
            ],
            "sizemode": "area",
            "sizeref": 7961.5,
            "symbol": "circle"
           },
           "mode": "markers",
           "name": "",
           "showlegend": false,
           "type": "scattergeo"
          }
         ],
         "name": "1962"
        },
        {
         "data": [
          {
           "geo": "geo",
           "hovertemplate": "Year=1963<br>Count=%{marker.size}<br>Country=%{location}<extra></extra>",
           "legendgroup": "",
           "locations": [
            "TUR",
            "ZAF",
            "AUS",
            "PRT"
           ],
           "marker": {
            "color": "#636efa",
            "size": [
             200,
             200,
             800,
             2100
            ],
            "sizemode": "area",
            "sizeref": 7961.5,
            "symbol": "circle"
           },
           "mode": "markers",
           "name": "",
           "showlegend": false,
           "type": "scattergeo"
          }
         ],
         "name": "1963"
        },
        {
         "data": [
          {
           "geo": "geo",
           "hovertemplate": "Year=1964<br>Count=%{marker.size}<br>Country=%{location}<extra></extra>",
           "legendgroup": "",
           "locations": [
            "ZAF",
            "TUR",
            "NZL",
            "AUS",
            "PRT"
           ],
           "marker": {
            "color": "#636efa",
            "size": [
             100,
             200,
             300,
             1200,
             3100
            ],
            "sizemode": "area",
            "sizeref": 7961.5,
            "symbol": "circle"
           },
           "mode": "markers",
           "name": "",
           "showlegend": false,
           "type": "scattergeo"
          }
         ],
         "name": "1964"
        },
        {
         "data": [
          {
           "geo": "geo",
           "hovertemplate": "Year=1965<br>Count=%{marker.size}<br>Country=%{location}<extra></extra>",
           "legendgroup": "",
           "locations": [
            "RUS",
            "USA",
            "CHN",
            "ZAF",
            "TUR",
            "AUS",
            "PRT"
           ],
           "marker": {
            "color": "#636efa",
            "size": [
             100,
             100,
             200,
             200,
             600,
             1100,
             4500
            ],
            "sizemode": "area",
            "sizeref": 7961.5,
            "symbol": "circle"
           },
           "mode": "markers",
           "name": "",
           "showlegend": false,
           "type": "scattergeo"
          }
         ],
         "name": "1965"
        },
        {
         "data": [
          {
           "geo": "geo",
           "hovertemplate": "Year=1966<br>Count=%{marker.size}<br>Country=%{location}<extra></extra>",
           "legendgroup": "",
           "locations": [
            "ZAF",
            "TUR",
            "NZL",
            "AUS",
            "PRT"
           ],
           "marker": {
            "color": "#636efa",
            "size": [
             100,
             500,
             700,
             1700,
             4300
            ],
            "sizemode": "area",
            "sizeref": 7961.5,
            "symbol": "circle"
           },
           "mode": "markers",
           "name": "",
           "showlegend": false,
           "type": "scattergeo"
          }
         ],
         "name": "1966"
        },
        {
         "data": [
          {
           "geo": "geo",
           "hovertemplate": "Year=1967<br>Count=%{marker.size}<br>Country=%{location}<extra></extra>",
           "legendgroup": "",
           "locations": [
            "ZAF",
            "NZL",
            "AUS",
            "TUR",
            "PRT",
            "GRC"
           ],
           "marker": {
            "color": "#636efa",
            "size": [
             200,
             600,
             800,
             1100,
             3700,
             72400
            ],
            "sizemode": "area",
            "sizeref": 7961.5,
            "symbol": "circle"
           },
           "mode": "markers",
           "name": "",
           "showlegend": false,
           "type": "scattergeo"
          }
         ],
         "name": "1967"
        },
        {
         "data": [
          {
           "geo": "geo",
           "hovertemplate": "Year=1968<br>Count=%{marker.size}<br>Country=%{location}<extra></extra>",
           "legendgroup": "",
           "locations": [
            "AUS",
            "NZL",
            "TUR",
            "PRT"
           ],
           "marker": {
            "color": "#636efa",
            "size": [
             1300,
             1300,
             1800,
             3300
            ],
            "sizemode": "area",
            "sizeref": 7961.5,
            "symbol": "circle"
           },
           "mode": "markers",
           "name": "",
           "showlegend": false,
           "type": "scattergeo"
          }
         ],
         "name": "1968"
        },
        {
         "data": [
          {
           "geo": "geo",
           "hovertemplate": "Year=1969<br>Count=%{marker.size}<br>Country=%{location}<extra></extra>",
           "legendgroup": "",
           "locations": [
            "ITA",
            "ZAF",
            "TUR",
            "NZL",
            "AUS",
            "PRT"
           ],
           "marker": {
            "color": "#636efa",
            "size": [
             100,
             200,
             1000,
             1400,
             2100,
             5600
            ],
            "sizemode": "area",
            "sizeref": 7961.5,
            "symbol": "circle"
           },
           "mode": "markers",
           "name": "",
           "showlegend": false,
           "type": "scattergeo"
          }
         ],
         "name": "1969"
        },
        {
         "data": [
          {
           "geo": "geo",
           "hovertemplate": "Year=1970<br>Count=%{marker.size}<br>Country=%{location}<extra></extra>",
           "legendgroup": "",
           "locations": [
            "ITA",
            "ZAF",
            "TUR",
            "AUS",
            "NZL",
            "PRT"
           ],
           "marker": {
            "color": "#636efa",
            "size": [
             100,
             300,
             600,
             700,
             3400,
             7300
            ],
            "sizemode": "area",
            "sizeref": 7961.5,
            "symbol": "circle"
           },
           "mode": "markers",
           "name": "",
           "showlegend": false,
           "type": "scattergeo"
          }
         ],
         "name": "1970"
        },
        {
         "data": [
          {
           "geo": "geo",
           "hovertemplate": "Year=1971<br>Count=%{marker.size}<br>Country=%{location}<extra></extra>",
           "legendgroup": "",
           "locations": [
            "AUS",
            "ZAF",
            "TUR",
            "NZL",
            "PRT"
           ],
           "marker": {
            "color": "#636efa",
            "size": [
             200,
             300,
             1400,
             4200,
             10100
            ],
            "sizemode": "area",
            "sizeref": 7961.5,
            "symbol": "circle"
           },
           "mode": "markers",
           "name": "",
           "showlegend": false,
           "type": "scattergeo"
          }
         ],
         "name": "1971"
        },
        {
         "data": [
          {
           "geo": "geo",
           "hovertemplate": "Year=1972<br>Count=%{marker.size}<br>Country=%{location}<extra></extra>",
           "legendgroup": "",
           "locations": [
            "ITA",
            "USA",
            "ZAF",
            "AUS",
            "TUR",
            "PRT",
            "NZL"
           ],
           "marker": {
            "color": "#636efa",
            "size": [
             100,
             100,
             100,
             200,
             1300,
             7600,
             14400
            ],
            "sizemode": "area",
            "sizeref": 7961.5,
            "symbol": "circle"
           },
           "mode": "markers",
           "name": "",
           "showlegend": false,
           "type": "scattergeo"
          }
         ],
         "name": "1972"
        },
        {
         "data": [
          {
           "geo": "geo",
           "hovertemplate": "Year=1973<br>Count=%{marker.size}<br>Country=%{location}<extra></extra>",
           "legendgroup": "",
           "locations": [
            "ITA",
            "ZAF",
            "TUR",
            "CHL",
            "NZL",
            "PRT"
           ],
           "marker": {
            "color": "#636efa",
            "size": [
             100,
             200,
             600,
             1800,
             4800,
             6500
            ],
            "sizemode": "area",
            "sizeref": 7961.5,
            "symbol": "circle"
           },
           "mode": "markers",
           "name": "",
           "showlegend": false,
           "type": "scattergeo"
          }
         ],
         "name": "1973"
        },
        {
         "data": [
          {
           "geo": "geo",
           "hovertemplate": "Year=1974<br>Count=%{marker.size}<br>Country=%{location}<extra></extra>",
           "legendgroup": "",
           "locations": [
            "RSA",
            "ZAF",
            "USA",
            "TUR",
            "NZL",
            "PRT"
           ],
           "marker": {
            "color": "#636efa",
            "size": [
             100,
             100,
             200,
             1100,
             1500,
             1900
            ],
            "sizemode": "area",
            "sizeref": 7961.5,
            "symbol": "circle"
           },
           "mode": "markers",
           "name": "",
           "showlegend": false,
           "type": "scattergeo"
          }
         ],
         "name": "1974"
        },
        {
         "data": [
          {
           "geo": "geo",
           "hovertemplate": "Year=1975<br>Count=%{marker.size}<br>Country=%{location}<extra></extra>",
           "legendgroup": "",
           "locations": [
            "DEU",
            "NZL",
            "ZAF",
            "TUR"
           ],
           "marker": {
            "color": "#636efa",
            "size": [
             100,
             900,
             900,
             1500
            ],
            "sizemode": "area",
            "sizeref": 7961.5,
            "symbol": "circle"
           },
           "mode": "markers",
           "name": "",
           "showlegend": false,
           "type": "scattergeo"
          }
         ],
         "name": "1975"
        },
        {
         "data": [
          {
           "geo": "geo",
           "hovertemplate": "Year=1976<br>Count=%{marker.size}<br>Country=%{location}<extra></extra>",
           "legendgroup": "",
           "locations": [
            "CAN",
            "CMR",
            "ITA",
            "POL",
            "USA",
            "ZAF",
            "TUR",
            "NZL",
            "ARG"
           ],
           "marker": {
            "color": "#636efa",
            "size": [
             100,
             100,
             100,
             100,
             200,
             800,
             900,
             4000,
             33100
            ],
            "sizemode": "area",
            "sizeref": 7961.5,
            "symbol": "circle"
           },
           "mode": "markers",
           "name": "",
           "showlegend": false,
           "type": "scattergeo"
          }
         ],
         "name": "1976"
        },
        {
         "data": [
          {
           "geo": "geo",
           "hovertemplate": "Year=1977<br>Count=%{marker.size}<br>Country=%{location}<extra></extra>",
           "legendgroup": "",
           "locations": [
            "ITA",
            "NZL",
            "TUR",
            "ZAF"
           ],
           "marker": {
            "color": "#636efa",
            "size": [
             100,
             200,
             700,
             700
            ],
            "sizemode": "area",
            "sizeref": 7961.5,
            "symbol": "circle"
           },
           "mode": "markers",
           "name": "",
           "showlegend": false,
           "type": "scattergeo"
          }
         ],
         "name": "1977"
        },
        {
         "data": [
          {
           "geo": "geo",
           "hovertemplate": "Year=1978<br>Count=%{marker.size}<br>Country=%{location}<extra></extra>",
           "legendgroup": "",
           "locations": [
            "URS",
            "CMR",
            "ITA",
            "USA",
            "TUR",
            "ZAF",
            "NZL"
           ],
           "marker": {
            "color": "#636efa",
            "size": [
             100,
             200,
             200,
             200,
             1000,
             1000,
             2500
            ],
            "sizemode": "area",
            "sizeref": 7961.5,
            "symbol": "circle"
           },
           "mode": "markers",
           "name": "",
           "showlegend": false,
           "type": "scattergeo"
          }
         ],
         "name": "1978"
        },
        {
         "data": [
          {
           "geo": "geo",
           "hovertemplate": "Year=1979<br>Count=%{marker.size}<br>Country=%{location}<extra></extra>",
           "legendgroup": "",
           "locations": [
            "ITA",
            "IRN",
            "ZAF",
            "TUR",
            "NZL"
           ],
           "marker": {
            "color": "#636efa",
            "size": [
             100,
             200,
             1000,
             1200,
             3800
            ],
            "sizemode": "area",
            "sizeref": 7961.5,
            "symbol": "circle"
           },
           "mode": "markers",
           "name": "",
           "showlegend": false,
           "type": "scattergeo"
          }
         ],
         "name": "1979"
        },
        {
         "data": [
          {
           "geo": "geo",
           "hovertemplate": "Year=1980<br>Count=%{marker.size}<br>Country=%{location}<extra></extra>",
           "legendgroup": "",
           "locations": [
            "CMR",
            "CHN",
            "ZAF",
            "NZL",
            "TUR",
            "USA"
           ],
           "marker": {
            "color": "#636efa",
            "size": [
             100,
             200,
             600,
             1500,
             2200,
             2900
            ],
            "sizemode": "area",
            "sizeref": 7961.5,
            "symbol": "circle"
           },
           "mode": "markers",
           "name": "",
           "showlegend": false,
           "type": "scattergeo"
          }
         ],
         "name": "1980"
        },
        {
         "data": [
          {
           "geo": "geo",
           "hovertemplate": "Year=1981<br>Count=%{marker.size}<br>Country=%{location}<extra></extra>",
           "legendgroup": "",
           "locations": [
            "DEU",
            "CHN",
            "ZAF",
            "TUR",
            "NZL",
            "USA"
           ],
           "marker": {
            "color": "#636efa",
            "size": [
             100,
             300,
             400,
             500,
             3900,
             4500
            ],
            "sizemode": "area",
            "sizeref": 7961.5,
            "symbol": "circle"
           },
           "mode": "markers",
           "name": "",
           "showlegend": false,
           "type": "scattergeo"
          }
         ],
         "name": "1981"
        },
        {
         "data": [
          {
           "geo": "geo",
           "hovertemplate": "Year=1982<br>Count=%{marker.size}<br>Country=%{location}<extra></extra>",
           "legendgroup": "",
           "locations": [
            "CHN",
            "LBN",
            "ITA",
            "ZAF",
            "TUR",
            "NZL",
            "USA"
           ],
           "marker": {
            "color": "#636efa",
            "size": [
             100,
             100,
             200,
             300,
             700,
             800,
             6100
            ],
            "sizemode": "area",
            "sizeref": 7961.5,
            "symbol": "circle"
           },
           "mode": "markers",
           "name": "",
           "showlegend": false,
           "type": "scattergeo"
          }
         ],
         "name": "1982"
        },
        {
         "data": [
          {
           "geo": "geo",
           "hovertemplate": "Year=1983<br>Count=%{marker.size}<br>Country=%{location}<extra></extra>",
           "legendgroup": "",
           "locations": [
            "DEU",
            "ITA",
            "ZAF",
            "TUR",
            "USA",
            "NZL"
           ],
           "marker": {
            "color": "#636efa",
            "size": [
             100,
             100,
             100,
             700,
             9000,
             37100
            ],
            "sizemode": "area",
            "sizeref": 7961.5,
            "symbol": "circle"
           },
           "mode": "markers",
           "name": "",
           "showlegend": false,
           "type": "scattergeo"
          }
         ],
         "name": "1983"
        },
        {
         "data": [
          {
           "geo": "geo",
           "hovertemplate": "Year=1984<br>Count=%{marker.size}<br>Country=%{location}<extra></extra>",
           "legendgroup": "",
           "locations": [
            "AUT",
            "IRN",
            "ITA",
            "CHN",
            "TUR",
            "NZL",
            "USA"
           ],
           "marker": {
            "color": "#636efa",
            "size": [
             100,
             100,
             100,
             200,
             1300,
             1800,
             3700
            ],
            "sizemode": "area",
            "sizeref": 7961.5,
            "symbol": "circle"
           },
           "mode": "markers",
           "name": "",
           "showlegend": false,
           "type": "scattergeo"
          }
         ],
         "name": "1984"
        },
        {
         "data": [
          {
           "geo": "geo",
           "hovertemplate": "Year=1985<br>Count=%{marker.size}<br>Country=%{location}<extra></extra>",
           "legendgroup": "",
           "locations": [
            "ZAF",
            "CHN",
            "CMR",
            "TUR",
            "NZL",
            "USA"
           ],
           "marker": {
            "color": "#636efa",
            "size": [
             200,
             300,
             300,
             400,
             2800,
             7700
            ],
            "sizemode": "area",
            "sizeref": 7961.5,
            "symbol": "circle"
           },
           "mode": "markers",
           "name": "",
           "showlegend": false,
           "type": "scattergeo"
          }
         ],
         "name": "1985"
        },
        {
         "data": [
          {
           "geo": "geo",
           "hovertemplate": "Year=1986<br>Count=%{marker.size}<br>Country=%{location}<extra></extra>",
           "legendgroup": "",
           "locations": [
            "CHN",
            "NZL",
            "TUR",
            "USA"
           ],
           "marker": {
            "color": "#636efa",
            "size": [
             200,
             200,
             300,
             11900
            ],
            "sizemode": "area",
            "sizeref": 7961.5,
            "symbol": "circle"
           },
           "mode": "markers",
           "name": "",
           "showlegend": false,
           "type": "scattergeo"
          }
         ],
         "name": "1986"
        },
        {
         "data": [
          {
           "geo": "geo",
           "hovertemplate": "Year=1987<br>Count=%{marker.size}<br>Country=%{location}<extra></extra>",
           "legendgroup": "",
           "locations": [
            "ZAF",
            "TUR",
            "NZL",
            "USA"
           ],
           "marker": {
            "color": "#636efa",
            "size": [
             100,
             200,
             4900,
             25400
            ],
            "sizemode": "area",
            "sizeref": 7961.5,
            "symbol": "circle"
           },
           "mode": "markers",
           "name": "",
           "showlegend": false,
           "type": "scattergeo"
          }
         ],
         "name": "1987"
        },
        {
         "data": [
          {
           "geo": "geo",
           "hovertemplate": "Year=1988<br>Count=%{marker.size}<br>Country=%{location}<extra></extra>",
           "legendgroup": "",
           "locations": [
            "ITA",
            "ZAF",
            "CHN",
            "NZL",
            "TUR",
            "USA"
           ],
           "marker": {
            "color": "#636efa",
            "size": [
             100,
             100,
             300,
             300,
             500,
             26000
            ],
            "sizemode": "area",
            "sizeref": 7961.5,
            "symbol": "circle"
           },
           "mode": "markers",
           "name": "",
           "showlegend": false,
           "type": "scattergeo"
          }
         ],
         "name": "1988"
        },
        {
         "data": [
          {
           "geo": "geo",
           "hovertemplate": "Year=1989<br>Count=%{marker.size}<br>Country=%{location}<extra></extra>",
           "legendgroup": "",
           "locations": [
            "DEU",
            "ITA",
            "QAT",
            "IRN",
            "TUR",
            "NZL",
            "CHN",
            "USA"
           ],
           "marker": {
            "color": "#636efa",
            "size": [
             100,
             100,
             100,
             200,
             200,
             1300,
             1500,
             16200
            ],
            "sizemode": "area",
            "sizeref": 7961.5,
            "symbol": "circle"
           },
           "mode": "markers",
           "name": "",
           "showlegend": false,
           "type": "scattergeo"
          }
         ],
         "name": "1989"
        },
        {
         "data": [
          {
           "geo": "geo",
           "hovertemplate": "Year=1990<br>Count=%{marker.size}<br>Country=%{location}<extra></extra>",
           "legendgroup": "",
           "locations": [
            "CMR",
            "ITA",
            "ZAF",
            "NZL",
            "CHN",
            "TUR",
            "USA"
           ],
           "marker": {
            "color": "#636efa",
            "size": [
             100,
             100,
             100,
             800,
             1600,
             1900,
             14100
            ],
            "sizemode": "area",
            "sizeref": 7961.5,
            "symbol": "circle"
           },
           "mode": "markers",
           "name": "",
           "showlegend": false,
           "type": "scattergeo"
          }
         ],
         "name": "1990"
        },
        {
         "data": [
          {
           "geo": "geo",
           "hovertemplate": "Year=1991<br>Count=%{marker.size}<br>Country=%{location}<extra></extra>",
           "legendgroup": "",
           "locations": [
            "TUR",
            "CHN",
            "NZL",
            "USA"
           ],
           "marker": {
            "color": "#636efa",
            "size": [
             800,
             1300,
             13100,
             15600
            ],
            "sizemode": "area",
            "sizeref": 7961.5,
            "symbol": "circle"
           },
           "mode": "markers",
           "name": "",
           "showlegend": false,
           "type": "scattergeo"
          }
         ],
         "name": "1991"
        },
        {
         "data": [
          {
           "geo": "geo",
           "hovertemplate": "Year=1992<br>Count=%{marker.size}<br>Country=%{location}<extra></extra>",
           "legendgroup": "",
           "locations": [
            "CMR",
            "DEU",
            "ZAF",
            "TUR",
            "CHN",
            "NZL",
            "USA"
           ],
           "marker": {
            "color": "#636efa",
            "size": [
             100,
             100,
             100,
             500,
             1100,
             6500,
             17000
            ],
            "sizemode": "area",
            "sizeref": 7961.5,
            "symbol": "circle"
           },
           "mode": "markers",
           "name": "",
           "showlegend": false,
           "type": "scattergeo"
          }
         ],
         "name": "1992"
        },
        {
         "data": [
          {
           "geo": "geo",
           "hovertemplate": "Year=1993<br>Count=%{marker.size}<br>Country=%{location}<extra></extra>",
           "legendgroup": "",
           "locations": [
            "BGD",
            "CHN",
            "NZL",
            "TUR",
            "USA"
           ],
           "marker": {
            "color": "#636efa",
            "size": [
             100,
             800,
             900,
             1500,
             20700
            ],
            "sizemode": "area",
            "sizeref": 7961.5,
            "symbol": "circle"
           },
           "mode": "markers",
           "name": "",
           "showlegend": false,
           "type": "scattergeo"
          }
         ],
         "name": "1993"
        },
        {
         "data": [
          {
           "geo": "geo",
           "hovertemplate": "Year=1994<br>Count=%{marker.size}<br>Country=%{location}<extra></extra>",
           "legendgroup": "",
           "locations": [
            "CHN",
            "NZL",
            "TUR",
            "USA"
           ],
           "marker": {
            "color": "#636efa",
            "size": [
             1000,
             1400,
             2100,
             27000
            ],
            "sizemode": "area",
            "sizeref": 7961.5,
            "symbol": "circle"
           },
           "mode": "markers",
           "name": "",
           "showlegend": false,
           "type": "scattergeo"
          }
         ],
         "name": "1994"
        },
        {
         "data": [
          {
           "geo": "geo",
           "hovertemplate": "Year=1995<br>Count=%{marker.size}<br>Country=%{location}<extra></extra>",
           "legendgroup": "",
           "locations": [
            "BGD",
            "DEU",
            "NZL",
            "CHN",
            "TUR",
            "USA"
           ],
           "marker": {
            "color": "#636efa",
            "size": [
             100,
             100,
             200,
             800,
             1100,
             21900
            ],
            "sizemode": "area",
            "sizeref": 7961.5,
            "symbol": "circle"
           },
           "mode": "markers",
           "name": "",
           "showlegend": false,
           "type": "scattergeo"
          }
         ],
         "name": "1995"
        },
        {
         "data": [
          {
           "geo": "geo",
           "hovertemplate": "Year=1996<br>Count=%{marker.size}<br>Country=%{location}<extra></extra>",
           "legendgroup": "",
           "locations": [
            "CHN",
            "NZL",
            "TUR",
            "IRN",
            "USA"
           ],
           "marker": {
            "color": "#636efa",
            "size": [
             1000,
             1400,
             2000,
             7300,
             35300
            ],
            "sizemode": "area",
            "sizeref": 7961.5,
            "symbol": "circle"
           },
           "mode": "markers",
           "name": "",
           "showlegend": false,
           "type": "scattergeo"
          }
         ],
         "name": "1996"
        },
        {
         "data": [
          {
           "geo": "geo",
           "hovertemplate": "Year=1997<br>Count=%{marker.size}<br>Country=%{location}<extra></extra>",
           "legendgroup": "",
           "locations": [
            "CMR",
            "CHN",
            "TUR",
            "NZL",
            "USA"
           ],
           "marker": {
            "color": "#636efa",
            "size": [
             100,
             200,
             1800,
             2400,
             48400
            ],
            "sizemode": "area",
            "sizeref": 7961.5,
            "symbol": "circle"
           },
           "mode": "markers",
           "name": "",
           "showlegend": false,
           "type": "scattergeo"
          }
         ],
         "name": "1997"
        },
        {
         "data": [
          {
           "geo": "geo",
           "hovertemplate": "Year=1998<br>Count=%{marker.size}<br>Country=%{location}<extra></extra>",
           "legendgroup": "",
           "locations": [
            "TUR",
            "NZL",
            "USA"
           ],
           "marker": {
            "color": "#636efa",
            "size": [
             1300,
             2400,
             148200
            ],
            "sizemode": "area",
            "sizeref": 7961.5,
            "symbol": "circle"
           },
           "mode": "markers",
           "name": "",
           "showlegend": false,
           "type": "scattergeo"
          }
         ],
         "name": "1998"
        },
        {
         "data": [
          {
           "geo": "geo",
           "hovertemplate": "Year=1999<br>Count=%{marker.size}<br>Country=%{location}<extra></extra>",
           "legendgroup": "",
           "locations": [
            "BGD",
            "NZL",
            "CHN",
            "TUR",
            "USA"
           ],
           "marker": {
            "color": "#636efa",
            "size": [
             100,
             300,
             600,
             700,
             144200
            ],
            "sizemode": "area",
            "sizeref": 7961.5,
            "symbol": "circle"
           },
           "mode": "markers",
           "name": "",
           "showlegend": false,
           "type": "scattergeo"
          }
         ],
         "name": "1999"
        },
        {
         "data": [
          {
           "geo": "geo",
           "hovertemplate": "Year=2000<br>Count=%{marker.size}<br>Country=%{location}<extra></extra>",
           "legendgroup": "",
           "locations": [
            "DNK",
            "NZL",
            "TUR",
            "CHN",
            "USA"
           ],
           "marker": {
            "color": "#636efa",
            "size": [
             100,
             300,
             400,
             1000,
             113800
            ],
            "sizemode": "area",
            "sizeref": 7961.5,
            "symbol": "circle"
           },
           "mode": "markers",
           "name": "",
           "showlegend": false,
           "type": "scattergeo"
          }
         ],
         "name": "2000"
        },
        {
         "data": [
          {
           "geo": "geo",
           "hovertemplate": "Year=2001<br>Count=%{marker.size}<br>Country=%{location}<extra></extra>",
           "legendgroup": "",
           "locations": [
            "CMR",
            "NZL",
            "ZAF",
            "CHN",
            "TUR",
            "USA"
           ],
           "marker": {
            "color": "#636efa",
            "size": [
             100,
             100,
             100,
             1400,
             4300,
             109800
            ],
            "sizemode": "area",
            "sizeref": 7961.5,
            "symbol": "circle"
           },
           "mode": "markers",
           "name": "",
           "showlegend": false,
           "type": "scattergeo"
          }
         ],
         "name": "2001"
        },
        {
         "data": [
          {
           "geo": "geo",
           "hovertemplate": "Year=2002<br>Count=%{marker.size}<br>Country=%{location}<extra></extra>",
           "legendgroup": "",
           "locations": [
            "BGD",
            "CMR",
            "DEU",
            "NZL",
            "CHN",
            "TUR",
            "USA"
           ],
           "marker": {
            "color": "#636efa",
            "size": [
             100,
             100,
             100,
             900,
             1400,
             6900,
             96800
            ],
            "sizemode": "area",
            "sizeref": 7961.5,
            "symbol": "circle"
           },
           "mode": "markers",
           "name": "",
           "showlegend": false,
           "type": "scattergeo"
          }
         ],
         "name": "2002"
        },
        {
         "data": [
          {
           "geo": "geo",
           "hovertemplate": "Year=2003<br>Count=%{marker.size}<br>Country=%{location}<extra></extra>",
           "legendgroup": "",
           "locations": [
            "CMR",
            "NZL",
            "CHN",
            "TUR",
            "USA"
           ],
           "marker": {
            "color": "#636efa",
            "size": [
             100,
             100,
             800,
             3900,
             91000
            ],
            "sizemode": "area",
            "sizeref": 7961.5,
            "symbol": "circle"
           },
           "mode": "markers",
           "name": "",
           "showlegend": false,
           "type": "scattergeo"
          }
         ],
         "name": "2003"
        },
        {
         "data": [
          {
           "geo": "geo",
           "hovertemplate": "Year=2004<br>Count=%{marker.size}<br>Country=%{location}<extra></extra>",
           "legendgroup": "",
           "locations": [
            "BGD",
            "CMR",
            "CHN",
            "TUR",
            "USA"
           ],
           "marker": {
            "color": "#636efa",
            "size": [
             100,
             100,
             400,
             2300,
             89600
            ],
            "sizemode": "area",
            "sizeref": 7961.5,
            "symbol": "circle"
           },
           "mode": "markers",
           "name": "",
           "showlegend": false,
           "type": "scattergeo"
          }
         ],
         "name": "2004"
        },
        {
         "data": [
          {
           "geo": "geo",
           "hovertemplate": "Year=2005<br>Count=%{marker.size}<br>Country=%{location}<extra></extra>",
           "legendgroup": "",
           "locations": [
            "CMR",
            "IRN",
            "CHN",
            "TUR",
            "USA"
           ],
           "marker": {
            "color": "#636efa",
            "size": [
             100,
             300,
             800,
             3000,
             145000
            ],
            "sizemode": "area",
            "sizeref": 7961.5,
            "symbol": "circle"
           },
           "mode": "markers",
           "name": "",
           "showlegend": false,
           "type": "scattergeo"
          }
         ],
         "name": "2005"
        },
        {
         "data": [
          {
           "geo": "geo",
           "hovertemplate": "Year=2006<br>Count=%{marker.size}<br>Country=%{location}<extra></extra>",
           "legendgroup": "",
           "locations": [
            "LBN",
            "RUS",
            "CMR",
            "CHN",
            "IRN",
            "TUR",
            "USA"
           ],
           "marker": {
            "color": "#636efa",
            "size": [
             100,
             100,
             200,
             1000,
             1000,
             2400,
             151900
            ],
            "sizemode": "area",
            "sizeref": 7961.5,
            "symbol": "circle"
           },
           "mode": "markers",
           "name": "",
           "showlegend": false,
           "type": "scattergeo"
          }
         ],
         "name": "2006"
        },
        {
         "data": [
          {
           "geo": "geo",
           "hovertemplate": "Year=2007<br>Count=%{marker.size}<br>Country=%{location}<extra></extra>",
           "legendgroup": "",
           "locations": [
            "CMR",
            "TUR",
            "CHN",
            "NZL",
            "USA"
           ],
           "marker": {
            "color": "#636efa",
            "size": [
             100,
             100,
             400,
             400,
             207700
            ],
            "sizemode": "area",
            "sizeref": 7961.5,
            "symbol": "circle"
           },
           "mode": "markers",
           "name": "",
           "showlegend": false,
           "type": "scattergeo"
          }
         ],
         "name": "2007"
        },
        {
         "data": [
          {
           "geo": "geo",
           "hovertemplate": "Year=2008<br>Count=%{marker.size}<br>Country=%{location}<extra></extra>",
           "legendgroup": "",
           "locations": [
            "KOR",
            "NZL",
            "QAT",
            "CHN",
            "TUR",
            "USA"
           ],
           "marker": {
            "color": "#636efa",
            "size": [
             100,
             100,
             300,
             700,
             12100,
             226400
            ],
            "sizemode": "area",
            "sizeref": 7961.5,
            "symbol": "circle"
           },
           "mode": "markers",
           "name": "",
           "showlegend": false,
           "type": "scattergeo"
          }
         ],
         "name": "2008"
        },
        {
         "data": [
          {
           "geo": "geo",
           "hovertemplate": "Year=2009<br>Count=%{marker.size}<br>Country=%{location}<extra></extra>",
           "legendgroup": "",
           "locations": [
            "CMR",
            "IRN",
            "NZL",
            "TUR",
            "CHN",
            "USA"
           ],
           "marker": {
            "color": "#636efa",
            "size": [
             100,
             200,
             200,
             400,
             1100,
             260000
            ],
            "sizemode": "area",
            "sizeref": 7961.5,
            "symbol": "circle"
           },
           "mode": "markers",
           "name": "",
           "showlegend": false,
           "type": "scattergeo"
          }
         ],
         "name": "2009"
        },
        {
         "data": [
          {
           "geo": "geo",
           "hovertemplate": "Year=2010<br>Count=%{marker.size}<br>Country=%{location}<extra></extra>",
           "legendgroup": "",
           "locations": [
            "NZL",
            "CMR",
            "TUR",
            "CHN",
            "BGD",
            "USA"
           ],
           "marker": {
            "color": "#636efa",
            "size": [
             100,
             300,
             300,
             1000,
             2900,
             184200
            ],
            "sizemode": "area",
            "sizeref": 7961.5,
            "symbol": "circle"
           },
           "mode": "markers",
           "name": "",
           "showlegend": false,
           "type": "scattergeo"
          }
         ],
         "name": "2010"
        },
        {
         "data": [
          {
           "geo": "geo",
           "hovertemplate": "Year=2011<br>Count=%{marker.size}<br>Country=%{location}<extra></extra>",
           "legendgroup": "",
           "locations": [
            "IRN",
            "CMR",
            "TUR",
            "CHN",
            "USA"
           ],
           "marker": {
            "color": "#636efa",
            "size": [
             100,
             200,
             200,
             1200,
             149700
            ],
            "sizemode": "area",
            "sizeref": 7961.5,
            "symbol": "circle"
           },
           "mode": "markers",
           "name": "",
           "showlegend": false,
           "type": "scattergeo"
          }
         ],
         "name": "2011"
        },
        {
         "data": [
          {
           "geo": "geo",
           "hovertemplate": "Year=2012<br>Count=%{marker.size}<br>Country=%{location}<extra></extra>",
           "legendgroup": "",
           "locations": [
            "QAT",
            "TUR",
            "CHN",
            "USA"
           ],
           "marker": {
            "color": "#636efa",
            "size": [
             200,
             200,
             600,
             316700
            ],
            "sizemode": "area",
            "sizeref": 7961.5,
            "symbol": "circle"
           },
           "mode": "markers",
           "name": "",
           "showlegend": false,
           "type": "scattergeo"
          }
         ],
         "name": "2012"
        },
        {
         "data": [
          {
           "geo": "geo",
           "hovertemplate": "Year=2013<br>Count=%{marker.size}<br>Country=%{location}<extra></extra>",
           "legendgroup": "",
           "locations": [
            "QAT",
            "CMR",
            "NZL",
            "TUR",
            "CHN",
            "RUS",
            "USA"
           ],
           "marker": {
            "color": "#636efa",
            "size": [
             100,
             200,
             300,
             300,
             1400,
             214200,
             261200
            ],
            "sizemode": "area",
            "sizeref": 7961.5,
            "symbol": "circle"
           },
           "mode": "markers",
           "name": "",
           "showlegend": false,
           "type": "scattergeo"
          }
         ],
         "name": "2013"
        },
        {
         "data": [
          {
           "geo": "geo",
           "hovertemplate": "Year=2014<br>Count=%{marker.size}<br>Country=%{location}<extra></extra>",
           "legendgroup": "",
           "locations": [
            "TUR",
            "QAT",
            "CHN",
            "RUS",
            "USA"
           ],
           "marker": {
            "color": "#636efa",
            "size": [
             200,
             400,
             2200,
             28600,
             227500
            ],
            "sizemode": "area",
            "sizeref": 7961.5,
            "symbol": "circle"
           },
           "mode": "markers",
           "name": "",
           "showlegend": false,
           "type": "scattergeo"
          }
         ],
         "name": "2014"
        },
        {
         "data": [
          {
           "geo": "geo",
           "hovertemplate": "Year=2015<br>Count=%{marker.size}<br>Country=%{location}<extra></extra>",
           "legendgroup": "",
           "locations": [
            "CMR",
            "MYS",
            "NLD",
            "NZL",
            "TUR",
            "CHN",
            "RUS",
            "USA"
           ],
           "marker": {
            "color": "#636efa",
            "size": [
             100,
             100,
             100,
             100,
             300,
             2000,
             76300,
             362200
            ],
            "sizemode": "area",
            "sizeref": 7961.5,
            "symbol": "circle"
           },
           "mode": "markers",
           "name": "",
           "showlegend": false,
           "type": "scattergeo"
          }
         ],
         "name": "2015"
        },
        {
         "data": [
          {
           "geo": "geo",
           "hovertemplate": "Year=2016<br>Count=%{marker.size}<br>Country=%{location}<extra></extra>",
           "legendgroup": "",
           "locations": [
            "BGD",
            "QAT",
            "CHN",
            "RUS",
            "USA"
           ],
           "marker": {
            "color": "#636efa",
            "size": [
             100,
             100,
             1400,
             78000,
             283100
            ],
            "sizemode": "area",
            "sizeref": 7961.5,
            "symbol": "circle"
           },
           "mode": "markers",
           "name": "",
           "showlegend": false,
           "type": "scattergeo"
          }
         ],
         "name": "2016"
        },
        {
         "data": [
          {
           "geo": "geo",
           "hovertemplate": "Year=2017<br>Count=%{marker.size}<br>Country=%{location}<extra></extra>",
           "legendgroup": "",
           "locations": [
            "QAT",
            "CHN",
            "RUS",
            "USA"
           ],
           "marker": {
            "color": "#636efa",
            "size": [
             100,
             200,
             32700,
             345700
            ],
            "sizemode": "area",
            "sizeref": 7961.5,
            "symbol": "circle"
           },
           "mode": "markers",
           "name": "",
           "showlegend": false,
           "type": "scattergeo"
          }
         ],
         "name": "2017"
        },
        {
         "data": [
          {
           "geo": "geo",
           "hovertemplate": "Year=2018<br>Count=%{marker.size}<br>Country=%{location}<extra></extra>",
           "legendgroup": "",
           "locations": [
            "CHN",
            "CMR",
            "RUS",
            "USA"
           ],
           "marker": {
            "color": "#636efa",
            "size": [
             100,
             100,
             46700,
             350600
            ],
            "sizemode": "area",
            "sizeref": 7961.5,
            "symbol": "circle"
           },
           "mode": "markers",
           "name": "",
           "showlegend": false,
           "type": "scattergeo"
          }
         ],
         "name": "2018"
        },
        {
         "data": [
          {
           "geo": "geo",
           "hovertemplate": "Year=2019<br>Count=%{marker.size}<br>Country=%{location}<extra></extra>",
           "legendgroup": "",
           "locations": [
            "CHN",
            "RUS",
            "USA"
           ],
           "marker": {
            "color": "#636efa",
            "size": [
             500,
             19200,
             351500
            ],
            "sizemode": "area",
            "sizeref": 7961.5,
            "symbol": "circle"
           },
           "mode": "markers",
           "name": "",
           "showlegend": false,
           "type": "scattergeo"
          }
         ],
         "name": "2019"
        },
        {
         "data": [
          {
           "geo": "geo",
           "hovertemplate": "Year=2020<br>Count=%{marker.size}<br>Country=%{location}<extra></extra>",
           "legendgroup": "",
           "locations": [
            "BGD",
            "CHN",
            "RUS",
            "USA"
           ],
           "marker": {
            "color": "#636efa",
            "size": [
             200,
             2100,
             13400,
             376100
            ],
            "sizemode": "area",
            "sizeref": 7961.5,
            "symbol": "circle"
           },
           "mode": "markers",
           "name": "",
           "showlegend": false,
           "type": "scattergeo"
          }
         ],
         "name": "2020"
        },
        {
         "data": [
          {
           "geo": "geo",
           "hovertemplate": "Year=2021<br>Count=%{marker.size}<br>Country=%{location}<extra></extra>",
           "legendgroup": "",
           "locations": [
            "IRN",
            "CHN",
            "RUS",
            "USA"
           ],
           "marker": {
            "color": "#636efa",
            "size": [
             100,
             1300,
             10800,
             710700
            ],
            "sizemode": "area",
            "sizeref": 7961.5,
            "symbol": "circle"
           },
           "mode": "markers",
           "name": "",
           "showlegend": false,
           "type": "scattergeo"
          }
         ],
         "name": "2021"
        },
        {
         "data": [
          {
           "geo": "geo",
           "hovertemplate": "Year=2022<br>Count=%{marker.size}<br>Country=%{location}<extra></extra>",
           "legendgroup": "",
           "locations": [
            "CMR",
            "CHN",
            "RUS",
            "USA"
           ],
           "marker": {
            "color": "#636efa",
            "size": [
             200,
             900,
             8000,
             423900
            ],
            "sizemode": "area",
            "sizeref": 7961.5,
            "symbol": "circle"
           },
           "mode": "markers",
           "name": "",
           "showlegend": false,
           "type": "scattergeo"
          }
         ],
         "name": "2022"
        },
        {
         "data": [
          {
           "geo": "geo",
           "hovertemplate": "Year=2023<br>Count=%{marker.size}<br>Country=%{location}<extra></extra>",
           "legendgroup": "",
           "locations": [
            "CHN",
            "RUS",
            "USA"
           ],
           "marker": {
            "color": "#636efa",
            "size": [
             500,
             8000,
             137900
            ],
            "sizemode": "area",
            "sizeref": 7961.5,
            "symbol": "circle"
           },
           "mode": "markers",
           "name": "",
           "showlegend": false,
           "type": "scattergeo"
          }
         ],
         "name": "2023"
        },
        {
         "data": [
          {
           "geo": "geo",
           "hovertemplate": "Year=2024<br>Count=%{marker.size}<br>Country=%{location}<extra></extra>",
           "legendgroup": "",
           "locations": [
            "RUS"
           ],
           "marker": {
            "color": "#636efa",
            "size": [
             400
            ],
            "sizemode": "area",
            "sizeref": 7961.5,
            "symbol": "circle"
           },
           "mode": "markers",
           "name": "",
           "showlegend": false,
           "type": "scattergeo"
          }
         ],
         "name": "2024"
        }
       ],
       "layout": {
        "geo": {
         "center": {},
         "domain": {
          "x": [
           0,
           1
          ],
          "y": [
           0,
           1
          ]
         },
         "projection": {
          "type": "natural earth"
         }
        },
        "legend": {
         "itemsizing": "constant",
         "tracegroupgap": 0
        },
        "margin": {
         "t": 60
        },
        "sliders": [
         {
          "active": 0,
          "currentvalue": {
           "prefix": "Year="
          },
          "len": 0.9,
          "pad": {
           "b": 10,
           "t": 60
          },
          "steps": [
           {
            "args": [
             [
              "-1"
             ],
             {
              "frame": {
               "duration": 0,
               "redraw": true
              },
              "fromcurrent": true,
              "mode": "immediate",
              "transition": {
               "duration": 0,
               "easing": "linear"
              }
             }
            ],
            "label": "-1",
            "method": "animate"
           },
           {
            "args": [
             [
              "1517"
             ],
             {
              "frame": {
               "duration": 0,
               "redraw": true
              },
              "fromcurrent": true,
              "mode": "immediate",
              "transition": {
               "duration": 0,
               "easing": "linear"
              }
             }
            ],
            "label": "1517",
            "method": "animate"
           },
           {
            "args": [
             [
              "1520"
             ],
             {
              "frame": {
               "duration": 0,
               "redraw": true
              },
              "fromcurrent": true,
              "mode": "immediate",
              "transition": {
               "duration": 0,
               "easing": "linear"
              }
             }
            ],
            "label": "1520",
            "method": "animate"
           },
           {
            "args": [
             [
              "1575"
             ],
             {
              "frame": {
               "duration": 0,
               "redraw": true
              },
              "fromcurrent": true,
              "mode": "immediate",
              "transition": {
               "duration": 0,
               "easing": "linear"
              }
             }
            ],
            "label": "1575",
            "method": "animate"
           },
           {
            "args": [
             [
              "1580"
             ],
             {
              "frame": {
               "duration": 0,
               "redraw": true
              },
              "fromcurrent": true,
              "mode": "immediate",
              "transition": {
               "duration": 0,
               "easing": "linear"
              }
             }
            ],
            "label": "1580",
            "method": "animate"
           },
           {
            "args": [
             [
              "1584"
             ],
             {
              "frame": {
               "duration": 0,
               "redraw": true
              },
              "fromcurrent": true,
              "mode": "immediate",
              "transition": {
               "duration": 0,
               "easing": "linear"
              }
             }
            ],
            "label": "1584",
            "method": "animate"
           },
           {
            "args": [
             [
              "1600"
             ],
             {
              "frame": {
               "duration": 0,
               "redraw": true
              },
              "fromcurrent": true,
              "mode": "immediate",
              "transition": {
               "duration": 0,
               "easing": "linear"
              }
             }
            ],
            "label": "1600",
            "method": "animate"
           },
           {
            "args": [
             [
              "1601"
             ],
             {
              "frame": {
               "duration": 0,
               "redraw": true
              },
              "fromcurrent": true,
              "mode": "immediate",
              "transition": {
               "duration": 0,
               "easing": "linear"
              }
             }
            ],
            "label": "1601",
            "method": "animate"
           },
           {
            "args": [
             [
              "1602"
             ],
             {
              "frame": {
               "duration": 0,
               "redraw": true
              },
              "fromcurrent": true,
              "mode": "immediate",
              "transition": {
               "duration": 0,
               "easing": "linear"
              }
             }
            ],
            "label": "1602",
            "method": "animate"
           },
           {
            "args": [
             [
              "1603"
             ],
             {
              "frame": {
               "duration": 0,
               "redraw": true
              },
              "fromcurrent": true,
              "mode": "immediate",
              "transition": {
               "duration": 0,
               "easing": "linear"
              }
             }
            ],
            "label": "1603",
            "method": "animate"
           },
           {
            "args": [
             [
              "1604"
             ],
             {
              "frame": {
               "duration": 0,
               "redraw": true
              },
              "fromcurrent": true,
              "mode": "immediate",
              "transition": {
               "duration": 0,
               "easing": "linear"
              }
             }
            ],
            "label": "1604",
            "method": "animate"
           },
           {
            "args": [
             [
              "1605"
             ],
             {
              "frame": {
               "duration": 0,
               "redraw": true
              },
              "fromcurrent": true,
              "mode": "immediate",
              "transition": {
               "duration": 0,
               "easing": "linear"
              }
             }
            ],
            "label": "1605",
            "method": "animate"
           },
           {
            "args": [
             [
              "1606"
             ],
             {
              "frame": {
               "duration": 0,
               "redraw": true
              },
              "fromcurrent": true,
              "mode": "immediate",
              "transition": {
               "duration": 0,
               "easing": "linear"
              }
             }
            ],
            "label": "1606",
            "method": "animate"
           },
           {
            "args": [
             [
              "1607"
             ],
             {
              "frame": {
               "duration": 0,
               "redraw": true
              },
              "fromcurrent": true,
              "mode": "immediate",
              "transition": {
               "duration": 0,
               "easing": "linear"
              }
             }
            ],
            "label": "1607",
            "method": "animate"
           },
           {
            "args": [
             [
              "1608"
             ],
             {
              "frame": {
               "duration": 0,
               "redraw": true
              },
              "fromcurrent": true,
              "mode": "immediate",
              "transition": {
               "duration": 0,
               "easing": "linear"
              }
             }
            ],
            "label": "1608",
            "method": "animate"
           },
           {
            "args": [
             [
              "1609"
             ],
             {
              "frame": {
               "duration": 0,
               "redraw": true
              },
              "fromcurrent": true,
              "mode": "immediate",
              "transition": {
               "duration": 0,
               "easing": "linear"
              }
             }
            ],
            "label": "1609",
            "method": "animate"
           },
           {
            "args": [
             [
              "1610"
             ],
             {
              "frame": {
               "duration": 0,
               "redraw": true
              },
              "fromcurrent": true,
              "mode": "immediate",
              "transition": {
               "duration": 0,
               "easing": "linear"
              }
             }
            ],
            "label": "1610",
            "method": "animate"
           },
           {
            "args": [
             [
              "1611"
             ],
             {
              "frame": {
               "duration": 0,
               "redraw": true
              },
              "fromcurrent": true,
              "mode": "immediate",
              "transition": {
               "duration": 0,
               "easing": "linear"
              }
             }
            ],
            "label": "1611",
            "method": "animate"
           },
           {
            "args": [
             [
              "1612"
             ],
             {
              "frame": {
               "duration": 0,
               "redraw": true
              },
              "fromcurrent": true,
              "mode": "immediate",
              "transition": {
               "duration": 0,
               "easing": "linear"
              }
             }
            ],
            "label": "1612",
            "method": "animate"
           },
           {
            "args": [
             [
              "1613"
             ],
             {
              "frame": {
               "duration": 0,
               "redraw": true
              },
              "fromcurrent": true,
              "mode": "immediate",
              "transition": {
               "duration": 0,
               "easing": "linear"
              }
             }
            ],
            "label": "1613",
            "method": "animate"
           },
           {
            "args": [
             [
              "1614"
             ],
             {
              "frame": {
               "duration": 0,
               "redraw": true
              },
              "fromcurrent": true,
              "mode": "immediate",
              "transition": {
               "duration": 0,
               "easing": "linear"
              }
             }
            ],
            "label": "1614",
            "method": "animate"
           },
           {
            "args": [
             [
              "1615"
             ],
             {
              "frame": {
               "duration": 0,
               "redraw": true
              },
              "fromcurrent": true,
              "mode": "immediate",
              "transition": {
               "duration": 0,
               "easing": "linear"
              }
             }
            ],
            "label": "1615",
            "method": "animate"
           },
           {
            "args": [
             [
              "1616"
             ],
             {
              "frame": {
               "duration": 0,
               "redraw": true
              },
              "fromcurrent": true,
              "mode": "immediate",
              "transition": {
               "duration": 0,
               "easing": "linear"
              }
             }
            ],
            "label": "1616",
            "method": "animate"
           },
           {
            "args": [
             [
              "1617"
             ],
             {
              "frame": {
               "duration": 0,
               "redraw": true
              },
              "fromcurrent": true,
              "mode": "immediate",
              "transition": {
               "duration": 0,
               "easing": "linear"
              }
             }
            ],
            "label": "1617",
            "method": "animate"
           },
           {
            "args": [
             [
              "1618"
             ],
             {
              "frame": {
               "duration": 0,
               "redraw": true
              },
              "fromcurrent": true,
              "mode": "immediate",
              "transition": {
               "duration": 0,
               "easing": "linear"
              }
             }
            ],
            "label": "1618",
            "method": "animate"
           },
           {
            "args": [
             [
              "1619"
             ],
             {
              "frame": {
               "duration": 0,
               "redraw": true
              },
              "fromcurrent": true,
              "mode": "immediate",
              "transition": {
               "duration": 0,
               "easing": "linear"
              }
             }
            ],
            "label": "1619",
            "method": "animate"
           },
           {
            "args": [
             [
              "1620"
             ],
             {
              "frame": {
               "duration": 0,
               "redraw": true
              },
              "fromcurrent": true,
              "mode": "immediate",
              "transition": {
               "duration": 0,
               "easing": "linear"
              }
             }
            ],
            "label": "1620",
            "method": "animate"
           },
           {
            "args": [
             [
              "1621"
             ],
             {
              "frame": {
               "duration": 0,
               "redraw": true
              },
              "fromcurrent": true,
              "mode": "immediate",
              "transition": {
               "duration": 0,
               "easing": "linear"
              }
             }
            ],
            "label": "1621",
            "method": "animate"
           },
           {
            "args": [
             [
              "1622"
             ],
             {
              "frame": {
               "duration": 0,
               "redraw": true
              },
              "fromcurrent": true,
              "mode": "immediate",
              "transition": {
               "duration": 0,
               "easing": "linear"
              }
             }
            ],
            "label": "1622",
            "method": "animate"
           },
           {
            "args": [
             [
              "1623"
             ],
             {
              "frame": {
               "duration": 0,
               "redraw": true
              },
              "fromcurrent": true,
              "mode": "immediate",
              "transition": {
               "duration": 0,
               "easing": "linear"
              }
             }
            ],
            "label": "1623",
            "method": "animate"
           },
           {
            "args": [
             [
              "1624"
             ],
             {
              "frame": {
               "duration": 0,
               "redraw": true
              },
              "fromcurrent": true,
              "mode": "immediate",
              "transition": {
               "duration": 0,
               "easing": "linear"
              }
             }
            ],
            "label": "1624",
            "method": "animate"
           },
           {
            "args": [
             [
              "1625"
             ],
             {
              "frame": {
               "duration": 0,
               "redraw": true
              },
              "fromcurrent": true,
              "mode": "immediate",
              "transition": {
               "duration": 0,
               "easing": "linear"
              }
             }
            ],
            "label": "1625",
            "method": "animate"
           },
           {
            "args": [
             [
              "1626"
             ],
             {
              "frame": {
               "duration": 0,
               "redraw": true
              },
              "fromcurrent": true,
              "mode": "immediate",
              "transition": {
               "duration": 0,
               "easing": "linear"
              }
             }
            ],
            "label": "1626",
            "method": "animate"
           },
           {
            "args": [
             [
              "1627"
             ],
             {
              "frame": {
               "duration": 0,
               "redraw": true
              },
              "fromcurrent": true,
              "mode": "immediate",
              "transition": {
               "duration": 0,
               "easing": "linear"
              }
             }
            ],
            "label": "1627",
            "method": "animate"
           },
           {
            "args": [
             [
              "1628"
             ],
             {
              "frame": {
               "duration": 0,
               "redraw": true
              },
              "fromcurrent": true,
              "mode": "immediate",
              "transition": {
               "duration": 0,
               "easing": "linear"
              }
             }
            ],
            "label": "1628",
            "method": "animate"
           },
           {
            "args": [
             [
              "1629"
             ],
             {
              "frame": {
               "duration": 0,
               "redraw": true
              },
              "fromcurrent": true,
              "mode": "immediate",
              "transition": {
               "duration": 0,
               "easing": "linear"
              }
             }
            ],
            "label": "1629",
            "method": "animate"
           },
           {
            "args": [
             [
              "1630"
             ],
             {
              "frame": {
               "duration": 0,
               "redraw": true
              },
              "fromcurrent": true,
              "mode": "immediate",
              "transition": {
               "duration": 0,
               "easing": "linear"
              }
             }
            ],
            "label": "1630",
            "method": "animate"
           },
           {
            "args": [
             [
              "1631"
             ],
             {
              "frame": {
               "duration": 0,
               "redraw": true
              },
              "fromcurrent": true,
              "mode": "immediate",
              "transition": {
               "duration": 0,
               "easing": "linear"
              }
             }
            ],
            "label": "1631",
            "method": "animate"
           },
           {
            "args": [
             [
              "1632"
             ],
             {
              "frame": {
               "duration": 0,
               "redraw": true
              },
              "fromcurrent": true,
              "mode": "immediate",
              "transition": {
               "duration": 0,
               "easing": "linear"
              }
             }
            ],
            "label": "1632",
            "method": "animate"
           },
           {
            "args": [
             [
              "1633"
             ],
             {
              "frame": {
               "duration": 0,
               "redraw": true
              },
              "fromcurrent": true,
              "mode": "immediate",
              "transition": {
               "duration": 0,
               "easing": "linear"
              }
             }
            ],
            "label": "1633",
            "method": "animate"
           },
           {
            "args": [
             [
              "1634"
             ],
             {
              "frame": {
               "duration": 0,
               "redraw": true
              },
              "fromcurrent": true,
              "mode": "immediate",
              "transition": {
               "duration": 0,
               "easing": "linear"
              }
             }
            ],
            "label": "1634",
            "method": "animate"
           },
           {
            "args": [
             [
              "1635"
             ],
             {
              "frame": {
               "duration": 0,
               "redraw": true
              },
              "fromcurrent": true,
              "mode": "immediate",
              "transition": {
               "duration": 0,
               "easing": "linear"
              }
             }
            ],
            "label": "1635",
            "method": "animate"
           },
           {
            "args": [
             [
              "1636"
             ],
             {
              "frame": {
               "duration": 0,
               "redraw": true
              },
              "fromcurrent": true,
              "mode": "immediate",
              "transition": {
               "duration": 0,
               "easing": "linear"
              }
             }
            ],
            "label": "1636",
            "method": "animate"
           },
           {
            "args": [
             [
              "1639"
             ],
             {
              "frame": {
               "duration": 0,
               "redraw": true
              },
              "fromcurrent": true,
              "mode": "immediate",
              "transition": {
               "duration": 0,
               "easing": "linear"
              }
             }
            ],
            "label": "1639",
            "method": "animate"
           },
           {
            "args": [
             [
              "1640"
             ],
             {
              "frame": {
               "duration": 0,
               "redraw": true
              },
              "fromcurrent": true,
              "mode": "immediate",
              "transition": {
               "duration": 0,
               "easing": "linear"
              }
             }
            ],
            "label": "1640",
            "method": "animate"
           },
           {
            "args": [
             [
              "1641"
             ],
             {
              "frame": {
               "duration": 0,
               "redraw": true
              },
              "fromcurrent": true,
              "mode": "immediate",
              "transition": {
               "duration": 0,
               "easing": "linear"
              }
             }
            ],
            "label": "1641",
            "method": "animate"
           },
           {
            "args": [
             [
              "1642"
             ],
             {
              "frame": {
               "duration": 0,
               "redraw": true
              },
              "fromcurrent": true,
              "mode": "immediate",
              "transition": {
               "duration": 0,
               "easing": "linear"
              }
             }
            ],
            "label": "1642",
            "method": "animate"
           },
           {
            "args": [
             [
              "1643"
             ],
             {
              "frame": {
               "duration": 0,
               "redraw": true
              },
              "fromcurrent": true,
              "mode": "immediate",
              "transition": {
               "duration": 0,
               "easing": "linear"
              }
             }
            ],
            "label": "1643",
            "method": "animate"
           },
           {
            "args": [
             [
              "1644"
             ],
             {
              "frame": {
               "duration": 0,
               "redraw": true
              },
              "fromcurrent": true,
              "mode": "immediate",
              "transition": {
               "duration": 0,
               "easing": "linear"
              }
             }
            ],
            "label": "1644",
            "method": "animate"
           },
           {
            "args": [
             [
              "1645"
             ],
             {
              "frame": {
               "duration": 0,
               "redraw": true
              },
              "fromcurrent": true,
              "mode": "immediate",
              "transition": {
               "duration": 0,
               "easing": "linear"
              }
             }
            ],
            "label": "1645",
            "method": "animate"
           },
           {
            "args": [
             [
              "1646"
             ],
             {
              "frame": {
               "duration": 0,
               "redraw": true
              },
              "fromcurrent": true,
              "mode": "immediate",
              "transition": {
               "duration": 0,
               "easing": "linear"
              }
             }
            ],
            "label": "1646",
            "method": "animate"
           },
           {
            "args": [
             [
              "1647"
             ],
             {
              "frame": {
               "duration": 0,
               "redraw": true
              },
              "fromcurrent": true,
              "mode": "immediate",
              "transition": {
               "duration": 0,
               "easing": "linear"
              }
             }
            ],
            "label": "1647",
            "method": "animate"
           },
           {
            "args": [
             [
              "1648"
             ],
             {
              "frame": {
               "duration": 0,
               "redraw": true
              },
              "fromcurrent": true,
              "mode": "immediate",
              "transition": {
               "duration": 0,
               "easing": "linear"
              }
             }
            ],
            "label": "1648",
            "method": "animate"
           },
           {
            "args": [
             [
              "1649"
             ],
             {
              "frame": {
               "duration": 0,
               "redraw": true
              },
              "fromcurrent": true,
              "mode": "immediate",
              "transition": {
               "duration": 0,
               "easing": "linear"
              }
             }
            ],
            "label": "1649",
            "method": "animate"
           },
           {
            "args": [
             [
              "1650"
             ],
             {
              "frame": {
               "duration": 0,
               "redraw": true
              },
              "fromcurrent": true,
              "mode": "immediate",
              "transition": {
               "duration": 0,
               "easing": "linear"
              }
             }
            ],
            "label": "1650",
            "method": "animate"
           },
           {
            "args": [
             [
              "1651"
             ],
             {
              "frame": {
               "duration": 0,
               "redraw": true
              },
              "fromcurrent": true,
              "mode": "immediate",
              "transition": {
               "duration": 0,
               "easing": "linear"
              }
             }
            ],
            "label": "1651",
            "method": "animate"
           },
           {
            "args": [
             [
              "1652"
             ],
             {
              "frame": {
               "duration": 0,
               "redraw": true
              },
              "fromcurrent": true,
              "mode": "immediate",
              "transition": {
               "duration": 0,
               "easing": "linear"
              }
             }
            ],
            "label": "1652",
            "method": "animate"
           },
           {
            "args": [
             [
              "1653"
             ],
             {
              "frame": {
               "duration": 0,
               "redraw": true
              },
              "fromcurrent": true,
              "mode": "immediate",
              "transition": {
               "duration": 0,
               "easing": "linear"
              }
             }
            ],
            "label": "1653",
            "method": "animate"
           },
           {
            "args": [
             [
              "1654"
             ],
             {
              "frame": {
               "duration": 0,
               "redraw": true
              },
              "fromcurrent": true,
              "mode": "immediate",
              "transition": {
               "duration": 0,
               "easing": "linear"
              }
             }
            ],
            "label": "1654",
            "method": "animate"
           },
           {
            "args": [
             [
              "1655"
             ],
             {
              "frame": {
               "duration": 0,
               "redraw": true
              },
              "fromcurrent": true,
              "mode": "immediate",
              "transition": {
               "duration": 0,
               "easing": "linear"
              }
             }
            ],
            "label": "1655",
            "method": "animate"
           },
           {
            "args": [
             [
              "1656"
             ],
             {
              "frame": {
               "duration": 0,
               "redraw": true
              },
              "fromcurrent": true,
              "mode": "immediate",
              "transition": {
               "duration": 0,
               "easing": "linear"
              }
             }
            ],
            "label": "1656",
            "method": "animate"
           },
           {
            "args": [
             [
              "1657"
             ],
             {
              "frame": {
               "duration": 0,
               "redraw": true
              },
              "fromcurrent": true,
              "mode": "immediate",
              "transition": {
               "duration": 0,
               "easing": "linear"
              }
             }
            ],
            "label": "1657",
            "method": "animate"
           },
           {
            "args": [
             [
              "1658"
             ],
             {
              "frame": {
               "duration": 0,
               "redraw": true
              },
              "fromcurrent": true,
              "mode": "immediate",
              "transition": {
               "duration": 0,
               "easing": "linear"
              }
             }
            ],
            "label": "1658",
            "method": "animate"
           },
           {
            "args": [
             [
              "1659"
             ],
             {
              "frame": {
               "duration": 0,
               "redraw": true
              },
              "fromcurrent": true,
              "mode": "immediate",
              "transition": {
               "duration": 0,
               "easing": "linear"
              }
             }
            ],
            "label": "1659",
            "method": "animate"
           },
           {
            "args": [
             [
              "1660"
             ],
             {
              "frame": {
               "duration": 0,
               "redraw": true
              },
              "fromcurrent": true,
              "mode": "immediate",
              "transition": {
               "duration": 0,
               "easing": "linear"
              }
             }
            ],
            "label": "1660",
            "method": "animate"
           },
           {
            "args": [
             [
              "1661"
             ],
             {
              "frame": {
               "duration": 0,
               "redraw": true
              },
              "fromcurrent": true,
              "mode": "immediate",
              "transition": {
               "duration": 0,
               "easing": "linear"
              }
             }
            ],
            "label": "1661",
            "method": "animate"
           },
           {
            "args": [
             [
              "1662"
             ],
             {
              "frame": {
               "duration": 0,
               "redraw": true
              },
              "fromcurrent": true,
              "mode": "immediate",
              "transition": {
               "duration": 0,
               "easing": "linear"
              }
             }
            ],
            "label": "1662",
            "method": "animate"
           },
           {
            "args": [
             [
              "1663"
             ],
             {
              "frame": {
               "duration": 0,
               "redraw": true
              },
              "fromcurrent": true,
              "mode": "immediate",
              "transition": {
               "duration": 0,
               "easing": "linear"
              }
             }
            ],
            "label": "1663",
            "method": "animate"
           },
           {
            "args": [
             [
              "1664"
             ],
             {
              "frame": {
               "duration": 0,
               "redraw": true
              },
              "fromcurrent": true,
              "mode": "immediate",
              "transition": {
               "duration": 0,
               "easing": "linear"
              }
             }
            ],
            "label": "1664",
            "method": "animate"
           },
           {
            "args": [
             [
              "1665"
             ],
             {
              "frame": {
               "duration": 0,
               "redraw": true
              },
              "fromcurrent": true,
              "mode": "immediate",
              "transition": {
               "duration": 0,
               "easing": "linear"
              }
             }
            ],
            "label": "1665",
            "method": "animate"
           },
           {
            "args": [
             [
              "1666"
             ],
             {
              "frame": {
               "duration": 0,
               "redraw": true
              },
              "fromcurrent": true,
              "mode": "immediate",
              "transition": {
               "duration": 0,
               "easing": "linear"
              }
             }
            ],
            "label": "1666",
            "method": "animate"
           },
           {
            "args": [
             [
              "1667"
             ],
             {
              "frame": {
               "duration": 0,
               "redraw": true
              },
              "fromcurrent": true,
              "mode": "immediate",
              "transition": {
               "duration": 0,
               "easing": "linear"
              }
             }
            ],
            "label": "1667",
            "method": "animate"
           },
           {
            "args": [
             [
              "1668"
             ],
             {
              "frame": {
               "duration": 0,
               "redraw": true
              },
              "fromcurrent": true,
              "mode": "immediate",
              "transition": {
               "duration": 0,
               "easing": "linear"
              }
             }
            ],
            "label": "1668",
            "method": "animate"
           },
           {
            "args": [
             [
              "1669"
             ],
             {
              "frame": {
               "duration": 0,
               "redraw": true
              },
              "fromcurrent": true,
              "mode": "immediate",
              "transition": {
               "duration": 0,
               "easing": "linear"
              }
             }
            ],
            "label": "1669",
            "method": "animate"
           },
           {
            "args": [
             [
              "1670"
             ],
             {
              "frame": {
               "duration": 0,
               "redraw": true
              },
              "fromcurrent": true,
              "mode": "immediate",
              "transition": {
               "duration": 0,
               "easing": "linear"
              }
             }
            ],
            "label": "1670",
            "method": "animate"
           },
           {
            "args": [
             [
              "1671"
             ],
             {
              "frame": {
               "duration": 0,
               "redraw": true
              },
              "fromcurrent": true,
              "mode": "immediate",
              "transition": {
               "duration": 0,
               "easing": "linear"
              }
             }
            ],
            "label": "1671",
            "method": "animate"
           },
           {
            "args": [
             [
              "1672"
             ],
             {
              "frame": {
               "duration": 0,
               "redraw": true
              },
              "fromcurrent": true,
              "mode": "immediate",
              "transition": {
               "duration": 0,
               "easing": "linear"
              }
             }
            ],
            "label": "1672",
            "method": "animate"
           },
           {
            "args": [
             [
              "1673"
             ],
             {
              "frame": {
               "duration": 0,
               "redraw": true
              },
              "fromcurrent": true,
              "mode": "immediate",
              "transition": {
               "duration": 0,
               "easing": "linear"
              }
             }
            ],
            "label": "1673",
            "method": "animate"
           },
           {
            "args": [
             [
              "1674"
             ],
             {
              "frame": {
               "duration": 0,
               "redraw": true
              },
              "fromcurrent": true,
              "mode": "immediate",
              "transition": {
               "duration": 0,
               "easing": "linear"
              }
             }
            ],
            "label": "1674",
            "method": "animate"
           },
           {
            "args": [
             [
              "1675"
             ],
             {
              "frame": {
               "duration": 0,
               "redraw": true
              },
              "fromcurrent": true,
              "mode": "immediate",
              "transition": {
               "duration": 0,
               "easing": "linear"
              }
             }
            ],
            "label": "1675",
            "method": "animate"
           },
           {
            "args": [
             [
              "1676"
             ],
             {
              "frame": {
               "duration": 0,
               "redraw": true
              },
              "fromcurrent": true,
              "mode": "immediate",
              "transition": {
               "duration": 0,
               "easing": "linear"
              }
             }
            ],
            "label": "1676",
            "method": "animate"
           },
           {
            "args": [
             [
              "1677"
             ],
             {
              "frame": {
               "duration": 0,
               "redraw": true
              },
              "fromcurrent": true,
              "mode": "immediate",
              "transition": {
               "duration": 0,
               "easing": "linear"
              }
             }
            ],
            "label": "1677",
            "method": "animate"
           },
           {
            "args": [
             [
              "1678"
             ],
             {
              "frame": {
               "duration": 0,
               "redraw": true
              },
              "fromcurrent": true,
              "mode": "immediate",
              "transition": {
               "duration": 0,
               "easing": "linear"
              }
             }
            ],
            "label": "1678",
            "method": "animate"
           },
           {
            "args": [
             [
              "1679"
             ],
             {
              "frame": {
               "duration": 0,
               "redraw": true
              },
              "fromcurrent": true,
              "mode": "immediate",
              "transition": {
               "duration": 0,
               "easing": "linear"
              }
             }
            ],
            "label": "1679",
            "method": "animate"
           },
           {
            "args": [
             [
              "1680"
             ],
             {
              "frame": {
               "duration": 0,
               "redraw": true
              },
              "fromcurrent": true,
              "mode": "immediate",
              "transition": {
               "duration": 0,
               "easing": "linear"
              }
             }
            ],
            "label": "1680",
            "method": "animate"
           },
           {
            "args": [
             [
              "1681"
             ],
             {
              "frame": {
               "duration": 0,
               "redraw": true
              },
              "fromcurrent": true,
              "mode": "immediate",
              "transition": {
               "duration": 0,
               "easing": "linear"
              }
             }
            ],
            "label": "1681",
            "method": "animate"
           },
           {
            "args": [
             [
              "1682"
             ],
             {
              "frame": {
               "duration": 0,
               "redraw": true
              },
              "fromcurrent": true,
              "mode": "immediate",
              "transition": {
               "duration": 0,
               "easing": "linear"
              }
             }
            ],
            "label": "1682",
            "method": "animate"
           },
           {
            "args": [
             [
              "1683"
             ],
             {
              "frame": {
               "duration": 0,
               "redraw": true
              },
              "fromcurrent": true,
              "mode": "immediate",
              "transition": {
               "duration": 0,
               "easing": "linear"
              }
             }
            ],
            "label": "1683",
            "method": "animate"
           },
           {
            "args": [
             [
              "1684"
             ],
             {
              "frame": {
               "duration": 0,
               "redraw": true
              },
              "fromcurrent": true,
              "mode": "immediate",
              "transition": {
               "duration": 0,
               "easing": "linear"
              }
             }
            ],
            "label": "1684",
            "method": "animate"
           },
           {
            "args": [
             [
              "1685"
             ],
             {
              "frame": {
               "duration": 0,
               "redraw": true
              },
              "fromcurrent": true,
              "mode": "immediate",
              "transition": {
               "duration": 0,
               "easing": "linear"
              }
             }
            ],
            "label": "1685",
            "method": "animate"
           },
           {
            "args": [
             [
              "1686"
             ],
             {
              "frame": {
               "duration": 0,
               "redraw": true
              },
              "fromcurrent": true,
              "mode": "immediate",
              "transition": {
               "duration": 0,
               "easing": "linear"
              }
             }
            ],
            "label": "1686",
            "method": "animate"
           },
           {
            "args": [
             [
              "1687"
             ],
             {
              "frame": {
               "duration": 0,
               "redraw": true
              },
              "fromcurrent": true,
              "mode": "immediate",
              "transition": {
               "duration": 0,
               "easing": "linear"
              }
             }
            ],
            "label": "1687",
            "method": "animate"
           },
           {
            "args": [
             [
              "1688"
             ],
             {
              "frame": {
               "duration": 0,
               "redraw": true
              },
              "fromcurrent": true,
              "mode": "immediate",
              "transition": {
               "duration": 0,
               "easing": "linear"
              }
             }
            ],
            "label": "1688",
            "method": "animate"
           },
           {
            "args": [
             [
              "1689"
             ],
             {
              "frame": {
               "duration": 0,
               "redraw": true
              },
              "fromcurrent": true,
              "mode": "immediate",
              "transition": {
               "duration": 0,
               "easing": "linear"
              }
             }
            ],
            "label": "1689",
            "method": "animate"
           },
           {
            "args": [
             [
              "1690"
             ],
             {
              "frame": {
               "duration": 0,
               "redraw": true
              },
              "fromcurrent": true,
              "mode": "immediate",
              "transition": {
               "duration": 0,
               "easing": "linear"
              }
             }
            ],
            "label": "1690",
            "method": "animate"
           },
           {
            "args": [
             [
              "1691"
             ],
             {
              "frame": {
               "duration": 0,
               "redraw": true
              },
              "fromcurrent": true,
              "mode": "immediate",
              "transition": {
               "duration": 0,
               "easing": "linear"
              }
             }
            ],
            "label": "1691",
            "method": "animate"
           },
           {
            "args": [
             [
              "1692"
             ],
             {
              "frame": {
               "duration": 0,
               "redraw": true
              },
              "fromcurrent": true,
              "mode": "immediate",
              "transition": {
               "duration": 0,
               "easing": "linear"
              }
             }
            ],
            "label": "1692",
            "method": "animate"
           },
           {
            "args": [
             [
              "1693"
             ],
             {
              "frame": {
               "duration": 0,
               "redraw": true
              },
              "fromcurrent": true,
              "mode": "immediate",
              "transition": {
               "duration": 0,
               "easing": "linear"
              }
             }
            ],
            "label": "1693",
            "method": "animate"
           },
           {
            "args": [
             [
              "1694"
             ],
             {
              "frame": {
               "duration": 0,
               "redraw": true
              },
              "fromcurrent": true,
              "mode": "immediate",
              "transition": {
               "duration": 0,
               "easing": "linear"
              }
             }
            ],
            "label": "1694",
            "method": "animate"
           },
           {
            "args": [
             [
              "1695"
             ],
             {
              "frame": {
               "duration": 0,
               "redraw": true
              },
              "fromcurrent": true,
              "mode": "immediate",
              "transition": {
               "duration": 0,
               "easing": "linear"
              }
             }
            ],
            "label": "1695",
            "method": "animate"
           },
           {
            "args": [
             [
              "1696"
             ],
             {
              "frame": {
               "duration": 0,
               "redraw": true
              },
              "fromcurrent": true,
              "mode": "immediate",
              "transition": {
               "duration": 0,
               "easing": "linear"
              }
             }
            ],
            "label": "1696",
            "method": "animate"
           },
           {
            "args": [
             [
              "1697"
             ],
             {
              "frame": {
               "duration": 0,
               "redraw": true
              },
              "fromcurrent": true,
              "mode": "immediate",
              "transition": {
               "duration": 0,
               "easing": "linear"
              }
             }
            ],
            "label": "1697",
            "method": "animate"
           },
           {
            "args": [
             [
              "1698"
             ],
             {
              "frame": {
               "duration": 0,
               "redraw": true
              },
              "fromcurrent": true,
              "mode": "immediate",
              "transition": {
               "duration": 0,
               "easing": "linear"
              }
             }
            ],
            "label": "1698",
            "method": "animate"
           },
           {
            "args": [
             [
              "1699"
             ],
             {
              "frame": {
               "duration": 0,
               "redraw": true
              },
              "fromcurrent": true,
              "mode": "immediate",
              "transition": {
               "duration": 0,
               "easing": "linear"
              }
             }
            ],
            "label": "1699",
            "method": "animate"
           },
           {
            "args": [
             [
              "1700"
             ],
             {
              "frame": {
               "duration": 0,
               "redraw": true
              },
              "fromcurrent": true,
              "mode": "immediate",
              "transition": {
               "duration": 0,
               "easing": "linear"
              }
             }
            ],
            "label": "1700",
            "method": "animate"
           },
           {
            "args": [
             [
              "1701"
             ],
             {
              "frame": {
               "duration": 0,
               "redraw": true
              },
              "fromcurrent": true,
              "mode": "immediate",
              "transition": {
               "duration": 0,
               "easing": "linear"
              }
             }
            ],
            "label": "1701",
            "method": "animate"
           },
           {
            "args": [
             [
              "1702"
             ],
             {
              "frame": {
               "duration": 0,
               "redraw": true
              },
              "fromcurrent": true,
              "mode": "immediate",
              "transition": {
               "duration": 0,
               "easing": "linear"
              }
             }
            ],
            "label": "1702",
            "method": "animate"
           },
           {
            "args": [
             [
              "1703"
             ],
             {
              "frame": {
               "duration": 0,
               "redraw": true
              },
              "fromcurrent": true,
              "mode": "immediate",
              "transition": {
               "duration": 0,
               "easing": "linear"
              }
             }
            ],
            "label": "1703",
            "method": "animate"
           },
           {
            "args": [
             [
              "1704"
             ],
             {
              "frame": {
               "duration": 0,
               "redraw": true
              },
              "fromcurrent": true,
              "mode": "immediate",
              "transition": {
               "duration": 0,
               "easing": "linear"
              }
             }
            ],
            "label": "1704",
            "method": "animate"
           },
           {
            "args": [
             [
              "1705"
             ],
             {
              "frame": {
               "duration": 0,
               "redraw": true
              },
              "fromcurrent": true,
              "mode": "immediate",
              "transition": {
               "duration": 0,
               "easing": "linear"
              }
             }
            ],
            "label": "1705",
            "method": "animate"
           },
           {
            "args": [
             [
              "1706"
             ],
             {
              "frame": {
               "duration": 0,
               "redraw": true
              },
              "fromcurrent": true,
              "mode": "immediate",
              "transition": {
               "duration": 0,
               "easing": "linear"
              }
             }
            ],
            "label": "1706",
            "method": "animate"
           },
           {
            "args": [
             [
              "1707"
             ],
             {
              "frame": {
               "duration": 0,
               "redraw": true
              },
              "fromcurrent": true,
              "mode": "immediate",
              "transition": {
               "duration": 0,
               "easing": "linear"
              }
             }
            ],
            "label": "1707",
            "method": "animate"
           },
           {
            "args": [
             [
              "1708"
             ],
             {
              "frame": {
               "duration": 0,
               "redraw": true
              },
              "fromcurrent": true,
              "mode": "immediate",
              "transition": {
               "duration": 0,
               "easing": "linear"
              }
             }
            ],
            "label": "1708",
            "method": "animate"
           },
           {
            "args": [
             [
              "1709"
             ],
             {
              "frame": {
               "duration": 0,
               "redraw": true
              },
              "fromcurrent": true,
              "mode": "immediate",
              "transition": {
               "duration": 0,
               "easing": "linear"
              }
             }
            ],
            "label": "1709",
            "method": "animate"
           },
           {
            "args": [
             [
              "1710"
             ],
             {
              "frame": {
               "duration": 0,
               "redraw": true
              },
              "fromcurrent": true,
              "mode": "immediate",
              "transition": {
               "duration": 0,
               "easing": "linear"
              }
             }
            ],
            "label": "1710",
            "method": "animate"
           },
           {
            "args": [
             [
              "1711"
             ],
             {
              "frame": {
               "duration": 0,
               "redraw": true
              },
              "fromcurrent": true,
              "mode": "immediate",
              "transition": {
               "duration": 0,
               "easing": "linear"
              }
             }
            ],
            "label": "1711",
            "method": "animate"
           },
           {
            "args": [
             [
              "1712"
             ],
             {
              "frame": {
               "duration": 0,
               "redraw": true
              },
              "fromcurrent": true,
              "mode": "immediate",
              "transition": {
               "duration": 0,
               "easing": "linear"
              }
             }
            ],
            "label": "1712",
            "method": "animate"
           },
           {
            "args": [
             [
              "1713"
             ],
             {
              "frame": {
               "duration": 0,
               "redraw": true
              },
              "fromcurrent": true,
              "mode": "immediate",
              "transition": {
               "duration": 0,
               "easing": "linear"
              }
             }
            ],
            "label": "1713",
            "method": "animate"
           },
           {
            "args": [
             [
              "1714"
             ],
             {
              "frame": {
               "duration": 0,
               "redraw": true
              },
              "fromcurrent": true,
              "mode": "immediate",
              "transition": {
               "duration": 0,
               "easing": "linear"
              }
             }
            ],
            "label": "1714",
            "method": "animate"
           },
           {
            "args": [
             [
              "1715"
             ],
             {
              "frame": {
               "duration": 0,
               "redraw": true
              },
              "fromcurrent": true,
              "mode": "immediate",
              "transition": {
               "duration": 0,
               "easing": "linear"
              }
             }
            ],
            "label": "1715",
            "method": "animate"
           },
           {
            "args": [
             [
              "1716"
             ],
             {
              "frame": {
               "duration": 0,
               "redraw": true
              },
              "fromcurrent": true,
              "mode": "immediate",
              "transition": {
               "duration": 0,
               "easing": "linear"
              }
             }
            ],
            "label": "1716",
            "method": "animate"
           },
           {
            "args": [
             [
              "1717"
             ],
             {
              "frame": {
               "duration": 0,
               "redraw": true
              },
              "fromcurrent": true,
              "mode": "immediate",
              "transition": {
               "duration": 0,
               "easing": "linear"
              }
             }
            ],
            "label": "1717",
            "method": "animate"
           },
           {
            "args": [
             [
              "1718"
             ],
             {
              "frame": {
               "duration": 0,
               "redraw": true
              },
              "fromcurrent": true,
              "mode": "immediate",
              "transition": {
               "duration": 0,
               "easing": "linear"
              }
             }
            ],
            "label": "1718",
            "method": "animate"
           },
           {
            "args": [
             [
              "1719"
             ],
             {
              "frame": {
               "duration": 0,
               "redraw": true
              },
              "fromcurrent": true,
              "mode": "immediate",
              "transition": {
               "duration": 0,
               "easing": "linear"
              }
             }
            ],
            "label": "1719",
            "method": "animate"
           },
           {
            "args": [
             [
              "1720"
             ],
             {
              "frame": {
               "duration": 0,
               "redraw": true
              },
              "fromcurrent": true,
              "mode": "immediate",
              "transition": {
               "duration": 0,
               "easing": "linear"
              }
             }
            ],
            "label": "1720",
            "method": "animate"
           },
           {
            "args": [
             [
              "1721"
             ],
             {
              "frame": {
               "duration": 0,
               "redraw": true
              },
              "fromcurrent": true,
              "mode": "immediate",
              "transition": {
               "duration": 0,
               "easing": "linear"
              }
             }
            ],
            "label": "1721",
            "method": "animate"
           },
           {
            "args": [
             [
              "1722"
             ],
             {
              "frame": {
               "duration": 0,
               "redraw": true
              },
              "fromcurrent": true,
              "mode": "immediate",
              "transition": {
               "duration": 0,
               "easing": "linear"
              }
             }
            ],
            "label": "1722",
            "method": "animate"
           },
           {
            "args": [
             [
              "1723"
             ],
             {
              "frame": {
               "duration": 0,
               "redraw": true
              },
              "fromcurrent": true,
              "mode": "immediate",
              "transition": {
               "duration": 0,
               "easing": "linear"
              }
             }
            ],
            "label": "1723",
            "method": "animate"
           },
           {
            "args": [
             [
              "1724"
             ],
             {
              "frame": {
               "duration": 0,
               "redraw": true
              },
              "fromcurrent": true,
              "mode": "immediate",
              "transition": {
               "duration": 0,
               "easing": "linear"
              }
             }
            ],
            "label": "1724",
            "method": "animate"
           },
           {
            "args": [
             [
              "1725"
             ],
             {
              "frame": {
               "duration": 0,
               "redraw": true
              },
              "fromcurrent": true,
              "mode": "immediate",
              "transition": {
               "duration": 0,
               "easing": "linear"
              }
             }
            ],
            "label": "1725",
            "method": "animate"
           },
           {
            "args": [
             [
              "1726"
             ],
             {
              "frame": {
               "duration": 0,
               "redraw": true
              },
              "fromcurrent": true,
              "mode": "immediate",
              "transition": {
               "duration": 0,
               "easing": "linear"
              }
             }
            ],
            "label": "1726",
            "method": "animate"
           },
           {
            "args": [
             [
              "1727"
             ],
             {
              "frame": {
               "duration": 0,
               "redraw": true
              },
              "fromcurrent": true,
              "mode": "immediate",
              "transition": {
               "duration": 0,
               "easing": "linear"
              }
             }
            ],
            "label": "1727",
            "method": "animate"
           },
           {
            "args": [
             [
              "1728"
             ],
             {
              "frame": {
               "duration": 0,
               "redraw": true
              },
              "fromcurrent": true,
              "mode": "immediate",
              "transition": {
               "duration": 0,
               "easing": "linear"
              }
             }
            ],
            "label": "1728",
            "method": "animate"
           },
           {
            "args": [
             [
              "1729"
             ],
             {
              "frame": {
               "duration": 0,
               "redraw": true
              },
              "fromcurrent": true,
              "mode": "immediate",
              "transition": {
               "duration": 0,
               "easing": "linear"
              }
             }
            ],
            "label": "1729",
            "method": "animate"
           },
           {
            "args": [
             [
              "1730"
             ],
             {
              "frame": {
               "duration": 0,
               "redraw": true
              },
              "fromcurrent": true,
              "mode": "immediate",
              "transition": {
               "duration": 0,
               "easing": "linear"
              }
             }
            ],
            "label": "1730",
            "method": "animate"
           },
           {
            "args": [
             [
              "1731"
             ],
             {
              "frame": {
               "duration": 0,
               "redraw": true
              },
              "fromcurrent": true,
              "mode": "immediate",
              "transition": {
               "duration": 0,
               "easing": "linear"
              }
             }
            ],
            "label": "1731",
            "method": "animate"
           },
           {
            "args": [
             [
              "1732"
             ],
             {
              "frame": {
               "duration": 0,
               "redraw": true
              },
              "fromcurrent": true,
              "mode": "immediate",
              "transition": {
               "duration": 0,
               "easing": "linear"
              }
             }
            ],
            "label": "1732",
            "method": "animate"
           },
           {
            "args": [
             [
              "1733"
             ],
             {
              "frame": {
               "duration": 0,
               "redraw": true
              },
              "fromcurrent": true,
              "mode": "immediate",
              "transition": {
               "duration": 0,
               "easing": "linear"
              }
             }
            ],
            "label": "1733",
            "method": "animate"
           },
           {
            "args": [
             [
              "1734"
             ],
             {
              "frame": {
               "duration": 0,
               "redraw": true
              },
              "fromcurrent": true,
              "mode": "immediate",
              "transition": {
               "duration": 0,
               "easing": "linear"
              }
             }
            ],
            "label": "1734",
            "method": "animate"
           },
           {
            "args": [
             [
              "1735"
             ],
             {
              "frame": {
               "duration": 0,
               "redraw": true
              },
              "fromcurrent": true,
              "mode": "immediate",
              "transition": {
               "duration": 0,
               "easing": "linear"
              }
             }
            ],
            "label": "1735",
            "method": "animate"
           },
           {
            "args": [
             [
              "1736"
             ],
             {
              "frame": {
               "duration": 0,
               "redraw": true
              },
              "fromcurrent": true,
              "mode": "immediate",
              "transition": {
               "duration": 0,
               "easing": "linear"
              }
             }
            ],
            "label": "1736",
            "method": "animate"
           },
           {
            "args": [
             [
              "1737"
             ],
             {
              "frame": {
               "duration": 0,
               "redraw": true
              },
              "fromcurrent": true,
              "mode": "immediate",
              "transition": {
               "duration": 0,
               "easing": "linear"
              }
             }
            ],
            "label": "1737",
            "method": "animate"
           },
           {
            "args": [
             [
              "1738"
             ],
             {
              "frame": {
               "duration": 0,
               "redraw": true
              },
              "fromcurrent": true,
              "mode": "immediate",
              "transition": {
               "duration": 0,
               "easing": "linear"
              }
             }
            ],
            "label": "1738",
            "method": "animate"
           },
           {
            "args": [
             [
              "1739"
             ],
             {
              "frame": {
               "duration": 0,
               "redraw": true
              },
              "fromcurrent": true,
              "mode": "immediate",
              "transition": {
               "duration": 0,
               "easing": "linear"
              }
             }
            ],
            "label": "1739",
            "method": "animate"
           },
           {
            "args": [
             [
              "1740"
             ],
             {
              "frame": {
               "duration": 0,
               "redraw": true
              },
              "fromcurrent": true,
              "mode": "immediate",
              "transition": {
               "duration": 0,
               "easing": "linear"
              }
             }
            ],
            "label": "1740",
            "method": "animate"
           },
           {
            "args": [
             [
              "1741"
             ],
             {
              "frame": {
               "duration": 0,
               "redraw": true
              },
              "fromcurrent": true,
              "mode": "immediate",
              "transition": {
               "duration": 0,
               "easing": "linear"
              }
             }
            ],
            "label": "1741",
            "method": "animate"
           },
           {
            "args": [
             [
              "1742"
             ],
             {
              "frame": {
               "duration": 0,
               "redraw": true
              },
              "fromcurrent": true,
              "mode": "immediate",
              "transition": {
               "duration": 0,
               "easing": "linear"
              }
             }
            ],
            "label": "1742",
            "method": "animate"
           },
           {
            "args": [
             [
              "1743"
             ],
             {
              "frame": {
               "duration": 0,
               "redraw": true
              },
              "fromcurrent": true,
              "mode": "immediate",
              "transition": {
               "duration": 0,
               "easing": "linear"
              }
             }
            ],
            "label": "1743",
            "method": "animate"
           },
           {
            "args": [
             [
              "1744"
             ],
             {
              "frame": {
               "duration": 0,
               "redraw": true
              },
              "fromcurrent": true,
              "mode": "immediate",
              "transition": {
               "duration": 0,
               "easing": "linear"
              }
             }
            ],
            "label": "1744",
            "method": "animate"
           },
           {
            "args": [
             [
              "1745"
             ],
             {
              "frame": {
               "duration": 0,
               "redraw": true
              },
              "fromcurrent": true,
              "mode": "immediate",
              "transition": {
               "duration": 0,
               "easing": "linear"
              }
             }
            ],
            "label": "1745",
            "method": "animate"
           },
           {
            "args": [
             [
              "1746"
             ],
             {
              "frame": {
               "duration": 0,
               "redraw": true
              },
              "fromcurrent": true,
              "mode": "immediate",
              "transition": {
               "duration": 0,
               "easing": "linear"
              }
             }
            ],
            "label": "1746",
            "method": "animate"
           },
           {
            "args": [
             [
              "1747"
             ],
             {
              "frame": {
               "duration": 0,
               "redraw": true
              },
              "fromcurrent": true,
              "mode": "immediate",
              "transition": {
               "duration": 0,
               "easing": "linear"
              }
             }
            ],
            "label": "1747",
            "method": "animate"
           },
           {
            "args": [
             [
              "1748"
             ],
             {
              "frame": {
               "duration": 0,
               "redraw": true
              },
              "fromcurrent": true,
              "mode": "immediate",
              "transition": {
               "duration": 0,
               "easing": "linear"
              }
             }
            ],
            "label": "1748",
            "method": "animate"
           },
           {
            "args": [
             [
              "1749"
             ],
             {
              "frame": {
               "duration": 0,
               "redraw": true
              },
              "fromcurrent": true,
              "mode": "immediate",
              "transition": {
               "duration": 0,
               "easing": "linear"
              }
             }
            ],
            "label": "1749",
            "method": "animate"
           },
           {
            "args": [
             [
              "1750"
             ],
             {
              "frame": {
               "duration": 0,
               "redraw": true
              },
              "fromcurrent": true,
              "mode": "immediate",
              "transition": {
               "duration": 0,
               "easing": "linear"
              }
             }
            ],
            "label": "1750",
            "method": "animate"
           },
           {
            "args": [
             [
              "1751"
             ],
             {
              "frame": {
               "duration": 0,
               "redraw": true
              },
              "fromcurrent": true,
              "mode": "immediate",
              "transition": {
               "duration": 0,
               "easing": "linear"
              }
             }
            ],
            "label": "1751",
            "method": "animate"
           },
           {
            "args": [
             [
              "1752"
             ],
             {
              "frame": {
               "duration": 0,
               "redraw": true
              },
              "fromcurrent": true,
              "mode": "immediate",
              "transition": {
               "duration": 0,
               "easing": "linear"
              }
             }
            ],
            "label": "1752",
            "method": "animate"
           },
           {
            "args": [
             [
              "1753"
             ],
             {
              "frame": {
               "duration": 0,
               "redraw": true
              },
              "fromcurrent": true,
              "mode": "immediate",
              "transition": {
               "duration": 0,
               "easing": "linear"
              }
             }
            ],
            "label": "1753",
            "method": "animate"
           },
           {
            "args": [
             [
              "1754"
             ],
             {
              "frame": {
               "duration": 0,
               "redraw": true
              },
              "fromcurrent": true,
              "mode": "immediate",
              "transition": {
               "duration": 0,
               "easing": "linear"
              }
             }
            ],
            "label": "1754",
            "method": "animate"
           },
           {
            "args": [
             [
              "1755"
             ],
             {
              "frame": {
               "duration": 0,
               "redraw": true
              },
              "fromcurrent": true,
              "mode": "immediate",
              "transition": {
               "duration": 0,
               "easing": "linear"
              }
             }
            ],
            "label": "1755",
            "method": "animate"
           },
           {
            "args": [
             [
              "1756"
             ],
             {
              "frame": {
               "duration": 0,
               "redraw": true
              },
              "fromcurrent": true,
              "mode": "immediate",
              "transition": {
               "duration": 0,
               "easing": "linear"
              }
             }
            ],
            "label": "1756",
            "method": "animate"
           },
           {
            "args": [
             [
              "1757"
             ],
             {
              "frame": {
               "duration": 0,
               "redraw": true
              },
              "fromcurrent": true,
              "mode": "immediate",
              "transition": {
               "duration": 0,
               "easing": "linear"
              }
             }
            ],
            "label": "1757",
            "method": "animate"
           },
           {
            "args": [
             [
              "1758"
             ],
             {
              "frame": {
               "duration": 0,
               "redraw": true
              },
              "fromcurrent": true,
              "mode": "immediate",
              "transition": {
               "duration": 0,
               "easing": "linear"
              }
             }
            ],
            "label": "1758",
            "method": "animate"
           },
           {
            "args": [
             [
              "1759"
             ],
             {
              "frame": {
               "duration": 0,
               "redraw": true
              },
              "fromcurrent": true,
              "mode": "immediate",
              "transition": {
               "duration": 0,
               "easing": "linear"
              }
             }
            ],
            "label": "1759",
            "method": "animate"
           },
           {
            "args": [
             [
              "1760"
             ],
             {
              "frame": {
               "duration": 0,
               "redraw": true
              },
              "fromcurrent": true,
              "mode": "immediate",
              "transition": {
               "duration": 0,
               "easing": "linear"
              }
             }
            ],
            "label": "1760",
            "method": "animate"
           },
           {
            "args": [
             [
              "1761"
             ],
             {
              "frame": {
               "duration": 0,
               "redraw": true
              },
              "fromcurrent": true,
              "mode": "immediate",
              "transition": {
               "duration": 0,
               "easing": "linear"
              }
             }
            ],
            "label": "1761",
            "method": "animate"
           },
           {
            "args": [
             [
              "1762"
             ],
             {
              "frame": {
               "duration": 0,
               "redraw": true
              },
              "fromcurrent": true,
              "mode": "immediate",
              "transition": {
               "duration": 0,
               "easing": "linear"
              }
             }
            ],
            "label": "1762",
            "method": "animate"
           },
           {
            "args": [
             [
              "1763"
             ],
             {
              "frame": {
               "duration": 0,
               "redraw": true
              },
              "fromcurrent": true,
              "mode": "immediate",
              "transition": {
               "duration": 0,
               "easing": "linear"
              }
             }
            ],
            "label": "1763",
            "method": "animate"
           },
           {
            "args": [
             [
              "1764"
             ],
             {
              "frame": {
               "duration": 0,
               "redraw": true
              },
              "fromcurrent": true,
              "mode": "immediate",
              "transition": {
               "duration": 0,
               "easing": "linear"
              }
             }
            ],
            "label": "1764",
            "method": "animate"
           },
           {
            "args": [
             [
              "1765"
             ],
             {
              "frame": {
               "duration": 0,
               "redraw": true
              },
              "fromcurrent": true,
              "mode": "immediate",
              "transition": {
               "duration": 0,
               "easing": "linear"
              }
             }
            ],
            "label": "1765",
            "method": "animate"
           },
           {
            "args": [
             [
              "1766"
             ],
             {
              "frame": {
               "duration": 0,
               "redraw": true
              },
              "fromcurrent": true,
              "mode": "immediate",
              "transition": {
               "duration": 0,
               "easing": "linear"
              }
             }
            ],
            "label": "1766",
            "method": "animate"
           },
           {
            "args": [
             [
              "1767"
             ],
             {
              "frame": {
               "duration": 0,
               "redraw": true
              },
              "fromcurrent": true,
              "mode": "immediate",
              "transition": {
               "duration": 0,
               "easing": "linear"
              }
             }
            ],
            "label": "1767",
            "method": "animate"
           },
           {
            "args": [
             [
              "1768"
             ],
             {
              "frame": {
               "duration": 0,
               "redraw": true
              },
              "fromcurrent": true,
              "mode": "immediate",
              "transition": {
               "duration": 0,
               "easing": "linear"
              }
             }
            ],
            "label": "1768",
            "method": "animate"
           },
           {
            "args": [
             [
              "1769"
             ],
             {
              "frame": {
               "duration": 0,
               "redraw": true
              },
              "fromcurrent": true,
              "mode": "immediate",
              "transition": {
               "duration": 0,
               "easing": "linear"
              }
             }
            ],
            "label": "1769",
            "method": "animate"
           },
           {
            "args": [
             [
              "1770"
             ],
             {
              "frame": {
               "duration": 0,
               "redraw": true
              },
              "fromcurrent": true,
              "mode": "immediate",
              "transition": {
               "duration": 0,
               "easing": "linear"
              }
             }
            ],
            "label": "1770",
            "method": "animate"
           },
           {
            "args": [
             [
              "1771"
             ],
             {
              "frame": {
               "duration": 0,
               "redraw": true
              },
              "fromcurrent": true,
              "mode": "immediate",
              "transition": {
               "duration": 0,
               "easing": "linear"
              }
             }
            ],
            "label": "1771",
            "method": "animate"
           },
           {
            "args": [
             [
              "1772"
             ],
             {
              "frame": {
               "duration": 0,
               "redraw": true
              },
              "fromcurrent": true,
              "mode": "immediate",
              "transition": {
               "duration": 0,
               "easing": "linear"
              }
             }
            ],
            "label": "1772",
            "method": "animate"
           },
           {
            "args": [
             [
              "1773"
             ],
             {
              "frame": {
               "duration": 0,
               "redraw": true
              },
              "fromcurrent": true,
              "mode": "immediate",
              "transition": {
               "duration": 0,
               "easing": "linear"
              }
             }
            ],
            "label": "1773",
            "method": "animate"
           },
           {
            "args": [
             [
              "1774"
             ],
             {
              "frame": {
               "duration": 0,
               "redraw": true
              },
              "fromcurrent": true,
              "mode": "immediate",
              "transition": {
               "duration": 0,
               "easing": "linear"
              }
             }
            ],
            "label": "1774",
            "method": "animate"
           },
           {
            "args": [
             [
              "1775"
             ],
             {
              "frame": {
               "duration": 0,
               "redraw": true
              },
              "fromcurrent": true,
              "mode": "immediate",
              "transition": {
               "duration": 0,
               "easing": "linear"
              }
             }
            ],
            "label": "1775",
            "method": "animate"
           },
           {
            "args": [
             [
              "1776"
             ],
             {
              "frame": {
               "duration": 0,
               "redraw": true
              },
              "fromcurrent": true,
              "mode": "immediate",
              "transition": {
               "duration": 0,
               "easing": "linear"
              }
             }
            ],
            "label": "1776",
            "method": "animate"
           },
           {
            "args": [
             [
              "1777"
             ],
             {
              "frame": {
               "duration": 0,
               "redraw": true
              },
              "fromcurrent": true,
              "mode": "immediate",
              "transition": {
               "duration": 0,
               "easing": "linear"
              }
             }
            ],
            "label": "1777",
            "method": "animate"
           },
           {
            "args": [
             [
              "1778"
             ],
             {
              "frame": {
               "duration": 0,
               "redraw": true
              },
              "fromcurrent": true,
              "mode": "immediate",
              "transition": {
               "duration": 0,
               "easing": "linear"
              }
             }
            ],
            "label": "1778",
            "method": "animate"
           },
           {
            "args": [
             [
              "1779"
             ],
             {
              "frame": {
               "duration": 0,
               "redraw": true
              },
              "fromcurrent": true,
              "mode": "immediate",
              "transition": {
               "duration": 0,
               "easing": "linear"
              }
             }
            ],
            "label": "1779",
            "method": "animate"
           },
           {
            "args": [
             [
              "1780"
             ],
             {
              "frame": {
               "duration": 0,
               "redraw": true
              },
              "fromcurrent": true,
              "mode": "immediate",
              "transition": {
               "duration": 0,
               "easing": "linear"
              }
             }
            ],
            "label": "1780",
            "method": "animate"
           },
           {
            "args": [
             [
              "1781"
             ],
             {
              "frame": {
               "duration": 0,
               "redraw": true
              },
              "fromcurrent": true,
              "mode": "immediate",
              "transition": {
               "duration": 0,
               "easing": "linear"
              }
             }
            ],
            "label": "1781",
            "method": "animate"
           },
           {
            "args": [
             [
              "1782"
             ],
             {
              "frame": {
               "duration": 0,
               "redraw": true
              },
              "fromcurrent": true,
              "mode": "immediate",
              "transition": {
               "duration": 0,
               "easing": "linear"
              }
             }
            ],
            "label": "1782",
            "method": "animate"
           },
           {
            "args": [
             [
              "1783"
             ],
             {
              "frame": {
               "duration": 0,
               "redraw": true
              },
              "fromcurrent": true,
              "mode": "immediate",
              "transition": {
               "duration": 0,
               "easing": "linear"
              }
             }
            ],
            "label": "1783",
            "method": "animate"
           },
           {
            "args": [
             [
              "1784"
             ],
             {
              "frame": {
               "duration": 0,
               "redraw": true
              },
              "fromcurrent": true,
              "mode": "immediate",
              "transition": {
               "duration": 0,
               "easing": "linear"
              }
             }
            ],
            "label": "1784",
            "method": "animate"
           },
           {
            "args": [
             [
              "1785"
             ],
             {
              "frame": {
               "duration": 0,
               "redraw": true
              },
              "fromcurrent": true,
              "mode": "immediate",
              "transition": {
               "duration": 0,
               "easing": "linear"
              }
             }
            ],
            "label": "1785",
            "method": "animate"
           },
           {
            "args": [
             [
              "1786"
             ],
             {
              "frame": {
               "duration": 0,
               "redraw": true
              },
              "fromcurrent": true,
              "mode": "immediate",
              "transition": {
               "duration": 0,
               "easing": "linear"
              }
             }
            ],
            "label": "1786",
            "method": "animate"
           },
           {
            "args": [
             [
              "1787"
             ],
             {
              "frame": {
               "duration": 0,
               "redraw": true
              },
              "fromcurrent": true,
              "mode": "immediate",
              "transition": {
               "duration": 0,
               "easing": "linear"
              }
             }
            ],
            "label": "1787",
            "method": "animate"
           },
           {
            "args": [
             [
              "1788"
             ],
             {
              "frame": {
               "duration": 0,
               "redraw": true
              },
              "fromcurrent": true,
              "mode": "immediate",
              "transition": {
               "duration": 0,
               "easing": "linear"
              }
             }
            ],
            "label": "1788",
            "method": "animate"
           },
           {
            "args": [
             [
              "1789"
             ],
             {
              "frame": {
               "duration": 0,
               "redraw": true
              },
              "fromcurrent": true,
              "mode": "immediate",
              "transition": {
               "duration": 0,
               "easing": "linear"
              }
             }
            ],
            "label": "1789",
            "method": "animate"
           },
           {
            "args": [
             [
              "1790"
             ],
             {
              "frame": {
               "duration": 0,
               "redraw": true
              },
              "fromcurrent": true,
              "mode": "immediate",
              "transition": {
               "duration": 0,
               "easing": "linear"
              }
             }
            ],
            "label": "1790",
            "method": "animate"
           },
           {
            "args": [
             [
              "1791"
             ],
             {
              "frame": {
               "duration": 0,
               "redraw": true
              },
              "fromcurrent": true,
              "mode": "immediate",
              "transition": {
               "duration": 0,
               "easing": "linear"
              }
             }
            ],
            "label": "1791",
            "method": "animate"
           },
           {
            "args": [
             [
              "1792"
             ],
             {
              "frame": {
               "duration": 0,
               "redraw": true
              },
              "fromcurrent": true,
              "mode": "immediate",
              "transition": {
               "duration": 0,
               "easing": "linear"
              }
             }
            ],
            "label": "1792",
            "method": "animate"
           },
           {
            "args": [
             [
              "1793"
             ],
             {
              "frame": {
               "duration": 0,
               "redraw": true
              },
              "fromcurrent": true,
              "mode": "immediate",
              "transition": {
               "duration": 0,
               "easing": "linear"
              }
             }
            ],
            "label": "1793",
            "method": "animate"
           },
           {
            "args": [
             [
              "1794"
             ],
             {
              "frame": {
               "duration": 0,
               "redraw": true
              },
              "fromcurrent": true,
              "mode": "immediate",
              "transition": {
               "duration": 0,
               "easing": "linear"
              }
             }
            ],
            "label": "1794",
            "method": "animate"
           },
           {
            "args": [
             [
              "1795"
             ],
             {
              "frame": {
               "duration": 0,
               "redraw": true
              },
              "fromcurrent": true,
              "mode": "immediate",
              "transition": {
               "duration": 0,
               "easing": "linear"
              }
             }
            ],
            "label": "1795",
            "method": "animate"
           },
           {
            "args": [
             [
              "1796"
             ],
             {
              "frame": {
               "duration": 0,
               "redraw": true
              },
              "fromcurrent": true,
              "mode": "immediate",
              "transition": {
               "duration": 0,
               "easing": "linear"
              }
             }
            ],
            "label": "1796",
            "method": "animate"
           },
           {
            "args": [
             [
              "1797"
             ],
             {
              "frame": {
               "duration": 0,
               "redraw": true
              },
              "fromcurrent": true,
              "mode": "immediate",
              "transition": {
               "duration": 0,
               "easing": "linear"
              }
             }
            ],
            "label": "1797",
            "method": "animate"
           },
           {
            "args": [
             [
              "1798"
             ],
             {
              "frame": {
               "duration": 0,
               "redraw": true
              },
              "fromcurrent": true,
              "mode": "immediate",
              "transition": {
               "duration": 0,
               "easing": "linear"
              }
             }
            ],
            "label": "1798",
            "method": "animate"
           },
           {
            "args": [
             [
              "1799"
             ],
             {
              "frame": {
               "duration": 0,
               "redraw": true
              },
              "fromcurrent": true,
              "mode": "immediate",
              "transition": {
               "duration": 0,
               "easing": "linear"
              }
             }
            ],
            "label": "1799",
            "method": "animate"
           },
           {
            "args": [
             [
              "1800"
             ],
             {
              "frame": {
               "duration": 0,
               "redraw": true
              },
              "fromcurrent": true,
              "mode": "immediate",
              "transition": {
               "duration": 0,
               "easing": "linear"
              }
             }
            ],
            "label": "1800",
            "method": "animate"
           },
           {
            "args": [
             [
              "1801"
             ],
             {
              "frame": {
               "duration": 0,
               "redraw": true
              },
              "fromcurrent": true,
              "mode": "immediate",
              "transition": {
               "duration": 0,
               "easing": "linear"
              }
             }
            ],
            "label": "1801",
            "method": "animate"
           },
           {
            "args": [
             [
              "1802"
             ],
             {
              "frame": {
               "duration": 0,
               "redraw": true
              },
              "fromcurrent": true,
              "mode": "immediate",
              "transition": {
               "duration": 0,
               "easing": "linear"
              }
             }
            ],
            "label": "1802",
            "method": "animate"
           },
           {
            "args": [
             [
              "1803"
             ],
             {
              "frame": {
               "duration": 0,
               "redraw": true
              },
              "fromcurrent": true,
              "mode": "immediate",
              "transition": {
               "duration": 0,
               "easing": "linear"
              }
             }
            ],
            "label": "1803",
            "method": "animate"
           },
           {
            "args": [
             [
              "1804"
             ],
             {
              "frame": {
               "duration": 0,
               "redraw": true
              },
              "fromcurrent": true,
              "mode": "immediate",
              "transition": {
               "duration": 0,
               "easing": "linear"
              }
             }
            ],
            "label": "1804",
            "method": "animate"
           },
           {
            "args": [
             [
              "1805"
             ],
             {
              "frame": {
               "duration": 0,
               "redraw": true
              },
              "fromcurrent": true,
              "mode": "immediate",
              "transition": {
               "duration": 0,
               "easing": "linear"
              }
             }
            ],
            "label": "1805",
            "method": "animate"
           },
           {
            "args": [
             [
              "1806"
             ],
             {
              "frame": {
               "duration": 0,
               "redraw": true
              },
              "fromcurrent": true,
              "mode": "immediate",
              "transition": {
               "duration": 0,
               "easing": "linear"
              }
             }
            ],
            "label": "1806",
            "method": "animate"
           },
           {
            "args": [
             [
              "1807"
             ],
             {
              "frame": {
               "duration": 0,
               "redraw": true
              },
              "fromcurrent": true,
              "mode": "immediate",
              "transition": {
               "duration": 0,
               "easing": "linear"
              }
             }
            ],
            "label": "1807",
            "method": "animate"
           },
           {
            "args": [
             [
              "1808"
             ],
             {
              "frame": {
               "duration": 0,
               "redraw": true
              },
              "fromcurrent": true,
              "mode": "immediate",
              "transition": {
               "duration": 0,
               "easing": "linear"
              }
             }
            ],
            "label": "1808",
            "method": "animate"
           },
           {
            "args": [
             [
              "1809"
             ],
             {
              "frame": {
               "duration": 0,
               "redraw": true
              },
              "fromcurrent": true,
              "mode": "immediate",
              "transition": {
               "duration": 0,
               "easing": "linear"
              }
             }
            ],
            "label": "1809",
            "method": "animate"
           },
           {
            "args": [
             [
              "1810"
             ],
             {
              "frame": {
               "duration": 0,
               "redraw": true
              },
              "fromcurrent": true,
              "mode": "immediate",
              "transition": {
               "duration": 0,
               "easing": "linear"
              }
             }
            ],
            "label": "1810",
            "method": "animate"
           },
           {
            "args": [
             [
              "1811"
             ],
             {
              "frame": {
               "duration": 0,
               "redraw": true
              },
              "fromcurrent": true,
              "mode": "immediate",
              "transition": {
               "duration": 0,
               "easing": "linear"
              }
             }
            ],
            "label": "1811",
            "method": "animate"
           },
           {
            "args": [
             [
              "1812"
             ],
             {
              "frame": {
               "duration": 0,
               "redraw": true
              },
              "fromcurrent": true,
              "mode": "immediate",
              "transition": {
               "duration": 0,
               "easing": "linear"
              }
             }
            ],
            "label": "1812",
            "method": "animate"
           },
           {
            "args": [
             [
              "1813"
             ],
             {
              "frame": {
               "duration": 0,
               "redraw": true
              },
              "fromcurrent": true,
              "mode": "immediate",
              "transition": {
               "duration": 0,
               "easing": "linear"
              }
             }
            ],
            "label": "1813",
            "method": "animate"
           },
           {
            "args": [
             [
              "1814"
             ],
             {
              "frame": {
               "duration": 0,
               "redraw": true
              },
              "fromcurrent": true,
              "mode": "immediate",
              "transition": {
               "duration": 0,
               "easing": "linear"
              }
             }
            ],
            "label": "1814",
            "method": "animate"
           },
           {
            "args": [
             [
              "1815"
             ],
             {
              "frame": {
               "duration": 0,
               "redraw": true
              },
              "fromcurrent": true,
              "mode": "immediate",
              "transition": {
               "duration": 0,
               "easing": "linear"
              }
             }
            ],
            "label": "1815",
            "method": "animate"
           },
           {
            "args": [
             [
              "1816"
             ],
             {
              "frame": {
               "duration": 0,
               "redraw": true
              },
              "fromcurrent": true,
              "mode": "immediate",
              "transition": {
               "duration": 0,
               "easing": "linear"
              }
             }
            ],
            "label": "1816",
            "method": "animate"
           },
           {
            "args": [
             [
              "1817"
             ],
             {
              "frame": {
               "duration": 0,
               "redraw": true
              },
              "fromcurrent": true,
              "mode": "immediate",
              "transition": {
               "duration": 0,
               "easing": "linear"
              }
             }
            ],
            "label": "1817",
            "method": "animate"
           },
           {
            "args": [
             [
              "1818"
             ],
             {
              "frame": {
               "duration": 0,
               "redraw": true
              },
              "fromcurrent": true,
              "mode": "immediate",
              "transition": {
               "duration": 0,
               "easing": "linear"
              }
             }
            ],
            "label": "1818",
            "method": "animate"
           },
           {
            "args": [
             [
              "1819"
             ],
             {
              "frame": {
               "duration": 0,
               "redraw": true
              },
              "fromcurrent": true,
              "mode": "immediate",
              "transition": {
               "duration": 0,
               "easing": "linear"
              }
             }
            ],
            "label": "1819",
            "method": "animate"
           },
           {
            "args": [
             [
              "1820"
             ],
             {
              "frame": {
               "duration": 0,
               "redraw": true
              },
              "fromcurrent": true,
              "mode": "immediate",
              "transition": {
               "duration": 0,
               "easing": "linear"
              }
             }
            ],
            "label": "1820",
            "method": "animate"
           },
           {
            "args": [
             [
              "1821"
             ],
             {
              "frame": {
               "duration": 0,
               "redraw": true
              },
              "fromcurrent": true,
              "mode": "immediate",
              "transition": {
               "duration": 0,
               "easing": "linear"
              }
             }
            ],
            "label": "1821",
            "method": "animate"
           },
           {
            "args": [
             [
              "1822"
             ],
             {
              "frame": {
               "duration": 0,
               "redraw": true
              },
              "fromcurrent": true,
              "mode": "immediate",
              "transition": {
               "duration": 0,
               "easing": "linear"
              }
             }
            ],
            "label": "1822",
            "method": "animate"
           },
           {
            "args": [
             [
              "1823"
             ],
             {
              "frame": {
               "duration": 0,
               "redraw": true
              },
              "fromcurrent": true,
              "mode": "immediate",
              "transition": {
               "duration": 0,
               "easing": "linear"
              }
             }
            ],
            "label": "1823",
            "method": "animate"
           },
           {
            "args": [
             [
              "1824"
             ],
             {
              "frame": {
               "duration": 0,
               "redraw": true
              },
              "fromcurrent": true,
              "mode": "immediate",
              "transition": {
               "duration": 0,
               "easing": "linear"
              }
             }
            ],
            "label": "1824",
            "method": "animate"
           },
           {
            "args": [
             [
              "1825"
             ],
             {
              "frame": {
               "duration": 0,
               "redraw": true
              },
              "fromcurrent": true,
              "mode": "immediate",
              "transition": {
               "duration": 0,
               "easing": "linear"
              }
             }
            ],
            "label": "1825",
            "method": "animate"
           },
           {
            "args": [
             [
              "1826"
             ],
             {
              "frame": {
               "duration": 0,
               "redraw": true
              },
              "fromcurrent": true,
              "mode": "immediate",
              "transition": {
               "duration": 0,
               "easing": "linear"
              }
             }
            ],
            "label": "1826",
            "method": "animate"
           },
           {
            "args": [
             [
              "1827"
             ],
             {
              "frame": {
               "duration": 0,
               "redraw": true
              },
              "fromcurrent": true,
              "mode": "immediate",
              "transition": {
               "duration": 0,
               "easing": "linear"
              }
             }
            ],
            "label": "1827",
            "method": "animate"
           },
           {
            "args": [
             [
              "1828"
             ],
             {
              "frame": {
               "duration": 0,
               "redraw": true
              },
              "fromcurrent": true,
              "mode": "immediate",
              "transition": {
               "duration": 0,
               "easing": "linear"
              }
             }
            ],
            "label": "1828",
            "method": "animate"
           },
           {
            "args": [
             [
              "1829"
             ],
             {
              "frame": {
               "duration": 0,
               "redraw": true
              },
              "fromcurrent": true,
              "mode": "immediate",
              "transition": {
               "duration": 0,
               "easing": "linear"
              }
             }
            ],
            "label": "1829",
            "method": "animate"
           },
           {
            "args": [
             [
              "1830"
             ],
             {
              "frame": {
               "duration": 0,
               "redraw": true
              },
              "fromcurrent": true,
              "mode": "immediate",
              "transition": {
               "duration": 0,
               "easing": "linear"
              }
             }
            ],
            "label": "1830",
            "method": "animate"
           },
           {
            "args": [
             [
              "1831"
             ],
             {
              "frame": {
               "duration": 0,
               "redraw": true
              },
              "fromcurrent": true,
              "mode": "immediate",
              "transition": {
               "duration": 0,
               "easing": "linear"
              }
             }
            ],
            "label": "1831",
            "method": "animate"
           },
           {
            "args": [
             [
              "1832"
             ],
             {
              "frame": {
               "duration": 0,
               "redraw": true
              },
              "fromcurrent": true,
              "mode": "immediate",
              "transition": {
               "duration": 0,
               "easing": "linear"
              }
             }
            ],
            "label": "1832",
            "method": "animate"
           },
           {
            "args": [
             [
              "1833"
             ],
             {
              "frame": {
               "duration": 0,
               "redraw": true
              },
              "fromcurrent": true,
              "mode": "immediate",
              "transition": {
               "duration": 0,
               "easing": "linear"
              }
             }
            ],
            "label": "1833",
            "method": "animate"
           },
           {
            "args": [
             [
              "1834"
             ],
             {
              "frame": {
               "duration": 0,
               "redraw": true
              },
              "fromcurrent": true,
              "mode": "immediate",
              "transition": {
               "duration": 0,
               "easing": "linear"
              }
             }
            ],
            "label": "1834",
            "method": "animate"
           },
           {
            "args": [
             [
              "1835"
             ],
             {
              "frame": {
               "duration": 0,
               "redraw": true
              },
              "fromcurrent": true,
              "mode": "immediate",
              "transition": {
               "duration": 0,
               "easing": "linear"
              }
             }
            ],
            "label": "1835",
            "method": "animate"
           },
           {
            "args": [
             [
              "1836"
             ],
             {
              "frame": {
               "duration": 0,
               "redraw": true
              },
              "fromcurrent": true,
              "mode": "immediate",
              "transition": {
               "duration": 0,
               "easing": "linear"
              }
             }
            ],
            "label": "1836",
            "method": "animate"
           },
           {
            "args": [
             [
              "1837"
             ],
             {
              "frame": {
               "duration": 0,
               "redraw": true
              },
              "fromcurrent": true,
              "mode": "immediate",
              "transition": {
               "duration": 0,
               "easing": "linear"
              }
             }
            ],
            "label": "1837",
            "method": "animate"
           },
           {
            "args": [
             [
              "1838"
             ],
             {
              "frame": {
               "duration": 0,
               "redraw": true
              },
              "fromcurrent": true,
              "mode": "immediate",
              "transition": {
               "duration": 0,
               "easing": "linear"
              }
             }
            ],
            "label": "1838",
            "method": "animate"
           },
           {
            "args": [
             [
              "1839"
             ],
             {
              "frame": {
               "duration": 0,
               "redraw": true
              },
              "fromcurrent": true,
              "mode": "immediate",
              "transition": {
               "duration": 0,
               "easing": "linear"
              }
             }
            ],
            "label": "1839",
            "method": "animate"
           },
           {
            "args": [
             [
              "1840"
             ],
             {
              "frame": {
               "duration": 0,
               "redraw": true
              },
              "fromcurrent": true,
              "mode": "immediate",
              "transition": {
               "duration": 0,
               "easing": "linear"
              }
             }
            ],
            "label": "1840",
            "method": "animate"
           },
           {
            "args": [
             [
              "1841"
             ],
             {
              "frame": {
               "duration": 0,
               "redraw": true
              },
              "fromcurrent": true,
              "mode": "immediate",
              "transition": {
               "duration": 0,
               "easing": "linear"
              }
             }
            ],
            "label": "1841",
            "method": "animate"
           },
           {
            "args": [
             [
              "1842"
             ],
             {
              "frame": {
               "duration": 0,
               "redraw": true
              },
              "fromcurrent": true,
              "mode": "immediate",
              "transition": {
               "duration": 0,
               "easing": "linear"
              }
             }
            ],
            "label": "1842",
            "method": "animate"
           },
           {
            "args": [
             [
              "1843"
             ],
             {
              "frame": {
               "duration": 0,
               "redraw": true
              },
              "fromcurrent": true,
              "mode": "immediate",
              "transition": {
               "duration": 0,
               "easing": "linear"
              }
             }
            ],
            "label": "1843",
            "method": "animate"
           },
           {
            "args": [
             [
              "1844"
             ],
             {
              "frame": {
               "duration": 0,
               "redraw": true
              },
              "fromcurrent": true,
              "mode": "immediate",
              "transition": {
               "duration": 0,
               "easing": "linear"
              }
             }
            ],
            "label": "1844",
            "method": "animate"
           },
           {
            "args": [
             [
              "1845"
             ],
             {
              "frame": {
               "duration": 0,
               "redraw": true
              },
              "fromcurrent": true,
              "mode": "immediate",
              "transition": {
               "duration": 0,
               "easing": "linear"
              }
             }
            ],
            "label": "1845",
            "method": "animate"
           },
           {
            "args": [
             [
              "1846"
             ],
             {
              "frame": {
               "duration": 0,
               "redraw": true
              },
              "fromcurrent": true,
              "mode": "immediate",
              "transition": {
               "duration": 0,
               "easing": "linear"
              }
             }
            ],
            "label": "1846",
            "method": "animate"
           },
           {
            "args": [
             [
              "1847"
             ],
             {
              "frame": {
               "duration": 0,
               "redraw": true
              },
              "fromcurrent": true,
              "mode": "immediate",
              "transition": {
               "duration": 0,
               "easing": "linear"
              }
             }
            ],
            "label": "1847",
            "method": "animate"
           },
           {
            "args": [
             [
              "1848"
             ],
             {
              "frame": {
               "duration": 0,
               "redraw": true
              },
              "fromcurrent": true,
              "mode": "immediate",
              "transition": {
               "duration": 0,
               "easing": "linear"
              }
             }
            ],
            "label": "1848",
            "method": "animate"
           },
           {
            "args": [
             [
              "1849"
             ],
             {
              "frame": {
               "duration": 0,
               "redraw": true
              },
              "fromcurrent": true,
              "mode": "immediate",
              "transition": {
               "duration": 0,
               "easing": "linear"
              }
             }
            ],
            "label": "1849",
            "method": "animate"
           },
           {
            "args": [
             [
              "1850"
             ],
             {
              "frame": {
               "duration": 0,
               "redraw": true
              },
              "fromcurrent": true,
              "mode": "immediate",
              "transition": {
               "duration": 0,
               "easing": "linear"
              }
             }
            ],
            "label": "1850",
            "method": "animate"
           },
           {
            "args": [
             [
              "1851"
             ],
             {
              "frame": {
               "duration": 0,
               "redraw": true
              },
              "fromcurrent": true,
              "mode": "immediate",
              "transition": {
               "duration": 0,
               "easing": "linear"
              }
             }
            ],
            "label": "1851",
            "method": "animate"
           },
           {
            "args": [
             [
              "1852"
             ],
             {
              "frame": {
               "duration": 0,
               "redraw": true
              },
              "fromcurrent": true,
              "mode": "immediate",
              "transition": {
               "duration": 0,
               "easing": "linear"
              }
             }
            ],
            "label": "1852",
            "method": "animate"
           },
           {
            "args": [
             [
              "1853"
             ],
             {
              "frame": {
               "duration": 0,
               "redraw": true
              },
              "fromcurrent": true,
              "mode": "immediate",
              "transition": {
               "duration": 0,
               "easing": "linear"
              }
             }
            ],
            "label": "1853",
            "method": "animate"
           },
           {
            "args": [
             [
              "1854"
             ],
             {
              "frame": {
               "duration": 0,
               "redraw": true
              },
              "fromcurrent": true,
              "mode": "immediate",
              "transition": {
               "duration": 0,
               "easing": "linear"
              }
             }
            ],
            "label": "1854",
            "method": "animate"
           },
           {
            "args": [
             [
              "1855"
             ],
             {
              "frame": {
               "duration": 0,
               "redraw": true
              },
              "fromcurrent": true,
              "mode": "immediate",
              "transition": {
               "duration": 0,
               "easing": "linear"
              }
             }
            ],
            "label": "1855",
            "method": "animate"
           },
           {
            "args": [
             [
              "1856"
             ],
             {
              "frame": {
               "duration": 0,
               "redraw": true
              },
              "fromcurrent": true,
              "mode": "immediate",
              "transition": {
               "duration": 0,
               "easing": "linear"
              }
             }
            ],
            "label": "1856",
            "method": "animate"
           },
           {
            "args": [
             [
              "1857"
             ],
             {
              "frame": {
               "duration": 0,
               "redraw": true
              },
              "fromcurrent": true,
              "mode": "immediate",
              "transition": {
               "duration": 0,
               "easing": "linear"
              }
             }
            ],
            "label": "1857",
            "method": "animate"
           },
           {
            "args": [
             [
              "1858"
             ],
             {
              "frame": {
               "duration": 0,
               "redraw": true
              },
              "fromcurrent": true,
              "mode": "immediate",
              "transition": {
               "duration": 0,
               "easing": "linear"
              }
             }
            ],
            "label": "1858",
            "method": "animate"
           },
           {
            "args": [
             [
              "1859"
             ],
             {
              "frame": {
               "duration": 0,
               "redraw": true
              },
              "fromcurrent": true,
              "mode": "immediate",
              "transition": {
               "duration": 0,
               "easing": "linear"
              }
             }
            ],
            "label": "1859",
            "method": "animate"
           },
           {
            "args": [
             [
              "1860"
             ],
             {
              "frame": {
               "duration": 0,
               "redraw": true
              },
              "fromcurrent": true,
              "mode": "immediate",
              "transition": {
               "duration": 0,
               "easing": "linear"
              }
             }
            ],
            "label": "1860",
            "method": "animate"
           },
           {
            "args": [
             [
              "1861"
             ],
             {
              "frame": {
               "duration": 0,
               "redraw": true
              },
              "fromcurrent": true,
              "mode": "immediate",
              "transition": {
               "duration": 0,
               "easing": "linear"
              }
             }
            ],
            "label": "1861",
            "method": "animate"
           },
           {
            "args": [
             [
              "1862"
             ],
             {
              "frame": {
               "duration": 0,
               "redraw": true
              },
              "fromcurrent": true,
              "mode": "immediate",
              "transition": {
               "duration": 0,
               "easing": "linear"
              }
             }
            ],
            "label": "1862",
            "method": "animate"
           },
           {
            "args": [
             [
              "1863"
             ],
             {
              "frame": {
               "duration": 0,
               "redraw": true
              },
              "fromcurrent": true,
              "mode": "immediate",
              "transition": {
               "duration": 0,
               "easing": "linear"
              }
             }
            ],
            "label": "1863",
            "method": "animate"
           },
           {
            "args": [
             [
              "1864"
             ],
             {
              "frame": {
               "duration": 0,
               "redraw": true
              },
              "fromcurrent": true,
              "mode": "immediate",
              "transition": {
               "duration": 0,
               "easing": "linear"
              }
             }
            ],
            "label": "1864",
            "method": "animate"
           },
           {
            "args": [
             [
              "1865"
             ],
             {
              "frame": {
               "duration": 0,
               "redraw": true
              },
              "fromcurrent": true,
              "mode": "immediate",
              "transition": {
               "duration": 0,
               "easing": "linear"
              }
             }
            ],
            "label": "1865",
            "method": "animate"
           },
           {
            "args": [
             [
              "1866"
             ],
             {
              "frame": {
               "duration": 0,
               "redraw": true
              },
              "fromcurrent": true,
              "mode": "immediate",
              "transition": {
               "duration": 0,
               "easing": "linear"
              }
             }
            ],
            "label": "1866",
            "method": "animate"
           },
           {
            "args": [
             [
              "1867"
             ],
             {
              "frame": {
               "duration": 0,
               "redraw": true
              },
              "fromcurrent": true,
              "mode": "immediate",
              "transition": {
               "duration": 0,
               "easing": "linear"
              }
             }
            ],
            "label": "1867",
            "method": "animate"
           },
           {
            "args": [
             [
              "1868"
             ],
             {
              "frame": {
               "duration": 0,
               "redraw": true
              },
              "fromcurrent": true,
              "mode": "immediate",
              "transition": {
               "duration": 0,
               "easing": "linear"
              }
             }
            ],
            "label": "1868",
            "method": "animate"
           },
           {
            "args": [
             [
              "1869"
             ],
             {
              "frame": {
               "duration": 0,
               "redraw": true
              },
              "fromcurrent": true,
              "mode": "immediate",
              "transition": {
               "duration": 0,
               "easing": "linear"
              }
             }
            ],
            "label": "1869",
            "method": "animate"
           },
           {
            "args": [
             [
              "1870"
             ],
             {
              "frame": {
               "duration": 0,
               "redraw": true
              },
              "fromcurrent": true,
              "mode": "immediate",
              "transition": {
               "duration": 0,
               "easing": "linear"
              }
             }
            ],
            "label": "1870",
            "method": "animate"
           },
           {
            "args": [
             [
              "1871"
             ],
             {
              "frame": {
               "duration": 0,
               "redraw": true
              },
              "fromcurrent": true,
              "mode": "immediate",
              "transition": {
               "duration": 0,
               "easing": "linear"
              }
             }
            ],
            "label": "1871",
            "method": "animate"
           },
           {
            "args": [
             [
              "1872"
             ],
             {
              "frame": {
               "duration": 0,
               "redraw": true
              },
              "fromcurrent": true,
              "mode": "immediate",
              "transition": {
               "duration": 0,
               "easing": "linear"
              }
             }
            ],
            "label": "1872",
            "method": "animate"
           },
           {
            "args": [
             [
              "1873"
             ],
             {
              "frame": {
               "duration": 0,
               "redraw": true
              },
              "fromcurrent": true,
              "mode": "immediate",
              "transition": {
               "duration": 0,
               "easing": "linear"
              }
             }
            ],
            "label": "1873",
            "method": "animate"
           },
           {
            "args": [
             [
              "1874"
             ],
             {
              "frame": {
               "duration": 0,
               "redraw": true
              },
              "fromcurrent": true,
              "mode": "immediate",
              "transition": {
               "duration": 0,
               "easing": "linear"
              }
             }
            ],
            "label": "1874",
            "method": "animate"
           },
           {
            "args": [
             [
              "1875"
             ],
             {
              "frame": {
               "duration": 0,
               "redraw": true
              },
              "fromcurrent": true,
              "mode": "immediate",
              "transition": {
               "duration": 0,
               "easing": "linear"
              }
             }
            ],
            "label": "1875",
            "method": "animate"
           },
           {
            "args": [
             [
              "1876"
             ],
             {
              "frame": {
               "duration": 0,
               "redraw": true
              },
              "fromcurrent": true,
              "mode": "immediate",
              "transition": {
               "duration": 0,
               "easing": "linear"
              }
             }
            ],
            "label": "1876",
            "method": "animate"
           },
           {
            "args": [
             [
              "1877"
             ],
             {
              "frame": {
               "duration": 0,
               "redraw": true
              },
              "fromcurrent": true,
              "mode": "immediate",
              "transition": {
               "duration": 0,
               "easing": "linear"
              }
             }
            ],
            "label": "1877",
            "method": "animate"
           },
           {
            "args": [
             [
              "1878"
             ],
             {
              "frame": {
               "duration": 0,
               "redraw": true
              },
              "fromcurrent": true,
              "mode": "immediate",
              "transition": {
               "duration": 0,
               "easing": "linear"
              }
             }
            ],
            "label": "1878",
            "method": "animate"
           },
           {
            "args": [
             [
              "1879"
             ],
             {
              "frame": {
               "duration": 0,
               "redraw": true
              },
              "fromcurrent": true,
              "mode": "immediate",
              "transition": {
               "duration": 0,
               "easing": "linear"
              }
             }
            ],
            "label": "1879",
            "method": "animate"
           },
           {
            "args": [
             [
              "1880"
             ],
             {
              "frame": {
               "duration": 0,
               "redraw": true
              },
              "fromcurrent": true,
              "mode": "immediate",
              "transition": {
               "duration": 0,
               "easing": "linear"
              }
             }
            ],
            "label": "1880",
            "method": "animate"
           },
           {
            "args": [
             [
              "1881"
             ],
             {
              "frame": {
               "duration": 0,
               "redraw": true
              },
              "fromcurrent": true,
              "mode": "immediate",
              "transition": {
               "duration": 0,
               "easing": "linear"
              }
             }
            ],
            "label": "1881",
            "method": "animate"
           },
           {
            "args": [
             [
              "1882"
             ],
             {
              "frame": {
               "duration": 0,
               "redraw": true
              },
              "fromcurrent": true,
              "mode": "immediate",
              "transition": {
               "duration": 0,
               "easing": "linear"
              }
             }
            ],
            "label": "1882",
            "method": "animate"
           },
           {
            "args": [
             [
              "1883"
             ],
             {
              "frame": {
               "duration": 0,
               "redraw": true
              },
              "fromcurrent": true,
              "mode": "immediate",
              "transition": {
               "duration": 0,
               "easing": "linear"
              }
             }
            ],
            "label": "1883",
            "method": "animate"
           },
           {
            "args": [
             [
              "1884"
             ],
             {
              "frame": {
               "duration": 0,
               "redraw": true
              },
              "fromcurrent": true,
              "mode": "immediate",
              "transition": {
               "duration": 0,
               "easing": "linear"
              }
             }
            ],
            "label": "1884",
            "method": "animate"
           },
           {
            "args": [
             [
              "1885"
             ],
             {
              "frame": {
               "duration": 0,
               "redraw": true
              },
              "fromcurrent": true,
              "mode": "immediate",
              "transition": {
               "duration": 0,
               "easing": "linear"
              }
             }
            ],
            "label": "1885",
            "method": "animate"
           },
           {
            "args": [
             [
              "1886"
             ],
             {
              "frame": {
               "duration": 0,
               "redraw": true
              },
              "fromcurrent": true,
              "mode": "immediate",
              "transition": {
               "duration": 0,
               "easing": "linear"
              }
             }
            ],
            "label": "1886",
            "method": "animate"
           },
           {
            "args": [
             [
              "1887"
             ],
             {
              "frame": {
               "duration": 0,
               "redraw": true
              },
              "fromcurrent": true,
              "mode": "immediate",
              "transition": {
               "duration": 0,
               "easing": "linear"
              }
             }
            ],
            "label": "1887",
            "method": "animate"
           },
           {
            "args": [
             [
              "1888"
             ],
             {
              "frame": {
               "duration": 0,
               "redraw": true
              },
              "fromcurrent": true,
              "mode": "immediate",
              "transition": {
               "duration": 0,
               "easing": "linear"
              }
             }
            ],
            "label": "1888",
            "method": "animate"
           },
           {
            "args": [
             [
              "1889"
             ],
             {
              "frame": {
               "duration": 0,
               "redraw": true
              },
              "fromcurrent": true,
              "mode": "immediate",
              "transition": {
               "duration": 0,
               "easing": "linear"
              }
             }
            ],
            "label": "1889",
            "method": "animate"
           },
           {
            "args": [
             [
              "1890"
             ],
             {
              "frame": {
               "duration": 0,
               "redraw": true
              },
              "fromcurrent": true,
              "mode": "immediate",
              "transition": {
               "duration": 0,
               "easing": "linear"
              }
             }
            ],
            "label": "1890",
            "method": "animate"
           },
           {
            "args": [
             [
              "1891"
             ],
             {
              "frame": {
               "duration": 0,
               "redraw": true
              },
              "fromcurrent": true,
              "mode": "immediate",
              "transition": {
               "duration": 0,
               "easing": "linear"
              }
             }
            ],
            "label": "1891",
            "method": "animate"
           },
           {
            "args": [
             [
              "1892"
             ],
             {
              "frame": {
               "duration": 0,
               "redraw": true
              },
              "fromcurrent": true,
              "mode": "immediate",
              "transition": {
               "duration": 0,
               "easing": "linear"
              }
             }
            ],
            "label": "1892",
            "method": "animate"
           },
           {
            "args": [
             [
              "1893"
             ],
             {
              "frame": {
               "duration": 0,
               "redraw": true
              },
              "fromcurrent": true,
              "mode": "immediate",
              "transition": {
               "duration": 0,
               "easing": "linear"
              }
             }
            ],
            "label": "1893",
            "method": "animate"
           },
           {
            "args": [
             [
              "1894"
             ],
             {
              "frame": {
               "duration": 0,
               "redraw": true
              },
              "fromcurrent": true,
              "mode": "immediate",
              "transition": {
               "duration": 0,
               "easing": "linear"
              }
             }
            ],
            "label": "1894",
            "method": "animate"
           },
           {
            "args": [
             [
              "1895"
             ],
             {
              "frame": {
               "duration": 0,
               "redraw": true
              },
              "fromcurrent": true,
              "mode": "immediate",
              "transition": {
               "duration": 0,
               "easing": "linear"
              }
             }
            ],
            "label": "1895",
            "method": "animate"
           },
           {
            "args": [
             [
              "1896"
             ],
             {
              "frame": {
               "duration": 0,
               "redraw": true
              },
              "fromcurrent": true,
              "mode": "immediate",
              "transition": {
               "duration": 0,
               "easing": "linear"
              }
             }
            ],
            "label": "1896",
            "method": "animate"
           },
           {
            "args": [
             [
              "1897"
             ],
             {
              "frame": {
               "duration": 0,
               "redraw": true
              },
              "fromcurrent": true,
              "mode": "immediate",
              "transition": {
               "duration": 0,
               "easing": "linear"
              }
             }
            ],
            "label": "1897",
            "method": "animate"
           },
           {
            "args": [
             [
              "1898"
             ],
             {
              "frame": {
               "duration": 0,
               "redraw": true
              },
              "fromcurrent": true,
              "mode": "immediate",
              "transition": {
               "duration": 0,
               "easing": "linear"
              }
             }
            ],
            "label": "1898",
            "method": "animate"
           },
           {
            "args": [
             [
              "1900"
             ],
             {
              "frame": {
               "duration": 0,
               "redraw": true
              },
              "fromcurrent": true,
              "mode": "immediate",
              "transition": {
               "duration": 0,
               "easing": "linear"
              }
             }
            ],
            "label": "1900",
            "method": "animate"
           },
           {
            "args": [
             [
              "1901"
             ],
             {
              "frame": {
               "duration": 0,
               "redraw": true
              },
              "fromcurrent": true,
              "mode": "immediate",
              "transition": {
               "duration": 0,
               "easing": "linear"
              }
             }
            ],
            "label": "1901",
            "method": "animate"
           },
           {
            "args": [
             [
              "1902"
             ],
             {
              "frame": {
               "duration": 0,
               "redraw": true
              },
              "fromcurrent": true,
              "mode": "immediate",
              "transition": {
               "duration": 0,
               "easing": "linear"
              }
             }
            ],
            "label": "1902",
            "method": "animate"
           },
           {
            "args": [
             [
              "1903"
             ],
             {
              "frame": {
               "duration": 0,
               "redraw": true
              },
              "fromcurrent": true,
              "mode": "immediate",
              "transition": {
               "duration": 0,
               "easing": "linear"
              }
             }
            ],
            "label": "1903",
            "method": "animate"
           },
           {
            "args": [
             [
              "1904"
             ],
             {
              "frame": {
               "duration": 0,
               "redraw": true
              },
              "fromcurrent": true,
              "mode": "immediate",
              "transition": {
               "duration": 0,
               "easing": "linear"
              }
             }
            ],
            "label": "1904",
            "method": "animate"
           },
           {
            "args": [
             [
              "1905"
             ],
             {
              "frame": {
               "duration": 0,
               "redraw": true
              },
              "fromcurrent": true,
              "mode": "immediate",
              "transition": {
               "duration": 0,
               "easing": "linear"
              }
             }
            ],
            "label": "1905",
            "method": "animate"
           },
           {
            "args": [
             [
              "1906"
             ],
             {
              "frame": {
               "duration": 0,
               "redraw": true
              },
              "fromcurrent": true,
              "mode": "immediate",
              "transition": {
               "duration": 0,
               "easing": "linear"
              }
             }
            ],
            "label": "1906",
            "method": "animate"
           },
           {
            "args": [
             [
              "1907"
             ],
             {
              "frame": {
               "duration": 0,
               "redraw": true
              },
              "fromcurrent": true,
              "mode": "immediate",
              "transition": {
               "duration": 0,
               "easing": "linear"
              }
             }
            ],
            "label": "1907",
            "method": "animate"
           },
           {
            "args": [
             [
              "1908"
             ],
             {
              "frame": {
               "duration": 0,
               "redraw": true
              },
              "fromcurrent": true,
              "mode": "immediate",
              "transition": {
               "duration": 0,
               "easing": "linear"
              }
             }
            ],
            "label": "1908",
            "method": "animate"
           },
           {
            "args": [
             [
              "1909"
             ],
             {
              "frame": {
               "duration": 0,
               "redraw": true
              },
              "fromcurrent": true,
              "mode": "immediate",
              "transition": {
               "duration": 0,
               "easing": "linear"
              }
             }
            ],
            "label": "1909",
            "method": "animate"
           },
           {
            "args": [
             [
              "1910"
             ],
             {
              "frame": {
               "duration": 0,
               "redraw": true
              },
              "fromcurrent": true,
              "mode": "immediate",
              "transition": {
               "duration": 0,
               "easing": "linear"
              }
             }
            ],
            "label": "1910",
            "method": "animate"
           },
           {
            "args": [
             [
              "1911"
             ],
             {
              "frame": {
               "duration": 0,
               "redraw": true
              },
              "fromcurrent": true,
              "mode": "immediate",
              "transition": {
               "duration": 0,
               "easing": "linear"
              }
             }
            ],
            "label": "1911",
            "method": "animate"
           },
           {
            "args": [
             [
              "1912"
             ],
             {
              "frame": {
               "duration": 0,
               "redraw": true
              },
              "fromcurrent": true,
              "mode": "immediate",
              "transition": {
               "duration": 0,
               "easing": "linear"
              }
             }
            ],
            "label": "1912",
            "method": "animate"
           },
           {
            "args": [
             [
              "1913"
             ],
             {
              "frame": {
               "duration": 0,
               "redraw": true
              },
              "fromcurrent": true,
              "mode": "immediate",
              "transition": {
               "duration": 0,
               "easing": "linear"
              }
             }
            ],
            "label": "1913",
            "method": "animate"
           },
           {
            "args": [
             [
              "1914"
             ],
             {
              "frame": {
               "duration": 0,
               "redraw": true
              },
              "fromcurrent": true,
              "mode": "immediate",
              "transition": {
               "duration": 0,
               "easing": "linear"
              }
             }
            ],
            "label": "1914",
            "method": "animate"
           },
           {
            "args": [
             [
              "1915"
             ],
             {
              "frame": {
               "duration": 0,
               "redraw": true
              },
              "fromcurrent": true,
              "mode": "immediate",
              "transition": {
               "duration": 0,
               "easing": "linear"
              }
             }
            ],
            "label": "1915",
            "method": "animate"
           },
           {
            "args": [
             [
              "1916"
             ],
             {
              "frame": {
               "duration": 0,
               "redraw": true
              },
              "fromcurrent": true,
              "mode": "immediate",
              "transition": {
               "duration": 0,
               "easing": "linear"
              }
             }
            ],
            "label": "1916",
            "method": "animate"
           },
           {
            "args": [
             [
              "1918"
             ],
             {
              "frame": {
               "duration": 0,
               "redraw": true
              },
              "fromcurrent": true,
              "mode": "immediate",
              "transition": {
               "duration": 0,
               "easing": "linear"
              }
             }
            ],
            "label": "1918",
            "method": "animate"
           },
           {
            "args": [
             [
              "1919"
             ],
             {
              "frame": {
               "duration": 0,
               "redraw": true
              },
              "fromcurrent": true,
              "mode": "immediate",
              "transition": {
               "duration": 0,
               "easing": "linear"
              }
             }
            ],
            "label": "1919",
            "method": "animate"
           },
           {
            "args": [
             [
              "1920"
             ],
             {
              "frame": {
               "duration": 0,
               "redraw": true
              },
              "fromcurrent": true,
              "mode": "immediate",
              "transition": {
               "duration": 0,
               "easing": "linear"
              }
             }
            ],
            "label": "1920",
            "method": "animate"
           },
           {
            "args": [
             [
              "1921"
             ],
             {
              "frame": {
               "duration": 0,
               "redraw": true
              },
              "fromcurrent": true,
              "mode": "immediate",
              "transition": {
               "duration": 0,
               "easing": "linear"
              }
             }
            ],
            "label": "1921",
            "method": "animate"
           },
           {
            "args": [
             [
              "1922"
             ],
             {
              "frame": {
               "duration": 0,
               "redraw": true
              },
              "fromcurrent": true,
              "mode": "immediate",
              "transition": {
               "duration": 0,
               "easing": "linear"
              }
             }
            ],
            "label": "1922",
            "method": "animate"
           },
           {
            "args": [
             [
              "1923"
             ],
             {
              "frame": {
               "duration": 0,
               "redraw": true
              },
              "fromcurrent": true,
              "mode": "immediate",
              "transition": {
               "duration": 0,
               "easing": "linear"
              }
             }
            ],
            "label": "1923",
            "method": "animate"
           },
           {
            "args": [
             [
              "1924"
             ],
             {
              "frame": {
               "duration": 0,
               "redraw": true
              },
              "fromcurrent": true,
              "mode": "immediate",
              "transition": {
               "duration": 0,
               "easing": "linear"
              }
             }
            ],
            "label": "1924",
            "method": "animate"
           },
           {
            "args": [
             [
              "1925"
             ],
             {
              "frame": {
               "duration": 0,
               "redraw": true
              },
              "fromcurrent": true,
              "mode": "immediate",
              "transition": {
               "duration": 0,
               "easing": "linear"
              }
             }
            ],
            "label": "1925",
            "method": "animate"
           },
           {
            "args": [
             [
              "1926"
             ],
             {
              "frame": {
               "duration": 0,
               "redraw": true
              },
              "fromcurrent": true,
              "mode": "immediate",
              "transition": {
               "duration": 0,
               "easing": "linear"
              }
             }
            ],
            "label": "1926",
            "method": "animate"
           },
           {
            "args": [
             [
              "1927"
             ],
             {
              "frame": {
               "duration": 0,
               "redraw": true
              },
              "fromcurrent": true,
              "mode": "immediate",
              "transition": {
               "duration": 0,
               "easing": "linear"
              }
             }
            ],
            "label": "1927",
            "method": "animate"
           },
           {
            "args": [
             [
              "1928"
             ],
             {
              "frame": {
               "duration": 0,
               "redraw": true
              },
              "fromcurrent": true,
              "mode": "immediate",
              "transition": {
               "duration": 0,
               "easing": "linear"
              }
             }
            ],
            "label": "1928",
            "method": "animate"
           },
           {
            "args": [
             [
              "1929"
             ],
             {
              "frame": {
               "duration": 0,
               "redraw": true
              },
              "fromcurrent": true,
              "mode": "immediate",
              "transition": {
               "duration": 0,
               "easing": "linear"
              }
             }
            ],
            "label": "1929",
            "method": "animate"
           },
           {
            "args": [
             [
              "1930"
             ],
             {
              "frame": {
               "duration": 0,
               "redraw": true
              },
              "fromcurrent": true,
              "mode": "immediate",
              "transition": {
               "duration": 0,
               "easing": "linear"
              }
             }
            ],
            "label": "1930",
            "method": "animate"
           },
           {
            "args": [
             [
              "1931"
             ],
             {
              "frame": {
               "duration": 0,
               "redraw": true
              },
              "fromcurrent": true,
              "mode": "immediate",
              "transition": {
               "duration": 0,
               "easing": "linear"
              }
             }
            ],
            "label": "1931",
            "method": "animate"
           },
           {
            "args": [
             [
              "1932"
             ],
             {
              "frame": {
               "duration": 0,
               "redraw": true
              },
              "fromcurrent": true,
              "mode": "immediate",
              "transition": {
               "duration": 0,
               "easing": "linear"
              }
             }
            ],
            "label": "1932",
            "method": "animate"
           },
           {
            "args": [
             [
              "1933"
             ],
             {
              "frame": {
               "duration": 0,
               "redraw": true
              },
              "fromcurrent": true,
              "mode": "immediate",
              "transition": {
               "duration": 0,
               "easing": "linear"
              }
             }
            ],
            "label": "1933",
            "method": "animate"
           },
           {
            "args": [
             [
              "1934"
             ],
             {
              "frame": {
               "duration": 0,
               "redraw": true
              },
              "fromcurrent": true,
              "mode": "immediate",
              "transition": {
               "duration": 0,
               "easing": "linear"
              }
             }
            ],
            "label": "1934",
            "method": "animate"
           },
           {
            "args": [
             [
              "1935"
             ],
             {
              "frame": {
               "duration": 0,
               "redraw": true
              },
              "fromcurrent": true,
              "mode": "immediate",
              "transition": {
               "duration": 0,
               "easing": "linear"
              }
             }
            ],
            "label": "1935",
            "method": "animate"
           },
           {
            "args": [
             [
              "1936"
             ],
             {
              "frame": {
               "duration": 0,
               "redraw": true
              },
              "fromcurrent": true,
              "mode": "immediate",
              "transition": {
               "duration": 0,
               "easing": "linear"
              }
             }
            ],
            "label": "1936",
            "method": "animate"
           },
           {
            "args": [
             [
              "1937"
             ],
             {
              "frame": {
               "duration": 0,
               "redraw": true
              },
              "fromcurrent": true,
              "mode": "immediate",
              "transition": {
               "duration": 0,
               "easing": "linear"
              }
             }
            ],
            "label": "1937",
            "method": "animate"
           },
           {
            "args": [
             [
              "1938"
             ],
             {
              "frame": {
               "duration": 0,
               "redraw": true
              },
              "fromcurrent": true,
              "mode": "immediate",
              "transition": {
               "duration": 0,
               "easing": "linear"
              }
             }
            ],
            "label": "1938",
            "method": "animate"
           },
           {
            "args": [
             [
              "1939"
             ],
             {
              "frame": {
               "duration": 0,
               "redraw": true
              },
              "fromcurrent": true,
              "mode": "immediate",
              "transition": {
               "duration": 0,
               "easing": "linear"
              }
             }
            ],
            "label": "1939",
            "method": "animate"
           },
           {
            "args": [
             [
              "1940"
             ],
             {
              "frame": {
               "duration": 0,
               "redraw": true
              },
              "fromcurrent": true,
              "mode": "immediate",
              "transition": {
               "duration": 0,
               "easing": "linear"
              }
             }
            ],
            "label": "1940",
            "method": "animate"
           },
           {
            "args": [
             [
              "1941"
             ],
             {
              "frame": {
               "duration": 0,
               "redraw": true
              },
              "fromcurrent": true,
              "mode": "immediate",
              "transition": {
               "duration": 0,
               "easing": "linear"
              }
             }
            ],
            "label": "1941",
            "method": "animate"
           },
           {
            "args": [
             [
              "1942"
             ],
             {
              "frame": {
               "duration": 0,
               "redraw": true
              },
              "fromcurrent": true,
              "mode": "immediate",
              "transition": {
               "duration": 0,
               "easing": "linear"
              }
             }
            ],
            "label": "1942",
            "method": "animate"
           },
           {
            "args": [
             [
              "1943"
             ],
             {
              "frame": {
               "duration": 0,
               "redraw": true
              },
              "fromcurrent": true,
              "mode": "immediate",
              "transition": {
               "duration": 0,
               "easing": "linear"
              }
             }
            ],
            "label": "1943",
            "method": "animate"
           },
           {
            "args": [
             [
              "1944"
             ],
             {
              "frame": {
               "duration": 0,
               "redraw": true
              },
              "fromcurrent": true,
              "mode": "immediate",
              "transition": {
               "duration": 0,
               "easing": "linear"
              }
             }
            ],
            "label": "1944",
            "method": "animate"
           },
           {
            "args": [
             [
              "1945"
             ],
             {
              "frame": {
               "duration": 0,
               "redraw": true
              },
              "fromcurrent": true,
              "mode": "immediate",
              "transition": {
               "duration": 0,
               "easing": "linear"
              }
             }
            ],
            "label": "1945",
            "method": "animate"
           },
           {
            "args": [
             [
              "1946"
             ],
             {
              "frame": {
               "duration": 0,
               "redraw": true
              },
              "fromcurrent": true,
              "mode": "immediate",
              "transition": {
               "duration": 0,
               "easing": "linear"
              }
             }
            ],
            "label": "1946",
            "method": "animate"
           },
           {
            "args": [
             [
              "1947"
             ],
             {
              "frame": {
               "duration": 0,
               "redraw": true
              },
              "fromcurrent": true,
              "mode": "immediate",
              "transition": {
               "duration": 0,
               "easing": "linear"
              }
             }
            ],
            "label": "1947",
            "method": "animate"
           },
           {
            "args": [
             [
              "1948"
             ],
             {
              "frame": {
               "duration": 0,
               "redraw": true
              },
              "fromcurrent": true,
              "mode": "immediate",
              "transition": {
               "duration": 0,
               "easing": "linear"
              }
             }
            ],
            "label": "1948",
            "method": "animate"
           },
           {
            "args": [
             [
              "1949"
             ],
             {
              "frame": {
               "duration": 0,
               "redraw": true
              },
              "fromcurrent": true,
              "mode": "immediate",
              "transition": {
               "duration": 0,
               "easing": "linear"
              }
             }
            ],
            "label": "1949",
            "method": "animate"
           },
           {
            "args": [
             [
              "1950"
             ],
             {
              "frame": {
               "duration": 0,
               "redraw": true
              },
              "fromcurrent": true,
              "mode": "immediate",
              "transition": {
               "duration": 0,
               "easing": "linear"
              }
             }
            ],
            "label": "1950",
            "method": "animate"
           },
           {
            "args": [
             [
              "1951"
             ],
             {
              "frame": {
               "duration": 0,
               "redraw": true
              },
              "fromcurrent": true,
              "mode": "immediate",
              "transition": {
               "duration": 0,
               "easing": "linear"
              }
             }
            ],
            "label": "1951",
            "method": "animate"
           },
           {
            "args": [
             [
              "1952"
             ],
             {
              "frame": {
               "duration": 0,
               "redraw": true
              },
              "fromcurrent": true,
              "mode": "immediate",
              "transition": {
               "duration": 0,
               "easing": "linear"
              }
             }
            ],
            "label": "1952",
            "method": "animate"
           },
           {
            "args": [
             [
              "1953"
             ],
             {
              "frame": {
               "duration": 0,
               "redraw": true
              },
              "fromcurrent": true,
              "mode": "immediate",
              "transition": {
               "duration": 0,
               "easing": "linear"
              }
             }
            ],
            "label": "1953",
            "method": "animate"
           },
           {
            "args": [
             [
              "1954"
             ],
             {
              "frame": {
               "duration": 0,
               "redraw": true
              },
              "fromcurrent": true,
              "mode": "immediate",
              "transition": {
               "duration": 0,
               "easing": "linear"
              }
             }
            ],
            "label": "1954",
            "method": "animate"
           },
           {
            "args": [
             [
              "1955"
             ],
             {
              "frame": {
               "duration": 0,
               "redraw": true
              },
              "fromcurrent": true,
              "mode": "immediate",
              "transition": {
               "duration": 0,
               "easing": "linear"
              }
             }
            ],
            "label": "1955",
            "method": "animate"
           },
           {
            "args": [
             [
              "1956"
             ],
             {
              "frame": {
               "duration": 0,
               "redraw": true
              },
              "fromcurrent": true,
              "mode": "immediate",
              "transition": {
               "duration": 0,
               "easing": "linear"
              }
             }
            ],
            "label": "1956",
            "method": "animate"
           },
           {
            "args": [
             [
              "1957"
             ],
             {
              "frame": {
               "duration": 0,
               "redraw": true
              },
              "fromcurrent": true,
              "mode": "immediate",
              "transition": {
               "duration": 0,
               "easing": "linear"
              }
             }
            ],
            "label": "1957",
            "method": "animate"
           },
           {
            "args": [
             [
              "1958"
             ],
             {
              "frame": {
               "duration": 0,
               "redraw": true
              },
              "fromcurrent": true,
              "mode": "immediate",
              "transition": {
               "duration": 0,
               "easing": "linear"
              }
             }
            ],
            "label": "1958",
            "method": "animate"
           },
           {
            "args": [
             [
              "1959"
             ],
             {
              "frame": {
               "duration": 0,
               "redraw": true
              },
              "fromcurrent": true,
              "mode": "immediate",
              "transition": {
               "duration": 0,
               "easing": "linear"
              }
             }
            ],
            "label": "1959",
            "method": "animate"
           },
           {
            "args": [
             [
              "1960"
             ],
             {
              "frame": {
               "duration": 0,
               "redraw": true
              },
              "fromcurrent": true,
              "mode": "immediate",
              "transition": {
               "duration": 0,
               "easing": "linear"
              }
             }
            ],
            "label": "1960",
            "method": "animate"
           },
           {
            "args": [
             [
              "1961"
             ],
             {
              "frame": {
               "duration": 0,
               "redraw": true
              },
              "fromcurrent": true,
              "mode": "immediate",
              "transition": {
               "duration": 0,
               "easing": "linear"
              }
             }
            ],
            "label": "1961",
            "method": "animate"
           },
           {
            "args": [
             [
              "1962"
             ],
             {
              "frame": {
               "duration": 0,
               "redraw": true
              },
              "fromcurrent": true,
              "mode": "immediate",
              "transition": {
               "duration": 0,
               "easing": "linear"
              }
             }
            ],
            "label": "1962",
            "method": "animate"
           },
           {
            "args": [
             [
              "1963"
             ],
             {
              "frame": {
               "duration": 0,
               "redraw": true
              },
              "fromcurrent": true,
              "mode": "immediate",
              "transition": {
               "duration": 0,
               "easing": "linear"
              }
             }
            ],
            "label": "1963",
            "method": "animate"
           },
           {
            "args": [
             [
              "1964"
             ],
             {
              "frame": {
               "duration": 0,
               "redraw": true
              },
              "fromcurrent": true,
              "mode": "immediate",
              "transition": {
               "duration": 0,
               "easing": "linear"
              }
             }
            ],
            "label": "1964",
            "method": "animate"
           },
           {
            "args": [
             [
              "1965"
             ],
             {
              "frame": {
               "duration": 0,
               "redraw": true
              },
              "fromcurrent": true,
              "mode": "immediate",
              "transition": {
               "duration": 0,
               "easing": "linear"
              }
             }
            ],
            "label": "1965",
            "method": "animate"
           },
           {
            "args": [
             [
              "1966"
             ],
             {
              "frame": {
               "duration": 0,
               "redraw": true
              },
              "fromcurrent": true,
              "mode": "immediate",
              "transition": {
               "duration": 0,
               "easing": "linear"
              }
             }
            ],
            "label": "1966",
            "method": "animate"
           },
           {
            "args": [
             [
              "1967"
             ],
             {
              "frame": {
               "duration": 0,
               "redraw": true
              },
              "fromcurrent": true,
              "mode": "immediate",
              "transition": {
               "duration": 0,
               "easing": "linear"
              }
             }
            ],
            "label": "1967",
            "method": "animate"
           },
           {
            "args": [
             [
              "1968"
             ],
             {
              "frame": {
               "duration": 0,
               "redraw": true
              },
              "fromcurrent": true,
              "mode": "immediate",
              "transition": {
               "duration": 0,
               "easing": "linear"
              }
             }
            ],
            "label": "1968",
            "method": "animate"
           },
           {
            "args": [
             [
              "1969"
             ],
             {
              "frame": {
               "duration": 0,
               "redraw": true
              },
              "fromcurrent": true,
              "mode": "immediate",
              "transition": {
               "duration": 0,
               "easing": "linear"
              }
             }
            ],
            "label": "1969",
            "method": "animate"
           },
           {
            "args": [
             [
              "1970"
             ],
             {
              "frame": {
               "duration": 0,
               "redraw": true
              },
              "fromcurrent": true,
              "mode": "immediate",
              "transition": {
               "duration": 0,
               "easing": "linear"
              }
             }
            ],
            "label": "1970",
            "method": "animate"
           },
           {
            "args": [
             [
              "1971"
             ],
             {
              "frame": {
               "duration": 0,
               "redraw": true
              },
              "fromcurrent": true,
              "mode": "immediate",
              "transition": {
               "duration": 0,
               "easing": "linear"
              }
             }
            ],
            "label": "1971",
            "method": "animate"
           },
           {
            "args": [
             [
              "1972"
             ],
             {
              "frame": {
               "duration": 0,
               "redraw": true
              },
              "fromcurrent": true,
              "mode": "immediate",
              "transition": {
               "duration": 0,
               "easing": "linear"
              }
             }
            ],
            "label": "1972",
            "method": "animate"
           },
           {
            "args": [
             [
              "1973"
             ],
             {
              "frame": {
               "duration": 0,
               "redraw": true
              },
              "fromcurrent": true,
              "mode": "immediate",
              "transition": {
               "duration": 0,
               "easing": "linear"
              }
             }
            ],
            "label": "1973",
            "method": "animate"
           },
           {
            "args": [
             [
              "1974"
             ],
             {
              "frame": {
               "duration": 0,
               "redraw": true
              },
              "fromcurrent": true,
              "mode": "immediate",
              "transition": {
               "duration": 0,
               "easing": "linear"
              }
             }
            ],
            "label": "1974",
            "method": "animate"
           },
           {
            "args": [
             [
              "1975"
             ],
             {
              "frame": {
               "duration": 0,
               "redraw": true
              },
              "fromcurrent": true,
              "mode": "immediate",
              "transition": {
               "duration": 0,
               "easing": "linear"
              }
             }
            ],
            "label": "1975",
            "method": "animate"
           },
           {
            "args": [
             [
              "1976"
             ],
             {
              "frame": {
               "duration": 0,
               "redraw": true
              },
              "fromcurrent": true,
              "mode": "immediate",
              "transition": {
               "duration": 0,
               "easing": "linear"
              }
             }
            ],
            "label": "1976",
            "method": "animate"
           },
           {
            "args": [
             [
              "1977"
             ],
             {
              "frame": {
               "duration": 0,
               "redraw": true
              },
              "fromcurrent": true,
              "mode": "immediate",
              "transition": {
               "duration": 0,
               "easing": "linear"
              }
             }
            ],
            "label": "1977",
            "method": "animate"
           },
           {
            "args": [
             [
              "1978"
             ],
             {
              "frame": {
               "duration": 0,
               "redraw": true
              },
              "fromcurrent": true,
              "mode": "immediate",
              "transition": {
               "duration": 0,
               "easing": "linear"
              }
             }
            ],
            "label": "1978",
            "method": "animate"
           },
           {
            "args": [
             [
              "1979"
             ],
             {
              "frame": {
               "duration": 0,
               "redraw": true
              },
              "fromcurrent": true,
              "mode": "immediate",
              "transition": {
               "duration": 0,
               "easing": "linear"
              }
             }
            ],
            "label": "1979",
            "method": "animate"
           },
           {
            "args": [
             [
              "1980"
             ],
             {
              "frame": {
               "duration": 0,
               "redraw": true
              },
              "fromcurrent": true,
              "mode": "immediate",
              "transition": {
               "duration": 0,
               "easing": "linear"
              }
             }
            ],
            "label": "1980",
            "method": "animate"
           },
           {
            "args": [
             [
              "1981"
             ],
             {
              "frame": {
               "duration": 0,
               "redraw": true
              },
              "fromcurrent": true,
              "mode": "immediate",
              "transition": {
               "duration": 0,
               "easing": "linear"
              }
             }
            ],
            "label": "1981",
            "method": "animate"
           },
           {
            "args": [
             [
              "1982"
             ],
             {
              "frame": {
               "duration": 0,
               "redraw": true
              },
              "fromcurrent": true,
              "mode": "immediate",
              "transition": {
               "duration": 0,
               "easing": "linear"
              }
             }
            ],
            "label": "1982",
            "method": "animate"
           },
           {
            "args": [
             [
              "1983"
             ],
             {
              "frame": {
               "duration": 0,
               "redraw": true
              },
              "fromcurrent": true,
              "mode": "immediate",
              "transition": {
               "duration": 0,
               "easing": "linear"
              }
             }
            ],
            "label": "1983",
            "method": "animate"
           },
           {
            "args": [
             [
              "1984"
             ],
             {
              "frame": {
               "duration": 0,
               "redraw": true
              },
              "fromcurrent": true,
              "mode": "immediate",
              "transition": {
               "duration": 0,
               "easing": "linear"
              }
             }
            ],
            "label": "1984",
            "method": "animate"
           },
           {
            "args": [
             [
              "1985"
             ],
             {
              "frame": {
               "duration": 0,
               "redraw": true
              },
              "fromcurrent": true,
              "mode": "immediate",
              "transition": {
               "duration": 0,
               "easing": "linear"
              }
             }
            ],
            "label": "1985",
            "method": "animate"
           },
           {
            "args": [
             [
              "1986"
             ],
             {
              "frame": {
               "duration": 0,
               "redraw": true
              },
              "fromcurrent": true,
              "mode": "immediate",
              "transition": {
               "duration": 0,
               "easing": "linear"
              }
             }
            ],
            "label": "1986",
            "method": "animate"
           },
           {
            "args": [
             [
              "1987"
             ],
             {
              "frame": {
               "duration": 0,
               "redraw": true
              },
              "fromcurrent": true,
              "mode": "immediate",
              "transition": {
               "duration": 0,
               "easing": "linear"
              }
             }
            ],
            "label": "1987",
            "method": "animate"
           },
           {
            "args": [
             [
              "1988"
             ],
             {
              "frame": {
               "duration": 0,
               "redraw": true
              },
              "fromcurrent": true,
              "mode": "immediate",
              "transition": {
               "duration": 0,
               "easing": "linear"
              }
             }
            ],
            "label": "1988",
            "method": "animate"
           },
           {
            "args": [
             [
              "1989"
             ],
             {
              "frame": {
               "duration": 0,
               "redraw": true
              },
              "fromcurrent": true,
              "mode": "immediate",
              "transition": {
               "duration": 0,
               "easing": "linear"
              }
             }
            ],
            "label": "1989",
            "method": "animate"
           },
           {
            "args": [
             [
              "1990"
             ],
             {
              "frame": {
               "duration": 0,
               "redraw": true
              },
              "fromcurrent": true,
              "mode": "immediate",
              "transition": {
               "duration": 0,
               "easing": "linear"
              }
             }
            ],
            "label": "1990",
            "method": "animate"
           },
           {
            "args": [
             [
              "1991"
             ],
             {
              "frame": {
               "duration": 0,
               "redraw": true
              },
              "fromcurrent": true,
              "mode": "immediate",
              "transition": {
               "duration": 0,
               "easing": "linear"
              }
             }
            ],
            "label": "1991",
            "method": "animate"
           },
           {
            "args": [
             [
              "1992"
             ],
             {
              "frame": {
               "duration": 0,
               "redraw": true
              },
              "fromcurrent": true,
              "mode": "immediate",
              "transition": {
               "duration": 0,
               "easing": "linear"
              }
             }
            ],
            "label": "1992",
            "method": "animate"
           },
           {
            "args": [
             [
              "1993"
             ],
             {
              "frame": {
               "duration": 0,
               "redraw": true
              },
              "fromcurrent": true,
              "mode": "immediate",
              "transition": {
               "duration": 0,
               "easing": "linear"
              }
             }
            ],
            "label": "1993",
            "method": "animate"
           },
           {
            "args": [
             [
              "1994"
             ],
             {
              "frame": {
               "duration": 0,
               "redraw": true
              },
              "fromcurrent": true,
              "mode": "immediate",
              "transition": {
               "duration": 0,
               "easing": "linear"
              }
             }
            ],
            "label": "1994",
            "method": "animate"
           },
           {
            "args": [
             [
              "1995"
             ],
             {
              "frame": {
               "duration": 0,
               "redraw": true
              },
              "fromcurrent": true,
              "mode": "immediate",
              "transition": {
               "duration": 0,
               "easing": "linear"
              }
             }
            ],
            "label": "1995",
            "method": "animate"
           },
           {
            "args": [
             [
              "1996"
             ],
             {
              "frame": {
               "duration": 0,
               "redraw": true
              },
              "fromcurrent": true,
              "mode": "immediate",
              "transition": {
               "duration": 0,
               "easing": "linear"
              }
             }
            ],
            "label": "1996",
            "method": "animate"
           },
           {
            "args": [
             [
              "1997"
             ],
             {
              "frame": {
               "duration": 0,
               "redraw": true
              },
              "fromcurrent": true,
              "mode": "immediate",
              "transition": {
               "duration": 0,
               "easing": "linear"
              }
             }
            ],
            "label": "1997",
            "method": "animate"
           },
           {
            "args": [
             [
              "1998"
             ],
             {
              "frame": {
               "duration": 0,
               "redraw": true
              },
              "fromcurrent": true,
              "mode": "immediate",
              "transition": {
               "duration": 0,
               "easing": "linear"
              }
             }
            ],
            "label": "1998",
            "method": "animate"
           },
           {
            "args": [
             [
              "1999"
             ],
             {
              "frame": {
               "duration": 0,
               "redraw": true
              },
              "fromcurrent": true,
              "mode": "immediate",
              "transition": {
               "duration": 0,
               "easing": "linear"
              }
             }
            ],
            "label": "1999",
            "method": "animate"
           },
           {
            "args": [
             [
              "2000"
             ],
             {
              "frame": {
               "duration": 0,
               "redraw": true
              },
              "fromcurrent": true,
              "mode": "immediate",
              "transition": {
               "duration": 0,
               "easing": "linear"
              }
             }
            ],
            "label": "2000",
            "method": "animate"
           },
           {
            "args": [
             [
              "2001"
             ],
             {
              "frame": {
               "duration": 0,
               "redraw": true
              },
              "fromcurrent": true,
              "mode": "immediate",
              "transition": {
               "duration": 0,
               "easing": "linear"
              }
             }
            ],
            "label": "2001",
            "method": "animate"
           },
           {
            "args": [
             [
              "2002"
             ],
             {
              "frame": {
               "duration": 0,
               "redraw": true
              },
              "fromcurrent": true,
              "mode": "immediate",
              "transition": {
               "duration": 0,
               "easing": "linear"
              }
             }
            ],
            "label": "2002",
            "method": "animate"
           },
           {
            "args": [
             [
              "2003"
             ],
             {
              "frame": {
               "duration": 0,
               "redraw": true
              },
              "fromcurrent": true,
              "mode": "immediate",
              "transition": {
               "duration": 0,
               "easing": "linear"
              }
             }
            ],
            "label": "2003",
            "method": "animate"
           },
           {
            "args": [
             [
              "2004"
             ],
             {
              "frame": {
               "duration": 0,
               "redraw": true
              },
              "fromcurrent": true,
              "mode": "immediate",
              "transition": {
               "duration": 0,
               "easing": "linear"
              }
             }
            ],
            "label": "2004",
            "method": "animate"
           },
           {
            "args": [
             [
              "2005"
             ],
             {
              "frame": {
               "duration": 0,
               "redraw": true
              },
              "fromcurrent": true,
              "mode": "immediate",
              "transition": {
               "duration": 0,
               "easing": "linear"
              }
             }
            ],
            "label": "2005",
            "method": "animate"
           },
           {
            "args": [
             [
              "2006"
             ],
             {
              "frame": {
               "duration": 0,
               "redraw": true
              },
              "fromcurrent": true,
              "mode": "immediate",
              "transition": {
               "duration": 0,
               "easing": "linear"
              }
             }
            ],
            "label": "2006",
            "method": "animate"
           },
           {
            "args": [
             [
              "2007"
             ],
             {
              "frame": {
               "duration": 0,
               "redraw": true
              },
              "fromcurrent": true,
              "mode": "immediate",
              "transition": {
               "duration": 0,
               "easing": "linear"
              }
             }
            ],
            "label": "2007",
            "method": "animate"
           },
           {
            "args": [
             [
              "2008"
             ],
             {
              "frame": {
               "duration": 0,
               "redraw": true
              },
              "fromcurrent": true,
              "mode": "immediate",
              "transition": {
               "duration": 0,
               "easing": "linear"
              }
             }
            ],
            "label": "2008",
            "method": "animate"
           },
           {
            "args": [
             [
              "2009"
             ],
             {
              "frame": {
               "duration": 0,
               "redraw": true
              },
              "fromcurrent": true,
              "mode": "immediate",
              "transition": {
               "duration": 0,
               "easing": "linear"
              }
             }
            ],
            "label": "2009",
            "method": "animate"
           },
           {
            "args": [
             [
              "2010"
             ],
             {
              "frame": {
               "duration": 0,
               "redraw": true
              },
              "fromcurrent": true,
              "mode": "immediate",
              "transition": {
               "duration": 0,
               "easing": "linear"
              }
             }
            ],
            "label": "2010",
            "method": "animate"
           },
           {
            "args": [
             [
              "2011"
             ],
             {
              "frame": {
               "duration": 0,
               "redraw": true
              },
              "fromcurrent": true,
              "mode": "immediate",
              "transition": {
               "duration": 0,
               "easing": "linear"
              }
             }
            ],
            "label": "2011",
            "method": "animate"
           },
           {
            "args": [
             [
              "2012"
             ],
             {
              "frame": {
               "duration": 0,
               "redraw": true
              },
              "fromcurrent": true,
              "mode": "immediate",
              "transition": {
               "duration": 0,
               "easing": "linear"
              }
             }
            ],
            "label": "2012",
            "method": "animate"
           },
           {
            "args": [
             [
              "2013"
             ],
             {
              "frame": {
               "duration": 0,
               "redraw": true
              },
              "fromcurrent": true,
              "mode": "immediate",
              "transition": {
               "duration": 0,
               "easing": "linear"
              }
             }
            ],
            "label": "2013",
            "method": "animate"
           },
           {
            "args": [
             [
              "2014"
             ],
             {
              "frame": {
               "duration": 0,
               "redraw": true
              },
              "fromcurrent": true,
              "mode": "immediate",
              "transition": {
               "duration": 0,
               "easing": "linear"
              }
             }
            ],
            "label": "2014",
            "method": "animate"
           },
           {
            "args": [
             [
              "2015"
             ],
             {
              "frame": {
               "duration": 0,
               "redraw": true
              },
              "fromcurrent": true,
              "mode": "immediate",
              "transition": {
               "duration": 0,
               "easing": "linear"
              }
             }
            ],
            "label": "2015",
            "method": "animate"
           },
           {
            "args": [
             [
              "2016"
             ],
             {
              "frame": {
               "duration": 0,
               "redraw": true
              },
              "fromcurrent": true,
              "mode": "immediate",
              "transition": {
               "duration": 0,
               "easing": "linear"
              }
             }
            ],
            "label": "2016",
            "method": "animate"
           },
           {
            "args": [
             [
              "2017"
             ],
             {
              "frame": {
               "duration": 0,
               "redraw": true
              },
              "fromcurrent": true,
              "mode": "immediate",
              "transition": {
               "duration": 0,
               "easing": "linear"
              }
             }
            ],
            "label": "2017",
            "method": "animate"
           },
           {
            "args": [
             [
              "2018"
             ],
             {
              "frame": {
               "duration": 0,
               "redraw": true
              },
              "fromcurrent": true,
              "mode": "immediate",
              "transition": {
               "duration": 0,
               "easing": "linear"
              }
             }
            ],
            "label": "2018",
            "method": "animate"
           },
           {
            "args": [
             [
              "2019"
             ],
             {
              "frame": {
               "duration": 0,
               "redraw": true
              },
              "fromcurrent": true,
              "mode": "immediate",
              "transition": {
               "duration": 0,
               "easing": "linear"
              }
             }
            ],
            "label": "2019",
            "method": "animate"
           },
           {
            "args": [
             [
              "2020"
             ],
             {
              "frame": {
               "duration": 0,
               "redraw": true
              },
              "fromcurrent": true,
              "mode": "immediate",
              "transition": {
               "duration": 0,
               "easing": "linear"
              }
             }
            ],
            "label": "2020",
            "method": "animate"
           },
           {
            "args": [
             [
              "2021"
             ],
             {
              "frame": {
               "duration": 0,
               "redraw": true
              },
              "fromcurrent": true,
              "mode": "immediate",
              "transition": {
               "duration": 0,
               "easing": "linear"
              }
             }
            ],
            "label": "2021",
            "method": "animate"
           },
           {
            "args": [
             [
              "2022"
             ],
             {
              "frame": {
               "duration": 0,
               "redraw": true
              },
              "fromcurrent": true,
              "mode": "immediate",
              "transition": {
               "duration": 0,
               "easing": "linear"
              }
             }
            ],
            "label": "2022",
            "method": "animate"
           },
           {
            "args": [
             [
              "2023"
             ],
             {
              "frame": {
               "duration": 0,
               "redraw": true
              },
              "fromcurrent": true,
              "mode": "immediate",
              "transition": {
               "duration": 0,
               "easing": "linear"
              }
             }
            ],
            "label": "2023",
            "method": "animate"
           },
           {
            "args": [
             [
              "2024"
             ],
             {
              "frame": {
               "duration": 0,
               "redraw": true
              },
              "fromcurrent": true,
              "mode": "immediate",
              "transition": {
               "duration": 0,
               "easing": "linear"
              }
             }
            ],
            "label": "2024",
            "method": "animate"
           }
          ],
          "x": 0.1,
          "xanchor": "left",
          "y": 0,
          "yanchor": "top"
         }
        ],
        "template": {
         "data": {
          "bar": [
           {
            "error_x": {
             "color": "#2a3f5f"
            },
            "error_y": {
             "color": "#2a3f5f"
            },
            "marker": {
             "line": {
              "color": "#E5ECF6",
              "width": 0.5
             },
             "pattern": {
              "fillmode": "overlay",
              "size": 10,
              "solidity": 0.2
             }
            },
            "type": "bar"
           }
          ],
          "barpolar": [
           {
            "marker": {
             "line": {
              "color": "#E5ECF6",
              "width": 0.5
             },
             "pattern": {
              "fillmode": "overlay",
              "size": 10,
              "solidity": 0.2
             }
            },
            "type": "barpolar"
           }
          ],
          "carpet": [
           {
            "aaxis": {
             "endlinecolor": "#2a3f5f",
             "gridcolor": "white",
             "linecolor": "white",
             "minorgridcolor": "white",
             "startlinecolor": "#2a3f5f"
            },
            "baxis": {
             "endlinecolor": "#2a3f5f",
             "gridcolor": "white",
             "linecolor": "white",
             "minorgridcolor": "white",
             "startlinecolor": "#2a3f5f"
            },
            "type": "carpet"
           }
          ],
          "choropleth": [
           {
            "colorbar": {
             "outlinewidth": 0,
             "ticks": ""
            },
            "type": "choropleth"
           }
          ],
          "contour": [
           {
            "colorbar": {
             "outlinewidth": 0,
             "ticks": ""
            },
            "colorscale": [
             [
              0,
              "#0d0887"
             ],
             [
              0.1111111111111111,
              "#46039f"
             ],
             [
              0.2222222222222222,
              "#7201a8"
             ],
             [
              0.3333333333333333,
              "#9c179e"
             ],
             [
              0.4444444444444444,
              "#bd3786"
             ],
             [
              0.5555555555555556,
              "#d8576b"
             ],
             [
              0.6666666666666666,
              "#ed7953"
             ],
             [
              0.7777777777777778,
              "#fb9f3a"
             ],
             [
              0.8888888888888888,
              "#fdca26"
             ],
             [
              1,
              "#f0f921"
             ]
            ],
            "type": "contour"
           }
          ],
          "contourcarpet": [
           {
            "colorbar": {
             "outlinewidth": 0,
             "ticks": ""
            },
            "type": "contourcarpet"
           }
          ],
          "heatmap": [
           {
            "colorbar": {
             "outlinewidth": 0,
             "ticks": ""
            },
            "colorscale": [
             [
              0,
              "#0d0887"
             ],
             [
              0.1111111111111111,
              "#46039f"
             ],
             [
              0.2222222222222222,
              "#7201a8"
             ],
             [
              0.3333333333333333,
              "#9c179e"
             ],
             [
              0.4444444444444444,
              "#bd3786"
             ],
             [
              0.5555555555555556,
              "#d8576b"
             ],
             [
              0.6666666666666666,
              "#ed7953"
             ],
             [
              0.7777777777777778,
              "#fb9f3a"
             ],
             [
              0.8888888888888888,
              "#fdca26"
             ],
             [
              1,
              "#f0f921"
             ]
            ],
            "type": "heatmap"
           }
          ],
          "heatmapgl": [
           {
            "colorbar": {
             "outlinewidth": 0,
             "ticks": ""
            },
            "colorscale": [
             [
              0,
              "#0d0887"
             ],
             [
              0.1111111111111111,
              "#46039f"
             ],
             [
              0.2222222222222222,
              "#7201a8"
             ],
             [
              0.3333333333333333,
              "#9c179e"
             ],
             [
              0.4444444444444444,
              "#bd3786"
             ],
             [
              0.5555555555555556,
              "#d8576b"
             ],
             [
              0.6666666666666666,
              "#ed7953"
             ],
             [
              0.7777777777777778,
              "#fb9f3a"
             ],
             [
              0.8888888888888888,
              "#fdca26"
             ],
             [
              1,
              "#f0f921"
             ]
            ],
            "type": "heatmapgl"
           }
          ],
          "histogram": [
           {
            "marker": {
             "pattern": {
              "fillmode": "overlay",
              "size": 10,
              "solidity": 0.2
             }
            },
            "type": "histogram"
           }
          ],
          "histogram2d": [
           {
            "colorbar": {
             "outlinewidth": 0,
             "ticks": ""
            },
            "colorscale": [
             [
              0,
              "#0d0887"
             ],
             [
              0.1111111111111111,
              "#46039f"
             ],
             [
              0.2222222222222222,
              "#7201a8"
             ],
             [
              0.3333333333333333,
              "#9c179e"
             ],
             [
              0.4444444444444444,
              "#bd3786"
             ],
             [
              0.5555555555555556,
              "#d8576b"
             ],
             [
              0.6666666666666666,
              "#ed7953"
             ],
             [
              0.7777777777777778,
              "#fb9f3a"
             ],
             [
              0.8888888888888888,
              "#fdca26"
             ],
             [
              1,
              "#f0f921"
             ]
            ],
            "type": "histogram2d"
           }
          ],
          "histogram2dcontour": [
           {
            "colorbar": {
             "outlinewidth": 0,
             "ticks": ""
            },
            "colorscale": [
             [
              0,
              "#0d0887"
             ],
             [
              0.1111111111111111,
              "#46039f"
             ],
             [
              0.2222222222222222,
              "#7201a8"
             ],
             [
              0.3333333333333333,
              "#9c179e"
             ],
             [
              0.4444444444444444,
              "#bd3786"
             ],
             [
              0.5555555555555556,
              "#d8576b"
             ],
             [
              0.6666666666666666,
              "#ed7953"
             ],
             [
              0.7777777777777778,
              "#fb9f3a"
             ],
             [
              0.8888888888888888,
              "#fdca26"
             ],
             [
              1,
              "#f0f921"
             ]
            ],
            "type": "histogram2dcontour"
           }
          ],
          "mesh3d": [
           {
            "colorbar": {
             "outlinewidth": 0,
             "ticks": ""
            },
            "type": "mesh3d"
           }
          ],
          "parcoords": [
           {
            "line": {
             "colorbar": {
              "outlinewidth": 0,
              "ticks": ""
             }
            },
            "type": "parcoords"
           }
          ],
          "pie": [
           {
            "automargin": true,
            "type": "pie"
           }
          ],
          "scatter": [
           {
            "fillpattern": {
             "fillmode": "overlay",
             "size": 10,
             "solidity": 0.2
            },
            "type": "scatter"
           }
          ],
          "scatter3d": [
           {
            "line": {
             "colorbar": {
              "outlinewidth": 0,
              "ticks": ""
             }
            },
            "marker": {
             "colorbar": {
              "outlinewidth": 0,
              "ticks": ""
             }
            },
            "type": "scatter3d"
           }
          ],
          "scattercarpet": [
           {
            "marker": {
             "colorbar": {
              "outlinewidth": 0,
              "ticks": ""
             }
            },
            "type": "scattercarpet"
           }
          ],
          "scattergeo": [
           {
            "marker": {
             "colorbar": {
              "outlinewidth": 0,
              "ticks": ""
             }
            },
            "type": "scattergeo"
           }
          ],
          "scattergl": [
           {
            "marker": {
             "colorbar": {
              "outlinewidth": 0,
              "ticks": ""
             }
            },
            "type": "scattergl"
           }
          ],
          "scattermapbox": [
           {
            "marker": {
             "colorbar": {
              "outlinewidth": 0,
              "ticks": ""
             }
            },
            "type": "scattermapbox"
           }
          ],
          "scatterpolar": [
           {
            "marker": {
             "colorbar": {
              "outlinewidth": 0,
              "ticks": ""
             }
            },
            "type": "scatterpolar"
           }
          ],
          "scatterpolargl": [
           {
            "marker": {
             "colorbar": {
              "outlinewidth": 0,
              "ticks": ""
             }
            },
            "type": "scatterpolargl"
           }
          ],
          "scatterternary": [
           {
            "marker": {
             "colorbar": {
              "outlinewidth": 0,
              "ticks": ""
             }
            },
            "type": "scatterternary"
           }
          ],
          "surface": [
           {
            "colorbar": {
             "outlinewidth": 0,
             "ticks": ""
            },
            "colorscale": [
             [
              0,
              "#0d0887"
             ],
             [
              0.1111111111111111,
              "#46039f"
             ],
             [
              0.2222222222222222,
              "#7201a8"
             ],
             [
              0.3333333333333333,
              "#9c179e"
             ],
             [
              0.4444444444444444,
              "#bd3786"
             ],
             [
              0.5555555555555556,
              "#d8576b"
             ],
             [
              0.6666666666666666,
              "#ed7953"
             ],
             [
              0.7777777777777778,
              "#fb9f3a"
             ],
             [
              0.8888888888888888,
              "#fdca26"
             ],
             [
              1,
              "#f0f921"
             ]
            ],
            "type": "surface"
           }
          ],
          "table": [
           {
            "cells": {
             "fill": {
              "color": "#EBF0F8"
             },
             "line": {
              "color": "white"
             }
            },
            "header": {
             "fill": {
              "color": "#C8D4E3"
             },
             "line": {
              "color": "white"
             }
            },
            "type": "table"
           }
          ]
         },
         "layout": {
          "annotationdefaults": {
           "arrowcolor": "#2a3f5f",
           "arrowhead": 0,
           "arrowwidth": 1
          },
          "autotypenumbers": "strict",
          "coloraxis": {
           "colorbar": {
            "outlinewidth": 0,
            "ticks": ""
           }
          },
          "colorscale": {
           "diverging": [
            [
             0,
             "#8e0152"
            ],
            [
             0.1,
             "#c51b7d"
            ],
            [
             0.2,
             "#de77ae"
            ],
            [
             0.3,
             "#f1b6da"
            ],
            [
             0.4,
             "#fde0ef"
            ],
            [
             0.5,
             "#f7f7f7"
            ],
            [
             0.6,
             "#e6f5d0"
            ],
            [
             0.7,
             "#b8e186"
            ],
            [
             0.8,
             "#7fbc41"
            ],
            [
             0.9,
             "#4d9221"
            ],
            [
             1,
             "#276419"
            ]
           ],
           "sequential": [
            [
             0,
             "#0d0887"
            ],
            [
             0.1111111111111111,
             "#46039f"
            ],
            [
             0.2222222222222222,
             "#7201a8"
            ],
            [
             0.3333333333333333,
             "#9c179e"
            ],
            [
             0.4444444444444444,
             "#bd3786"
            ],
            [
             0.5555555555555556,
             "#d8576b"
            ],
            [
             0.6666666666666666,
             "#ed7953"
            ],
            [
             0.7777777777777778,
             "#fb9f3a"
            ],
            [
             0.8888888888888888,
             "#fdca26"
            ],
            [
             1,
             "#f0f921"
            ]
           ],
           "sequentialminus": [
            [
             0,
             "#0d0887"
            ],
            [
             0.1111111111111111,
             "#46039f"
            ],
            [
             0.2222222222222222,
             "#7201a8"
            ],
            [
             0.3333333333333333,
             "#9c179e"
            ],
            [
             0.4444444444444444,
             "#bd3786"
            ],
            [
             0.5555555555555556,
             "#d8576b"
            ],
            [
             0.6666666666666666,
             "#ed7953"
            ],
            [
             0.7777777777777778,
             "#fb9f3a"
            ],
            [
             0.8888888888888888,
             "#fdca26"
            ],
            [
             1,
             "#f0f921"
            ]
           ]
          },
          "colorway": [
           "#636efa",
           "#EF553B",
           "#00cc96",
           "#ab63fa",
           "#FFA15A",
           "#19d3f3",
           "#FF6692",
           "#B6E880",
           "#FF97FF",
           "#FECB52"
          ],
          "font": {
           "color": "#2a3f5f"
          },
          "geo": {
           "bgcolor": "white",
           "lakecolor": "white",
           "landcolor": "#E5ECF6",
           "showlakes": true,
           "showland": true,
           "subunitcolor": "white"
          },
          "hoverlabel": {
           "align": "left"
          },
          "hovermode": "closest",
          "mapbox": {
           "style": "light"
          },
          "paper_bgcolor": "white",
          "plot_bgcolor": "#E5ECF6",
          "polar": {
           "angularaxis": {
            "gridcolor": "white",
            "linecolor": "white",
            "ticks": ""
           },
           "bgcolor": "#E5ECF6",
           "radialaxis": {
            "gridcolor": "white",
            "linecolor": "white",
            "ticks": ""
           }
          },
          "scene": {
           "xaxis": {
            "backgroundcolor": "#E5ECF6",
            "gridcolor": "white",
            "gridwidth": 2,
            "linecolor": "white",
            "showbackground": true,
            "ticks": "",
            "zerolinecolor": "white"
           },
           "yaxis": {
            "backgroundcolor": "#E5ECF6",
            "gridcolor": "white",
            "gridwidth": 2,
            "linecolor": "white",
            "showbackground": true,
            "ticks": "",
            "zerolinecolor": "white"
           },
           "zaxis": {
            "backgroundcolor": "#E5ECF6",
            "gridcolor": "white",
            "gridwidth": 2,
            "linecolor": "white",
            "showbackground": true,
            "ticks": "",
            "zerolinecolor": "white"
           }
          },
          "shapedefaults": {
           "line": {
            "color": "#2a3f5f"
           }
          },
          "ternary": {
           "aaxis": {
            "gridcolor": "white",
            "linecolor": "white",
            "ticks": ""
           },
           "baxis": {
            "gridcolor": "white",
            "linecolor": "white",
            "ticks": ""
           },
           "bgcolor": "#E5ECF6",
           "caxis": {
            "gridcolor": "white",
            "linecolor": "white",
            "ticks": ""
           }
          },
          "title": {
           "x": 0.05
          },
          "xaxis": {
           "automargin": true,
           "gridcolor": "white",
           "linecolor": "white",
           "ticks": "",
           "title": {
            "standoff": 15
           },
           "zerolinecolor": "white",
           "zerolinewidth": 2
          },
          "yaxis": {
           "automargin": true,
           "gridcolor": "white",
           "linecolor": "white",
           "ticks": "",
           "title": {
            "standoff": 15
           },
           "zerolinecolor": "white",
           "zerolinewidth": 2
          }
         }
        },
        "updatemenus": [
         {
          "buttons": [
           {
            "args": [
             null,
             {
              "frame": {
               "duration": 30,
               "redraw": true
              },
              "fromcurrent": true,
              "mode": "immediate",
              "transition": {
               "duration": 5,
               "easing": "linear"
              }
             }
            ],
            "label": "&#9654;",
            "method": "animate"
           },
           {
            "args": [
             [
              null
             ],
             {
              "frame": {
               "duration": 0,
               "redraw": true
              },
              "fromcurrent": true,
              "mode": "immediate",
              "transition": {
               "duration": 0,
               "easing": "linear"
              }
             }
            ],
            "label": "&#9724;",
            "method": "animate"
           }
          ],
          "direction": "left",
          "pad": {
           "r": 10,
           "t": 70
          },
          "showactive": false,
          "type": "buttons",
          "x": 0.1,
          "xanchor": "right",
          "y": 0,
          "yanchor": "top"
         }
        ]
       }
      }
     },
     "metadata": {},
     "output_type": "display_data"
    }
   ],
   "source": [
    "df_iso_ct = grouped_df.loc[grouped_df['Country'].str.len() ==3, :]\n",
    "df_iso_ct[\"Count\"] = df_iso_ct[\"Count\"]*100\n",
    "print(df_iso_ct.shape)\n",
    "fig = px.scatter_geo(df_iso_ct, locations=\"Country\", size=\"Count\",\n",
    "                     animation_frame=\"Year\",\n",
    "                     projection=\"natural earth\")\n",
    "fig.layout.updatemenus[0].buttons[0].args[1]['frame']['duration'] = 30\n",
    "fig.layout.updatemenus[0].buttons[0].args[1]['transition']['duration'] = 5\n",
    "fig.show()"
   ]
  }
 ],
 "metadata": {
  "kernelspec": {
   "display_name": "Python 3",
   "language": "python",
   "name": "python3"
  },
  "language_info": {
   "codemirror_mode": {
    "name": "ipython",
    "version": 3
   },
   "file_extension": ".py",
   "mimetype": "text/x-python",
   "name": "python",
   "nbconvert_exporter": "python",
   "pygments_lexer": "ipython3",
   "version": "3.10.0"
  }
 },
 "nbformat": 4,
 "nbformat_minor": 2
}
