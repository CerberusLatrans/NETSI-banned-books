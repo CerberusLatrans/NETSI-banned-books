{
 "cells": [
  {
   "cell_type": "code",
   "execution_count": 1,
   "metadata": {},
   "outputs": [],
   "source": [
    "import requests as r"
   ]
  },
  {
   "cell_type": "code",
   "execution_count": 22,
   "metadata": {},
   "outputs": [],
   "source": [
    "page_url = 'https://www.kasselerliste.com/die-kasseler-liste/'\n",
    "table_url = 'https://www.kasselerliste.com/wp-admin/admin-ajax.php?action=get_wdtable&table_id=7'\n",
    "n = 121_573\n",
    "\n",
    "headers = {\n",
    "    'User-Agent': 'Mozilla/5.0 (Macintosh; Intel Mac OS X 10_15_7) AppleWebKit/537.36 (KHTML, like Gecko) Chrome/124.0.0.0 Safari/537.36',\n",
    "}\n",
    "data = {\n",
    "    'draw':30,\n",
    "    'start':0,\n",
    "    'length':n,\n",
    "    'columns[0][data]': 0,\n",
    "    'columns[0][name]': 'name',\n",
    "    'columns[0][searchable]': True,\n",
    "    'columns[0][orderable]': True,\n",
    "    'columns[0][search][value]': None,\n",
    "    'columns[0][search][regex]': False,\n",
    "}\n",
    "#TODO: fix, still returning nothing"
   ]
  },
  {
   "cell_type": "code",
   "execution_count": 23,
   "metadata": {},
   "outputs": [
    {
     "name": "stdout",
     "output_type": "stream",
     "text": [
      "b''\n"
     ]
    }
   ],
   "source": [
    "res = r.post(table_url, data=data, headers=headers)\n",
    "print(res.content)"
   ]
  },
  {
   "cell_type": "code",
   "execution_count": null,
   "metadata": {},
   "outputs": [],
   "source": [
    "result = res.json()\n",
    "print(len(result[\"data\"]))\n",
    "print(result)"
   ]
  },
  {
   "cell_type": "markdown",
   "metadata": {},
   "source": [
    "using this stack overflow as reference:\n",
    "https://stackoverflow.com/questions/59969246/empty-body-error-on-post-request-in-python-script"
   ]
  }
 ],
 "metadata": {
  "kernelspec": {
   "display_name": "base",
   "language": "python",
   "name": "python3"
  },
  "language_info": {
   "codemirror_mode": {
    "name": "ipython",
    "version": 3
   },
   "file_extension": ".py",
   "mimetype": "text/x-python",
   "name": "python",
   "nbconvert_exporter": "python",
   "pygments_lexer": "ipython3",
   "version": "3.8.12"
  }
 },
 "nbformat": 4,
 "nbformat_minor": 2
}
