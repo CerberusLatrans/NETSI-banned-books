{
 "cells": [
  {
   "cell_type": "code",
   "execution_count": 32,
   "metadata": {},
   "outputs": [],
   "source": [
    "import requests as r\n",
    "import pandas as pd"
   ]
  },
  {
   "cell_type": "code",
   "execution_count": 40,
   "metadata": {},
   "outputs": [],
   "source": [
    "page_url = 'https://www.kasselerliste.com/die-kasseler-liste/'\n",
    "table_url = 'https://www.kasselerliste.com/wp-admin/admin-ajax.php?action=get_wdtable&table_id=7'\n",
    "n = 121_573\n",
    "\n",
    "headers = {\n",
    "    'User-Agent': 'Mozilla/5.0 (Macintosh; Intel Mac OS X 10_15_7) AppleWebKit/537.36 (KHTML, like Gecko) Chrome/124.0.0.0 Safari/537.36',\n",
    "}\n",
    "data = {\n",
    "    'draw':30,\n",
    "    'start':0,\n",
    "    'length':n,\n",
    "    'wdtNonce' : '05f7a668e5',\n",
    "}"
   ]
  },
  {
   "cell_type": "code",
   "execution_count": 41,
   "metadata": {},
   "outputs": [
    {
     "name": "stdout",
     "output_type": "stream",
     "text": [
      "['*', 'A Campanha', None, None, 'PRT', '1965', None, 'Livros Proibidos dos Anos da Ditadura de 1933 a 1974, in:\\xa0https://bibliblogue.files.wordpress.com/2012/04/200412livrosproibidos33_74.pdf']\n",
      "['* Mademoiselle la Comtesse de', 'Memoires de Mademoiselle la Comtesse de *', None, None, 'AUT', '1776', None, 'Österreichische Listen verbotener Bücher von 1750–1848. Project manager: Norbert Bachleitner. 2010–. http://www.univie.ac.at/zensur/info.php']\n",
      "['**', 'Die Franzosen so wie sie sind, geschildert von * *', None, None, 'AUT', '1776', None, 'Österreichische Listen verbotener Bücher von 1750–1848. Project manager: Norbert Bachleitner. 2010–. http://www.univie.ac.at/zensur/info.php']\n",
      "['**', 'Der Zwang zum Klosterleben. Ein Schauspiel in VI. Abhandlungen', None, None, 'AUT', '1776', None, 'Österreichische Listen verbotener Bücher von 1750–1848. Project manager: Norbert Bachleitner. 2010–. http://www.univie.ac.at/zensur/info.php']\n",
      "['**', 'Angenehme Beschäftigungen in der Einsamkeit, oder auserlesene Anekdoten', None, None, 'AUT', '1794', None, 'Österreichische Listen verbotener Bücher von 1750–1848. Project manager: Norbert Bachleitner. 2010–. http://www.univie.ac.at/zensur/info.php']\n"
     ]
    }
   ],
   "source": [
    "res = r.post(table_url, data=data, headers=headers)\n",
    "result = res.json()\n",
    "data = result['data']\n",
    "_ = [print(data[i]) for i in range(5)]"
   ]
  },
  {
   "cell_type": "code",
   "execution_count": 42,
   "metadata": {},
   "outputs": [],
   "source": [
    "df = pd.DataFrame(data, columns=['author', 'title', 'place', 'date', 'location', 'year', 'lifted', 'source'])"
   ]
  },
  {
   "cell_type": "code",
   "execution_count": 43,
   "metadata": {},
   "outputs": [
    {
     "name": "stdout",
     "output_type": "stream",
     "text": [
      "                          author  \\\n",
      "0                              *   \n",
      "1  * Mademoiselle la Comtesse de   \n",
      "2                             **   \n",
      "3                             **   \n",
      "4                             **   \n",
      "\n",
      "                                               title place  date location  \\\n",
      "0                                         A Campanha  None  None      PRT   \n",
      "1          Memoires de Mademoiselle la Comtesse de *  None  None      AUT   \n",
      "2  Die Franzosen so wie sie sind, geschildert von...  None  None      AUT   \n",
      "3  Der Zwang zum Klosterleben. Ein Schauspiel in ...  None  None      AUT   \n",
      "4  Angenehme Beschäftigungen in der Einsamkeit, o...  None  None      AUT   \n",
      "\n",
      "   year lifted                                             source  \n",
      "0  1965   None  Livros Proibidos dos Anos da Ditadura de 1933 ...  \n",
      "1  1776   None  Österreichische Listen verbotener Bücher von 1...  \n",
      "2  1776   None  Österreichische Listen verbotener Bücher von 1...  \n",
      "3  1776   None  Österreichische Listen verbotener Bücher von 1...  \n",
      "4  1794   None  Österreichische Listen verbotener Bücher von 1...  \n",
      "(121573, 8)\n"
     ]
    }
   ],
   "source": [
    "print(df.head())\n",
    "print(df.shape)"
   ]
  },
  {
   "cell_type": "code",
   "execution_count": 44,
   "metadata": {},
   "outputs": [],
   "source": [
    "df.to_csv('kasseler.csv')"
   ]
  },
  {
   "cell_type": "markdown",
   "metadata": {},
   "source": [
    "using this stack overflow as reference:\n",
    "https://stackoverflow.com/questions/59969246/empty-body-error-on-post-request-in-python-script"
   ]
  }
 ],
 "metadata": {
  "kernelspec": {
   "display_name": "base",
   "language": "python",
   "name": "python3"
  },
  "language_info": {
   "codemirror_mode": {
    "name": "ipython",
    "version": 3
   },
   "file_extension": ".py",
   "mimetype": "text/x-python",
   "name": "python",
   "nbconvert_exporter": "python",
   "pygments_lexer": "ipython3",
   "version": "3.8.12"
  }
 },
 "nbformat": 4,
 "nbformat_minor": 2
}
