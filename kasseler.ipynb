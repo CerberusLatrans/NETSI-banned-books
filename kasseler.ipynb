{
 "cells": [
  {
   "cell_type": "code",
   "execution_count": 12,
   "metadata": {},
   "outputs": [],
   "source": [
    "import requests as r\n",
    "import pandas as pd\n",
    "import matplotlib.pyplot as plt"
   ]
  },
  {
   "cell_type": "code",
   "execution_count": 11,
   "metadata": {},
   "outputs": [
    {
     "name": "stdout",
     "output_type": "stream",
     "text": [
      "(121573, 9)\n",
      "(65271, 9)\n"
     ]
    }
   ],
   "source": [
    "df = pd.read_csv('kasseler.csv')\n",
    "print(df.shape)\n",
    "print(df[df.isna()['date']].shape)"
   ]
  },
  {
   "cell_type": "code",
   "execution_count": 28,
   "metadata": {},
   "outputs": [
    {
     "data": {
      "text/html": [
       "<div>\n",
       "<style scoped>\n",
       "    .dataframe tbody tr th:only-of-type {\n",
       "        vertical-align: middle;\n",
       "    }\n",
       "\n",
       "    .dataframe tbody tr th {\n",
       "        vertical-align: top;\n",
       "    }\n",
       "\n",
       "    .dataframe thead th {\n",
       "        text-align: right;\n",
       "    }\n",
       "</style>\n",
       "<table border=\"1\" class=\"dataframe\">\n",
       "  <thead>\n",
       "    <tr style=\"text-align: right;\">\n",
       "      <th></th>\n",
       "      <th>Unnamed: 0</th>\n",
       "      <th>author</th>\n",
       "      <th>title</th>\n",
       "      <th>place</th>\n",
       "      <th>date</th>\n",
       "      <th>location</th>\n",
       "      <th>year</th>\n",
       "      <th>lifted</th>\n",
       "      <th>source</th>\n",
       "    </tr>\n",
       "  </thead>\n",
       "  <tbody>\n",
       "    <tr>\n",
       "      <th>0</th>\n",
       "      <td>0</td>\n",
       "      <td>*</td>\n",
       "      <td>A Campanha</td>\n",
       "      <td>NaN</td>\n",
       "      <td>NaN</td>\n",
       "      <td>PRT</td>\n",
       "      <td>1965.0</td>\n",
       "      <td>NaN</td>\n",
       "      <td>Livros Proibidos dos Anos da Ditadura de 1933 ...</td>\n",
       "    </tr>\n",
       "    <tr>\n",
       "      <th>1</th>\n",
       "      <td>1</td>\n",
       "      <td>* Mademoiselle la Comtesse de</td>\n",
       "      <td>Memoires de Mademoiselle la Comtesse de *</td>\n",
       "      <td>NaN</td>\n",
       "      <td>NaN</td>\n",
       "      <td>AUT</td>\n",
       "      <td>1776.0</td>\n",
       "      <td>NaN</td>\n",
       "      <td>Österreichische Listen verbotener Bücher von 1...</td>\n",
       "    </tr>\n",
       "    <tr>\n",
       "      <th>2</th>\n",
       "      <td>2</td>\n",
       "      <td>**</td>\n",
       "      <td>Die Franzosen so wie sie sind, geschildert von...</td>\n",
       "      <td>NaN</td>\n",
       "      <td>NaN</td>\n",
       "      <td>AUT</td>\n",
       "      <td>1776.0</td>\n",
       "      <td>NaN</td>\n",
       "      <td>Österreichische Listen verbotener Bücher von 1...</td>\n",
       "    </tr>\n",
       "    <tr>\n",
       "      <th>3</th>\n",
       "      <td>3</td>\n",
       "      <td>**</td>\n",
       "      <td>Der Zwang zum Klosterleben. Ein Schauspiel in ...</td>\n",
       "      <td>NaN</td>\n",
       "      <td>NaN</td>\n",
       "      <td>AUT</td>\n",
       "      <td>1776.0</td>\n",
       "      <td>NaN</td>\n",
       "      <td>Österreichische Listen verbotener Bücher von 1...</td>\n",
       "    </tr>\n",
       "    <tr>\n",
       "      <th>4</th>\n",
       "      <td>4</td>\n",
       "      <td>**</td>\n",
       "      <td>Angenehme Beschäftigungen in der Einsamkeit, o...</td>\n",
       "      <td>NaN</td>\n",
       "      <td>NaN</td>\n",
       "      <td>AUT</td>\n",
       "      <td>1794.0</td>\n",
       "      <td>NaN</td>\n",
       "      <td>Österreichische Listen verbotener Bücher von 1...</td>\n",
       "    </tr>\n",
       "    <tr>\n",
       "      <th>...</th>\n",
       "      <td>...</td>\n",
       "      <td>...</td>\n",
       "      <td>...</td>\n",
       "      <td>...</td>\n",
       "      <td>...</td>\n",
       "      <td>...</td>\n",
       "      <td>...</td>\n",
       "      <td>...</td>\n",
       "      <td>...</td>\n",
       "    </tr>\n",
       "    <tr>\n",
       "      <th>121568</th>\n",
       "      <td>121568</td>\n",
       "      <td>ATWOOD Margaret</td>\n",
       "      <td>The Handmaids Tale</td>\n",
       "      <td>Toronto</td>\n",
       "      <td>1985</td>\n",
       "      <td>CMR</td>\n",
       "      <td>NaN</td>\n",
       "      <td>NaN</td>\n",
       "      <td>individual research</td>\n",
       "    </tr>\n",
       "    <tr>\n",
       "      <th>121569</th>\n",
       "      <td>121569</td>\n",
       "      <td>PHILOMBE René</td>\n",
       "      <td>Choc anti-choc: roman en poèmes: écrits de pri...</td>\n",
       "      <td>Yaoundé</td>\n",
       "      <td>1978</td>\n",
       "      <td>CMR</td>\n",
       "      <td>NaN</td>\n",
       "      <td>NaN</td>\n",
       "      <td>Breitinger, Eckhard (1993): 'Lamentations Patr...</td>\n",
       "    </tr>\n",
       "    <tr>\n",
       "      <th>121570</th>\n",
       "      <td>121570</td>\n",
       "      <td>PHILOMBE René</td>\n",
       "      <td>Bedi-ngula, l'ancien Maquisard</td>\n",
       "      <td>Bayreuth</td>\n",
       "      <td>2002</td>\n",
       "      <td>CMR</td>\n",
       "      <td>NaN</td>\n",
       "      <td>NaN</td>\n",
       "      <td>Breitinger, Eckhard (1993): 'Lamentations Patr...</td>\n",
       "    </tr>\n",
       "    <tr>\n",
       "      <th>121571</th>\n",
       "      <td>121571</td>\n",
       "      <td>PHILOMBE René</td>\n",
       "      <td>Les trouble-fêtes d'Africapolis</td>\n",
       "      <td>Yaoundé</td>\n",
       "      <td>1978</td>\n",
       "      <td>CMR</td>\n",
       "      <td>NaN</td>\n",
       "      <td>NaN</td>\n",
       "      <td>Breitinger, Eckhard (1993): 'Lamentations Patr...</td>\n",
       "    </tr>\n",
       "    <tr>\n",
       "      <th>121572</th>\n",
       "      <td>121572</td>\n",
       "      <td>GILTAY Edwin</td>\n",
       "      <td>De doofpotgeneraal</td>\n",
       "      <td>Amsterdam</td>\n",
       "      <td>2014</td>\n",
       "      <td>NLD</td>\n",
       "      <td>2015.0</td>\n",
       "      <td>2016</td>\n",
       "      <td>https://uitspraken.rechtspraak.nl/details?id=E...</td>\n",
       "    </tr>\n",
       "  </tbody>\n",
       "</table>\n",
       "<p>121573 rows × 9 columns</p>\n",
       "</div>"
      ],
      "text/plain": [
       "        Unnamed: 0                         author  \\\n",
       "0                0                              *   \n",
       "1                1  * Mademoiselle la Comtesse de   \n",
       "2                2                             **   \n",
       "3                3                             **   \n",
       "4                4                             **   \n",
       "...            ...                            ...   \n",
       "121568      121568                ATWOOD Margaret   \n",
       "121569      121569                  PHILOMBE René   \n",
       "121570      121570                  PHILOMBE René   \n",
       "121571      121571                  PHILOMBE René   \n",
       "121572      121572                   GILTAY Edwin   \n",
       "\n",
       "                                                    title      place  date  \\\n",
       "0                                              A Campanha        NaN   NaN   \n",
       "1               Memoires de Mademoiselle la Comtesse de *        NaN   NaN   \n",
       "2       Die Franzosen so wie sie sind, geschildert von...        NaN   NaN   \n",
       "3       Der Zwang zum Klosterleben. Ein Schauspiel in ...        NaN   NaN   \n",
       "4       Angenehme Beschäftigungen in der Einsamkeit, o...        NaN   NaN   \n",
       "...                                                   ...        ...   ...   \n",
       "121568                                 The Handmaids Tale    Toronto  1985   \n",
       "121569  Choc anti-choc: roman en poèmes: écrits de pri...    Yaoundé  1978   \n",
       "121570                     Bedi-ngula, l'ancien Maquisard   Bayreuth  2002   \n",
       "121571                    Les trouble-fêtes d'Africapolis    Yaoundé  1978   \n",
       "121572                                 De doofpotgeneraal  Amsterdam  2014   \n",
       "\n",
       "       location    year lifted  \\\n",
       "0           PRT  1965.0    NaN   \n",
       "1           AUT  1776.0    NaN   \n",
       "2           AUT  1776.0    NaN   \n",
       "3           AUT  1776.0    NaN   \n",
       "4           AUT  1794.0    NaN   \n",
       "...         ...     ...    ...   \n",
       "121568      CMR     NaN    NaN   \n",
       "121569      CMR     NaN    NaN   \n",
       "121570      CMR     NaN    NaN   \n",
       "121571      CMR     NaN    NaN   \n",
       "121572      NLD  2015.0   2016   \n",
       "\n",
       "                                                   source  \n",
       "0       Livros Proibidos dos Anos da Ditadura de 1933 ...  \n",
       "1       Österreichische Listen verbotener Bücher von 1...  \n",
       "2       Österreichische Listen verbotener Bücher von 1...  \n",
       "3       Österreichische Listen verbotener Bücher von 1...  \n",
       "4       Österreichische Listen verbotener Bücher von 1...  \n",
       "...                                                   ...  \n",
       "121568                                individual research  \n",
       "121569  Breitinger, Eckhard (1993): 'Lamentations Patr...  \n",
       "121570  Breitinger, Eckhard (1993): 'Lamentations Patr...  \n",
       "121571  Breitinger, Eckhard (1993): 'Lamentations Patr...  \n",
       "121572  https://uitspraken.rechtspraak.nl/details?id=E...  \n",
       "\n",
       "[121573 rows x 9 columns]"
      ]
     },
     "execution_count": 28,
     "metadata": {},
     "output_type": "execute_result"
    }
   ],
   "source": [
    "df"
   ]
  },
  {
   "cell_type": "code",
   "execution_count": 18,
   "metadata": {},
   "outputs": [
    {
     "data": {
      "image/png": "[encoded data removed]",
      "text/plain": [
       "<Figure size 432x288 with 1 Axes>"
      ]
     },
     "metadata": {
      "needs_background": "light"
     },
     "output_type": "display_data"
    }
   ],
   "source": [
    "plt.hist(df['year'], bins=100)\n",
    "plt.xlim((1500,2024))\n",
    "plt.show()"
   ]
  },
  {
   "cell_type": "code",
   "execution_count": 25,
   "metadata": {},
   "outputs": [
    {
     "data": {
      "text/plain": [
       "2007.0    1203\n",
       "2008.0    1202\n",
       "2009.0    1172\n",
       "2006.0     975\n",
       "2005.0     895\n",
       "2021.0     788\n",
       "2002.0     538\n",
       "2001.0     533\n",
       "2010.0     498\n",
       "2004.0     479\n",
       "2003.0     431\n",
       "2022.0     225\n",
       "2013.0      58\n",
       "2015.0      21\n",
       "2014.0       9\n",
       "2020.0       6\n",
       "2023.0       5\n",
       "2012.0       3\n",
       "2017.0       3\n",
       "2011.0       2\n",
       "2016.0       2\n",
       "Name: year, dtype: int64"
      ]
     },
     "execution_count": 25,
     "metadata": {},
     "output_type": "execute_result"
    }
   ],
   "source": [
    "df.loc[df['year']>2000, 'year'].value_counts()"
   ]
  },
  {
   "cell_type": "code",
   "execution_count": null,
   "metadata": {},
   "outputs": [],
   "source": [
    "page_url = 'https://www.kasselerliste.com/die-kasseler-liste/'\n",
    "table_url = 'https://www.kasselerliste.com/wp-admin/admin-ajax.php?action=get_wdtable&table_id=7'\n",
    "n = 121_573\n",
    "\n",
    "headers = {\n",
    "    'User-Agent': 'Mozilla/5.0 (Macintosh; Intel Mac OS X 10_15_7) AppleWebKit/537.36 (KHTML, like Gecko) Chrome/124.0.0.0 Safari/537.36',\n",
    "}\n",
    "data = {\n",
    "    'draw':30,\n",
    "    'start':0,\n",
    "    'length':n,\n",
    "    'wdtNonce' : '05f7a668e5',\n",
    "}"
   ]
  },
  {
   "cell_type": "code",
   "execution_count": null,
   "metadata": {},
   "outputs": [
    {
     "name": "stdout",
     "output_type": "stream",
     "text": [
      "['*', 'A Campanha', None, None, 'PRT', '1965', None, 'Livros Proibidos dos Anos da Ditadura de 1933 a 1974, in:\\xa0https://bibliblogue.files.wordpress.com/2012/04/200412livrosproibidos33_74.pdf']\n",
      "['* Mademoiselle la Comtesse de', 'Memoires de Mademoiselle la Comtesse de *', None, None, 'AUT', '1776', None, 'Österreichische Listen verbotener Bücher von 1750–1848. Project manager: Norbert Bachleitner. 2010–. http://www.univie.ac.at/zensur/info.php']\n",
      "['**', 'Die Franzosen so wie sie sind, geschildert von * *', None, None, 'AUT', '1776', None, 'Österreichische Listen verbotener Bücher von 1750–1848. Project manager: Norbert Bachleitner. 2010–. http://www.univie.ac.at/zensur/info.php']\n",
      "['**', 'Der Zwang zum Klosterleben. Ein Schauspiel in VI. Abhandlungen', None, None, 'AUT', '1776', None, 'Österreichische Listen verbotener Bücher von 1750–1848. Project manager: Norbert Bachleitner. 2010–. http://www.univie.ac.at/zensur/info.php']\n",
      "['**', 'Angenehme Beschäftigungen in der Einsamkeit, oder auserlesene Anekdoten', None, None, 'AUT', '1794', None, 'Österreichische Listen verbotener Bücher von 1750–1848. Project manager: Norbert Bachleitner. 2010–. http://www.univie.ac.at/zensur/info.php']\n"
     ]
    }
   ],
   "source": [
    "res = r.post(table_url, data=data, headers=headers)\n",
    "result = res.json()\n",
    "data = result['data']\n",
    "_ = [print(data[i]) for i in range(5)]"
   ]
  },
  {
   "cell_type": "code",
   "execution_count": 42,
   "metadata": {},
   "outputs": [],
   "source": [
    "df = pd.DataFrame(data, columns=['author', 'title', 'place', 'date', 'location', 'year', 'lifted', 'source'])"
   ]
  },
  {
   "cell_type": "code",
   "execution_count": 43,
   "metadata": {},
   "outputs": [
    {
     "name": "stdout",
     "output_type": "stream",
     "text": [
      "                          author  \\\n",
      "0                              *   \n",
      "1  * Mademoiselle la Comtesse de   \n",
      "2                             **   \n",
      "3                             **   \n",
      "4                             **   \n",
      "\n",
      "                                               title place  date location  \\\n",
      "0                                         A Campanha  None  None      PRT   \n",
      "1          Memoires de Mademoiselle la Comtesse de *  None  None      AUT   \n",
      "2  Die Franzosen so wie sie sind, geschildert von...  None  None      AUT   \n",
      "3  Der Zwang zum Klosterleben. Ein Schauspiel in ...  None  None      AUT   \n",
      "4  Angenehme Beschäftigungen in der Einsamkeit, o...  None  None      AUT   \n",
      "\n",
      "   year lifted                                             source  \n",
      "0  1965   None  Livros Proibidos dos Anos da Ditadura de 1933 ...  \n",
      "1  1776   None  Österreichische Listen verbotener Bücher von 1...  \n",
      "2  1776   None  Österreichische Listen verbotener Bücher von 1...  \n",
      "3  1776   None  Österreichische Listen verbotener Bücher von 1...  \n",
      "4  1794   None  Österreichische Listen verbotener Bücher von 1...  \n",
      "(121573, 8)\n"
     ]
    }
   ],
   "source": [
    "print(df.head())\n",
    "print(df.shape)"
   ]
  },
  {
   "cell_type": "code",
   "execution_count": 44,
   "metadata": {},
   "outputs": [],
   "source": [
    "df.to_csv('kasseler.csv')"
   ]
  },
  {
   "cell_type": "markdown",
   "metadata": {},
   "source": [
    "using this stack overflow as reference:\n",
    "https://stackoverflow.com/questions/64813023/scraping-dynamic-datatable-of-many-pages-but-same-url"
   ]
  },
  {
   "cell_type": "code",
   "execution_count": 1,
   "metadata": {},
   "outputs": [
    {
     "name": "stdout",
     "output_type": "stream",
     "text": [
      "Hello\n",
      "THIS IS OLIVER\n"
     ]
    }
   ],
   "source": [
    "print(\"Hello\")\n",
    "print(\"THIS IS OLIVER\")"
   ]
  }
 ],
 "metadata": {
  "kernelspec": {
   "display_name": "base",
   "language": "python",
   "name": "python3"
  },
  "language_info": {
   "codemirror_mode": {
    "name": "ipython",
    "version": 3
   },
   "file_extension": ".py",
   "mimetype": "text/x-python",
   "name": "python",
   "nbconvert_exporter": "python",
   "pygments_lexer": "ipython3",
   "version": "3.8.12"
  }
 },
 "nbformat": 4,
 "nbformat_minor": 2
}
